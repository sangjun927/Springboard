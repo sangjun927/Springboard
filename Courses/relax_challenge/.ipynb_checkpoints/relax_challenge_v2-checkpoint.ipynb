{
 "cells": [
  {
   "cell_type": "markdown",
   "id": "f925a856",
   "metadata": {},
   "source": [
    "## Overview"
   ]
  },
  {
   "cell_type": "markdown",
   "id": "54e62335",
   "metadata": {},
   "source": [
    "I am going to load data and clean data dataset. Then, I will add a new column 'status' which contains user adoption. After adding a new column, I am going to start EDA to look for some valid findings.\n"
   ]
  },
  {
   "cell_type": "markdown",
   "id": "298896b1",
   "metadata": {},
   "source": [
    "## 1. load data"
   ]
  },
  {
   "cell_type": "code",
   "execution_count": 1,
   "id": "9e4618c1",
   "metadata": {},
   "outputs": [],
   "source": [
    "import pandas as pd\n",
    "import numpy as np\n",
    "from sklearn import preprocessing\n",
    "from sklearn.preprocessing import StandardScaler\n",
    "from sklearn.model_selection import train_test_split, cross_validate, GridSearchCV, learning_curve\n",
    "\n",
    "from sklearn.metrics import precision_recall_curve\n",
    "from sklearn.metrics import f1_score\n",
    "from sklearn.metrics import auc\n",
    "from sklearn.linear_model import LogisticRegression\n",
    "from matplotlib import pyplot\n",
    "from sklearn.metrics import precision_recall_curve\n",
    "from sklearn.metrics import f1_score\n",
    "from sklearn.metrics import auc\n",
    "from sklearn.linear_model import LogisticRegression\n",
    "from sklearn.metrics import classification_report,confusion_matrix,roc_curve,roc_auc_score\n",
    "from sklearn.metrics import accuracy_score,log_loss\n",
    "from matplotlib import pyplot\n",
    "from sklearn.ensemble import RandomForestClassifier\n",
    "from sklearn.ensemble import GradientBoostingClassifier\n",
    "import matplotlib.pyplot as plt\n",
    "\n",
    "from sklearn import metrics\n",
    "from sklearn.metrics import roc_auc_score\n",
    "from imblearn.over_sampling import SMOTE\n",
    "\n",
    "from sklearn.model_selection import KFold\n",
    "from sklearn.model_selection import cross_val_score\n",
    "\n",
    "import matplotlib.pyplot as plt\n",
    "import seaborn as sns\n",
    "import math\n",
    "from bayes_opt import BayesianOptimization\n",
    "import lightgbm as lgb\n",
    "from lightgbm import LGBMClassifier\n",
    "import time\n",
    "import json\n"
   ]
  },
  {
   "cell_type": "code",
   "execution_count": 2,
   "id": "c17ed325",
   "metadata": {},
   "outputs": [],
   "source": [
    "# load excel\n",
    "user_engagement = pd.read_csv(\"takehome_user_engagement.csv\")\n",
    "#user_engagement = pd.read_csv(\"takehome_users.csv\")"
   ]
  },
  {
   "cell_type": "code",
   "execution_count": 4,
   "id": "c329a10b",
   "metadata": {
    "scrolled": true
   },
   "outputs": [
    {
     "name": "stdout",
     "output_type": "stream",
     "text": [
      "<class 'pandas.core.frame.DataFrame'>\n",
      "RangeIndex: 207917 entries, 0 to 207916\n",
      "Data columns (total 3 columns):\n",
      " #   Column      Non-Null Count   Dtype \n",
      "---  ------      --------------   ----- \n",
      " 0   time_stamp  207917 non-null  object\n",
      " 1   user_id     207917 non-null  int64 \n",
      " 2   visited     207917 non-null  int64 \n",
      "dtypes: int64(2), object(1)\n",
      "memory usage: 4.8+ MB\n"
     ]
    }
   ],
   "source": [
    "user_engagement.info()"
   ]
  },
  {
   "cell_type": "code",
   "execution_count": 3,
   "id": "0125df77",
   "metadata": {},
   "outputs": [],
   "source": [
    "users = pd.read_csv(\"takehome_users.csv\", encoding='latin-1')"
   ]
  },
  {
   "cell_type": "code",
   "execution_count": 6,
   "id": "2ef2a97d",
   "metadata": {},
   "outputs": [
    {
     "name": "stdout",
     "output_type": "stream",
     "text": [
      "<class 'pandas.core.frame.DataFrame'>\n",
      "RangeIndex: 12000 entries, 0 to 11999\n",
      "Data columns (total 10 columns):\n",
      " #   Column                      Non-Null Count  Dtype  \n",
      "---  ------                      --------------  -----  \n",
      " 0   object_id                   12000 non-null  int64  \n",
      " 1   creation_time               12000 non-null  object \n",
      " 2   name                        12000 non-null  object \n",
      " 3   email                       12000 non-null  object \n",
      " 4   creation_source             12000 non-null  object \n",
      " 5   last_session_creation_time  8823 non-null   float64\n",
      " 6   opted_in_to_mailing_list    12000 non-null  int64  \n",
      " 7   enabled_for_marketing_drip  12000 non-null  int64  \n",
      " 8   org_id                      12000 non-null  int64  \n",
      " 9   invited_by_user_id          6417 non-null   float64\n",
      "dtypes: float64(2), int64(4), object(4)\n",
      "memory usage: 937.6+ KB\n"
     ]
    }
   ],
   "source": [
    "users.info()"
   ]
  },
  {
   "cell_type": "markdown",
   "id": "2691d9cf",
   "metadata": {},
   "source": [
    "## 2. data cleaning"
   ]
  },
  {
   "cell_type": "markdown",
   "id": "0d82eab8",
   "metadata": {},
   "source": [
    "### convert type"
   ]
  },
  {
   "cell_type": "code",
   "execution_count": 4,
   "id": "918a85c8",
   "metadata": {},
   "outputs": [],
   "source": [
    "user_engagement['user_id'] = user_engagement['user_id'].astype(object)\n",
    "users['opted_in_to_mailing_list'] = users['opted_in_to_mailing_list'].astype(object)\n",
    "users['enabled_for_marketing_drip'] = users['enabled_for_marketing_drip'].astype(object)"
   ]
  },
  {
   "cell_type": "code",
   "execution_count": 5,
   "id": "d541e07b",
   "metadata": {},
   "outputs": [],
   "source": [
    "# define time_stamp as new index\n",
    "user_engagement = user_engagement.set_index('time_stamp')\n",
    "user_engagement.index = pd.to_datetime(user_engagement.index)"
   ]
  },
  {
   "cell_type": "markdown",
   "id": "2617e370",
   "metadata": {},
   "source": [
    "### missing values"
   ]
  },
  {
   "cell_type": "code",
   "execution_count": 6,
   "id": "fa56fc6c",
   "metadata": {},
   "outputs": [],
   "source": [
    "users['last_session_creation_time'].fillna(value = users['last_session_creation_time'].mean(),\n",
    "          inplace = True)"
   ]
  },
  {
   "cell_type": "code",
   "execution_count": 7,
   "id": "094c84b7",
   "metadata": {},
   "outputs": [],
   "source": [
    "users['invited_by_user_id'].fillna(value = 'NA',\n",
    "          inplace = True)"
   ]
  },
  {
   "cell_type": "code",
   "execution_count": 8,
   "id": "49755891",
   "metadata": {},
   "outputs": [
    {
     "name": "stdout",
     "output_type": "stream",
     "text": [
      "<class 'pandas.core.frame.DataFrame'>\n",
      "RangeIndex: 12000 entries, 0 to 11999\n",
      "Data columns (total 10 columns):\n",
      " #   Column                      Non-Null Count  Dtype  \n",
      "---  ------                      --------------  -----  \n",
      " 0   object_id                   12000 non-null  int64  \n",
      " 1   creation_time               12000 non-null  object \n",
      " 2   name                        12000 non-null  object \n",
      " 3   email                       12000 non-null  object \n",
      " 4   creation_source             12000 non-null  object \n",
      " 5   last_session_creation_time  12000 non-null  float64\n",
      " 6   opted_in_to_mailing_list    12000 non-null  object \n",
      " 7   enabled_for_marketing_drip  12000 non-null  object \n",
      " 8   org_id                      12000 non-null  int64  \n",
      " 9   invited_by_user_id          12000 non-null  object \n",
      "dtypes: float64(1), int64(2), object(7)\n",
      "memory usage: 937.6+ KB\n"
     ]
    }
   ],
   "source": [
    "users.info()"
   ]
  },
  {
   "cell_type": "markdown",
   "id": "9a4a1e34",
   "metadata": {},
   "source": [
    "### create new column 'status'"
   ]
  },
  {
   "cell_type": "markdown",
   "id": "28e78b85",
   "metadata": {},
   "source": [
    "this column will be a dependent variable when we create a model. "
   ]
  },
  {
   "cell_type": "code",
   "execution_count": 9,
   "id": "b6a12ba0",
   "metadata": {},
   "outputs": [],
   "source": [
    "# sort by user_id\n",
    "user_engagement = user_engagement.sort_values('user_id')"
   ]
  },
  {
   "cell_type": "code",
   "execution_count": 10,
   "id": "bc2fa4aa",
   "metadata": {
    "scrolled": true
   },
   "outputs": [
    {
     "data": {
      "text/html": [
       "<div>\n",
       "<style scoped>\n",
       "    .dataframe tbody tr th:only-of-type {\n",
       "        vertical-align: middle;\n",
       "    }\n",
       "\n",
       "    .dataframe tbody tr th {\n",
       "        vertical-align: top;\n",
       "    }\n",
       "\n",
       "    .dataframe thead th {\n",
       "        text-align: right;\n",
       "    }\n",
       "</style>\n",
       "<table border=\"1\" class=\"dataframe\">\n",
       "  <thead>\n",
       "    <tr style=\"text-align: right;\">\n",
       "      <th></th>\n",
       "      <th>user_id</th>\n",
       "      <th>visited</th>\n",
       "    </tr>\n",
       "    <tr>\n",
       "      <th>time_stamp</th>\n",
       "      <th></th>\n",
       "      <th></th>\n",
       "    </tr>\n",
       "  </thead>\n",
       "  <tbody>\n",
       "    <tr>\n",
       "      <th>2014-04-22 03:53:30</th>\n",
       "      <td>1</td>\n",
       "      <td>1</td>\n",
       "    </tr>\n",
       "    <tr>\n",
       "      <th>2014-03-31 03:45:04</th>\n",
       "      <td>2</td>\n",
       "      <td>1</td>\n",
       "    </tr>\n",
       "    <tr>\n",
       "      <th>2014-03-13 03:45:04</th>\n",
       "      <td>2</td>\n",
       "      <td>1</td>\n",
       "    </tr>\n",
       "    <tr>\n",
       "      <th>2014-03-09 03:45:04</th>\n",
       "      <td>2</td>\n",
       "      <td>1</td>\n",
       "    </tr>\n",
       "    <tr>\n",
       "      <th>2014-02-16 03:45:04</th>\n",
       "      <td>2</td>\n",
       "      <td>1</td>\n",
       "    </tr>\n",
       "    <tr>\n",
       "      <th>2014-02-13 03:45:04</th>\n",
       "      <td>2</td>\n",
       "      <td>1</td>\n",
       "    </tr>\n",
       "    <tr>\n",
       "      <th>2014-02-09 03:45:04</th>\n",
       "      <td>2</td>\n",
       "      <td>1</td>\n",
       "    </tr>\n",
       "    <tr>\n",
       "      <th>2014-02-08 03:45:04</th>\n",
       "      <td>2</td>\n",
       "      <td>1</td>\n",
       "    </tr>\n",
       "    <tr>\n",
       "      <th>2014-01-08 03:45:04</th>\n",
       "      <td>2</td>\n",
       "      <td>1</td>\n",
       "    </tr>\n",
       "    <tr>\n",
       "      <th>2013-12-31 03:45:04</th>\n",
       "      <td>2</td>\n",
       "      <td>1</td>\n",
       "    </tr>\n",
       "  </tbody>\n",
       "</table>\n",
       "</div>"
      ],
      "text/plain": [
       "                    user_id  visited\n",
       "time_stamp                          \n",
       "2014-04-22 03:53:30       1        1\n",
       "2014-03-31 03:45:04       2        1\n",
       "2014-03-13 03:45:04       2        1\n",
       "2014-03-09 03:45:04       2        1\n",
       "2014-02-16 03:45:04       2        1\n",
       "2014-02-13 03:45:04       2        1\n",
       "2014-02-09 03:45:04       2        1\n",
       "2014-02-08 03:45:04       2        1\n",
       "2014-01-08 03:45:04       2        1\n",
       "2013-12-31 03:45:04       2        1"
      ]
     },
     "execution_count": 10,
     "metadata": {},
     "output_type": "execute_result"
    }
   ],
   "source": [
    "user_engagement.head(10)"
   ]
  },
  {
   "cell_type": "code",
   "execution_count": 11,
   "id": "add21ce2",
   "metadata": {},
   "outputs": [],
   "source": [
    "# create new df to count number of visits\n",
    "user_id_count = user_engagement['user_id'].value_counts()"
   ]
  },
  {
   "cell_type": "code",
   "execution_count": 12,
   "id": "5324fa75",
   "metadata": {},
   "outputs": [],
   "source": [
    "# make it dataframe\n",
    "user_id_count = user_id_count.to_frame()\n",
    "\n",
    "# reset index\n",
    "user_id_count = user_id_count.reset_index()\n",
    "\n",
    "# replace column name\n",
    "user_id_count.columns = user_id_count.columns.str.replace('user_id', 'counts')\n",
    "user_id_count.columns = user_id_count.columns.str.replace('index', 'user_id')\n"
   ]
  },
  {
   "cell_type": "code",
   "execution_count": 13,
   "id": "32a96316",
   "metadata": {},
   "outputs": [
    {
     "data": {
      "text/html": [
       "<div>\n",
       "<style scoped>\n",
       "    .dataframe tbody tr th:only-of-type {\n",
       "        vertical-align: middle;\n",
       "    }\n",
       "\n",
       "    .dataframe tbody tr th {\n",
       "        vertical-align: top;\n",
       "    }\n",
       "\n",
       "    .dataframe thead th {\n",
       "        text-align: right;\n",
       "    }\n",
       "</style>\n",
       "<table border=\"1\" class=\"dataframe\">\n",
       "  <thead>\n",
       "    <tr style=\"text-align: right;\">\n",
       "      <th></th>\n",
       "      <th>user_id</th>\n",
       "      <th>counts</th>\n",
       "    </tr>\n",
       "  </thead>\n",
       "  <tbody>\n",
       "    <tr>\n",
       "      <th>0</th>\n",
       "      <td>3623</td>\n",
       "      <td>606</td>\n",
       "    </tr>\n",
       "    <tr>\n",
       "      <th>1</th>\n",
       "      <td>906</td>\n",
       "      <td>600</td>\n",
       "    </tr>\n",
       "    <tr>\n",
       "      <th>2</th>\n",
       "      <td>1811</td>\n",
       "      <td>593</td>\n",
       "    </tr>\n",
       "    <tr>\n",
       "      <th>3</th>\n",
       "      <td>7590</td>\n",
       "      <td>590</td>\n",
       "    </tr>\n",
       "    <tr>\n",
       "      <th>4</th>\n",
       "      <td>8068</td>\n",
       "      <td>585</td>\n",
       "    </tr>\n",
       "    <tr>\n",
       "      <th>...</th>\n",
       "      <td>...</td>\n",
       "      <td>...</td>\n",
       "    </tr>\n",
       "    <tr>\n",
       "      <th>8818</th>\n",
       "      <td>4699</td>\n",
       "      <td>1</td>\n",
       "    </tr>\n",
       "    <tr>\n",
       "      <th>8819</th>\n",
       "      <td>4698</td>\n",
       "      <td>1</td>\n",
       "    </tr>\n",
       "    <tr>\n",
       "      <th>8820</th>\n",
       "      <td>4697</td>\n",
       "      <td>1</td>\n",
       "    </tr>\n",
       "    <tr>\n",
       "      <th>8821</th>\n",
       "      <td>4696</td>\n",
       "      <td>1</td>\n",
       "    </tr>\n",
       "    <tr>\n",
       "      <th>8822</th>\n",
       "      <td>12000</td>\n",
       "      <td>1</td>\n",
       "    </tr>\n",
       "  </tbody>\n",
       "</table>\n",
       "<p>8823 rows × 2 columns</p>\n",
       "</div>"
      ],
      "text/plain": [
       "      user_id  counts\n",
       "0        3623     606\n",
       "1         906     600\n",
       "2        1811     593\n",
       "3        7590     590\n",
       "4        8068     585\n",
       "...       ...     ...\n",
       "8818     4699       1\n",
       "8819     4698       1\n",
       "8820     4697       1\n",
       "8821     4696       1\n",
       "8822    12000       1\n",
       "\n",
       "[8823 rows x 2 columns]"
      ]
     },
     "execution_count": 13,
     "metadata": {},
     "output_type": "execute_result"
    }
   ],
   "source": [
    "user_id_count"
   ]
  },
  {
   "cell_type": "code",
   "execution_count": 14,
   "id": "658e410d",
   "metadata": {},
   "outputs": [],
   "source": [
    "# define new column status and Temporarily input as Adopted\n",
    "user_id_count['status'] = 'Adopted'"
   ]
  },
  {
   "cell_type": "code",
   "execution_count": 15,
   "id": "f1db9e03",
   "metadata": {},
   "outputs": [
    {
     "data": {
      "text/html": [
       "<div>\n",
       "<style scoped>\n",
       "    .dataframe tbody tr th:only-of-type {\n",
       "        vertical-align: middle;\n",
       "    }\n",
       "\n",
       "    .dataframe tbody tr th {\n",
       "        vertical-align: top;\n",
       "    }\n",
       "\n",
       "    .dataframe thead th {\n",
       "        text-align: right;\n",
       "    }\n",
       "</style>\n",
       "<table border=\"1\" class=\"dataframe\">\n",
       "  <thead>\n",
       "    <tr style=\"text-align: right;\">\n",
       "      <th></th>\n",
       "      <th>user_id</th>\n",
       "      <th>counts</th>\n",
       "      <th>status</th>\n",
       "    </tr>\n",
       "  </thead>\n",
       "  <tbody>\n",
       "    <tr>\n",
       "      <th>0</th>\n",
       "      <td>3623</td>\n",
       "      <td>606</td>\n",
       "      <td>Adopted</td>\n",
       "    </tr>\n",
       "    <tr>\n",
       "      <th>1</th>\n",
       "      <td>906</td>\n",
       "      <td>600</td>\n",
       "      <td>Adopted</td>\n",
       "    </tr>\n",
       "    <tr>\n",
       "      <th>2</th>\n",
       "      <td>1811</td>\n",
       "      <td>593</td>\n",
       "      <td>Adopted</td>\n",
       "    </tr>\n",
       "    <tr>\n",
       "      <th>3</th>\n",
       "      <td>7590</td>\n",
       "      <td>590</td>\n",
       "      <td>Adopted</td>\n",
       "    </tr>\n",
       "    <tr>\n",
       "      <th>4</th>\n",
       "      <td>8068</td>\n",
       "      <td>585</td>\n",
       "      <td>Adopted</td>\n",
       "    </tr>\n",
       "    <tr>\n",
       "      <th>...</th>\n",
       "      <td>...</td>\n",
       "      <td>...</td>\n",
       "      <td>...</td>\n",
       "    </tr>\n",
       "    <tr>\n",
       "      <th>8818</th>\n",
       "      <td>4699</td>\n",
       "      <td>1</td>\n",
       "      <td>Adopted</td>\n",
       "    </tr>\n",
       "    <tr>\n",
       "      <th>8819</th>\n",
       "      <td>4698</td>\n",
       "      <td>1</td>\n",
       "      <td>Adopted</td>\n",
       "    </tr>\n",
       "    <tr>\n",
       "      <th>8820</th>\n",
       "      <td>4697</td>\n",
       "      <td>1</td>\n",
       "      <td>Adopted</td>\n",
       "    </tr>\n",
       "    <tr>\n",
       "      <th>8821</th>\n",
       "      <td>4696</td>\n",
       "      <td>1</td>\n",
       "      <td>Adopted</td>\n",
       "    </tr>\n",
       "    <tr>\n",
       "      <th>8822</th>\n",
       "      <td>12000</td>\n",
       "      <td>1</td>\n",
       "      <td>Adopted</td>\n",
       "    </tr>\n",
       "  </tbody>\n",
       "</table>\n",
       "<p>8823 rows × 3 columns</p>\n",
       "</div>"
      ],
      "text/plain": [
       "      user_id  counts   status\n",
       "0        3623     606  Adopted\n",
       "1         906     600  Adopted\n",
       "2        1811     593  Adopted\n",
       "3        7590     590  Adopted\n",
       "4        8068     585  Adopted\n",
       "...       ...     ...      ...\n",
       "8818     4699       1  Adopted\n",
       "8819     4698       1  Adopted\n",
       "8820     4697       1  Adopted\n",
       "8821     4696       1  Adopted\n",
       "8822    12000       1  Adopted\n",
       "\n",
       "[8823 rows x 3 columns]"
      ]
     },
     "execution_count": 15,
     "metadata": {},
     "output_type": "execute_result"
    }
   ],
   "source": [
    "user_id_count"
   ]
  },
  {
   "cell_type": "markdown",
   "id": "9491992e",
   "metadata": {},
   "source": [
    "**time stamp is full 2 years. I think defining adopted user should be mean value of counts, not a user who has logged into the product on three separate days in at least one seven day period**"
   ]
  },
  {
   "cell_type": "code",
   "execution_count": 16,
   "id": "2a9dd1c1",
   "metadata": {},
   "outputs": [
    {
     "data": {
      "text/plain": [
       "23.565340587101893"
      ]
     },
     "execution_count": 16,
     "metadata": {},
     "output_type": "execute_result"
    }
   ],
   "source": [
    "user_id_count.counts.mean()"
   ]
  },
  {
   "cell_type": "code",
   "execution_count": 17,
   "id": "43fd27e0",
   "metadata": {},
   "outputs": [
    {
     "name": "stderr",
     "output_type": "stream",
     "text": [
      "/var/folders/3p/j9v4cftj6bv03_rdsgtmknsr0000gn/T/ipykernel_24319/773594370.py:5: SettingWithCopyWarning: \n",
      "A value is trying to be set on a copy of a slice from a DataFrame\n",
      "\n",
      "See the caveats in the documentation: https://pandas.pydata.org/pandas-docs/stable/user_guide/indexing.html#returning-a-view-versus-a-copy\n",
      "  user_id_count['status'][i] = 'Not Adopted'\n"
     ]
    }
   ],
   "source": [
    "# if counts is less than 24, define status as \"Not Adopted\"\n",
    "for i in range(len(user_id_count)):\n",
    "    #print(i)\n",
    "    if user_id_count['counts'][i] < 24:\n",
    "        user_id_count['status'][i] = 'Not Adopted'\n",
    "\n",
    "\n",
    "\n",
    "    \n"
   ]
  },
  {
   "cell_type": "code",
   "execution_count": 18,
   "id": "65a88ac2",
   "metadata": {},
   "outputs": [
    {
     "data": {
      "text/plain": [
       "Not Adopted    7666\n",
       "Adopted        1157\n",
       "Name: status, dtype: int64"
      ]
     },
     "execution_count": 18,
     "metadata": {},
     "output_type": "execute_result"
    }
   ],
   "source": [
    "user_id_count['status'].value_counts()"
   ]
  },
  {
   "cell_type": "code",
   "execution_count": 19,
   "id": "9bfcfc15",
   "metadata": {},
   "outputs": [
    {
     "name": "stdout",
     "output_type": "stream",
     "text": [
      "<class 'pandas.core.frame.DataFrame'>\n",
      "RangeIndex: 8823 entries, 0 to 8822\n",
      "Data columns (total 3 columns):\n",
      " #   Column   Non-Null Count  Dtype \n",
      "---  ------   --------------  ----- \n",
      " 0   user_id  8823 non-null   object\n",
      " 1   counts   8823 non-null   int64 \n",
      " 2   status   8823 non-null   object\n",
      "dtypes: int64(1), object(2)\n",
      "memory usage: 206.9+ KB\n"
     ]
    }
   ],
   "source": [
    "user_id_count['user_id'] = user_id_count['user_id'].astype(object)\n",
    "user_id_count.info()"
   ]
  },
  {
   "cell_type": "markdown",
   "id": "cdd157a3",
   "metadata": {},
   "source": [
    "### merge dataset (add status in the original dataframe)"
   ]
  },
  {
   "cell_type": "code",
   "execution_count": 20,
   "id": "05fe7691",
   "metadata": {},
   "outputs": [],
   "source": [
    "user_engagement=user_engagement.merge(user_id_count[['status', 'user_id']], on = 'user_id', how = 'right')"
   ]
  },
  {
   "cell_type": "code",
   "execution_count": 21,
   "id": "06433130",
   "metadata": {},
   "outputs": [
    {
     "data": {
      "text/plain": [
       "Adopted        192432\n",
       "Not Adopted     15485\n",
       "Name: status, dtype: int64"
      ]
     },
     "execution_count": 21,
     "metadata": {},
     "output_type": "execute_result"
    }
   ],
   "source": [
    "user_engagement.status.value_counts()"
   ]
  },
  {
   "cell_type": "code",
   "execution_count": 22,
   "id": "8f3d76a3",
   "metadata": {},
   "outputs": [
    {
     "data": {
      "text/html": [
       "<div>\n",
       "<style scoped>\n",
       "    .dataframe tbody tr th:only-of-type {\n",
       "        vertical-align: middle;\n",
       "    }\n",
       "\n",
       "    .dataframe tbody tr th {\n",
       "        vertical-align: top;\n",
       "    }\n",
       "\n",
       "    .dataframe thead th {\n",
       "        text-align: right;\n",
       "    }\n",
       "</style>\n",
       "<table border=\"1\" class=\"dataframe\">\n",
       "  <thead>\n",
       "    <tr style=\"text-align: right;\">\n",
       "      <th></th>\n",
       "      <th>user_id</th>\n",
       "      <th>counts</th>\n",
       "      <th>status</th>\n",
       "    </tr>\n",
       "  </thead>\n",
       "  <tbody>\n",
       "    <tr>\n",
       "      <th>1157</th>\n",
       "      <td>2400</td>\n",
       "      <td>23</td>\n",
       "      <td>Not Adopted</td>\n",
       "    </tr>\n",
       "  </tbody>\n",
       "</table>\n",
       "</div>"
      ],
      "text/plain": [
       "     user_id  counts       status\n",
       "1157    2400      23  Not Adopted"
      ]
     },
     "execution_count": 22,
     "metadata": {},
     "output_type": "execute_result"
    }
   ],
   "source": [
    "user_id_count[(user_id_count.user_id == 2400)]"
   ]
  },
  {
   "cell_type": "code",
   "execution_count": 23,
   "id": "da282d4b",
   "metadata": {},
   "outputs": [
    {
     "data": {
      "text/html": [
       "<div>\n",
       "<style scoped>\n",
       "    .dataframe tbody tr th:only-of-type {\n",
       "        vertical-align: middle;\n",
       "    }\n",
       "\n",
       "    .dataframe tbody tr th {\n",
       "        vertical-align: top;\n",
       "    }\n",
       "\n",
       "    .dataframe thead th {\n",
       "        text-align: right;\n",
       "    }\n",
       "</style>\n",
       "<table border=\"1\" class=\"dataframe\">\n",
       "  <thead>\n",
       "    <tr style=\"text-align: right;\">\n",
       "      <th></th>\n",
       "      <th>user_id</th>\n",
       "      <th>visited</th>\n",
       "      <th>status</th>\n",
       "    </tr>\n",
       "  </thead>\n",
       "  <tbody>\n",
       "    <tr>\n",
       "      <th>192432</th>\n",
       "      <td>2400</td>\n",
       "      <td>1</td>\n",
       "      <td>Not Adopted</td>\n",
       "    </tr>\n",
       "    <tr>\n",
       "      <th>192433</th>\n",
       "      <td>2400</td>\n",
       "      <td>1</td>\n",
       "      <td>Not Adopted</td>\n",
       "    </tr>\n",
       "    <tr>\n",
       "      <th>192434</th>\n",
       "      <td>2400</td>\n",
       "      <td>1</td>\n",
       "      <td>Not Adopted</td>\n",
       "    </tr>\n",
       "    <tr>\n",
       "      <th>192435</th>\n",
       "      <td>2400</td>\n",
       "      <td>1</td>\n",
       "      <td>Not Adopted</td>\n",
       "    </tr>\n",
       "    <tr>\n",
       "      <th>192436</th>\n",
       "      <td>2400</td>\n",
       "      <td>1</td>\n",
       "      <td>Not Adopted</td>\n",
       "    </tr>\n",
       "    <tr>\n",
       "      <th>...</th>\n",
       "      <td>...</td>\n",
       "      <td>...</td>\n",
       "      <td>...</td>\n",
       "    </tr>\n",
       "    <tr>\n",
       "      <th>207912</th>\n",
       "      <td>4699</td>\n",
       "      <td>1</td>\n",
       "      <td>Not Adopted</td>\n",
       "    </tr>\n",
       "    <tr>\n",
       "      <th>207913</th>\n",
       "      <td>4698</td>\n",
       "      <td>1</td>\n",
       "      <td>Not Adopted</td>\n",
       "    </tr>\n",
       "    <tr>\n",
       "      <th>207914</th>\n",
       "      <td>4697</td>\n",
       "      <td>1</td>\n",
       "      <td>Not Adopted</td>\n",
       "    </tr>\n",
       "    <tr>\n",
       "      <th>207915</th>\n",
       "      <td>4696</td>\n",
       "      <td>1</td>\n",
       "      <td>Not Adopted</td>\n",
       "    </tr>\n",
       "    <tr>\n",
       "      <th>207916</th>\n",
       "      <td>12000</td>\n",
       "      <td>1</td>\n",
       "      <td>Not Adopted</td>\n",
       "    </tr>\n",
       "  </tbody>\n",
       "</table>\n",
       "<p>15485 rows × 3 columns</p>\n",
       "</div>"
      ],
      "text/plain": [
       "       user_id  visited       status\n",
       "192432    2400        1  Not Adopted\n",
       "192433    2400        1  Not Adopted\n",
       "192434    2400        1  Not Adopted\n",
       "192435    2400        1  Not Adopted\n",
       "192436    2400        1  Not Adopted\n",
       "...        ...      ...          ...\n",
       "207912    4699        1  Not Adopted\n",
       "207913    4698        1  Not Adopted\n",
       "207914    4697        1  Not Adopted\n",
       "207915    4696        1  Not Adopted\n",
       "207916   12000        1  Not Adopted\n",
       "\n",
       "[15485 rows x 3 columns]"
      ]
     },
     "execution_count": 23,
     "metadata": {},
     "output_type": "execute_result"
    }
   ],
   "source": [
    "user_engagement[(user_engagement.status == \"Not Adopted\")]"
   ]
  },
  {
   "cell_type": "code",
   "execution_count": 24,
   "id": "873383b5",
   "metadata": {},
   "outputs": [
    {
     "name": "stdout",
     "output_type": "stream",
     "text": [
      "<class 'pandas.core.frame.DataFrame'>\n",
      "Int64Index: 207917 entries, 0 to 207916\n",
      "Data columns (total 2 columns):\n",
      " #   Column   Non-Null Count   Dtype \n",
      "---  ------   --------------   ----- \n",
      " 0   user_id  207917 non-null  object\n",
      " 1   status   207917 non-null  object\n",
      "dtypes: object(2)\n",
      "memory usage: 4.8+ MB\n"
     ]
    }
   ],
   "source": [
    "del user_engagement['visited']\n",
    "user_engagement.info()"
   ]
  },
  {
   "cell_type": "code",
   "execution_count": 25,
   "id": "32ed9522",
   "metadata": {},
   "outputs": [
    {
     "data": {
      "text/plain": [
       "8823"
      ]
     },
     "execution_count": 25,
     "metadata": {},
     "output_type": "execute_result"
    }
   ],
   "source": [
    "len(pd.unique(user_engagement['user_id']))"
   ]
  },
  {
   "cell_type": "code",
   "execution_count": 26,
   "id": "d6724147",
   "metadata": {},
   "outputs": [],
   "source": [
    "user_engagement=user_engagement.drop_duplicates()"
   ]
  },
  {
   "cell_type": "code",
   "execution_count": 27,
   "id": "277ecc42",
   "metadata": {},
   "outputs": [
    {
     "name": "stdout",
     "output_type": "stream",
     "text": [
      "<class 'pandas.core.frame.DataFrame'>\n",
      "Int64Index: 8823 entries, 0 to 207916\n",
      "Data columns (total 2 columns):\n",
      " #   Column   Non-Null Count  Dtype \n",
      "---  ------   --------------  ----- \n",
      " 0   user_id  8823 non-null   object\n",
      " 1   status   8823 non-null   object\n",
      "dtypes: object(2)\n",
      "memory usage: 206.8+ KB\n"
     ]
    }
   ],
   "source": [
    "user_engagement.info()"
   ]
  },
  {
   "cell_type": "markdown",
   "id": "8aa36e40",
   "metadata": {},
   "source": [
    "### merge dataset user_engagement and users"
   ]
  },
  {
   "cell_type": "code",
   "execution_count": 28,
   "id": "0ed69d13",
   "metadata": {},
   "outputs": [
    {
     "data": {
      "text/html": [
       "<div>\n",
       "<style scoped>\n",
       "    .dataframe tbody tr th:only-of-type {\n",
       "        vertical-align: middle;\n",
       "    }\n",
       "\n",
       "    .dataframe tbody tr th {\n",
       "        vertical-align: top;\n",
       "    }\n",
       "\n",
       "    .dataframe thead th {\n",
       "        text-align: right;\n",
       "    }\n",
       "</style>\n",
       "<table border=\"1\" class=\"dataframe\">\n",
       "  <thead>\n",
       "    <tr style=\"text-align: right;\">\n",
       "      <th></th>\n",
       "      <th>object_id</th>\n",
       "      <th>last_session_creation_time</th>\n",
       "      <th>org_id</th>\n",
       "    </tr>\n",
       "  </thead>\n",
       "  <tbody>\n",
       "    <tr>\n",
       "      <th>count</th>\n",
       "      <td>12000.00000</td>\n",
       "      <td>1.200000e+04</td>\n",
       "      <td>12000.000000</td>\n",
       "    </tr>\n",
       "    <tr>\n",
       "      <th>mean</th>\n",
       "      <td>6000.50000</td>\n",
       "      <td>1.379279e+09</td>\n",
       "      <td>141.884583</td>\n",
       "    </tr>\n",
       "    <tr>\n",
       "      <th>std</th>\n",
       "      <td>3464.24595</td>\n",
       "      <td>1.674708e+07</td>\n",
       "      <td>124.056723</td>\n",
       "    </tr>\n",
       "    <tr>\n",
       "      <th>min</th>\n",
       "      <td>1.00000</td>\n",
       "      <td>1.338452e+09</td>\n",
       "      <td>0.000000</td>\n",
       "    </tr>\n",
       "    <tr>\n",
       "      <th>25%</th>\n",
       "      <td>3000.75000</td>\n",
       "      <td>1.370563e+09</td>\n",
       "      <td>29.000000</td>\n",
       "    </tr>\n",
       "    <tr>\n",
       "      <th>50%</th>\n",
       "      <td>6000.50000</td>\n",
       "      <td>1.379279e+09</td>\n",
       "      <td>108.000000</td>\n",
       "    </tr>\n",
       "    <tr>\n",
       "      <th>75%</th>\n",
       "      <td>9000.25000</td>\n",
       "      <td>1.393729e+09</td>\n",
       "      <td>238.250000</td>\n",
       "    </tr>\n",
       "    <tr>\n",
       "      <th>max</th>\n",
       "      <td>12000.00000</td>\n",
       "      <td>1.402067e+09</td>\n",
       "      <td>416.000000</td>\n",
       "    </tr>\n",
       "  </tbody>\n",
       "</table>\n",
       "</div>"
      ],
      "text/plain": [
       "         object_id  last_session_creation_time        org_id\n",
       "count  12000.00000                1.200000e+04  12000.000000\n",
       "mean    6000.50000                1.379279e+09    141.884583\n",
       "std     3464.24595                1.674708e+07    124.056723\n",
       "min        1.00000                1.338452e+09      0.000000\n",
       "25%     3000.75000                1.370563e+09     29.000000\n",
       "50%     6000.50000                1.379279e+09    108.000000\n",
       "75%     9000.25000                1.393729e+09    238.250000\n",
       "max    12000.00000                1.402067e+09    416.000000"
      ]
     },
     "execution_count": 28,
     "metadata": {},
     "output_type": "execute_result"
    }
   ],
   "source": [
    "users.describe()"
   ]
  },
  {
   "cell_type": "code",
   "execution_count": 29,
   "id": "f99e0aac",
   "metadata": {},
   "outputs": [
    {
     "data": {
      "text/html": [
       "<div>\n",
       "<style scoped>\n",
       "    .dataframe tbody tr th:only-of-type {\n",
       "        vertical-align: middle;\n",
       "    }\n",
       "\n",
       "    .dataframe tbody tr th {\n",
       "        vertical-align: top;\n",
       "    }\n",
       "\n",
       "    .dataframe thead th {\n",
       "        text-align: right;\n",
       "    }\n",
       "</style>\n",
       "<table border=\"1\" class=\"dataframe\">\n",
       "  <thead>\n",
       "    <tr style=\"text-align: right;\">\n",
       "      <th></th>\n",
       "      <th>user_id</th>\n",
       "      <th>creation_time</th>\n",
       "      <th>name</th>\n",
       "      <th>email</th>\n",
       "      <th>creation_source</th>\n",
       "      <th>last_session_creation_time</th>\n",
       "      <th>opted_in_to_mailing_list</th>\n",
       "      <th>enabled_for_marketing_drip</th>\n",
       "      <th>org_id</th>\n",
       "      <th>invited_by_user_id</th>\n",
       "    </tr>\n",
       "  </thead>\n",
       "  <tbody>\n",
       "    <tr>\n",
       "      <th>0</th>\n",
       "      <td>1</td>\n",
       "      <td>2014-04-22 03:53:30</td>\n",
       "      <td>Clausen August</td>\n",
       "      <td>AugustCClausen@yahoo.com</td>\n",
       "      <td>GUEST_INVITE</td>\n",
       "      <td>1.398139e+09</td>\n",
       "      <td>1</td>\n",
       "      <td>0</td>\n",
       "      <td>11</td>\n",
       "      <td>10803.0</td>\n",
       "    </tr>\n",
       "    <tr>\n",
       "      <th>1</th>\n",
       "      <td>2</td>\n",
       "      <td>2013-11-15 03:45:04</td>\n",
       "      <td>Poole Matthew</td>\n",
       "      <td>MatthewPoole@gustr.com</td>\n",
       "      <td>ORG_INVITE</td>\n",
       "      <td>1.396238e+09</td>\n",
       "      <td>0</td>\n",
       "      <td>0</td>\n",
       "      <td>1</td>\n",
       "      <td>316.0</td>\n",
       "    </tr>\n",
       "    <tr>\n",
       "      <th>2</th>\n",
       "      <td>3</td>\n",
       "      <td>2013-03-19 23:14:52</td>\n",
       "      <td>Bottrill Mitchell</td>\n",
       "      <td>MitchellBottrill@gustr.com</td>\n",
       "      <td>ORG_INVITE</td>\n",
       "      <td>1.363735e+09</td>\n",
       "      <td>0</td>\n",
       "      <td>0</td>\n",
       "      <td>94</td>\n",
       "      <td>1525.0</td>\n",
       "    </tr>\n",
       "    <tr>\n",
       "      <th>3</th>\n",
       "      <td>4</td>\n",
       "      <td>2013-05-21 08:09:28</td>\n",
       "      <td>Clausen Nicklas</td>\n",
       "      <td>NicklasSClausen@yahoo.com</td>\n",
       "      <td>GUEST_INVITE</td>\n",
       "      <td>1.369210e+09</td>\n",
       "      <td>0</td>\n",
       "      <td>0</td>\n",
       "      <td>1</td>\n",
       "      <td>5151.0</td>\n",
       "    </tr>\n",
       "    <tr>\n",
       "      <th>4</th>\n",
       "      <td>5</td>\n",
       "      <td>2013-01-17 10:14:20</td>\n",
       "      <td>Raw Grace</td>\n",
       "      <td>GraceRaw@yahoo.com</td>\n",
       "      <td>GUEST_INVITE</td>\n",
       "      <td>1.358850e+09</td>\n",
       "      <td>0</td>\n",
       "      <td>0</td>\n",
       "      <td>193</td>\n",
       "      <td>5240.0</td>\n",
       "    </tr>\n",
       "  </tbody>\n",
       "</table>\n",
       "</div>"
      ],
      "text/plain": [
       "   user_id        creation_time               name  \\\n",
       "0        1  2014-04-22 03:53:30     Clausen August   \n",
       "1        2  2013-11-15 03:45:04      Poole Matthew   \n",
       "2        3  2013-03-19 23:14:52  Bottrill Mitchell   \n",
       "3        4  2013-05-21 08:09:28    Clausen Nicklas   \n",
       "4        5  2013-01-17 10:14:20          Raw Grace   \n",
       "\n",
       "                        email creation_source  last_session_creation_time  \\\n",
       "0    AugustCClausen@yahoo.com    GUEST_INVITE                1.398139e+09   \n",
       "1      MatthewPoole@gustr.com      ORG_INVITE                1.396238e+09   \n",
       "2  MitchellBottrill@gustr.com      ORG_INVITE                1.363735e+09   \n",
       "3   NicklasSClausen@yahoo.com    GUEST_INVITE                1.369210e+09   \n",
       "4          GraceRaw@yahoo.com    GUEST_INVITE                1.358850e+09   \n",
       "\n",
       "  opted_in_to_mailing_list enabled_for_marketing_drip  org_id  \\\n",
       "0                        1                          0      11   \n",
       "1                        0                          0       1   \n",
       "2                        0                          0      94   \n",
       "3                        0                          0       1   \n",
       "4                        0                          0     193   \n",
       "\n",
       "  invited_by_user_id  \n",
       "0            10803.0  \n",
       "1              316.0  \n",
       "2             1525.0  \n",
       "3             5151.0  \n",
       "4             5240.0  "
      ]
     },
     "execution_count": 29,
     "metadata": {},
     "output_type": "execute_result"
    }
   ],
   "source": [
    "# match column name -- object_id => user_id\n",
    "users.columns = users.columns.str.replace('object_id', 'user_id')\n",
    "users.head()"
   ]
  },
  {
   "cell_type": "code",
   "execution_count": 30,
   "id": "243a65ac",
   "metadata": {},
   "outputs": [
    {
     "data": {
      "text/plain": [
       "Not Adopted    7666\n",
       "Adopted        1157\n",
       "Name: status, dtype: int64"
      ]
     },
     "execution_count": 30,
     "metadata": {},
     "output_type": "execute_result"
    }
   ],
   "source": [
    "user_engagement['status'].value_counts()"
   ]
  },
  {
   "cell_type": "code",
   "execution_count": 31,
   "id": "66b0d705",
   "metadata": {},
   "outputs": [],
   "source": [
    "# merge\n",
    "new_users=users.merge(user_engagement[['status', 'user_id']], on = 'user_id', how = 'left')"
   ]
  },
  {
   "cell_type": "code",
   "execution_count": 32,
   "id": "0f10acd7",
   "metadata": {},
   "outputs": [
    {
     "data": {
      "text/html": [
       "<div>\n",
       "<style scoped>\n",
       "    .dataframe tbody tr th:only-of-type {\n",
       "        vertical-align: middle;\n",
       "    }\n",
       "\n",
       "    .dataframe tbody tr th {\n",
       "        vertical-align: top;\n",
       "    }\n",
       "\n",
       "    .dataframe thead th {\n",
       "        text-align: right;\n",
       "    }\n",
       "</style>\n",
       "<table border=\"1\" class=\"dataframe\">\n",
       "  <thead>\n",
       "    <tr style=\"text-align: right;\">\n",
       "      <th></th>\n",
       "      <th>user_id</th>\n",
       "      <th>creation_time</th>\n",
       "      <th>name</th>\n",
       "      <th>email</th>\n",
       "      <th>creation_source</th>\n",
       "      <th>last_session_creation_time</th>\n",
       "      <th>opted_in_to_mailing_list</th>\n",
       "      <th>enabled_for_marketing_drip</th>\n",
       "      <th>org_id</th>\n",
       "      <th>invited_by_user_id</th>\n",
       "      <th>status</th>\n",
       "    </tr>\n",
       "  </thead>\n",
       "  <tbody>\n",
       "    <tr>\n",
       "      <th>0</th>\n",
       "      <td>1</td>\n",
       "      <td>2014-04-22 03:53:30</td>\n",
       "      <td>Clausen August</td>\n",
       "      <td>AugustCClausen@yahoo.com</td>\n",
       "      <td>GUEST_INVITE</td>\n",
       "      <td>1.398139e+09</td>\n",
       "      <td>1</td>\n",
       "      <td>0</td>\n",
       "      <td>11</td>\n",
       "      <td>10803.0</td>\n",
       "      <td>Not Adopted</td>\n",
       "    </tr>\n",
       "    <tr>\n",
       "      <th>1</th>\n",
       "      <td>2</td>\n",
       "      <td>2013-11-15 03:45:04</td>\n",
       "      <td>Poole Matthew</td>\n",
       "      <td>MatthewPoole@gustr.com</td>\n",
       "      <td>ORG_INVITE</td>\n",
       "      <td>1.396238e+09</td>\n",
       "      <td>0</td>\n",
       "      <td>0</td>\n",
       "      <td>1</td>\n",
       "      <td>316.0</td>\n",
       "      <td>Not Adopted</td>\n",
       "    </tr>\n",
       "    <tr>\n",
       "      <th>2</th>\n",
       "      <td>3</td>\n",
       "      <td>2013-03-19 23:14:52</td>\n",
       "      <td>Bottrill Mitchell</td>\n",
       "      <td>MitchellBottrill@gustr.com</td>\n",
       "      <td>ORG_INVITE</td>\n",
       "      <td>1.363735e+09</td>\n",
       "      <td>0</td>\n",
       "      <td>0</td>\n",
       "      <td>94</td>\n",
       "      <td>1525.0</td>\n",
       "      <td>Not Adopted</td>\n",
       "    </tr>\n",
       "    <tr>\n",
       "      <th>3</th>\n",
       "      <td>4</td>\n",
       "      <td>2013-05-21 08:09:28</td>\n",
       "      <td>Clausen Nicklas</td>\n",
       "      <td>NicklasSClausen@yahoo.com</td>\n",
       "      <td>GUEST_INVITE</td>\n",
       "      <td>1.369210e+09</td>\n",
       "      <td>0</td>\n",
       "      <td>0</td>\n",
       "      <td>1</td>\n",
       "      <td>5151.0</td>\n",
       "      <td>Not Adopted</td>\n",
       "    </tr>\n",
       "    <tr>\n",
       "      <th>4</th>\n",
       "      <td>5</td>\n",
       "      <td>2013-01-17 10:14:20</td>\n",
       "      <td>Raw Grace</td>\n",
       "      <td>GraceRaw@yahoo.com</td>\n",
       "      <td>GUEST_INVITE</td>\n",
       "      <td>1.358850e+09</td>\n",
       "      <td>0</td>\n",
       "      <td>0</td>\n",
       "      <td>193</td>\n",
       "      <td>5240.0</td>\n",
       "      <td>Not Adopted</td>\n",
       "    </tr>\n",
       "  </tbody>\n",
       "</table>\n",
       "</div>"
      ],
      "text/plain": [
       "  user_id        creation_time               name                       email  \\\n",
       "0       1  2014-04-22 03:53:30     Clausen August    AugustCClausen@yahoo.com   \n",
       "1       2  2013-11-15 03:45:04      Poole Matthew      MatthewPoole@gustr.com   \n",
       "2       3  2013-03-19 23:14:52  Bottrill Mitchell  MitchellBottrill@gustr.com   \n",
       "3       4  2013-05-21 08:09:28    Clausen Nicklas   NicklasSClausen@yahoo.com   \n",
       "4       5  2013-01-17 10:14:20          Raw Grace          GraceRaw@yahoo.com   \n",
       "\n",
       "  creation_source  last_session_creation_time opted_in_to_mailing_list  \\\n",
       "0    GUEST_INVITE                1.398139e+09                        1   \n",
       "1      ORG_INVITE                1.396238e+09                        0   \n",
       "2      ORG_INVITE                1.363735e+09                        0   \n",
       "3    GUEST_INVITE                1.369210e+09                        0   \n",
       "4    GUEST_INVITE                1.358850e+09                        0   \n",
       "\n",
       "  enabled_for_marketing_drip  org_id invited_by_user_id       status  \n",
       "0                          0      11            10803.0  Not Adopted  \n",
       "1                          0       1              316.0  Not Adopted  \n",
       "2                          0      94             1525.0  Not Adopted  \n",
       "3                          0       1             5151.0  Not Adopted  \n",
       "4                          0     193             5240.0  Not Adopted  "
      ]
     },
     "execution_count": 32,
     "metadata": {},
     "output_type": "execute_result"
    }
   ],
   "source": [
    "new_users.head()"
   ]
  },
  {
   "cell_type": "code",
   "execution_count": 33,
   "id": "59603b2b",
   "metadata": {},
   "outputs": [
    {
     "data": {
      "text/plain": [
       "Not Adopted    7666\n",
       "Adopted        1157\n",
       "Name: status, dtype: int64"
      ]
     },
     "execution_count": 33,
     "metadata": {},
     "output_type": "execute_result"
    }
   ],
   "source": [
    "new_users['status'].value_counts()"
   ]
  },
  {
   "cell_type": "code",
   "execution_count": 34,
   "id": "9287c27e",
   "metadata": {},
   "outputs": [
    {
     "name": "stdout",
     "output_type": "stream",
     "text": [
      "<class 'pandas.core.frame.DataFrame'>\n",
      "Int64Index: 12000 entries, 0 to 11999\n",
      "Data columns (total 11 columns):\n",
      " #   Column                      Non-Null Count  Dtype  \n",
      "---  ------                      --------------  -----  \n",
      " 0   user_id                     12000 non-null  object \n",
      " 1   creation_time               12000 non-null  object \n",
      " 2   name                        12000 non-null  object \n",
      " 3   email                       12000 non-null  object \n",
      " 4   creation_source             12000 non-null  object \n",
      " 5   last_session_creation_time  12000 non-null  float64\n",
      " 6   opted_in_to_mailing_list    12000 non-null  object \n",
      " 7   enabled_for_marketing_drip  12000 non-null  object \n",
      " 8   org_id                      12000 non-null  int64  \n",
      " 9   invited_by_user_id          12000 non-null  object \n",
      " 10  status                      8823 non-null   object \n",
      "dtypes: float64(1), int64(1), object(9)\n",
      "memory usage: 1.1+ MB\n"
     ]
    }
   ],
   "source": [
    "new_users.info()"
   ]
  },
  {
   "cell_type": "markdown",
   "id": "29f1fa8f",
   "metadata": {},
   "source": [
    "### treat missing values for new dataframe"
   ]
  },
  {
   "cell_type": "code",
   "execution_count": 35,
   "id": "497848a5",
   "metadata": {},
   "outputs": [
    {
     "name": "stdout",
     "output_type": "stream",
     "text": [
      "<class 'pandas.core.frame.DataFrame'>\n",
      "Int64Index: 12000 entries, 0 to 11999\n",
      "Data columns (total 11 columns):\n",
      " #   Column                      Non-Null Count  Dtype  \n",
      "---  ------                      --------------  -----  \n",
      " 0   user_id                     12000 non-null  object \n",
      " 1   creation_time               12000 non-null  object \n",
      " 2   name                        12000 non-null  object \n",
      " 3   email                       12000 non-null  object \n",
      " 4   creation_source             12000 non-null  object \n",
      " 5   last_session_creation_time  12000 non-null  float64\n",
      " 6   opted_in_to_mailing_list    12000 non-null  object \n",
      " 7   enabled_for_marketing_drip  12000 non-null  object \n",
      " 8   org_id                      12000 non-null  int64  \n",
      " 9   invited_by_user_id          12000 non-null  object \n",
      " 10  status                      12000 non-null  object \n",
      "dtypes: float64(1), int64(1), object(9)\n",
      "memory usage: 1.1+ MB\n"
     ]
    }
   ],
   "source": [
    "new_users['status'].fillna(value = 'NA',\n",
    "          inplace = True)\n",
    "new_users.info()"
   ]
  },
  {
   "cell_type": "code",
   "execution_count": 36,
   "id": "ea8104a5",
   "metadata": {},
   "outputs": [
    {
     "data": {
      "text/plain": [
       "Not Adopted    7666\n",
       "NA             3177\n",
       "Adopted        1157\n",
       "Name: status, dtype: int64"
      ]
     },
     "execution_count": 36,
     "metadata": {},
     "output_type": "execute_result"
    }
   ],
   "source": [
    "new_users.status.value_counts()"
   ]
  },
  {
   "cell_type": "code",
   "execution_count": 37,
   "id": "906691db",
   "metadata": {},
   "outputs": [
    {
     "name": "stdout",
     "output_type": "stream",
     "text": [
      "<class 'pandas.core.frame.DataFrame'>\n",
      "Int64Index: 12000 entries, 0 to 11999\n",
      "Data columns (total 11 columns):\n",
      " #   Column                      Non-Null Count  Dtype  \n",
      "---  ------                      --------------  -----  \n",
      " 0   user_id                     12000 non-null  object \n",
      " 1   creation_time               12000 non-null  object \n",
      " 2   name                        12000 non-null  object \n",
      " 3   email                       12000 non-null  object \n",
      " 4   creation_source             12000 non-null  object \n",
      " 5   last_session_creation_time  12000 non-null  float64\n",
      " 6   opted_in_to_mailing_list    12000 non-null  object \n",
      " 7   enabled_for_marketing_drip  12000 non-null  object \n",
      " 8   org_id                      12000 non-null  int64  \n",
      " 9   invited_by_user_id          12000 non-null  object \n",
      " 10  status                      12000 non-null  object \n",
      "dtypes: float64(1), int64(1), object(9)\n",
      "memory usage: 1.1+ MB\n"
     ]
    }
   ],
   "source": [
    "new_users.info()"
   ]
  },
  {
   "cell_type": "markdown",
   "id": "e1bd5b61",
   "metadata": {},
   "source": [
    "### delete unnecessary columns"
   ]
  },
  {
   "cell_type": "markdown",
   "id": "ba02d13a",
   "metadata": {},
   "source": [
    "We have to delete below columns because those include so many unique values. Therefore, it's hard to find the patterns."
   ]
  },
  {
   "cell_type": "code",
   "execution_count": 38,
   "id": "5ab62b80",
   "metadata": {},
   "outputs": [],
   "source": [
    "new_users = new_users.drop(['user_id', 'creation_time', 'name', 'email', 'org_id', 'invited_by_user_id'], axis=1)"
   ]
  },
  {
   "cell_type": "code",
   "execution_count": 39,
   "id": "7239d4b5",
   "metadata": {},
   "outputs": [
    {
     "name": "stdout",
     "output_type": "stream",
     "text": [
      "<class 'pandas.core.frame.DataFrame'>\n",
      "Int64Index: 12000 entries, 0 to 11999\n",
      "Data columns (total 5 columns):\n",
      " #   Column                      Non-Null Count  Dtype  \n",
      "---  ------                      --------------  -----  \n",
      " 0   creation_source             12000 non-null  object \n",
      " 1   last_session_creation_time  12000 non-null  float64\n",
      " 2   opted_in_to_mailing_list    12000 non-null  object \n",
      " 3   enabled_for_marketing_drip  12000 non-null  object \n",
      " 4   status                      12000 non-null  object \n",
      "dtypes: float64(1), object(4)\n",
      "memory usage: 562.5+ KB\n"
     ]
    }
   ],
   "source": [
    "new_users.info()"
   ]
  },
  {
   "cell_type": "markdown",
   "id": "57665577",
   "metadata": {},
   "source": [
    "## 3. EDA"
   ]
  },
  {
   "cell_type": "markdown",
   "id": "32f5daab",
   "metadata": {},
   "source": [
    "### Discrete variable"
   ]
  },
  {
   "cell_type": "code",
   "execution_count": 40,
   "id": "5485a21a",
   "metadata": {},
   "outputs": [
    {
     "data": {
      "image/png": "[encoded data removed]",
      "text/plain": [
       "<Figure size 432x288 with 1 Axes>"
      ]
     },
     "metadata": {
      "needs_background": "light"
     },
     "output_type": "display_data"
    }
   ],
   "source": [
    "# Creating crosstab\n",
    "crosstb = pd.crosstab(new_users.status, new_users.creation_source)\n",
    " \n",
    "# Creating barplot\n",
    "barplot = crosstb.plot.bar(rot=0)"
   ]
  },
  {
   "cell_type": "code",
   "execution_count": 41,
   "id": "7d65d11d",
   "metadata": {},
   "outputs": [
    {
     "data": {
      "image/png": "[encoded data removed]",
      "text/plain": [
       "<Figure size 432x288 with 1 Axes>"
      ]
     },
     "metadata": {
      "needs_background": "light"
     },
     "output_type": "display_data"
    }
   ],
   "source": [
    "# Creating crosstab\n",
    "crosstb = pd.crosstab(new_users.status, new_users.opted_in_to_mailing_list)\n",
    " \n",
    "# Creating barplot\n",
    "barplot = crosstb.plot.bar(rot=0)"
   ]
  },
  {
   "cell_type": "code",
   "execution_count": 44,
   "id": "c96f95d4",
   "metadata": {},
   "outputs": [
    {
     "data": {
      "image/png": "[encoded data removed]",
      "text/plain": [
       "<Figure size 432x288 with 1 Axes>"
      ]
     },
     "metadata": {
      "needs_background": "light"
     },
     "output_type": "display_data"
    }
   ],
   "source": [
    "# Creating crosstab\n",
    "crosstb = pd.crosstab(new_users.status, new_users.enabled_for_marketing_drip)\n",
    " \n",
    "# Creating barplot\n",
    "barplot = crosstb.plot.bar(rot=0)"
   ]
  },
  {
   "cell_type": "markdown",
   "id": "90e0db30",
   "metadata": {},
   "source": [
    "### Continuos variable"
   ]
  },
  {
   "cell_type": "code",
   "execution_count": 45,
   "id": "07fbedf9",
   "metadata": {},
   "outputs": [
    {
     "data": {
      "text/plain": [
       "<AxesSubplot:xlabel='status', ylabel='last_session_creation_time'>"
      ]
     },
     "execution_count": 45,
     "metadata": {},
     "output_type": "execute_result"
    },
    {
     "data": {
      "image/png": "[encoded data removed]",
      "text/plain": [
       "<Figure size 432x288 with 1 Axes>"
      ]
     },
     "metadata": {
      "needs_background": "light"
     },
     "output_type": "display_data"
    }
   ],
   "source": [
    "sns.pointplot(x='status',y='last_session_creation_time',data=new_users)\n"
   ]
  },
  {
   "cell_type": "markdown",
   "id": "503904a4",
   "metadata": {},
   "source": [
    "## Conclusion"
   ]
  },
  {
   "cell_type": "markdown",
   "id": "e5b6c5a8",
   "metadata": {},
   "source": [
    "It's hard to find relations between dependent and discrete independent variables (creation_source, enabled_for_marketing_drip, and opted_in_to_mailing_list). However, pointplot with contiuous variable (last_session_creation_time) shows pattern that adopted user relatively has large session creation time. If I could have full dataset of status variable, I might find out some valid outcome. There are pretty large amount of NA (around 3000). "
   ]
  }
 ],
 "metadata": {
  "kernelspec": {
   "display_name": "Python 3 (ipykernel)",
   "language": "python",
   "name": "python3"
  },
  "language_info": {
   "codemirror_mode": {
    "name": "ipython",
    "version": 3
   },
   "file_extension": ".py",
   "mimetype": "text/x-python",
   "name": "python",
   "nbconvert_exporter": "python",
   "pygments_lexer": "ipython3",
   "version": "3.9.12"
  }
 },
 "nbformat": 4,
 "nbformat_minor": 5
}
