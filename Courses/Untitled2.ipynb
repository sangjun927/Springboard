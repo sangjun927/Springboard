{
 "cells": [
  {
   "cell_type": "code",
   "execution_count": 7,
   "id": "8eb67d31",
   "metadata": {},
   "outputs": [],
   "source": [
    "new_dict = { 'Jerry': 100, 'Karen': 30, 'Fred': 55, 'Scott': 20}"
   ]
  },
  {
   "cell_type": "code",
   "execution_count": 8,
   "id": "ae21676e",
   "metadata": {},
   "outputs": [],
   "source": [
    "res = {}\n",
    "max_val = 0\n",
    "for k,v in new_dict.items():\n",
    "    if max_val < v:\n",
    "        max_val = v\n",
    "        ans = k\n",
    "res[ans] = max_val"
   ]
  },
  {
   "cell_type": "code",
   "execution_count": 9,
   "id": "61b20165",
   "metadata": {},
   "outputs": [
    {
     "data": {
      "text/plain": [
       "{'Jerry': 100}"
      ]
     },
     "execution_count": 9,
     "metadata": {},
     "output_type": "execute_result"
    }
   ],
   "source": [
    "res"
   ]
  },
  {
   "cell_type": "code",
   "execution_count": 27,
   "id": "cdce6fe8",
   "metadata": {},
   "outputs": [],
   "source": [
    "new = {'Jerry': { 'age': 20, 'weight': 300}, 'Karen': {'age': 41, 'weight': 240}, 'Fred':{'age': 35, 'weight': 210}}"
   ]
  },
  {
   "cell_type": "code",
   "execution_count": 28,
   "id": "3b78f997",
   "metadata": {},
   "outputs": [],
   "source": [
    "res = {}\n",
    "max_val = 0\n",
    "\n",
    "for k,v in new.items():\n",
    "    for k1, v1 in v.items():\n",
    "        if k1 == 'age':\n",
    "            #print(k1, v1)\n",
    "            if max_val < v1:\n",
    "                max_val = v1\n",
    "                ans = k\n",
    "res[ans] = max_val"
   ]
  },
  {
   "cell_type": "code",
   "execution_count": 29,
   "id": "f70e2ca6",
   "metadata": {},
   "outputs": [
    {
     "data": {
      "text/plain": [
       "{'Karen': 41}"
      ]
     },
     "execution_count": 29,
     "metadata": {},
     "output_type": "execute_result"
    }
   ],
   "source": [
    "res"
   ]
  },
  {
   "cell_type": "code",
   "execution_count": 30,
   "id": "645414e3",
   "metadata": {},
   "outputs": [],
   "source": [
    "from csv import DictReader\n",
    "\n",
    "file = open('Iris.csv', \"r\")\n",
    "file_reader = DictReader(file)"
   ]
  },
  {
   "cell_type": "code",
   "execution_count": 31,
   "id": "11da16fe",
   "metadata": {},
   "outputs": [
    {
     "name": "stdout",
     "output_type": "stream",
     "text": [
      "{'Id': '1', 'SepalLengthCm': '5.1', 'SepalWidthCm': '3.5', 'PetalLengthCm': '1.4', 'PetalWidthCm': '0.2', 'Species': 'Iris-setosa'}\n",
      "{'Id': '2', 'SepalLengthCm': '4.9', 'SepalWidthCm': '3.0', 'PetalLengthCm': '1.4', 'PetalWidthCm': '0.2', 'Species': 'Iris-setosa'}\n",
      "{'Id': '3', 'SepalLengthCm': '4.7', 'SepalWidthCm': '3.2', 'PetalLengthCm': '1.3', 'PetalWidthCm': '0.2', 'Species': 'Iris-setosa'}\n",
      "{'Id': '4', 'SepalLengthCm': '4.6', 'SepalWidthCm': '3.1', 'PetalLengthCm': '1.5', 'PetalWidthCm': '0.2', 'Species': 'Iris-setosa'}\n",
      "{'Id': '5', 'SepalLengthCm': '5.0', 'SepalWidthCm': '3.6', 'PetalLengthCm': '1.4', 'PetalWidthCm': '0.2', 'Species': 'Iris-setosa'}\n",
      "{'Id': '6', 'SepalLengthCm': '5.4', 'SepalWidthCm': '3.9', 'PetalLengthCm': '1.7', 'PetalWidthCm': '0.4', 'Species': 'Iris-setosa'}\n",
      "{'Id': '7', 'SepalLengthCm': '4.6', 'SepalWidthCm': '3.4', 'PetalLengthCm': '1.4', 'PetalWidthCm': '0.3', 'Species': 'Iris-setosa'}\n",
      "{'Id': '8', 'SepalLengthCm': '5.0', 'SepalWidthCm': '3.4', 'PetalLengthCm': '1.5', 'PetalWidthCm': '0.2', 'Species': 'Iris-setosa'}\n",
      "{'Id': '9', 'SepalLengthCm': '4.4', 'SepalWidthCm': '2.9', 'PetalLengthCm': '1.4', 'PetalWidthCm': '0.2', 'Species': 'Iris-setosa'}\n",
      "{'Id': '10', 'SepalLengthCm': '4.9', 'SepalWidthCm': '3.1', 'PetalLengthCm': '1.5', 'PetalWidthCm': '0.1', 'Species': 'Iris-setosa'}\n",
      "{'Id': '11', 'SepalLengthCm': '5.4', 'SepalWidthCm': '3.7', 'PetalLengthCm': '1.5', 'PetalWidthCm': '0.2', 'Species': 'Iris-setosa'}\n",
      "{'Id': '12', 'SepalLengthCm': '4.8', 'SepalWidthCm': '3.4', 'PetalLengthCm': '1.6', 'PetalWidthCm': '0.2', 'Species': 'Iris-setosa'}\n",
      "{'Id': '13', 'SepalLengthCm': '4.8', 'SepalWidthCm': '3.0', 'PetalLengthCm': '1.4', 'PetalWidthCm': '0.1', 'Species': 'Iris-setosa'}\n",
      "{'Id': '14', 'SepalLengthCm': '4.3', 'SepalWidthCm': '3.0', 'PetalLengthCm': '1.1', 'PetalWidthCm': '0.1', 'Species': 'Iris-setosa'}\n",
      "{'Id': '15', 'SepalLengthCm': '5.8', 'SepalWidthCm': '4.0', 'PetalLengthCm': '1.2', 'PetalWidthCm': '0.2', 'Species': 'Iris-setosa'}\n",
      "{'Id': '16', 'SepalLengthCm': '5.7', 'SepalWidthCm': '4.4', 'PetalLengthCm': '1.5', 'PetalWidthCm': '0.4', 'Species': 'Iris-setosa'}\n",
      "{'Id': '17', 'SepalLengthCm': '5.4', 'SepalWidthCm': '3.9', 'PetalLengthCm': '1.3', 'PetalWidthCm': '0.4', 'Species': 'Iris-setosa'}\n",
      "{'Id': '18', 'SepalLengthCm': '5.1', 'SepalWidthCm': '3.5', 'PetalLengthCm': '1.4', 'PetalWidthCm': '0.3', 'Species': 'Iris-setosa'}\n",
      "{'Id': '19', 'SepalLengthCm': '5.7', 'SepalWidthCm': '3.8', 'PetalLengthCm': '1.7', 'PetalWidthCm': '0.3', 'Species': 'Iris-setosa'}\n",
      "{'Id': '20', 'SepalLengthCm': '5.1', 'SepalWidthCm': '3.8', 'PetalLengthCm': '1.5', 'PetalWidthCm': '0.3', 'Species': 'Iris-setosa'}\n",
      "{'Id': '21', 'SepalLengthCm': '5.4', 'SepalWidthCm': '3.4', 'PetalLengthCm': '1.7', 'PetalWidthCm': '0.2', 'Species': 'Iris-setosa'}\n",
      "{'Id': '22', 'SepalLengthCm': '5.1', 'SepalWidthCm': '3.7', 'PetalLengthCm': '1.5', 'PetalWidthCm': '0.4', 'Species': 'Iris-setosa'}\n",
      "{'Id': '23', 'SepalLengthCm': '4.6', 'SepalWidthCm': '3.6', 'PetalLengthCm': '1.0', 'PetalWidthCm': '0.2', 'Species': 'Iris-setosa'}\n",
      "{'Id': '24', 'SepalLengthCm': '5.1', 'SepalWidthCm': '3.3', 'PetalLengthCm': '1.7', 'PetalWidthCm': '0.5', 'Species': 'Iris-setosa'}\n",
      "{'Id': '25', 'SepalLengthCm': '4.8', 'SepalWidthCm': '3.4', 'PetalLengthCm': '1.9', 'PetalWidthCm': '0.2', 'Species': 'Iris-setosa'}\n",
      "{'Id': '26', 'SepalLengthCm': '5.0', 'SepalWidthCm': '3.0', 'PetalLengthCm': '1.6', 'PetalWidthCm': '0.2', 'Species': 'Iris-setosa'}\n",
      "{'Id': '27', 'SepalLengthCm': '5.0', 'SepalWidthCm': '3.4', 'PetalLengthCm': '1.6', 'PetalWidthCm': '0.4', 'Species': 'Iris-setosa'}\n",
      "{'Id': '28', 'SepalLengthCm': '5.2', 'SepalWidthCm': '3.5', 'PetalLengthCm': '1.5', 'PetalWidthCm': '0.2', 'Species': 'Iris-setosa'}\n",
      "{'Id': '29', 'SepalLengthCm': '5.2', 'SepalWidthCm': '3.4', 'PetalLengthCm': '1.4', 'PetalWidthCm': '0.2', 'Species': 'Iris-setosa'}\n",
      "{'Id': '30', 'SepalLengthCm': '4.7', 'SepalWidthCm': '3.2', 'PetalLengthCm': '1.6', 'PetalWidthCm': '0.2', 'Species': 'Iris-setosa'}\n",
      "{'Id': '31', 'SepalLengthCm': '4.8', 'SepalWidthCm': '3.1', 'PetalLengthCm': '1.6', 'PetalWidthCm': '0.2', 'Species': 'Iris-setosa'}\n",
      "{'Id': '32', 'SepalLengthCm': '5.4', 'SepalWidthCm': '3.4', 'PetalLengthCm': '1.5', 'PetalWidthCm': '0.4', 'Species': 'Iris-setosa'}\n",
      "{'Id': '33', 'SepalLengthCm': '5.2', 'SepalWidthCm': '4.1', 'PetalLengthCm': '1.5', 'PetalWidthCm': '0.1', 'Species': 'Iris-setosa'}\n",
      "{'Id': '34', 'SepalLengthCm': '5.5', 'SepalWidthCm': '4.2', 'PetalLengthCm': '1.4', 'PetalWidthCm': '0.2', 'Species': 'Iris-setosa'}\n",
      "{'Id': '35', 'SepalLengthCm': '4.9', 'SepalWidthCm': '3.1', 'PetalLengthCm': '1.5', 'PetalWidthCm': '0.1', 'Species': 'Iris-setosa'}\n",
      "{'Id': '36', 'SepalLengthCm': '5.0', 'SepalWidthCm': '3.2', 'PetalLengthCm': '1.2', 'PetalWidthCm': '0.2', 'Species': 'Iris-setosa'}\n",
      "{'Id': '37', 'SepalLengthCm': '5.5', 'SepalWidthCm': '3.5', 'PetalLengthCm': '1.3', 'PetalWidthCm': '0.2', 'Species': 'Iris-setosa'}\n",
      "{'Id': '38', 'SepalLengthCm': '4.9', 'SepalWidthCm': '3.1', 'PetalLengthCm': '1.5', 'PetalWidthCm': '0.1', 'Species': 'Iris-setosa'}\n",
      "{'Id': '39', 'SepalLengthCm': '4.4', 'SepalWidthCm': '3.0', 'PetalLengthCm': '1.3', 'PetalWidthCm': '0.2', 'Species': 'Iris-setosa'}\n",
      "{'Id': '40', 'SepalLengthCm': '5.1', 'SepalWidthCm': '3.4', 'PetalLengthCm': '1.5', 'PetalWidthCm': '0.2', 'Species': 'Iris-setosa'}\n",
      "{'Id': '41', 'SepalLengthCm': '5.0', 'SepalWidthCm': '3.5', 'PetalLengthCm': '1.3', 'PetalWidthCm': '0.3', 'Species': 'Iris-setosa'}\n",
      "{'Id': '42', 'SepalLengthCm': '4.5', 'SepalWidthCm': '2.3', 'PetalLengthCm': '1.3', 'PetalWidthCm': '0.3', 'Species': 'Iris-setosa'}\n",
      "{'Id': '43', 'SepalLengthCm': '4.4', 'SepalWidthCm': '3.2', 'PetalLengthCm': '1.3', 'PetalWidthCm': '0.2', 'Species': 'Iris-setosa'}\n",
      "{'Id': '44', 'SepalLengthCm': '5.0', 'SepalWidthCm': '3.5', 'PetalLengthCm': '1.6', 'PetalWidthCm': '0.6', 'Species': 'Iris-setosa'}\n",
      "{'Id': '45', 'SepalLengthCm': '5.1', 'SepalWidthCm': '3.8', 'PetalLengthCm': '1.9', 'PetalWidthCm': '0.4', 'Species': 'Iris-setosa'}\n",
      "{'Id': '46', 'SepalLengthCm': '4.8', 'SepalWidthCm': '3.0', 'PetalLengthCm': '1.4', 'PetalWidthCm': '0.3', 'Species': 'Iris-setosa'}\n",
      "{'Id': '47', 'SepalLengthCm': '5.1', 'SepalWidthCm': '3.8', 'PetalLengthCm': '1.6', 'PetalWidthCm': '0.2', 'Species': 'Iris-setosa'}\n",
      "{'Id': '48', 'SepalLengthCm': '4.6', 'SepalWidthCm': '3.2', 'PetalLengthCm': '1.4', 'PetalWidthCm': '0.2', 'Species': 'Iris-setosa'}\n",
      "{'Id': '49', 'SepalLengthCm': '5.3', 'SepalWidthCm': '3.7', 'PetalLengthCm': '1.5', 'PetalWidthCm': '0.2', 'Species': 'Iris-setosa'}\n",
      "{'Id': '50', 'SepalLengthCm': '5.0', 'SepalWidthCm': '3.3', 'PetalLengthCm': '1.4', 'PetalWidthCm': '0.2', 'Species': 'Iris-setosa'}\n",
      "{'Id': '51', 'SepalLengthCm': '7.0', 'SepalWidthCm': '3.2', 'PetalLengthCm': '4.7', 'PetalWidthCm': '1.4', 'Species': 'Iris-versicolor'}\n",
      "{'Id': '52', 'SepalLengthCm': '6.4', 'SepalWidthCm': '3.2', 'PetalLengthCm': '4.5', 'PetalWidthCm': '1.5', 'Species': 'Iris-versicolor'}\n",
      "{'Id': '53', 'SepalLengthCm': '6.9', 'SepalWidthCm': '3.1', 'PetalLengthCm': '4.9', 'PetalWidthCm': '1.5', 'Species': 'Iris-versicolor'}\n",
      "{'Id': '54', 'SepalLengthCm': '5.5', 'SepalWidthCm': '2.3', 'PetalLengthCm': '4.0', 'PetalWidthCm': '1.3', 'Species': 'Iris-versicolor'}\n",
      "{'Id': '55', 'SepalLengthCm': '6.5', 'SepalWidthCm': '2.8', 'PetalLengthCm': '4.6', 'PetalWidthCm': '1.5', 'Species': 'Iris-versicolor'}\n",
      "{'Id': '56', 'SepalLengthCm': '5.7', 'SepalWidthCm': '2.8', 'PetalLengthCm': '4.5', 'PetalWidthCm': '1.3', 'Species': 'Iris-versicolor'}\n",
      "{'Id': '57', 'SepalLengthCm': '6.3', 'SepalWidthCm': '3.3', 'PetalLengthCm': '4.7', 'PetalWidthCm': '1.6', 'Species': 'Iris-versicolor'}\n",
      "{'Id': '58', 'SepalLengthCm': '4.9', 'SepalWidthCm': '2.4', 'PetalLengthCm': '3.3', 'PetalWidthCm': '1.0', 'Species': 'Iris-versicolor'}\n",
      "{'Id': '59', 'SepalLengthCm': '6.6', 'SepalWidthCm': '2.9', 'PetalLengthCm': '4.6', 'PetalWidthCm': '1.3', 'Species': 'Iris-versicolor'}\n",
      "{'Id': '60', 'SepalLengthCm': '5.2', 'SepalWidthCm': '2.7', 'PetalLengthCm': '3.9', 'PetalWidthCm': '1.4', 'Species': 'Iris-versicolor'}\n",
      "{'Id': '61', 'SepalLengthCm': '5.0', 'SepalWidthCm': '2.0', 'PetalLengthCm': '3.5', 'PetalWidthCm': '1.0', 'Species': 'Iris-versicolor'}\n",
      "{'Id': '62', 'SepalLengthCm': '5.9', 'SepalWidthCm': '3.0', 'PetalLengthCm': '4.2', 'PetalWidthCm': '1.5', 'Species': 'Iris-versicolor'}\n",
      "{'Id': '63', 'SepalLengthCm': '6.0', 'SepalWidthCm': '2.2', 'PetalLengthCm': '4.0', 'PetalWidthCm': '1.0', 'Species': 'Iris-versicolor'}\n",
      "{'Id': '64', 'SepalLengthCm': '6.1', 'SepalWidthCm': '2.9', 'PetalLengthCm': '4.7', 'PetalWidthCm': '1.4', 'Species': 'Iris-versicolor'}\n",
      "{'Id': '65', 'SepalLengthCm': '5.6', 'SepalWidthCm': '2.9', 'PetalLengthCm': '3.6', 'PetalWidthCm': '1.3', 'Species': 'Iris-versicolor'}\n",
      "{'Id': '66', 'SepalLengthCm': '6.7', 'SepalWidthCm': '3.1', 'PetalLengthCm': '4.4', 'PetalWidthCm': '1.4', 'Species': 'Iris-versicolor'}\n",
      "{'Id': '67', 'SepalLengthCm': '5.6', 'SepalWidthCm': '3.0', 'PetalLengthCm': '4.5', 'PetalWidthCm': '1.5', 'Species': 'Iris-versicolor'}\n",
      "{'Id': '68', 'SepalLengthCm': '5.8', 'SepalWidthCm': '2.7', 'PetalLengthCm': '4.1', 'PetalWidthCm': '1.0', 'Species': 'Iris-versicolor'}\n",
      "{'Id': '69', 'SepalLengthCm': '6.2', 'SepalWidthCm': '2.2', 'PetalLengthCm': '4.5', 'PetalWidthCm': '1.5', 'Species': 'Iris-versicolor'}\n",
      "{'Id': '70', 'SepalLengthCm': '5.6', 'SepalWidthCm': '2.5', 'PetalLengthCm': '3.9', 'PetalWidthCm': '1.1', 'Species': 'Iris-versicolor'}\n",
      "{'Id': '71', 'SepalLengthCm': '5.9', 'SepalWidthCm': '3.2', 'PetalLengthCm': '4.8', 'PetalWidthCm': '1.8', 'Species': 'Iris-versicolor'}\n",
      "{'Id': '72', 'SepalLengthCm': '6.1', 'SepalWidthCm': '2.8', 'PetalLengthCm': '4.0', 'PetalWidthCm': '1.3', 'Species': 'Iris-versicolor'}\n",
      "{'Id': '73', 'SepalLengthCm': '6.3', 'SepalWidthCm': '2.5', 'PetalLengthCm': '4.9', 'PetalWidthCm': '1.5', 'Species': 'Iris-versicolor'}\n",
      "{'Id': '74', 'SepalLengthCm': '6.1', 'SepalWidthCm': '2.8', 'PetalLengthCm': '4.7', 'PetalWidthCm': '1.2', 'Species': 'Iris-versicolor'}\n",
      "{'Id': '75', 'SepalLengthCm': '6.4', 'SepalWidthCm': '2.9', 'PetalLengthCm': '4.3', 'PetalWidthCm': '1.3', 'Species': 'Iris-versicolor'}\n",
      "{'Id': '76', 'SepalLengthCm': '6.6', 'SepalWidthCm': '3.0', 'PetalLengthCm': '4.4', 'PetalWidthCm': '1.4', 'Species': 'Iris-versicolor'}\n",
      "{'Id': '77', 'SepalLengthCm': '6.8', 'SepalWidthCm': '2.8', 'PetalLengthCm': '4.8', 'PetalWidthCm': '1.4', 'Species': 'Iris-versicolor'}\n",
      "{'Id': '78', 'SepalLengthCm': '6.7', 'SepalWidthCm': '3.0', 'PetalLengthCm': '5.0', 'PetalWidthCm': '1.7', 'Species': 'Iris-versicolor'}\n",
      "{'Id': '79', 'SepalLengthCm': '6.0', 'SepalWidthCm': '2.9', 'PetalLengthCm': '4.5', 'PetalWidthCm': '1.5', 'Species': 'Iris-versicolor'}\n",
      "{'Id': '80', 'SepalLengthCm': '5.7', 'SepalWidthCm': '2.6', 'PetalLengthCm': '3.5', 'PetalWidthCm': '1.0', 'Species': 'Iris-versicolor'}\n",
      "{'Id': '81', 'SepalLengthCm': '5.5', 'SepalWidthCm': '2.4', 'PetalLengthCm': '3.8', 'PetalWidthCm': '1.1', 'Species': 'Iris-versicolor'}\n",
      "{'Id': '82', 'SepalLengthCm': '5.5', 'SepalWidthCm': '2.4', 'PetalLengthCm': '3.7', 'PetalWidthCm': '1.0', 'Species': 'Iris-versicolor'}\n",
      "{'Id': '83', 'SepalLengthCm': '5.8', 'SepalWidthCm': '2.7', 'PetalLengthCm': '3.9', 'PetalWidthCm': '1.2', 'Species': 'Iris-versicolor'}\n",
      "{'Id': '84', 'SepalLengthCm': '6.0', 'SepalWidthCm': '2.7', 'PetalLengthCm': '5.1', 'PetalWidthCm': '1.6', 'Species': 'Iris-versicolor'}\n",
      "{'Id': '85', 'SepalLengthCm': '5.4', 'SepalWidthCm': '3.0', 'PetalLengthCm': '4.5', 'PetalWidthCm': '1.5', 'Species': 'Iris-versicolor'}\n",
      "{'Id': '86', 'SepalLengthCm': '6.0', 'SepalWidthCm': '3.4', 'PetalLengthCm': '4.5', 'PetalWidthCm': '1.6', 'Species': 'Iris-versicolor'}\n",
      "{'Id': '87', 'SepalLengthCm': '6.7', 'SepalWidthCm': '3.1', 'PetalLengthCm': '4.7', 'PetalWidthCm': '1.5', 'Species': 'Iris-versicolor'}\n",
      "{'Id': '88', 'SepalLengthCm': '6.3', 'SepalWidthCm': '2.3', 'PetalLengthCm': '4.4', 'PetalWidthCm': '1.3', 'Species': 'Iris-versicolor'}\n",
      "{'Id': '89', 'SepalLengthCm': '5.6', 'SepalWidthCm': '3.0', 'PetalLengthCm': '4.1', 'PetalWidthCm': '1.3', 'Species': 'Iris-versicolor'}\n",
      "{'Id': '90', 'SepalLengthCm': '5.5', 'SepalWidthCm': '2.5', 'PetalLengthCm': '4.0', 'PetalWidthCm': '1.3', 'Species': 'Iris-versicolor'}\n",
      "{'Id': '91', 'SepalLengthCm': '5.5', 'SepalWidthCm': '2.6', 'PetalLengthCm': '4.4', 'PetalWidthCm': '1.2', 'Species': 'Iris-versicolor'}\n",
      "{'Id': '92', 'SepalLengthCm': '6.1', 'SepalWidthCm': '3.0', 'PetalLengthCm': '4.6', 'PetalWidthCm': '1.4', 'Species': 'Iris-versicolor'}\n",
      "{'Id': '93', 'SepalLengthCm': '5.8', 'SepalWidthCm': '2.6', 'PetalLengthCm': '4.0', 'PetalWidthCm': '1.2', 'Species': 'Iris-versicolor'}\n",
      "{'Id': '94', 'SepalLengthCm': '5.0', 'SepalWidthCm': '2.3', 'PetalLengthCm': '3.3', 'PetalWidthCm': '1.0', 'Species': 'Iris-versicolor'}\n",
      "{'Id': '95', 'SepalLengthCm': '5.6', 'SepalWidthCm': '2.7', 'PetalLengthCm': '4.2', 'PetalWidthCm': '1.3', 'Species': 'Iris-versicolor'}\n",
      "{'Id': '96', 'SepalLengthCm': '5.7', 'SepalWidthCm': '3.0', 'PetalLengthCm': '4.2', 'PetalWidthCm': '1.2', 'Species': 'Iris-versicolor'}\n",
      "{'Id': '97', 'SepalLengthCm': '5.7', 'SepalWidthCm': '2.9', 'PetalLengthCm': '4.2', 'PetalWidthCm': '1.3', 'Species': 'Iris-versicolor'}\n",
      "{'Id': '98', 'SepalLengthCm': '6.2', 'SepalWidthCm': '2.9', 'PetalLengthCm': '4.3', 'PetalWidthCm': '1.3', 'Species': 'Iris-versicolor'}\n",
      "{'Id': '99', 'SepalLengthCm': '5.1', 'SepalWidthCm': '2.5', 'PetalLengthCm': '3.0', 'PetalWidthCm': '1.1', 'Species': 'Iris-versicolor'}\n",
      "{'Id': '100', 'SepalLengthCm': '5.7', 'SepalWidthCm': '2.8', 'PetalLengthCm': '4.1', 'PetalWidthCm': '1.3', 'Species': 'Iris-versicolor'}\n",
      "{'Id': '101', 'SepalLengthCm': '6.3', 'SepalWidthCm': '3.3', 'PetalLengthCm': '6.0', 'PetalWidthCm': '2.5', 'Species': 'Iris-virginica'}\n",
      "{'Id': '102', 'SepalLengthCm': '5.8', 'SepalWidthCm': '2.7', 'PetalLengthCm': '5.1', 'PetalWidthCm': '1.9', 'Species': 'Iris-virginica'}\n",
      "{'Id': '103', 'SepalLengthCm': '7.1', 'SepalWidthCm': '3.0', 'PetalLengthCm': '5.9', 'PetalWidthCm': '2.1', 'Species': 'Iris-virginica'}\n",
      "{'Id': '104', 'SepalLengthCm': '6.3', 'SepalWidthCm': '2.9', 'PetalLengthCm': '5.6', 'PetalWidthCm': '1.8', 'Species': 'Iris-virginica'}\n",
      "{'Id': '105', 'SepalLengthCm': '6.5', 'SepalWidthCm': '3.0', 'PetalLengthCm': '5.8', 'PetalWidthCm': '2.2', 'Species': 'Iris-virginica'}\n",
      "{'Id': '106', 'SepalLengthCm': '7.6', 'SepalWidthCm': '3.0', 'PetalLengthCm': '6.6', 'PetalWidthCm': '2.1', 'Species': 'Iris-virginica'}\n",
      "{'Id': '107', 'SepalLengthCm': '4.9', 'SepalWidthCm': '2.5', 'PetalLengthCm': '4.5', 'PetalWidthCm': '1.7', 'Species': 'Iris-virginica'}\n",
      "{'Id': '108', 'SepalLengthCm': '7.3', 'SepalWidthCm': '2.9', 'PetalLengthCm': '6.3', 'PetalWidthCm': '1.8', 'Species': 'Iris-virginica'}\n",
      "{'Id': '109', 'SepalLengthCm': '6.7', 'SepalWidthCm': '2.5', 'PetalLengthCm': '5.8', 'PetalWidthCm': '1.8', 'Species': 'Iris-virginica'}\n",
      "{'Id': '110', 'SepalLengthCm': '7.2', 'SepalWidthCm': '3.6', 'PetalLengthCm': '6.1', 'PetalWidthCm': '2.5', 'Species': 'Iris-virginica'}\n",
      "{'Id': '111', 'SepalLengthCm': '6.5', 'SepalWidthCm': '3.2', 'PetalLengthCm': '5.1', 'PetalWidthCm': '2.0', 'Species': 'Iris-virginica'}\n",
      "{'Id': '112', 'SepalLengthCm': '6.4', 'SepalWidthCm': '2.7', 'PetalLengthCm': '5.3', 'PetalWidthCm': '1.9', 'Species': 'Iris-virginica'}\n",
      "{'Id': '113', 'SepalLengthCm': '6.8', 'SepalWidthCm': '3.0', 'PetalLengthCm': '5.5', 'PetalWidthCm': '2.1', 'Species': 'Iris-virginica'}\n",
      "{'Id': '114', 'SepalLengthCm': '5.7', 'SepalWidthCm': '2.5', 'PetalLengthCm': '5.0', 'PetalWidthCm': '2.0', 'Species': 'Iris-virginica'}\n",
      "{'Id': '115', 'SepalLengthCm': '5.8', 'SepalWidthCm': '2.8', 'PetalLengthCm': '5.1', 'PetalWidthCm': '2.4', 'Species': 'Iris-virginica'}\n",
      "{'Id': '116', 'SepalLengthCm': '6.4', 'SepalWidthCm': '3.2', 'PetalLengthCm': '5.3', 'PetalWidthCm': '2.3', 'Species': 'Iris-virginica'}\n",
      "{'Id': '117', 'SepalLengthCm': '6.5', 'SepalWidthCm': '3.0', 'PetalLengthCm': '5.5', 'PetalWidthCm': '1.8', 'Species': 'Iris-virginica'}\n",
      "{'Id': '118', 'SepalLengthCm': '7.7', 'SepalWidthCm': '3.8', 'PetalLengthCm': '6.7', 'PetalWidthCm': '2.2', 'Species': 'Iris-virginica'}\n",
      "{'Id': '119', 'SepalLengthCm': '7.7', 'SepalWidthCm': '2.6', 'PetalLengthCm': '6.9', 'PetalWidthCm': '2.3', 'Species': 'Iris-virginica'}\n",
      "{'Id': '120', 'SepalLengthCm': '6.0', 'SepalWidthCm': '2.2', 'PetalLengthCm': '5.0', 'PetalWidthCm': '1.5', 'Species': 'Iris-virginica'}\n",
      "{'Id': '121', 'SepalLengthCm': '6.9', 'SepalWidthCm': '3.2', 'PetalLengthCm': '5.7', 'PetalWidthCm': '2.3', 'Species': 'Iris-virginica'}\n",
      "{'Id': '122', 'SepalLengthCm': '5.6', 'SepalWidthCm': '2.8', 'PetalLengthCm': '4.9', 'PetalWidthCm': '2.0', 'Species': 'Iris-virginica'}\n",
      "{'Id': '123', 'SepalLengthCm': '7.7', 'SepalWidthCm': '2.8', 'PetalLengthCm': '6.7', 'PetalWidthCm': '2.0', 'Species': 'Iris-virginica'}\n",
      "{'Id': '124', 'SepalLengthCm': '6.3', 'SepalWidthCm': '2.7', 'PetalLengthCm': '4.9', 'PetalWidthCm': '1.8', 'Species': 'Iris-virginica'}\n",
      "{'Id': '125', 'SepalLengthCm': '6.7', 'SepalWidthCm': '3.3', 'PetalLengthCm': '5.7', 'PetalWidthCm': '2.1', 'Species': 'Iris-virginica'}\n",
      "{'Id': '126', 'SepalLengthCm': '7.2', 'SepalWidthCm': '3.2', 'PetalLengthCm': '6.0', 'PetalWidthCm': '1.8', 'Species': 'Iris-virginica'}\n",
      "{'Id': '127', 'SepalLengthCm': '6.2', 'SepalWidthCm': '2.8', 'PetalLengthCm': '4.8', 'PetalWidthCm': '1.8', 'Species': 'Iris-virginica'}\n",
      "{'Id': '128', 'SepalLengthCm': '6.1', 'SepalWidthCm': '3.0', 'PetalLengthCm': '4.9', 'PetalWidthCm': '1.8', 'Species': 'Iris-virginica'}\n",
      "{'Id': '129', 'SepalLengthCm': '6.4', 'SepalWidthCm': '2.8', 'PetalLengthCm': '5.6', 'PetalWidthCm': '2.1', 'Species': 'Iris-virginica'}\n",
      "{'Id': '130', 'SepalLengthCm': '7.2', 'SepalWidthCm': '3.0', 'PetalLengthCm': '5.8', 'PetalWidthCm': '1.6', 'Species': 'Iris-virginica'}\n",
      "{'Id': '131', 'SepalLengthCm': '7.4', 'SepalWidthCm': '2.8', 'PetalLengthCm': '6.1', 'PetalWidthCm': '1.9', 'Species': 'Iris-virginica'}\n",
      "{'Id': '132', 'SepalLengthCm': '7.9', 'SepalWidthCm': '3.8', 'PetalLengthCm': '6.4', 'PetalWidthCm': '2.0', 'Species': 'Iris-virginica'}\n",
      "{'Id': '133', 'SepalLengthCm': '6.4', 'SepalWidthCm': '2.8', 'PetalLengthCm': '5.6', 'PetalWidthCm': '2.2', 'Species': 'Iris-virginica'}\n",
      "{'Id': '134', 'SepalLengthCm': '6.3', 'SepalWidthCm': '2.8', 'PetalLengthCm': '5.1', 'PetalWidthCm': '1.5', 'Species': 'Iris-virginica'}\n",
      "{'Id': '135', 'SepalLengthCm': '6.1', 'SepalWidthCm': '2.6', 'PetalLengthCm': '5.6', 'PetalWidthCm': '1.4', 'Species': 'Iris-virginica'}\n",
      "{'Id': '136', 'SepalLengthCm': '7.7', 'SepalWidthCm': '3.0', 'PetalLengthCm': '6.1', 'PetalWidthCm': '2.3', 'Species': 'Iris-virginica'}\n",
      "{'Id': '137', 'SepalLengthCm': '6.3', 'SepalWidthCm': '3.4', 'PetalLengthCm': '5.6', 'PetalWidthCm': '2.4', 'Species': 'Iris-virginica'}\n",
      "{'Id': '138', 'SepalLengthCm': '6.4', 'SepalWidthCm': '3.1', 'PetalLengthCm': '5.5', 'PetalWidthCm': '1.8', 'Species': 'Iris-virginica'}\n",
      "{'Id': '139', 'SepalLengthCm': '6.0', 'SepalWidthCm': '3.0', 'PetalLengthCm': '4.8', 'PetalWidthCm': '1.8', 'Species': 'Iris-virginica'}\n",
      "{'Id': '140', 'SepalLengthCm': '6.9', 'SepalWidthCm': '3.1', 'PetalLengthCm': '5.4', 'PetalWidthCm': '2.1', 'Species': 'Iris-virginica'}\n",
      "{'Id': '141', 'SepalLengthCm': '6.7', 'SepalWidthCm': '3.1', 'PetalLengthCm': '5.6', 'PetalWidthCm': '2.4', 'Species': 'Iris-virginica'}\n",
      "{'Id': '142', 'SepalLengthCm': '6.9', 'SepalWidthCm': '3.1', 'PetalLengthCm': '5.1', 'PetalWidthCm': '2.3', 'Species': 'Iris-virginica'}\n",
      "{'Id': '143', 'SepalLengthCm': '5.8', 'SepalWidthCm': '2.7', 'PetalLengthCm': '5.1', 'PetalWidthCm': '1.9', 'Species': 'Iris-virginica'}\n",
      "{'Id': '144', 'SepalLengthCm': '6.8', 'SepalWidthCm': '3.2', 'PetalLengthCm': '5.9', 'PetalWidthCm': '2.3', 'Species': 'Iris-virginica'}\n",
      "{'Id': '145', 'SepalLengthCm': '6.7', 'SepalWidthCm': '3.3', 'PetalLengthCm': '5.7', 'PetalWidthCm': '2.5', 'Species': 'Iris-virginica'}\n",
      "{'Id': '146', 'SepalLengthCm': '6.7', 'SepalWidthCm': '3.0', 'PetalLengthCm': '5.2', 'PetalWidthCm': '2.3', 'Species': 'Iris-virginica'}\n",
      "{'Id': '147', 'SepalLengthCm': '6.3', 'SepalWidthCm': '2.5', 'PetalLengthCm': '5.0', 'PetalWidthCm': '1.9', 'Species': 'Iris-virginica'}\n",
      "{'Id': '148', 'SepalLengthCm': '6.5', 'SepalWidthCm': '3.0', 'PetalLengthCm': '5.2', 'PetalWidthCm': '2.0', 'Species': 'Iris-virginica'}\n",
      "{'Id': '149', 'SepalLengthCm': '6.2', 'SepalWidthCm': '3.4', 'PetalLengthCm': '5.4', 'PetalWidthCm': '2.3', 'Species': 'Iris-virginica'}\n",
      "{'Id': '150', 'SepalLengthCm': '5.9', 'SepalWidthCm': '3.0', 'PetalLengthCm': '5.1', 'PetalWidthCm': '1.8', 'Species': 'Iris-virginica'}\n"
     ]
    }
   ],
   "source": [
    "for i in file_reader:\n",
    "    print(i)"
   ]
  },
  {
   "cell_type": "code",
   "execution_count": 32,
   "id": "22ec77dc",
   "metadata": {},
   "outputs": [],
   "source": [
    "aa = [1,2,3,4,5,6,7,8,9]"
   ]
  },
  {
   "cell_type": "code",
   "execution_count": 34,
   "id": "d5cb159e",
   "metadata": {},
   "outputs": [
    {
     "data": {
      "text/plain": [
       "9"
      ]
     },
     "execution_count": 34,
     "metadata": {},
     "output_type": "execute_result"
    }
   ],
   "source": [
    "aa.pop(8)"
   ]
  },
  {
   "cell_type": "code",
   "execution_count": 35,
   "id": "e92162dd",
   "metadata": {},
   "outputs": [
    {
     "data": {
      "text/plain": [
       "[1, 2, 3, 4, 5, 6, 7, 8]"
      ]
     },
     "execution_count": 35,
     "metadata": {},
     "output_type": "execute_result"
    }
   ],
   "source": [
    "aa"
   ]
  },
  {
   "cell_type": "code",
   "execution_count": 36,
   "id": "b0ffca84",
   "metadata": {},
   "outputs": [
    {
     "data": {
      "text/plain": [
       "1"
      ]
     },
     "execution_count": 36,
     "metadata": {},
     "output_type": "execute_result"
    }
   ],
   "source": [
    "aa.pop(0)"
   ]
  },
  {
   "cell_type": "code",
   "execution_count": 37,
   "id": "4cabef28",
   "metadata": {},
   "outputs": [
    {
     "data": {
      "text/plain": [
       "[2, 3, 4, 5, 6, 7, 8]"
      ]
     },
     "execution_count": 37,
     "metadata": {},
     "output_type": "execute_result"
    }
   ],
   "source": [
    "aa"
   ]
  },
  {
   "cell_type": "code",
   "execution_count": 45,
   "id": "4f5c41b7",
   "metadata": {},
   "outputs": [],
   "source": [
    "name = ['scott', 'james', 'dick', 'jane', 'josh', 'sam']"
   ]
  },
  {
   "cell_type": "code",
   "execution_count": 43,
   "id": "182454d9",
   "metadata": {},
   "outputs": [
    {
     "data": {
      "text/plain": [
       "'dick'"
      ]
     },
     "execution_count": 43,
     "metadata": {},
     "output_type": "execute_result"
    }
   ],
   "source": [
    "name.pop(2)"
   ]
  },
  {
   "cell_type": "code",
   "execution_count": 49,
   "id": "14ed7f57",
   "metadata": {},
   "outputs": [
    {
     "data": {
      "text/plain": [
       "2"
      ]
     },
     "execution_count": 49,
     "metadata": {},
     "output_type": "execute_result"
    }
   ],
   "source": [
    "name.index('dick')"
   ]
  }
 ],
 "metadata": {
  "kernelspec": {
   "display_name": "Python 3 (ipykernel)",
   "language": "python",
   "name": "python3"
  },
  "language_info": {
   "codemirror_mode": {
    "name": "ipython",
    "version": 3
   },
   "file_extension": ".py",
   "mimetype": "text/x-python",
   "name": "python",
   "nbconvert_exporter": "python",
   "pygments_lexer": "ipython3",
   "version": "3.9.12"
  }
 },
 "nbformat": 4,
 "nbformat_minor": 5
}
