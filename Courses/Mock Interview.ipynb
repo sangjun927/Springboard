{
 "cells": [
  {
   "cell_type": "markdown",
   "id": "01a92cb2",
   "metadata": {},
   "source": [
    "# Q1. Find a key with highest value."
   ]
  },
  {
   "cell_type": "code",
   "execution_count": 103,
   "id": "41ab3b20",
   "metadata": {},
   "outputs": [],
   "source": [
    "new_dict = { 'Jerry': 20, 'Karen': 30, 'Fred': 25}"
   ]
  },
  {
   "cell_type": "markdown",
   "id": "cf90519f",
   "metadata": {},
   "source": [
    "## Solution #1"
   ]
  },
  {
   "cell_type": "code",
   "execution_count": 114,
   "id": "4b5332ba",
   "metadata": {},
   "outputs": [],
   "source": [
    "key_max = max(new_dict.keys(), key=(lambda k: new_dict[k]))\n",
    "key_min = min(new_dict.keys(), key=(lambda k: new_dict[k]))"
   ]
  },
  {
   "cell_type": "code",
   "execution_count": 115,
   "id": "da967480",
   "metadata": {},
   "outputs": [
    {
     "data": {
      "text/plain": [
       "'Karen'"
      ]
     },
     "execution_count": 115,
     "metadata": {},
     "output_type": "execute_result"
    }
   ],
   "source": [
    "key_max"
   ]
  },
  {
   "cell_type": "markdown",
   "id": "3d59a565",
   "metadata": {},
   "source": [
    "## Solution #2"
   ]
  },
  {
   "cell_type": "code",
   "execution_count": 127,
   "id": "d20b7e0f",
   "metadata": {},
   "outputs": [],
   "source": [
    "res = {}\n",
    "max_val = 0\n",
    "\n",
    "for k,v in new_dict.items():\n",
    "    if v > max_val:\n",
    "        ans = k\n",
    "        max_val = v\n",
    "    else:\n",
    "        continue\n",
    " \n",
    "res[ans] = max_val\n"
   ]
  },
  {
   "cell_type": "code",
   "execution_count": 128,
   "id": "b53d48dd",
   "metadata": {},
   "outputs": [
    {
     "data": {
      "text/plain": [
       "{'Karen': 30}"
      ]
     },
     "execution_count": 128,
     "metadata": {},
     "output_type": "execute_result"
    }
   ],
   "source": [
    "res"
   ]
  },
  {
   "cell_type": "markdown",
   "id": "409415c1",
   "metadata": {},
   "source": [
    "# Q1. Find highest weight."
   ]
  },
  {
   "cell_type": "markdown",
   "id": "d639f76c",
   "metadata": {},
   "source": [
    "## Solution #1"
   ]
  },
  {
   "cell_type": "code",
   "execution_count": 190,
   "id": "5d96c7f4",
   "metadata": {},
   "outputs": [],
   "source": [
    "new = {'Jerry': { 'age': 20, 'weight': 160}, 'Karen': {'age': 21, 'weight': 240}, 'Fred':{'age': 35, 'weight': 210}}"
   ]
  },
  {
   "cell_type": "code",
   "execution_count": 201,
   "id": "1bfdb3cd",
   "metadata": {},
   "outputs": [],
   "source": [
    "res = {}\n",
    "for k, v in new.items():\n",
    "    max_val = 0\n",
    "    for i in v.keys():\n",
    "        if i == 'weight':\n",
    "            #print(v[i])\n",
    "            if v[i] > max_val:\n",
    "                max_val = v[i]\n",
    "        res[key] = max_val\n"
   ]
  },
  {
   "cell_type": "code",
   "execution_count": 202,
   "id": "ade8984e",
   "metadata": {},
   "outputs": [
    {
     "data": {
      "text/plain": [
       "{'Fred': 210}"
      ]
     },
     "execution_count": 202,
     "metadata": {},
     "output_type": "execute_result"
    }
   ],
   "source": [
    "res"
   ]
  },
  {
   "cell_type": "code",
   "execution_count": 186,
   "id": "8b8c01c8",
   "metadata": {},
   "outputs": [
    {
     "name": "stdout",
     "output_type": "stream",
     "text": [
      "{'Id': '1', 'SepalLengthCm': '5.1', 'SepalWidthCm': '3.5', 'PetalLengthCm': '1.4', 'PetalWidthCm': '0.2', 'Species': 'Iris-setosa'}\n",
      "{'Id': '2', 'SepalLengthCm': '4.9', 'SepalWidthCm': '3.0', 'PetalLengthCm': '1.4', 'PetalWidthCm': '0.2', 'Species': 'Iris-setosa'}\n",
      "{'Id': '3', 'SepalLengthCm': '4.7', 'SepalWidthCm': '3.2', 'PetalLengthCm': '1.3', 'PetalWidthCm': '0.2', 'Species': 'Iris-setosa'}\n",
      "{'Id': '4', 'SepalLengthCm': '4.6', 'SepalWidthCm': '3.1', 'PetalLengthCm': '1.5', 'PetalWidthCm': '0.2', 'Species': 'Iris-setosa'}\n",
      "{'Id': '5', 'SepalLengthCm': '5.0', 'SepalWidthCm': '3.6', 'PetalLengthCm': '1.4', 'PetalWidthCm': '0.2', 'Species': 'Iris-setosa'}\n",
      "{'Id': '6', 'SepalLengthCm': '5.4', 'SepalWidthCm': '3.9', 'PetalLengthCm': '1.7', 'PetalWidthCm': '0.4', 'Species': 'Iris-setosa'}\n",
      "{'Id': '7', 'SepalLengthCm': '4.6', 'SepalWidthCm': '3.4', 'PetalLengthCm': '1.4', 'PetalWidthCm': '0.3', 'Species': 'Iris-setosa'}\n",
      "{'Id': '8', 'SepalLengthCm': '5.0', 'SepalWidthCm': '3.4', 'PetalLengthCm': '1.5', 'PetalWidthCm': '0.2', 'Species': 'Iris-setosa'}\n",
      "{'Id': '9', 'SepalLengthCm': '4.4', 'SepalWidthCm': '2.9', 'PetalLengthCm': '1.4', 'PetalWidthCm': '0.2', 'Species': 'Iris-setosa'}\n",
      "{'Id': '10', 'SepalLengthCm': '4.9', 'SepalWidthCm': '3.1', 'PetalLengthCm': '1.5', 'PetalWidthCm': '0.1', 'Species': 'Iris-setosa'}\n",
      "{'Id': '11', 'SepalLengthCm': '5.4', 'SepalWidthCm': '3.7', 'PetalLengthCm': '1.5', 'PetalWidthCm': '0.2', 'Species': 'Iris-setosa'}\n",
      "{'Id': '12', 'SepalLengthCm': '4.8', 'SepalWidthCm': '3.4', 'PetalLengthCm': '1.6', 'PetalWidthCm': '0.2', 'Species': 'Iris-setosa'}\n",
      "{'Id': '13', 'SepalLengthCm': '4.8', 'SepalWidthCm': '3.0', 'PetalLengthCm': '1.4', 'PetalWidthCm': '0.1', 'Species': 'Iris-setosa'}\n",
      "{'Id': '14', 'SepalLengthCm': '4.3', 'SepalWidthCm': '3.0', 'PetalLengthCm': '1.1', 'PetalWidthCm': '0.1', 'Species': 'Iris-setosa'}\n",
      "{'Id': '15', 'SepalLengthCm': '5.8', 'SepalWidthCm': '4.0', 'PetalLengthCm': '1.2', 'PetalWidthCm': '0.2', 'Species': 'Iris-setosa'}\n",
      "{'Id': '16', 'SepalLengthCm': '5.7', 'SepalWidthCm': '4.4', 'PetalLengthCm': '1.5', 'PetalWidthCm': '0.4', 'Species': 'Iris-setosa'}\n",
      "{'Id': '17', 'SepalLengthCm': '5.4', 'SepalWidthCm': '3.9', 'PetalLengthCm': '1.3', 'PetalWidthCm': '0.4', 'Species': 'Iris-setosa'}\n",
      "{'Id': '18', 'SepalLengthCm': '5.1', 'SepalWidthCm': '3.5', 'PetalLengthCm': '1.4', 'PetalWidthCm': '0.3', 'Species': 'Iris-setosa'}\n",
      "{'Id': '19', 'SepalLengthCm': '5.7', 'SepalWidthCm': '3.8', 'PetalLengthCm': '1.7', 'PetalWidthCm': '0.3', 'Species': 'Iris-setosa'}\n",
      "{'Id': '20', 'SepalLengthCm': '5.1', 'SepalWidthCm': '3.8', 'PetalLengthCm': '1.5', 'PetalWidthCm': '0.3', 'Species': 'Iris-setosa'}\n",
      "{'Id': '21', 'SepalLengthCm': '5.4', 'SepalWidthCm': '3.4', 'PetalLengthCm': '1.7', 'PetalWidthCm': '0.2', 'Species': 'Iris-setosa'}\n",
      "{'Id': '22', 'SepalLengthCm': '5.1', 'SepalWidthCm': '3.7', 'PetalLengthCm': '1.5', 'PetalWidthCm': '0.4', 'Species': 'Iris-setosa'}\n",
      "{'Id': '23', 'SepalLengthCm': '4.6', 'SepalWidthCm': '3.6', 'PetalLengthCm': '1.0', 'PetalWidthCm': '0.2', 'Species': 'Iris-setosa'}\n",
      "{'Id': '24', 'SepalLengthCm': '5.1', 'SepalWidthCm': '3.3', 'PetalLengthCm': '1.7', 'PetalWidthCm': '0.5', 'Species': 'Iris-setosa'}\n",
      "{'Id': '25', 'SepalLengthCm': '4.8', 'SepalWidthCm': '3.4', 'PetalLengthCm': '1.9', 'PetalWidthCm': '0.2', 'Species': 'Iris-setosa'}\n",
      "{'Id': '26', 'SepalLengthCm': '5.0', 'SepalWidthCm': '3.0', 'PetalLengthCm': '1.6', 'PetalWidthCm': '0.2', 'Species': 'Iris-setosa'}\n",
      "{'Id': '27', 'SepalLengthCm': '5.0', 'SepalWidthCm': '3.4', 'PetalLengthCm': '1.6', 'PetalWidthCm': '0.4', 'Species': 'Iris-setosa'}\n",
      "{'Id': '28', 'SepalLengthCm': '5.2', 'SepalWidthCm': '3.5', 'PetalLengthCm': '1.5', 'PetalWidthCm': '0.2', 'Species': 'Iris-setosa'}\n",
      "{'Id': '29', 'SepalLengthCm': '5.2', 'SepalWidthCm': '3.4', 'PetalLengthCm': '1.4', 'PetalWidthCm': '0.2', 'Species': 'Iris-setosa'}\n",
      "{'Id': '30', 'SepalLengthCm': '4.7', 'SepalWidthCm': '3.2', 'PetalLengthCm': '1.6', 'PetalWidthCm': '0.2', 'Species': 'Iris-setosa'}\n",
      "{'Id': '31', 'SepalLengthCm': '4.8', 'SepalWidthCm': '3.1', 'PetalLengthCm': '1.6', 'PetalWidthCm': '0.2', 'Species': 'Iris-setosa'}\n",
      "{'Id': '32', 'SepalLengthCm': '5.4', 'SepalWidthCm': '3.4', 'PetalLengthCm': '1.5', 'PetalWidthCm': '0.4', 'Species': 'Iris-setosa'}\n",
      "{'Id': '33', 'SepalLengthCm': '5.2', 'SepalWidthCm': '4.1', 'PetalLengthCm': '1.5', 'PetalWidthCm': '0.1', 'Species': 'Iris-setosa'}\n",
      "{'Id': '34', 'SepalLengthCm': '5.5', 'SepalWidthCm': '4.2', 'PetalLengthCm': '1.4', 'PetalWidthCm': '0.2', 'Species': 'Iris-setosa'}\n",
      "{'Id': '35', 'SepalLengthCm': '4.9', 'SepalWidthCm': '3.1', 'PetalLengthCm': '1.5', 'PetalWidthCm': '0.1', 'Species': 'Iris-setosa'}\n",
      "{'Id': '36', 'SepalLengthCm': '5.0', 'SepalWidthCm': '3.2', 'PetalLengthCm': '1.2', 'PetalWidthCm': '0.2', 'Species': 'Iris-setosa'}\n",
      "{'Id': '37', 'SepalLengthCm': '5.5', 'SepalWidthCm': '3.5', 'PetalLengthCm': '1.3', 'PetalWidthCm': '0.2', 'Species': 'Iris-setosa'}\n",
      "{'Id': '38', 'SepalLengthCm': '4.9', 'SepalWidthCm': '3.1', 'PetalLengthCm': '1.5', 'PetalWidthCm': '0.1', 'Species': 'Iris-setosa'}\n",
      "{'Id': '39', 'SepalLengthCm': '4.4', 'SepalWidthCm': '3.0', 'PetalLengthCm': '1.3', 'PetalWidthCm': '0.2', 'Species': 'Iris-setosa'}\n",
      "{'Id': '40', 'SepalLengthCm': '5.1', 'SepalWidthCm': '3.4', 'PetalLengthCm': '1.5', 'PetalWidthCm': '0.2', 'Species': 'Iris-setosa'}\n",
      "{'Id': '41', 'SepalLengthCm': '5.0', 'SepalWidthCm': '3.5', 'PetalLengthCm': '1.3', 'PetalWidthCm': '0.3', 'Species': 'Iris-setosa'}\n",
      "{'Id': '42', 'SepalLengthCm': '4.5', 'SepalWidthCm': '2.3', 'PetalLengthCm': '1.3', 'PetalWidthCm': '0.3', 'Species': 'Iris-setosa'}\n",
      "{'Id': '43', 'SepalLengthCm': '4.4', 'SepalWidthCm': '3.2', 'PetalLengthCm': '1.3', 'PetalWidthCm': '0.2', 'Species': 'Iris-setosa'}\n",
      "{'Id': '44', 'SepalLengthCm': '5.0', 'SepalWidthCm': '3.5', 'PetalLengthCm': '1.6', 'PetalWidthCm': '0.6', 'Species': 'Iris-setosa'}\n",
      "{'Id': '45', 'SepalLengthCm': '5.1', 'SepalWidthCm': '3.8', 'PetalLengthCm': '1.9', 'PetalWidthCm': '0.4', 'Species': 'Iris-setosa'}\n",
      "{'Id': '46', 'SepalLengthCm': '4.8', 'SepalWidthCm': '3.0', 'PetalLengthCm': '1.4', 'PetalWidthCm': '0.3', 'Species': 'Iris-setosa'}\n",
      "{'Id': '47', 'SepalLengthCm': '5.1', 'SepalWidthCm': '3.8', 'PetalLengthCm': '1.6', 'PetalWidthCm': '0.2', 'Species': 'Iris-setosa'}\n",
      "{'Id': '48', 'SepalLengthCm': '4.6', 'SepalWidthCm': '3.2', 'PetalLengthCm': '1.4', 'PetalWidthCm': '0.2', 'Species': 'Iris-setosa'}\n",
      "{'Id': '49', 'SepalLengthCm': '5.3', 'SepalWidthCm': '3.7', 'PetalLengthCm': '1.5', 'PetalWidthCm': '0.2', 'Species': 'Iris-setosa'}\n",
      "{'Id': '50', 'SepalLengthCm': '5.0', 'SepalWidthCm': '3.3', 'PetalLengthCm': '1.4', 'PetalWidthCm': '0.2', 'Species': 'Iris-setosa'}\n",
      "{'Id': '51', 'SepalLengthCm': '7.0', 'SepalWidthCm': '3.2', 'PetalLengthCm': '4.7', 'PetalWidthCm': '1.4', 'Species': 'Iris-versicolor'}\n",
      "{'Id': '52', 'SepalLengthCm': '6.4', 'SepalWidthCm': '3.2', 'PetalLengthCm': '4.5', 'PetalWidthCm': '1.5', 'Species': 'Iris-versicolor'}\n",
      "{'Id': '53', 'SepalLengthCm': '6.9', 'SepalWidthCm': '3.1', 'PetalLengthCm': '4.9', 'PetalWidthCm': '1.5', 'Species': 'Iris-versicolor'}\n",
      "{'Id': '54', 'SepalLengthCm': '5.5', 'SepalWidthCm': '2.3', 'PetalLengthCm': '4.0', 'PetalWidthCm': '1.3', 'Species': 'Iris-versicolor'}\n",
      "{'Id': '55', 'SepalLengthCm': '6.5', 'SepalWidthCm': '2.8', 'PetalLengthCm': '4.6', 'PetalWidthCm': '1.5', 'Species': 'Iris-versicolor'}\n",
      "{'Id': '56', 'SepalLengthCm': '5.7', 'SepalWidthCm': '2.8', 'PetalLengthCm': '4.5', 'PetalWidthCm': '1.3', 'Species': 'Iris-versicolor'}\n",
      "{'Id': '57', 'SepalLengthCm': '6.3', 'SepalWidthCm': '3.3', 'PetalLengthCm': '4.7', 'PetalWidthCm': '1.6', 'Species': 'Iris-versicolor'}\n",
      "{'Id': '58', 'SepalLengthCm': '4.9', 'SepalWidthCm': '2.4', 'PetalLengthCm': '3.3', 'PetalWidthCm': '1.0', 'Species': 'Iris-versicolor'}\n",
      "{'Id': '59', 'SepalLengthCm': '6.6', 'SepalWidthCm': '2.9', 'PetalLengthCm': '4.6', 'PetalWidthCm': '1.3', 'Species': 'Iris-versicolor'}\n",
      "{'Id': '60', 'SepalLengthCm': '5.2', 'SepalWidthCm': '2.7', 'PetalLengthCm': '3.9', 'PetalWidthCm': '1.4', 'Species': 'Iris-versicolor'}\n",
      "{'Id': '61', 'SepalLengthCm': '5.0', 'SepalWidthCm': '2.0', 'PetalLengthCm': '3.5', 'PetalWidthCm': '1.0', 'Species': 'Iris-versicolor'}\n",
      "{'Id': '62', 'SepalLengthCm': '5.9', 'SepalWidthCm': '3.0', 'PetalLengthCm': '4.2', 'PetalWidthCm': '1.5', 'Species': 'Iris-versicolor'}\n",
      "{'Id': '63', 'SepalLengthCm': '6.0', 'SepalWidthCm': '2.2', 'PetalLengthCm': '4.0', 'PetalWidthCm': '1.0', 'Species': 'Iris-versicolor'}\n",
      "{'Id': '64', 'SepalLengthCm': '6.1', 'SepalWidthCm': '2.9', 'PetalLengthCm': '4.7', 'PetalWidthCm': '1.4', 'Species': 'Iris-versicolor'}\n",
      "{'Id': '65', 'SepalLengthCm': '5.6', 'SepalWidthCm': '2.9', 'PetalLengthCm': '3.6', 'PetalWidthCm': '1.3', 'Species': 'Iris-versicolor'}\n",
      "{'Id': '66', 'SepalLengthCm': '6.7', 'SepalWidthCm': '3.1', 'PetalLengthCm': '4.4', 'PetalWidthCm': '1.4', 'Species': 'Iris-versicolor'}\n",
      "{'Id': '67', 'SepalLengthCm': '5.6', 'SepalWidthCm': '3.0', 'PetalLengthCm': '4.5', 'PetalWidthCm': '1.5', 'Species': 'Iris-versicolor'}\n",
      "{'Id': '68', 'SepalLengthCm': '5.8', 'SepalWidthCm': '2.7', 'PetalLengthCm': '4.1', 'PetalWidthCm': '1.0', 'Species': 'Iris-versicolor'}\n",
      "{'Id': '69', 'SepalLengthCm': '6.2', 'SepalWidthCm': '2.2', 'PetalLengthCm': '4.5', 'PetalWidthCm': '1.5', 'Species': 'Iris-versicolor'}\n",
      "{'Id': '70', 'SepalLengthCm': '5.6', 'SepalWidthCm': '2.5', 'PetalLengthCm': '3.9', 'PetalWidthCm': '1.1', 'Species': 'Iris-versicolor'}\n",
      "{'Id': '71', 'SepalLengthCm': '5.9', 'SepalWidthCm': '3.2', 'PetalLengthCm': '4.8', 'PetalWidthCm': '1.8', 'Species': 'Iris-versicolor'}\n",
      "{'Id': '72', 'SepalLengthCm': '6.1', 'SepalWidthCm': '2.8', 'PetalLengthCm': '4.0', 'PetalWidthCm': '1.3', 'Species': 'Iris-versicolor'}\n",
      "{'Id': '73', 'SepalLengthCm': '6.3', 'SepalWidthCm': '2.5', 'PetalLengthCm': '4.9', 'PetalWidthCm': '1.5', 'Species': 'Iris-versicolor'}\n",
      "{'Id': '74', 'SepalLengthCm': '6.1', 'SepalWidthCm': '2.8', 'PetalLengthCm': '4.7', 'PetalWidthCm': '1.2', 'Species': 'Iris-versicolor'}\n",
      "{'Id': '75', 'SepalLengthCm': '6.4', 'SepalWidthCm': '2.9', 'PetalLengthCm': '4.3', 'PetalWidthCm': '1.3', 'Species': 'Iris-versicolor'}\n",
      "{'Id': '76', 'SepalLengthCm': '6.6', 'SepalWidthCm': '3.0', 'PetalLengthCm': '4.4', 'PetalWidthCm': '1.4', 'Species': 'Iris-versicolor'}\n",
      "{'Id': '77', 'SepalLengthCm': '6.8', 'SepalWidthCm': '2.8', 'PetalLengthCm': '4.8', 'PetalWidthCm': '1.4', 'Species': 'Iris-versicolor'}\n",
      "{'Id': '78', 'SepalLengthCm': '6.7', 'SepalWidthCm': '3.0', 'PetalLengthCm': '5.0', 'PetalWidthCm': '1.7', 'Species': 'Iris-versicolor'}\n",
      "{'Id': '79', 'SepalLengthCm': '6.0', 'SepalWidthCm': '2.9', 'PetalLengthCm': '4.5', 'PetalWidthCm': '1.5', 'Species': 'Iris-versicolor'}\n",
      "{'Id': '80', 'SepalLengthCm': '5.7', 'SepalWidthCm': '2.6', 'PetalLengthCm': '3.5', 'PetalWidthCm': '1.0', 'Species': 'Iris-versicolor'}\n",
      "{'Id': '81', 'SepalLengthCm': '5.5', 'SepalWidthCm': '2.4', 'PetalLengthCm': '3.8', 'PetalWidthCm': '1.1', 'Species': 'Iris-versicolor'}\n",
      "{'Id': '82', 'SepalLengthCm': '5.5', 'SepalWidthCm': '2.4', 'PetalLengthCm': '3.7', 'PetalWidthCm': '1.0', 'Species': 'Iris-versicolor'}\n",
      "{'Id': '83', 'SepalLengthCm': '5.8', 'SepalWidthCm': '2.7', 'PetalLengthCm': '3.9', 'PetalWidthCm': '1.2', 'Species': 'Iris-versicolor'}\n",
      "{'Id': '84', 'SepalLengthCm': '6.0', 'SepalWidthCm': '2.7', 'PetalLengthCm': '5.1', 'PetalWidthCm': '1.6', 'Species': 'Iris-versicolor'}\n",
      "{'Id': '85', 'SepalLengthCm': '5.4', 'SepalWidthCm': '3.0', 'PetalLengthCm': '4.5', 'PetalWidthCm': '1.5', 'Species': 'Iris-versicolor'}\n",
      "{'Id': '86', 'SepalLengthCm': '6.0', 'SepalWidthCm': '3.4', 'PetalLengthCm': '4.5', 'PetalWidthCm': '1.6', 'Species': 'Iris-versicolor'}\n",
      "{'Id': '87', 'SepalLengthCm': '6.7', 'SepalWidthCm': '3.1', 'PetalLengthCm': '4.7', 'PetalWidthCm': '1.5', 'Species': 'Iris-versicolor'}\n",
      "{'Id': '88', 'SepalLengthCm': '6.3', 'SepalWidthCm': '2.3', 'PetalLengthCm': '4.4', 'PetalWidthCm': '1.3', 'Species': 'Iris-versicolor'}\n",
      "{'Id': '89', 'SepalLengthCm': '5.6', 'SepalWidthCm': '3.0', 'PetalLengthCm': '4.1', 'PetalWidthCm': '1.3', 'Species': 'Iris-versicolor'}\n",
      "{'Id': '90', 'SepalLengthCm': '5.5', 'SepalWidthCm': '2.5', 'PetalLengthCm': '4.0', 'PetalWidthCm': '1.3', 'Species': 'Iris-versicolor'}\n",
      "{'Id': '91', 'SepalLengthCm': '5.5', 'SepalWidthCm': '2.6', 'PetalLengthCm': '4.4', 'PetalWidthCm': '1.2', 'Species': 'Iris-versicolor'}\n",
      "{'Id': '92', 'SepalLengthCm': '6.1', 'SepalWidthCm': '3.0', 'PetalLengthCm': '4.6', 'PetalWidthCm': '1.4', 'Species': 'Iris-versicolor'}\n",
      "{'Id': '93', 'SepalLengthCm': '5.8', 'SepalWidthCm': '2.6', 'PetalLengthCm': '4.0', 'PetalWidthCm': '1.2', 'Species': 'Iris-versicolor'}\n",
      "{'Id': '94', 'SepalLengthCm': '5.0', 'SepalWidthCm': '2.3', 'PetalLengthCm': '3.3', 'PetalWidthCm': '1.0', 'Species': 'Iris-versicolor'}\n",
      "{'Id': '95', 'SepalLengthCm': '5.6', 'SepalWidthCm': '2.7', 'PetalLengthCm': '4.2', 'PetalWidthCm': '1.3', 'Species': 'Iris-versicolor'}\n",
      "{'Id': '96', 'SepalLengthCm': '5.7', 'SepalWidthCm': '3.0', 'PetalLengthCm': '4.2', 'PetalWidthCm': '1.2', 'Species': 'Iris-versicolor'}\n",
      "{'Id': '97', 'SepalLengthCm': '5.7', 'SepalWidthCm': '2.9', 'PetalLengthCm': '4.2', 'PetalWidthCm': '1.3', 'Species': 'Iris-versicolor'}\n",
      "{'Id': '98', 'SepalLengthCm': '6.2', 'SepalWidthCm': '2.9', 'PetalLengthCm': '4.3', 'PetalWidthCm': '1.3', 'Species': 'Iris-versicolor'}\n",
      "{'Id': '99', 'SepalLengthCm': '5.1', 'SepalWidthCm': '2.5', 'PetalLengthCm': '3.0', 'PetalWidthCm': '1.1', 'Species': 'Iris-versicolor'}\n",
      "{'Id': '100', 'SepalLengthCm': '5.7', 'SepalWidthCm': '2.8', 'PetalLengthCm': '4.1', 'PetalWidthCm': '1.3', 'Species': 'Iris-versicolor'}\n",
      "{'Id': '101', 'SepalLengthCm': '6.3', 'SepalWidthCm': '3.3', 'PetalLengthCm': '6.0', 'PetalWidthCm': '2.5', 'Species': 'Iris-virginica'}\n",
      "{'Id': '102', 'SepalLengthCm': '5.8', 'SepalWidthCm': '2.7', 'PetalLengthCm': '5.1', 'PetalWidthCm': '1.9', 'Species': 'Iris-virginica'}\n",
      "{'Id': '103', 'SepalLengthCm': '7.1', 'SepalWidthCm': '3.0', 'PetalLengthCm': '5.9', 'PetalWidthCm': '2.1', 'Species': 'Iris-virginica'}\n",
      "{'Id': '104', 'SepalLengthCm': '6.3', 'SepalWidthCm': '2.9', 'PetalLengthCm': '5.6', 'PetalWidthCm': '1.8', 'Species': 'Iris-virginica'}\n",
      "{'Id': '105', 'SepalLengthCm': '6.5', 'SepalWidthCm': '3.0', 'PetalLengthCm': '5.8', 'PetalWidthCm': '2.2', 'Species': 'Iris-virginica'}\n",
      "{'Id': '106', 'SepalLengthCm': '7.6', 'SepalWidthCm': '3.0', 'PetalLengthCm': '6.6', 'PetalWidthCm': '2.1', 'Species': 'Iris-virginica'}\n",
      "{'Id': '107', 'SepalLengthCm': '4.9', 'SepalWidthCm': '2.5', 'PetalLengthCm': '4.5', 'PetalWidthCm': '1.7', 'Species': 'Iris-virginica'}\n",
      "{'Id': '108', 'SepalLengthCm': '7.3', 'SepalWidthCm': '2.9', 'PetalLengthCm': '6.3', 'PetalWidthCm': '1.8', 'Species': 'Iris-virginica'}\n",
      "{'Id': '109', 'SepalLengthCm': '6.7', 'SepalWidthCm': '2.5', 'PetalLengthCm': '5.8', 'PetalWidthCm': '1.8', 'Species': 'Iris-virginica'}\n",
      "{'Id': '110', 'SepalLengthCm': '7.2', 'SepalWidthCm': '3.6', 'PetalLengthCm': '6.1', 'PetalWidthCm': '2.5', 'Species': 'Iris-virginica'}\n",
      "{'Id': '111', 'SepalLengthCm': '6.5', 'SepalWidthCm': '3.2', 'PetalLengthCm': '5.1', 'PetalWidthCm': '2.0', 'Species': 'Iris-virginica'}\n",
      "{'Id': '112', 'SepalLengthCm': '6.4', 'SepalWidthCm': '2.7', 'PetalLengthCm': '5.3', 'PetalWidthCm': '1.9', 'Species': 'Iris-virginica'}\n",
      "{'Id': '113', 'SepalLengthCm': '6.8', 'SepalWidthCm': '3.0', 'PetalLengthCm': '5.5', 'PetalWidthCm': '2.1', 'Species': 'Iris-virginica'}\n",
      "{'Id': '114', 'SepalLengthCm': '5.7', 'SepalWidthCm': '2.5', 'PetalLengthCm': '5.0', 'PetalWidthCm': '2.0', 'Species': 'Iris-virginica'}\n",
      "{'Id': '115', 'SepalLengthCm': '5.8', 'SepalWidthCm': '2.8', 'PetalLengthCm': '5.1', 'PetalWidthCm': '2.4', 'Species': 'Iris-virginica'}\n",
      "{'Id': '116', 'SepalLengthCm': '6.4', 'SepalWidthCm': '3.2', 'PetalLengthCm': '5.3', 'PetalWidthCm': '2.3', 'Species': 'Iris-virginica'}\n",
      "{'Id': '117', 'SepalLengthCm': '6.5', 'SepalWidthCm': '3.0', 'PetalLengthCm': '5.5', 'PetalWidthCm': '1.8', 'Species': 'Iris-virginica'}\n",
      "{'Id': '118', 'SepalLengthCm': '7.7', 'SepalWidthCm': '3.8', 'PetalLengthCm': '6.7', 'PetalWidthCm': '2.2', 'Species': 'Iris-virginica'}\n",
      "{'Id': '119', 'SepalLengthCm': '7.7', 'SepalWidthCm': '2.6', 'PetalLengthCm': '6.9', 'PetalWidthCm': '2.3', 'Species': 'Iris-virginica'}\n",
      "{'Id': '120', 'SepalLengthCm': '6.0', 'SepalWidthCm': '2.2', 'PetalLengthCm': '5.0', 'PetalWidthCm': '1.5', 'Species': 'Iris-virginica'}\n",
      "{'Id': '121', 'SepalLengthCm': '6.9', 'SepalWidthCm': '3.2', 'PetalLengthCm': '5.7', 'PetalWidthCm': '2.3', 'Species': 'Iris-virginica'}\n",
      "{'Id': '122', 'SepalLengthCm': '5.6', 'SepalWidthCm': '2.8', 'PetalLengthCm': '4.9', 'PetalWidthCm': '2.0', 'Species': 'Iris-virginica'}\n",
      "{'Id': '123', 'SepalLengthCm': '7.7', 'SepalWidthCm': '2.8', 'PetalLengthCm': '6.7', 'PetalWidthCm': '2.0', 'Species': 'Iris-virginica'}\n",
      "{'Id': '124', 'SepalLengthCm': '6.3', 'SepalWidthCm': '2.7', 'PetalLengthCm': '4.9', 'PetalWidthCm': '1.8', 'Species': 'Iris-virginica'}\n",
      "{'Id': '125', 'SepalLengthCm': '6.7', 'SepalWidthCm': '3.3', 'PetalLengthCm': '5.7', 'PetalWidthCm': '2.1', 'Species': 'Iris-virginica'}\n",
      "{'Id': '126', 'SepalLengthCm': '7.2', 'SepalWidthCm': '3.2', 'PetalLengthCm': '6.0', 'PetalWidthCm': '1.8', 'Species': 'Iris-virginica'}\n",
      "{'Id': '127', 'SepalLengthCm': '6.2', 'SepalWidthCm': '2.8', 'PetalLengthCm': '4.8', 'PetalWidthCm': '1.8', 'Species': 'Iris-virginica'}\n",
      "{'Id': '128', 'SepalLengthCm': '6.1', 'SepalWidthCm': '3.0', 'PetalLengthCm': '4.9', 'PetalWidthCm': '1.8', 'Species': 'Iris-virginica'}\n",
      "{'Id': '129', 'SepalLengthCm': '6.4', 'SepalWidthCm': '2.8', 'PetalLengthCm': '5.6', 'PetalWidthCm': '2.1', 'Species': 'Iris-virginica'}\n",
      "{'Id': '130', 'SepalLengthCm': '7.2', 'SepalWidthCm': '3.0', 'PetalLengthCm': '5.8', 'PetalWidthCm': '1.6', 'Species': 'Iris-virginica'}\n",
      "{'Id': '131', 'SepalLengthCm': '7.4', 'SepalWidthCm': '2.8', 'PetalLengthCm': '6.1', 'PetalWidthCm': '1.9', 'Species': 'Iris-virginica'}\n",
      "{'Id': '132', 'SepalLengthCm': '7.9', 'SepalWidthCm': '3.8', 'PetalLengthCm': '6.4', 'PetalWidthCm': '2.0', 'Species': 'Iris-virginica'}\n",
      "{'Id': '133', 'SepalLengthCm': '6.4', 'SepalWidthCm': '2.8', 'PetalLengthCm': '5.6', 'PetalWidthCm': '2.2', 'Species': 'Iris-virginica'}\n",
      "{'Id': '134', 'SepalLengthCm': '6.3', 'SepalWidthCm': '2.8', 'PetalLengthCm': '5.1', 'PetalWidthCm': '1.5', 'Species': 'Iris-virginica'}\n",
      "{'Id': '135', 'SepalLengthCm': '6.1', 'SepalWidthCm': '2.6', 'PetalLengthCm': '5.6', 'PetalWidthCm': '1.4', 'Species': 'Iris-virginica'}\n",
      "{'Id': '136', 'SepalLengthCm': '7.7', 'SepalWidthCm': '3.0', 'PetalLengthCm': '6.1', 'PetalWidthCm': '2.3', 'Species': 'Iris-virginica'}\n",
      "{'Id': '137', 'SepalLengthCm': '6.3', 'SepalWidthCm': '3.4', 'PetalLengthCm': '5.6', 'PetalWidthCm': '2.4', 'Species': 'Iris-virginica'}\n",
      "{'Id': '138', 'SepalLengthCm': '6.4', 'SepalWidthCm': '3.1', 'PetalLengthCm': '5.5', 'PetalWidthCm': '1.8', 'Species': 'Iris-virginica'}\n",
      "{'Id': '139', 'SepalLengthCm': '6.0', 'SepalWidthCm': '3.0', 'PetalLengthCm': '4.8', 'PetalWidthCm': '1.8', 'Species': 'Iris-virginica'}\n",
      "{'Id': '140', 'SepalLengthCm': '6.9', 'SepalWidthCm': '3.1', 'PetalLengthCm': '5.4', 'PetalWidthCm': '2.1', 'Species': 'Iris-virginica'}\n",
      "{'Id': '141', 'SepalLengthCm': '6.7', 'SepalWidthCm': '3.1', 'PetalLengthCm': '5.6', 'PetalWidthCm': '2.4', 'Species': 'Iris-virginica'}\n",
      "{'Id': '142', 'SepalLengthCm': '6.9', 'SepalWidthCm': '3.1', 'PetalLengthCm': '5.1', 'PetalWidthCm': '2.3', 'Species': 'Iris-virginica'}\n",
      "{'Id': '143', 'SepalLengthCm': '5.8', 'SepalWidthCm': '2.7', 'PetalLengthCm': '5.1', 'PetalWidthCm': '1.9', 'Species': 'Iris-virginica'}\n",
      "{'Id': '144', 'SepalLengthCm': '6.8', 'SepalWidthCm': '3.2', 'PetalLengthCm': '5.9', 'PetalWidthCm': '2.3', 'Species': 'Iris-virginica'}\n",
      "{'Id': '145', 'SepalLengthCm': '6.7', 'SepalWidthCm': '3.3', 'PetalLengthCm': '5.7', 'PetalWidthCm': '2.5', 'Species': 'Iris-virginica'}\n",
      "{'Id': '146', 'SepalLengthCm': '6.7', 'SepalWidthCm': '3.0', 'PetalLengthCm': '5.2', 'PetalWidthCm': '2.3', 'Species': 'Iris-virginica'}\n",
      "{'Id': '147', 'SepalLengthCm': '6.3', 'SepalWidthCm': '2.5', 'PetalLengthCm': '5.0', 'PetalWidthCm': '1.9', 'Species': 'Iris-virginica'}\n",
      "{'Id': '148', 'SepalLengthCm': '6.5', 'SepalWidthCm': '3.0', 'PetalLengthCm': '5.2', 'PetalWidthCm': '2.0', 'Species': 'Iris-virginica'}\n",
      "{'Id': '149', 'SepalLengthCm': '6.2', 'SepalWidthCm': '3.4', 'PetalLengthCm': '5.4', 'PetalWidthCm': '2.3', 'Species': 'Iris-virginica'}\n",
      "{'Id': '150', 'SepalLengthCm': '5.9', 'SepalWidthCm': '3.0', 'PetalLengthCm': '5.1', 'PetalWidthCm': '1.8', 'Species': 'Iris-virginica'}\n"
     ]
    }
   ],
   "source": [
    "from csv import DictReader\n",
    "file_handle = open('Iris.csv', \"r\", encoding=\"utf8\") \n",
    "csv_reader = DictReader(file_handle)\n",
    "\n",
    "empty = []\n",
    "for row in csv_reader:\n",
    "    print(row)\n",
    "    \n",
    "\n",
    "file_handle.close()\n"
   ]
  },
  {
   "cell_type": "code",
   "execution_count": 199,
   "id": "83fe157d",
   "metadata": {},
   "outputs": [],
   "source": [
    "from csv import DictReader\n",
    "file = open('Iris.csv', \"r\")\n",
    "csv_reader = DictReader(file)\n"
   ]
  },
  {
   "cell_type": "code",
   "execution_count": 200,
   "id": "6f06fb6c",
   "metadata": {},
   "outputs": [
    {
     "name": "stdout",
     "output_type": "stream",
     "text": [
      "{'Id': '1', 'SepalLengthCm': '5.1', 'SepalWidthCm': '3.5', 'PetalLengthCm': '1.4', 'PetalWidthCm': '0.2', 'Species': 'Iris-setosa'}\n",
      "{'Id': '2', 'SepalLengthCm': '4.9', 'SepalWidthCm': '3.0', 'PetalLengthCm': '1.4', 'PetalWidthCm': '0.2', 'Species': 'Iris-setosa'}\n",
      "{'Id': '3', 'SepalLengthCm': '4.7', 'SepalWidthCm': '3.2', 'PetalLengthCm': '1.3', 'PetalWidthCm': '0.2', 'Species': 'Iris-setosa'}\n",
      "{'Id': '4', 'SepalLengthCm': '4.6', 'SepalWidthCm': '3.1', 'PetalLengthCm': '1.5', 'PetalWidthCm': '0.2', 'Species': 'Iris-setosa'}\n",
      "{'Id': '5', 'SepalLengthCm': '5.0', 'SepalWidthCm': '3.6', 'PetalLengthCm': '1.4', 'PetalWidthCm': '0.2', 'Species': 'Iris-setosa'}\n",
      "{'Id': '6', 'SepalLengthCm': '5.4', 'SepalWidthCm': '3.9', 'PetalLengthCm': '1.7', 'PetalWidthCm': '0.4', 'Species': 'Iris-setosa'}\n",
      "{'Id': '7', 'SepalLengthCm': '4.6', 'SepalWidthCm': '3.4', 'PetalLengthCm': '1.4', 'PetalWidthCm': '0.3', 'Species': 'Iris-setosa'}\n",
      "{'Id': '8', 'SepalLengthCm': '5.0', 'SepalWidthCm': '3.4', 'PetalLengthCm': '1.5', 'PetalWidthCm': '0.2', 'Species': 'Iris-setosa'}\n",
      "{'Id': '9', 'SepalLengthCm': '4.4', 'SepalWidthCm': '2.9', 'PetalLengthCm': '1.4', 'PetalWidthCm': '0.2', 'Species': 'Iris-setosa'}\n",
      "{'Id': '10', 'SepalLengthCm': '4.9', 'SepalWidthCm': '3.1', 'PetalLengthCm': '1.5', 'PetalWidthCm': '0.1', 'Species': 'Iris-setosa'}\n",
      "{'Id': '11', 'SepalLengthCm': '5.4', 'SepalWidthCm': '3.7', 'PetalLengthCm': '1.5', 'PetalWidthCm': '0.2', 'Species': 'Iris-setosa'}\n",
      "{'Id': '12', 'SepalLengthCm': '4.8', 'SepalWidthCm': '3.4', 'PetalLengthCm': '1.6', 'PetalWidthCm': '0.2', 'Species': 'Iris-setosa'}\n",
      "{'Id': '13', 'SepalLengthCm': '4.8', 'SepalWidthCm': '3.0', 'PetalLengthCm': '1.4', 'PetalWidthCm': '0.1', 'Species': 'Iris-setosa'}\n",
      "{'Id': '14', 'SepalLengthCm': '4.3', 'SepalWidthCm': '3.0', 'PetalLengthCm': '1.1', 'PetalWidthCm': '0.1', 'Species': 'Iris-setosa'}\n",
      "{'Id': '15', 'SepalLengthCm': '5.8', 'SepalWidthCm': '4.0', 'PetalLengthCm': '1.2', 'PetalWidthCm': '0.2', 'Species': 'Iris-setosa'}\n",
      "{'Id': '16', 'SepalLengthCm': '5.7', 'SepalWidthCm': '4.4', 'PetalLengthCm': '1.5', 'PetalWidthCm': '0.4', 'Species': 'Iris-setosa'}\n",
      "{'Id': '17', 'SepalLengthCm': '5.4', 'SepalWidthCm': '3.9', 'PetalLengthCm': '1.3', 'PetalWidthCm': '0.4', 'Species': 'Iris-setosa'}\n",
      "{'Id': '18', 'SepalLengthCm': '5.1', 'SepalWidthCm': '3.5', 'PetalLengthCm': '1.4', 'PetalWidthCm': '0.3', 'Species': 'Iris-setosa'}\n",
      "{'Id': '19', 'SepalLengthCm': '5.7', 'SepalWidthCm': '3.8', 'PetalLengthCm': '1.7', 'PetalWidthCm': '0.3', 'Species': 'Iris-setosa'}\n",
      "{'Id': '20', 'SepalLengthCm': '5.1', 'SepalWidthCm': '3.8', 'PetalLengthCm': '1.5', 'PetalWidthCm': '0.3', 'Species': 'Iris-setosa'}\n",
      "{'Id': '21', 'SepalLengthCm': '5.4', 'SepalWidthCm': '3.4', 'PetalLengthCm': '1.7', 'PetalWidthCm': '0.2', 'Species': 'Iris-setosa'}\n",
      "{'Id': '22', 'SepalLengthCm': '5.1', 'SepalWidthCm': '3.7', 'PetalLengthCm': '1.5', 'PetalWidthCm': '0.4', 'Species': 'Iris-setosa'}\n",
      "{'Id': '23', 'SepalLengthCm': '4.6', 'SepalWidthCm': '3.6', 'PetalLengthCm': '1.0', 'PetalWidthCm': '0.2', 'Species': 'Iris-setosa'}\n",
      "{'Id': '24', 'SepalLengthCm': '5.1', 'SepalWidthCm': '3.3', 'PetalLengthCm': '1.7', 'PetalWidthCm': '0.5', 'Species': 'Iris-setosa'}\n",
      "{'Id': '25', 'SepalLengthCm': '4.8', 'SepalWidthCm': '3.4', 'PetalLengthCm': '1.9', 'PetalWidthCm': '0.2', 'Species': 'Iris-setosa'}\n",
      "{'Id': '26', 'SepalLengthCm': '5.0', 'SepalWidthCm': '3.0', 'PetalLengthCm': '1.6', 'PetalWidthCm': '0.2', 'Species': 'Iris-setosa'}\n",
      "{'Id': '27', 'SepalLengthCm': '5.0', 'SepalWidthCm': '3.4', 'PetalLengthCm': '1.6', 'PetalWidthCm': '0.4', 'Species': 'Iris-setosa'}\n",
      "{'Id': '28', 'SepalLengthCm': '5.2', 'SepalWidthCm': '3.5', 'PetalLengthCm': '1.5', 'PetalWidthCm': '0.2', 'Species': 'Iris-setosa'}\n",
      "{'Id': '29', 'SepalLengthCm': '5.2', 'SepalWidthCm': '3.4', 'PetalLengthCm': '1.4', 'PetalWidthCm': '0.2', 'Species': 'Iris-setosa'}\n",
      "{'Id': '30', 'SepalLengthCm': '4.7', 'SepalWidthCm': '3.2', 'PetalLengthCm': '1.6', 'PetalWidthCm': '0.2', 'Species': 'Iris-setosa'}\n",
      "{'Id': '31', 'SepalLengthCm': '4.8', 'SepalWidthCm': '3.1', 'PetalLengthCm': '1.6', 'PetalWidthCm': '0.2', 'Species': 'Iris-setosa'}\n",
      "{'Id': '32', 'SepalLengthCm': '5.4', 'SepalWidthCm': '3.4', 'PetalLengthCm': '1.5', 'PetalWidthCm': '0.4', 'Species': 'Iris-setosa'}\n",
      "{'Id': '33', 'SepalLengthCm': '5.2', 'SepalWidthCm': '4.1', 'PetalLengthCm': '1.5', 'PetalWidthCm': '0.1', 'Species': 'Iris-setosa'}\n",
      "{'Id': '34', 'SepalLengthCm': '5.5', 'SepalWidthCm': '4.2', 'PetalLengthCm': '1.4', 'PetalWidthCm': '0.2', 'Species': 'Iris-setosa'}\n",
      "{'Id': '35', 'SepalLengthCm': '4.9', 'SepalWidthCm': '3.1', 'PetalLengthCm': '1.5', 'PetalWidthCm': '0.1', 'Species': 'Iris-setosa'}\n",
      "{'Id': '36', 'SepalLengthCm': '5.0', 'SepalWidthCm': '3.2', 'PetalLengthCm': '1.2', 'PetalWidthCm': '0.2', 'Species': 'Iris-setosa'}\n",
      "{'Id': '37', 'SepalLengthCm': '5.5', 'SepalWidthCm': '3.5', 'PetalLengthCm': '1.3', 'PetalWidthCm': '0.2', 'Species': 'Iris-setosa'}\n",
      "{'Id': '38', 'SepalLengthCm': '4.9', 'SepalWidthCm': '3.1', 'PetalLengthCm': '1.5', 'PetalWidthCm': '0.1', 'Species': 'Iris-setosa'}\n",
      "{'Id': '39', 'SepalLengthCm': '4.4', 'SepalWidthCm': '3.0', 'PetalLengthCm': '1.3', 'PetalWidthCm': '0.2', 'Species': 'Iris-setosa'}\n",
      "{'Id': '40', 'SepalLengthCm': '5.1', 'SepalWidthCm': '3.4', 'PetalLengthCm': '1.5', 'PetalWidthCm': '0.2', 'Species': 'Iris-setosa'}\n",
      "{'Id': '41', 'SepalLengthCm': '5.0', 'SepalWidthCm': '3.5', 'PetalLengthCm': '1.3', 'PetalWidthCm': '0.3', 'Species': 'Iris-setosa'}\n",
      "{'Id': '42', 'SepalLengthCm': '4.5', 'SepalWidthCm': '2.3', 'PetalLengthCm': '1.3', 'PetalWidthCm': '0.3', 'Species': 'Iris-setosa'}\n",
      "{'Id': '43', 'SepalLengthCm': '4.4', 'SepalWidthCm': '3.2', 'PetalLengthCm': '1.3', 'PetalWidthCm': '0.2', 'Species': 'Iris-setosa'}\n",
      "{'Id': '44', 'SepalLengthCm': '5.0', 'SepalWidthCm': '3.5', 'PetalLengthCm': '1.6', 'PetalWidthCm': '0.6', 'Species': 'Iris-setosa'}\n",
      "{'Id': '45', 'SepalLengthCm': '5.1', 'SepalWidthCm': '3.8', 'PetalLengthCm': '1.9', 'PetalWidthCm': '0.4', 'Species': 'Iris-setosa'}\n",
      "{'Id': '46', 'SepalLengthCm': '4.8', 'SepalWidthCm': '3.0', 'PetalLengthCm': '1.4', 'PetalWidthCm': '0.3', 'Species': 'Iris-setosa'}\n",
      "{'Id': '47', 'SepalLengthCm': '5.1', 'SepalWidthCm': '3.8', 'PetalLengthCm': '1.6', 'PetalWidthCm': '0.2', 'Species': 'Iris-setosa'}\n",
      "{'Id': '48', 'SepalLengthCm': '4.6', 'SepalWidthCm': '3.2', 'PetalLengthCm': '1.4', 'PetalWidthCm': '0.2', 'Species': 'Iris-setosa'}\n",
      "{'Id': '49', 'SepalLengthCm': '5.3', 'SepalWidthCm': '3.7', 'PetalLengthCm': '1.5', 'PetalWidthCm': '0.2', 'Species': 'Iris-setosa'}\n",
      "{'Id': '50', 'SepalLengthCm': '5.0', 'SepalWidthCm': '3.3', 'PetalLengthCm': '1.4', 'PetalWidthCm': '0.2', 'Species': 'Iris-setosa'}\n",
      "{'Id': '51', 'SepalLengthCm': '7.0', 'SepalWidthCm': '3.2', 'PetalLengthCm': '4.7', 'PetalWidthCm': '1.4', 'Species': 'Iris-versicolor'}\n",
      "{'Id': '52', 'SepalLengthCm': '6.4', 'SepalWidthCm': '3.2', 'PetalLengthCm': '4.5', 'PetalWidthCm': '1.5', 'Species': 'Iris-versicolor'}\n",
      "{'Id': '53', 'SepalLengthCm': '6.9', 'SepalWidthCm': '3.1', 'PetalLengthCm': '4.9', 'PetalWidthCm': '1.5', 'Species': 'Iris-versicolor'}\n",
      "{'Id': '54', 'SepalLengthCm': '5.5', 'SepalWidthCm': '2.3', 'PetalLengthCm': '4.0', 'PetalWidthCm': '1.3', 'Species': 'Iris-versicolor'}\n",
      "{'Id': '55', 'SepalLengthCm': '6.5', 'SepalWidthCm': '2.8', 'PetalLengthCm': '4.6', 'PetalWidthCm': '1.5', 'Species': 'Iris-versicolor'}\n",
      "{'Id': '56', 'SepalLengthCm': '5.7', 'SepalWidthCm': '2.8', 'PetalLengthCm': '4.5', 'PetalWidthCm': '1.3', 'Species': 'Iris-versicolor'}\n",
      "{'Id': '57', 'SepalLengthCm': '6.3', 'SepalWidthCm': '3.3', 'PetalLengthCm': '4.7', 'PetalWidthCm': '1.6', 'Species': 'Iris-versicolor'}\n",
      "{'Id': '58', 'SepalLengthCm': '4.9', 'SepalWidthCm': '2.4', 'PetalLengthCm': '3.3', 'PetalWidthCm': '1.0', 'Species': 'Iris-versicolor'}\n",
      "{'Id': '59', 'SepalLengthCm': '6.6', 'SepalWidthCm': '2.9', 'PetalLengthCm': '4.6', 'PetalWidthCm': '1.3', 'Species': 'Iris-versicolor'}\n",
      "{'Id': '60', 'SepalLengthCm': '5.2', 'SepalWidthCm': '2.7', 'PetalLengthCm': '3.9', 'PetalWidthCm': '1.4', 'Species': 'Iris-versicolor'}\n",
      "{'Id': '61', 'SepalLengthCm': '5.0', 'SepalWidthCm': '2.0', 'PetalLengthCm': '3.5', 'PetalWidthCm': '1.0', 'Species': 'Iris-versicolor'}\n",
      "{'Id': '62', 'SepalLengthCm': '5.9', 'SepalWidthCm': '3.0', 'PetalLengthCm': '4.2', 'PetalWidthCm': '1.5', 'Species': 'Iris-versicolor'}\n",
      "{'Id': '63', 'SepalLengthCm': '6.0', 'SepalWidthCm': '2.2', 'PetalLengthCm': '4.0', 'PetalWidthCm': '1.0', 'Species': 'Iris-versicolor'}\n",
      "{'Id': '64', 'SepalLengthCm': '6.1', 'SepalWidthCm': '2.9', 'PetalLengthCm': '4.7', 'PetalWidthCm': '1.4', 'Species': 'Iris-versicolor'}\n",
      "{'Id': '65', 'SepalLengthCm': '5.6', 'SepalWidthCm': '2.9', 'PetalLengthCm': '3.6', 'PetalWidthCm': '1.3', 'Species': 'Iris-versicolor'}\n",
      "{'Id': '66', 'SepalLengthCm': '6.7', 'SepalWidthCm': '3.1', 'PetalLengthCm': '4.4', 'PetalWidthCm': '1.4', 'Species': 'Iris-versicolor'}\n",
      "{'Id': '67', 'SepalLengthCm': '5.6', 'SepalWidthCm': '3.0', 'PetalLengthCm': '4.5', 'PetalWidthCm': '1.5', 'Species': 'Iris-versicolor'}\n",
      "{'Id': '68', 'SepalLengthCm': '5.8', 'SepalWidthCm': '2.7', 'PetalLengthCm': '4.1', 'PetalWidthCm': '1.0', 'Species': 'Iris-versicolor'}\n",
      "{'Id': '69', 'SepalLengthCm': '6.2', 'SepalWidthCm': '2.2', 'PetalLengthCm': '4.5', 'PetalWidthCm': '1.5', 'Species': 'Iris-versicolor'}\n",
      "{'Id': '70', 'SepalLengthCm': '5.6', 'SepalWidthCm': '2.5', 'PetalLengthCm': '3.9', 'PetalWidthCm': '1.1', 'Species': 'Iris-versicolor'}\n",
      "{'Id': '71', 'SepalLengthCm': '5.9', 'SepalWidthCm': '3.2', 'PetalLengthCm': '4.8', 'PetalWidthCm': '1.8', 'Species': 'Iris-versicolor'}\n",
      "{'Id': '72', 'SepalLengthCm': '6.1', 'SepalWidthCm': '2.8', 'PetalLengthCm': '4.0', 'PetalWidthCm': '1.3', 'Species': 'Iris-versicolor'}\n",
      "{'Id': '73', 'SepalLengthCm': '6.3', 'SepalWidthCm': '2.5', 'PetalLengthCm': '4.9', 'PetalWidthCm': '1.5', 'Species': 'Iris-versicolor'}\n",
      "{'Id': '74', 'SepalLengthCm': '6.1', 'SepalWidthCm': '2.8', 'PetalLengthCm': '4.7', 'PetalWidthCm': '1.2', 'Species': 'Iris-versicolor'}\n",
      "{'Id': '75', 'SepalLengthCm': '6.4', 'SepalWidthCm': '2.9', 'PetalLengthCm': '4.3', 'PetalWidthCm': '1.3', 'Species': 'Iris-versicolor'}\n",
      "{'Id': '76', 'SepalLengthCm': '6.6', 'SepalWidthCm': '3.0', 'PetalLengthCm': '4.4', 'PetalWidthCm': '1.4', 'Species': 'Iris-versicolor'}\n",
      "{'Id': '77', 'SepalLengthCm': '6.8', 'SepalWidthCm': '2.8', 'PetalLengthCm': '4.8', 'PetalWidthCm': '1.4', 'Species': 'Iris-versicolor'}\n",
      "{'Id': '78', 'SepalLengthCm': '6.7', 'SepalWidthCm': '3.0', 'PetalLengthCm': '5.0', 'PetalWidthCm': '1.7', 'Species': 'Iris-versicolor'}\n",
      "{'Id': '79', 'SepalLengthCm': '6.0', 'SepalWidthCm': '2.9', 'PetalLengthCm': '4.5', 'PetalWidthCm': '1.5', 'Species': 'Iris-versicolor'}\n",
      "{'Id': '80', 'SepalLengthCm': '5.7', 'SepalWidthCm': '2.6', 'PetalLengthCm': '3.5', 'PetalWidthCm': '1.0', 'Species': 'Iris-versicolor'}\n",
      "{'Id': '81', 'SepalLengthCm': '5.5', 'SepalWidthCm': '2.4', 'PetalLengthCm': '3.8', 'PetalWidthCm': '1.1', 'Species': 'Iris-versicolor'}\n",
      "{'Id': '82', 'SepalLengthCm': '5.5', 'SepalWidthCm': '2.4', 'PetalLengthCm': '3.7', 'PetalWidthCm': '1.0', 'Species': 'Iris-versicolor'}\n",
      "{'Id': '83', 'SepalLengthCm': '5.8', 'SepalWidthCm': '2.7', 'PetalLengthCm': '3.9', 'PetalWidthCm': '1.2', 'Species': 'Iris-versicolor'}\n",
      "{'Id': '84', 'SepalLengthCm': '6.0', 'SepalWidthCm': '2.7', 'PetalLengthCm': '5.1', 'PetalWidthCm': '1.6', 'Species': 'Iris-versicolor'}\n",
      "{'Id': '85', 'SepalLengthCm': '5.4', 'SepalWidthCm': '3.0', 'PetalLengthCm': '4.5', 'PetalWidthCm': '1.5', 'Species': 'Iris-versicolor'}\n",
      "{'Id': '86', 'SepalLengthCm': '6.0', 'SepalWidthCm': '3.4', 'PetalLengthCm': '4.5', 'PetalWidthCm': '1.6', 'Species': 'Iris-versicolor'}\n",
      "{'Id': '87', 'SepalLengthCm': '6.7', 'SepalWidthCm': '3.1', 'PetalLengthCm': '4.7', 'PetalWidthCm': '1.5', 'Species': 'Iris-versicolor'}\n",
      "{'Id': '88', 'SepalLengthCm': '6.3', 'SepalWidthCm': '2.3', 'PetalLengthCm': '4.4', 'PetalWidthCm': '1.3', 'Species': 'Iris-versicolor'}\n",
      "{'Id': '89', 'SepalLengthCm': '5.6', 'SepalWidthCm': '3.0', 'PetalLengthCm': '4.1', 'PetalWidthCm': '1.3', 'Species': 'Iris-versicolor'}\n",
      "{'Id': '90', 'SepalLengthCm': '5.5', 'SepalWidthCm': '2.5', 'PetalLengthCm': '4.0', 'PetalWidthCm': '1.3', 'Species': 'Iris-versicolor'}\n",
      "{'Id': '91', 'SepalLengthCm': '5.5', 'SepalWidthCm': '2.6', 'PetalLengthCm': '4.4', 'PetalWidthCm': '1.2', 'Species': 'Iris-versicolor'}\n",
      "{'Id': '92', 'SepalLengthCm': '6.1', 'SepalWidthCm': '3.0', 'PetalLengthCm': '4.6', 'PetalWidthCm': '1.4', 'Species': 'Iris-versicolor'}\n",
      "{'Id': '93', 'SepalLengthCm': '5.8', 'SepalWidthCm': '2.6', 'PetalLengthCm': '4.0', 'PetalWidthCm': '1.2', 'Species': 'Iris-versicolor'}\n",
      "{'Id': '94', 'SepalLengthCm': '5.0', 'SepalWidthCm': '2.3', 'PetalLengthCm': '3.3', 'PetalWidthCm': '1.0', 'Species': 'Iris-versicolor'}\n",
      "{'Id': '95', 'SepalLengthCm': '5.6', 'SepalWidthCm': '2.7', 'PetalLengthCm': '4.2', 'PetalWidthCm': '1.3', 'Species': 'Iris-versicolor'}\n",
      "{'Id': '96', 'SepalLengthCm': '5.7', 'SepalWidthCm': '3.0', 'PetalLengthCm': '4.2', 'PetalWidthCm': '1.2', 'Species': 'Iris-versicolor'}\n",
      "{'Id': '97', 'SepalLengthCm': '5.7', 'SepalWidthCm': '2.9', 'PetalLengthCm': '4.2', 'PetalWidthCm': '1.3', 'Species': 'Iris-versicolor'}\n",
      "{'Id': '98', 'SepalLengthCm': '6.2', 'SepalWidthCm': '2.9', 'PetalLengthCm': '4.3', 'PetalWidthCm': '1.3', 'Species': 'Iris-versicolor'}\n",
      "{'Id': '99', 'SepalLengthCm': '5.1', 'SepalWidthCm': '2.5', 'PetalLengthCm': '3.0', 'PetalWidthCm': '1.1', 'Species': 'Iris-versicolor'}\n",
      "{'Id': '100', 'SepalLengthCm': '5.7', 'SepalWidthCm': '2.8', 'PetalLengthCm': '4.1', 'PetalWidthCm': '1.3', 'Species': 'Iris-versicolor'}\n",
      "{'Id': '101', 'SepalLengthCm': '6.3', 'SepalWidthCm': '3.3', 'PetalLengthCm': '6.0', 'PetalWidthCm': '2.5', 'Species': 'Iris-virginica'}\n",
      "{'Id': '102', 'SepalLengthCm': '5.8', 'SepalWidthCm': '2.7', 'PetalLengthCm': '5.1', 'PetalWidthCm': '1.9', 'Species': 'Iris-virginica'}\n",
      "{'Id': '103', 'SepalLengthCm': '7.1', 'SepalWidthCm': '3.0', 'PetalLengthCm': '5.9', 'PetalWidthCm': '2.1', 'Species': 'Iris-virginica'}\n",
      "{'Id': '104', 'SepalLengthCm': '6.3', 'SepalWidthCm': '2.9', 'PetalLengthCm': '5.6', 'PetalWidthCm': '1.8', 'Species': 'Iris-virginica'}\n",
      "{'Id': '105', 'SepalLengthCm': '6.5', 'SepalWidthCm': '3.0', 'PetalLengthCm': '5.8', 'PetalWidthCm': '2.2', 'Species': 'Iris-virginica'}\n",
      "{'Id': '106', 'SepalLengthCm': '7.6', 'SepalWidthCm': '3.0', 'PetalLengthCm': '6.6', 'PetalWidthCm': '2.1', 'Species': 'Iris-virginica'}\n",
      "{'Id': '107', 'SepalLengthCm': '4.9', 'SepalWidthCm': '2.5', 'PetalLengthCm': '4.5', 'PetalWidthCm': '1.7', 'Species': 'Iris-virginica'}\n",
      "{'Id': '108', 'SepalLengthCm': '7.3', 'SepalWidthCm': '2.9', 'PetalLengthCm': '6.3', 'PetalWidthCm': '1.8', 'Species': 'Iris-virginica'}\n",
      "{'Id': '109', 'SepalLengthCm': '6.7', 'SepalWidthCm': '2.5', 'PetalLengthCm': '5.8', 'PetalWidthCm': '1.8', 'Species': 'Iris-virginica'}\n",
      "{'Id': '110', 'SepalLengthCm': '7.2', 'SepalWidthCm': '3.6', 'PetalLengthCm': '6.1', 'PetalWidthCm': '2.5', 'Species': 'Iris-virginica'}\n",
      "{'Id': '111', 'SepalLengthCm': '6.5', 'SepalWidthCm': '3.2', 'PetalLengthCm': '5.1', 'PetalWidthCm': '2.0', 'Species': 'Iris-virginica'}\n",
      "{'Id': '112', 'SepalLengthCm': '6.4', 'SepalWidthCm': '2.7', 'PetalLengthCm': '5.3', 'PetalWidthCm': '1.9', 'Species': 'Iris-virginica'}\n",
      "{'Id': '113', 'SepalLengthCm': '6.8', 'SepalWidthCm': '3.0', 'PetalLengthCm': '5.5', 'PetalWidthCm': '2.1', 'Species': 'Iris-virginica'}\n",
      "{'Id': '114', 'SepalLengthCm': '5.7', 'SepalWidthCm': '2.5', 'PetalLengthCm': '5.0', 'PetalWidthCm': '2.0', 'Species': 'Iris-virginica'}\n",
      "{'Id': '115', 'SepalLengthCm': '5.8', 'SepalWidthCm': '2.8', 'PetalLengthCm': '5.1', 'PetalWidthCm': '2.4', 'Species': 'Iris-virginica'}\n",
      "{'Id': '116', 'SepalLengthCm': '6.4', 'SepalWidthCm': '3.2', 'PetalLengthCm': '5.3', 'PetalWidthCm': '2.3', 'Species': 'Iris-virginica'}\n",
      "{'Id': '117', 'SepalLengthCm': '6.5', 'SepalWidthCm': '3.0', 'PetalLengthCm': '5.5', 'PetalWidthCm': '1.8', 'Species': 'Iris-virginica'}\n",
      "{'Id': '118', 'SepalLengthCm': '7.7', 'SepalWidthCm': '3.8', 'PetalLengthCm': '6.7', 'PetalWidthCm': '2.2', 'Species': 'Iris-virginica'}\n",
      "{'Id': '119', 'SepalLengthCm': '7.7', 'SepalWidthCm': '2.6', 'PetalLengthCm': '6.9', 'PetalWidthCm': '2.3', 'Species': 'Iris-virginica'}\n",
      "{'Id': '120', 'SepalLengthCm': '6.0', 'SepalWidthCm': '2.2', 'PetalLengthCm': '5.0', 'PetalWidthCm': '1.5', 'Species': 'Iris-virginica'}\n",
      "{'Id': '121', 'SepalLengthCm': '6.9', 'SepalWidthCm': '3.2', 'PetalLengthCm': '5.7', 'PetalWidthCm': '2.3', 'Species': 'Iris-virginica'}\n",
      "{'Id': '122', 'SepalLengthCm': '5.6', 'SepalWidthCm': '2.8', 'PetalLengthCm': '4.9', 'PetalWidthCm': '2.0', 'Species': 'Iris-virginica'}\n",
      "{'Id': '123', 'SepalLengthCm': '7.7', 'SepalWidthCm': '2.8', 'PetalLengthCm': '6.7', 'PetalWidthCm': '2.0', 'Species': 'Iris-virginica'}\n",
      "{'Id': '124', 'SepalLengthCm': '6.3', 'SepalWidthCm': '2.7', 'PetalLengthCm': '4.9', 'PetalWidthCm': '1.8', 'Species': 'Iris-virginica'}\n",
      "{'Id': '125', 'SepalLengthCm': '6.7', 'SepalWidthCm': '3.3', 'PetalLengthCm': '5.7', 'PetalWidthCm': '2.1', 'Species': 'Iris-virginica'}\n",
      "{'Id': '126', 'SepalLengthCm': '7.2', 'SepalWidthCm': '3.2', 'PetalLengthCm': '6.0', 'PetalWidthCm': '1.8', 'Species': 'Iris-virginica'}\n",
      "{'Id': '127', 'SepalLengthCm': '6.2', 'SepalWidthCm': '2.8', 'PetalLengthCm': '4.8', 'PetalWidthCm': '1.8', 'Species': 'Iris-virginica'}\n",
      "{'Id': '128', 'SepalLengthCm': '6.1', 'SepalWidthCm': '3.0', 'PetalLengthCm': '4.9', 'PetalWidthCm': '1.8', 'Species': 'Iris-virginica'}\n",
      "{'Id': '129', 'SepalLengthCm': '6.4', 'SepalWidthCm': '2.8', 'PetalLengthCm': '5.6', 'PetalWidthCm': '2.1', 'Species': 'Iris-virginica'}\n",
      "{'Id': '130', 'SepalLengthCm': '7.2', 'SepalWidthCm': '3.0', 'PetalLengthCm': '5.8', 'PetalWidthCm': '1.6', 'Species': 'Iris-virginica'}\n",
      "{'Id': '131', 'SepalLengthCm': '7.4', 'SepalWidthCm': '2.8', 'PetalLengthCm': '6.1', 'PetalWidthCm': '1.9', 'Species': 'Iris-virginica'}\n",
      "{'Id': '132', 'SepalLengthCm': '7.9', 'SepalWidthCm': '3.8', 'PetalLengthCm': '6.4', 'PetalWidthCm': '2.0', 'Species': 'Iris-virginica'}\n",
      "{'Id': '133', 'SepalLengthCm': '6.4', 'SepalWidthCm': '2.8', 'PetalLengthCm': '5.6', 'PetalWidthCm': '2.2', 'Species': 'Iris-virginica'}\n",
      "{'Id': '134', 'SepalLengthCm': '6.3', 'SepalWidthCm': '2.8', 'PetalLengthCm': '5.1', 'PetalWidthCm': '1.5', 'Species': 'Iris-virginica'}\n",
      "{'Id': '135', 'SepalLengthCm': '6.1', 'SepalWidthCm': '2.6', 'PetalLengthCm': '5.6', 'PetalWidthCm': '1.4', 'Species': 'Iris-virginica'}\n",
      "{'Id': '136', 'SepalLengthCm': '7.7', 'SepalWidthCm': '3.0', 'PetalLengthCm': '6.1', 'PetalWidthCm': '2.3', 'Species': 'Iris-virginica'}\n",
      "{'Id': '137', 'SepalLengthCm': '6.3', 'SepalWidthCm': '3.4', 'PetalLengthCm': '5.6', 'PetalWidthCm': '2.4', 'Species': 'Iris-virginica'}\n",
      "{'Id': '138', 'SepalLengthCm': '6.4', 'SepalWidthCm': '3.1', 'PetalLengthCm': '5.5', 'PetalWidthCm': '1.8', 'Species': 'Iris-virginica'}\n",
      "{'Id': '139', 'SepalLengthCm': '6.0', 'SepalWidthCm': '3.0', 'PetalLengthCm': '4.8', 'PetalWidthCm': '1.8', 'Species': 'Iris-virginica'}\n",
      "{'Id': '140', 'SepalLengthCm': '6.9', 'SepalWidthCm': '3.1', 'PetalLengthCm': '5.4', 'PetalWidthCm': '2.1', 'Species': 'Iris-virginica'}\n",
      "{'Id': '141', 'SepalLengthCm': '6.7', 'SepalWidthCm': '3.1', 'PetalLengthCm': '5.6', 'PetalWidthCm': '2.4', 'Species': 'Iris-virginica'}\n",
      "{'Id': '142', 'SepalLengthCm': '6.9', 'SepalWidthCm': '3.1', 'PetalLengthCm': '5.1', 'PetalWidthCm': '2.3', 'Species': 'Iris-virginica'}\n",
      "{'Id': '143', 'SepalLengthCm': '5.8', 'SepalWidthCm': '2.7', 'PetalLengthCm': '5.1', 'PetalWidthCm': '1.9', 'Species': 'Iris-virginica'}\n",
      "{'Id': '144', 'SepalLengthCm': '6.8', 'SepalWidthCm': '3.2', 'PetalLengthCm': '5.9', 'PetalWidthCm': '2.3', 'Species': 'Iris-virginica'}\n",
      "{'Id': '145', 'SepalLengthCm': '6.7', 'SepalWidthCm': '3.3', 'PetalLengthCm': '5.7', 'PetalWidthCm': '2.5', 'Species': 'Iris-virginica'}\n",
      "{'Id': '146', 'SepalLengthCm': '6.7', 'SepalWidthCm': '3.0', 'PetalLengthCm': '5.2', 'PetalWidthCm': '2.3', 'Species': 'Iris-virginica'}\n",
      "{'Id': '147', 'SepalLengthCm': '6.3', 'SepalWidthCm': '2.5', 'PetalLengthCm': '5.0', 'PetalWidthCm': '1.9', 'Species': 'Iris-virginica'}\n",
      "{'Id': '148', 'SepalLengthCm': '6.5', 'SepalWidthCm': '3.0', 'PetalLengthCm': '5.2', 'PetalWidthCm': '2.0', 'Species': 'Iris-virginica'}\n",
      "{'Id': '149', 'SepalLengthCm': '6.2', 'SepalWidthCm': '3.4', 'PetalLengthCm': '5.4', 'PetalWidthCm': '2.3', 'Species': 'Iris-virginica'}\n",
      "{'Id': '150', 'SepalLengthCm': '5.9', 'SepalWidthCm': '3.0', 'PetalLengthCm': '5.1', 'PetalWidthCm': '1.8', 'Species': 'Iris-virginica'}\n"
     ]
    }
   ],
   "source": [
    "for i in csv_reader:\n",
    "    print(i)"
   ]
  }
 ],
 "metadata": {
  "kernelspec": {
   "display_name": "Python 3 (ipykernel)",
   "language": "python",
   "name": "python3"
  },
  "language_info": {
   "codemirror_mode": {
    "name": "ipython",
    "version": 3
   },
   "file_extension": ".py",
   "mimetype": "text/x-python",
   "name": "python",
   "nbconvert_exporter": "python",
   "pygments_lexer": "ipython3",
   "version": "3.9.12"
  }
 },
 "nbformat": 4,
 "nbformat_minor": 5
}
