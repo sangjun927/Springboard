{
 "cells": [
  {
   "cell_type": "code",
   "execution_count": 1,
   "id": "27863fea",
   "metadata": {},
   "outputs": [],
   "source": [
    "import pandas as pd\n",
    "import numpy as np\n",
    "import os\n",
    "import matplotlib.pyplot as plt\n",
    "import seaborn as sns\n",
    "from sklearn.decomposition import PCA\n",
    "from sklearn.preprocessing import scale\n",
    "from sklearn.model_selection import train_test_split \n"
   ]
  },
  {
   "cell_type": "markdown",
   "id": "519379bb",
   "metadata": {},
   "source": [
    "Relevant website:\n",
    "https://www.kaggle.com/datasets/ylchang/telco-customer-churn-1113"
   ]
  },
  {
   "cell_type": "code",
   "execution_count": null,
   "id": "caa9317e",
   "metadata": {},
   "outputs": [],
   "source": [
    "## Load data"
   ]
  },
  {
   "cell_type": "code",
   "execution_count": 2,
   "id": "e69ac1b2",
   "metadata": {},
   "outputs": [],
   "source": [
    "data = pd.read_excel('/Users/hansangjun/Desktop/Springboard/Capstone2/telco_data/Telco_customer_churn.xlsx')"
   ]
  },
  {
   "cell_type": "code",
   "execution_count": 3,
   "id": "5098e617",
   "metadata": {
    "scrolled": false
   },
   "outputs": [
    {
     "name": "stdout",
     "output_type": "stream",
     "text": [
      "<class 'pandas.core.frame.DataFrame'>\n",
      "RangeIndex: 7043 entries, 0 to 7042\n",
      "Data columns (total 33 columns):\n",
      " #   Column             Non-Null Count  Dtype  \n",
      "---  ------             --------------  -----  \n",
      " 0   CustomerID         7043 non-null   object \n",
      " 1   Count              7043 non-null   int64  \n",
      " 2   Country            7043 non-null   object \n",
      " 3   State              7043 non-null   object \n",
      " 4   City               7043 non-null   object \n",
      " 5   Zip Code           7043 non-null   int64  \n",
      " 6   Lat Long           7043 non-null   object \n",
      " 7   Latitude           7043 non-null   float64\n",
      " 8   Longitude          7043 non-null   float64\n",
      " 9   Gender             7043 non-null   object \n",
      " 10  Senior Citizen     7043 non-null   object \n",
      " 11  Partner            7043 non-null   object \n",
      " 12  Dependents         7043 non-null   object \n",
      " 13  Tenure Months      7043 non-null   int64  \n",
      " 14  Phone Service      7043 non-null   object \n",
      " 15  Multiple Lines     7043 non-null   object \n",
      " 16  Internet Service   7043 non-null   object \n",
      " 17  Online Security    7043 non-null   object \n",
      " 18  Online Backup      7043 non-null   object \n",
      " 19  Device Protection  7043 non-null   object \n",
      " 20  Tech Support       7043 non-null   object \n",
      " 21  Streaming TV       7043 non-null   object \n",
      " 22  Streaming Movies   7043 non-null   object \n",
      " 23  Contract           7043 non-null   object \n",
      " 24  Paperless Billing  7043 non-null   object \n",
      " 25  Payment Method     7043 non-null   object \n",
      " 26  Monthly Charges    7043 non-null   float64\n",
      " 27  Total Charges      7043 non-null   object \n",
      " 28  Churn Label        7043 non-null   object \n",
      " 29  Churn Value        7043 non-null   int64  \n",
      " 30  Churn Score        7043 non-null   int64  \n",
      " 31  CLTV               7043 non-null   int64  \n",
      " 32  Churn Reason       1869 non-null   object \n",
      "dtypes: float64(3), int64(6), object(24)\n",
      "memory usage: 1.8+ MB\n"
     ]
    }
   ],
   "source": [
    "data.info()"
   ]
  },
  {
   "cell_type": "code",
   "execution_count": 4,
   "id": "c040a35b",
   "metadata": {},
   "outputs": [],
   "source": [
    "## \n",
    "data = data.drop(columns=['Count', 'Lat Long', 'Latitude', 'Longitude', 'Country', 'State', 'CustomerID', 'Churn Value'])\n",
    "data['Zip Code'] = data['Zip Code'].astype(object)\n"
   ]
  },
  {
   "cell_type": "code",
   "execution_count": 5,
   "id": "a5542605",
   "metadata": {},
   "outputs": [
    {
     "name": "stdout",
     "output_type": "stream",
     "text": [
      "0       1\n",
      "1       1\n",
      "2       1\n",
      "3       1\n",
      "4       1\n",
      "       ..\n",
      "7038    0\n",
      "7039    0\n",
      "7040    0\n",
      "7041    0\n",
      "7042    0\n",
      "Name: Churn Label, Length: 7043, dtype: int64\n"
     ]
    }
   ],
   "source": [
    "# put yes as 1 and no as 0. and change the y type to int.    \n",
    "data['Churn Label'].replace(\"Yes\", 1, inplace=True)\n",
    "data['Churn Label'].replace(\"No\", 0, inplace=True)\n",
    "print(data['Churn Label'])"
   ]
  },
  {
   "cell_type": "code",
   "execution_count": 6,
   "id": "9dac02d8",
   "metadata": {},
   "outputs": [
    {
     "name": "stdout",
     "output_type": "stream",
     "text": [
      "<class 'pandas.core.frame.DataFrame'>\n",
      "RangeIndex: 7043 entries, 0 to 7042\n",
      "Data columns (total 25 columns):\n",
      " #   Column             Non-Null Count  Dtype  \n",
      "---  ------             --------------  -----  \n",
      " 0   City               7043 non-null   object \n",
      " 1   Zip Code           7043 non-null   object \n",
      " 2   Gender             7043 non-null   object \n",
      " 3   Senior Citizen     7043 non-null   object \n",
      " 4   Partner            7043 non-null   object \n",
      " 5   Dependents         7043 non-null   object \n",
      " 6   Tenure Months      7043 non-null   int64  \n",
      " 7   Phone Service      7043 non-null   object \n",
      " 8   Multiple Lines     7043 non-null   object \n",
      " 9   Internet Service   7043 non-null   object \n",
      " 10  Online Security    7043 non-null   object \n",
      " 11  Online Backup      7043 non-null   object \n",
      " 12  Device Protection  7043 non-null   object \n",
      " 13  Tech Support       7043 non-null   object \n",
      " 14  Streaming TV       7043 non-null   object \n",
      " 15  Streaming Movies   7043 non-null   object \n",
      " 16  Contract           7043 non-null   object \n",
      " 17  Paperless Billing  7043 non-null   object \n",
      " 18  Payment Method     7043 non-null   object \n",
      " 19  Monthly Charges    7043 non-null   float64\n",
      " 20  Total Charges      7043 non-null   object \n",
      " 21  Churn Label        7043 non-null   int64  \n",
      " 22  Churn Score        7043 non-null   int64  \n",
      " 23  CLTV               7043 non-null   int64  \n",
      " 24  Churn Reason       1869 non-null   object \n",
      "dtypes: float64(1), int64(4), object(20)\n",
      "memory usage: 1.3+ MB\n"
     ]
    }
   ],
   "source": [
    "data.info()"
   ]
  },
  {
   "cell_type": "code",
   "execution_count": null,
   "id": "968789b6",
   "metadata": {},
   "outputs": [],
   "source": [
    "## explore data"
   ]
  },
  {
   "cell_type": "code",
   "execution_count": 7,
   "id": "08a8e25f",
   "metadata": {},
   "outputs": [
    {
     "name": "stdout",
     "output_type": "stream",
     "text": [
      "0    5174\n",
      "1    1869\n",
      "Name: Churn Label, dtype: int64\n"
     ]
    },
    {
     "data": {
      "text/plain": [
       "Text(0.5, 1.0, 'Count Churn')"
      ]
     },
     "execution_count": 7,
     "metadata": {},
     "output_type": "execute_result"
    },
    {
     "data": {
      "image/png": "[encoded data removed]",
      "text/plain": [
       "<Figure size 432x288 with 1 Axes>"
      ]
     },
     "metadata": {
      "needs_background": "light"
     },
     "output_type": "display_data"
    }
   ],
   "source": [
    "# Column 'Churn Label' will be out dependent variable.\n",
    "print(data['Churn Label'].value_counts())\n",
    "p = sns.countplot(x=\"Churn Label\",\n",
    "                data=data)\n",
    "\n",
    "p.set_xlabel(\"Churn Label\", fontsize = 10)\n",
    "p.set_ylabel(\"Count\", fontsize = 10)\n",
    "p.set_title(\"Count Churn\", fontsize = 15)"
   ]
  },
  {
   "cell_type": "code",
   "execution_count": 8,
   "id": "716d619f",
   "metadata": {},
   "outputs": [
    {
     "name": "stdout",
     "output_type": "stream",
     "text": [
      "Percentage of the customer remained with the company is 73.4630129206304.\n",
      "Percentage of the customer left the company this quarter is 26.536987079369595.\n"
     ]
    }
   ],
   "source": [
    "# percentage of yes and no\n",
    "len_no = len(data[data['Churn Label'] == 0])\n",
    "len_yes = len(data[data['Churn Label'] == 1])\n",
    "\n",
    "percentage_no = (len_no / (len_no + len_yes)) * 100\n",
    "percentage_yes = 100 - percentage_no\n",
    "\n",
    "print (f\"Percentage of the customer remained with the company is {percentage_no}.\")\n",
    "print (f\"Percentage of the customer left the company this quarter is {percentage_yes}.\")"
   ]
  },
  {
   "cell_type": "code",
   "execution_count": 10,
   "id": "e475570a",
   "metadata": {},
   "outputs": [
    {
     "data": {
      "text/html": [
       "<div>\n",
       "<style scoped>\n",
       "    .dataframe tbody tr th:only-of-type {\n",
       "        vertical-align: middle;\n",
       "    }\n",
       "\n",
       "    .dataframe tbody tr th {\n",
       "        vertical-align: top;\n",
       "    }\n",
       "\n",
       "    .dataframe thead th {\n",
       "        text-align: right;\n",
       "    }\n",
       "</style>\n",
       "<table border=\"1\" class=\"dataframe\">\n",
       "  <thead>\n",
       "    <tr style=\"text-align: right;\">\n",
       "      <th></th>\n",
       "      <th>Tenure Months</th>\n",
       "      <th>Monthly Charges</th>\n",
       "      <th>Churn Score</th>\n",
       "      <th>CLTV</th>\n",
       "    </tr>\n",
       "    <tr>\n",
       "      <th>Churn Label</th>\n",
       "      <th></th>\n",
       "      <th></th>\n",
       "      <th></th>\n",
       "      <th></th>\n",
       "    </tr>\n",
       "  </thead>\n",
       "  <tbody>\n",
       "    <tr>\n",
       "      <th>0</th>\n",
       "      <td>37.569965</td>\n",
       "      <td>61.265124</td>\n",
       "      <td>50.098183</td>\n",
       "      <td>4490.921337</td>\n",
       "    </tr>\n",
       "    <tr>\n",
       "      <th>1</th>\n",
       "      <td>17.979133</td>\n",
       "      <td>74.441332</td>\n",
       "      <td>82.510433</td>\n",
       "      <td>4149.414660</td>\n",
       "    </tr>\n",
       "  </tbody>\n",
       "</table>\n",
       "</div>"
      ],
      "text/plain": [
       "             Tenure Months  Monthly Charges  Churn Score         CLTV\n",
       "Churn Label                                                          \n",
       "0                37.569965        61.265124    50.098183  4490.921337\n",
       "1                17.979133        74.441332    82.510433  4149.414660"
      ]
     },
     "execution_count": 10,
     "metadata": {},
     "output_type": "execute_result"
    }
   ],
   "source": [
    "## Mean group by 'Churn Label'\n",
    "data.groupby('Churn Label').mean()"
   ]
  },
  {
   "cell_type": "code",
   "execution_count": 7,
   "id": "2a212038",
   "metadata": {},
   "outputs": [
    {
     "data": {
      "text/html": [
       "<div>\n",
       "<style scoped>\n",
       "    .dataframe tbody tr th:only-of-type {\n",
       "        vertical-align: middle;\n",
       "    }\n",
       "\n",
       "    .dataframe tbody tr th {\n",
       "        vertical-align: top;\n",
       "    }\n",
       "\n",
       "    .dataframe thead th {\n",
       "        text-align: right;\n",
       "    }\n",
       "</style>\n",
       "<table border=\"1\" class=\"dataframe\">\n",
       "  <thead>\n",
       "    <tr style=\"text-align: right;\">\n",
       "      <th></th>\n",
       "      <th>City</th>\n",
       "      <th>Zip Code</th>\n",
       "      <th>Gender</th>\n",
       "      <th>Senior Citizen</th>\n",
       "      <th>Partner</th>\n",
       "      <th>Dependents</th>\n",
       "      <th>Phone Service</th>\n",
       "      <th>Multiple Lines</th>\n",
       "      <th>Internet Service</th>\n",
       "      <th>Online Security</th>\n",
       "      <th>Online Backup</th>\n",
       "      <th>Device Protection</th>\n",
       "      <th>Tech Support</th>\n",
       "      <th>Streaming TV</th>\n",
       "      <th>Streaming Movies</th>\n",
       "      <th>Contract</th>\n",
       "      <th>Paperless Billing</th>\n",
       "      <th>Payment Method</th>\n",
       "      <th>Total Charges</th>\n",
       "      <th>Churn Reason</th>\n",
       "    </tr>\n",
       "  </thead>\n",
       "  <tbody>\n",
       "    <tr>\n",
       "      <th>0</th>\n",
       "      <td>Los Angeles</td>\n",
       "      <td>90003</td>\n",
       "      <td>Male</td>\n",
       "      <td>No</td>\n",
       "      <td>No</td>\n",
       "      <td>No</td>\n",
       "      <td>Yes</td>\n",
       "      <td>No</td>\n",
       "      <td>DSL</td>\n",
       "      <td>Yes</td>\n",
       "      <td>Yes</td>\n",
       "      <td>No</td>\n",
       "      <td>No</td>\n",
       "      <td>No</td>\n",
       "      <td>No</td>\n",
       "      <td>Month-to-month</td>\n",
       "      <td>Yes</td>\n",
       "      <td>Mailed check</td>\n",
       "      <td>108.15</td>\n",
       "      <td>Competitor made better offer</td>\n",
       "    </tr>\n",
       "    <tr>\n",
       "      <th>1</th>\n",
       "      <td>Los Angeles</td>\n",
       "      <td>90005</td>\n",
       "      <td>Female</td>\n",
       "      <td>No</td>\n",
       "      <td>No</td>\n",
       "      <td>Yes</td>\n",
       "      <td>Yes</td>\n",
       "      <td>No</td>\n",
       "      <td>Fiber optic</td>\n",
       "      <td>No</td>\n",
       "      <td>No</td>\n",
       "      <td>No</td>\n",
       "      <td>No</td>\n",
       "      <td>No</td>\n",
       "      <td>No</td>\n",
       "      <td>Month-to-month</td>\n",
       "      <td>Yes</td>\n",
       "      <td>Electronic check</td>\n",
       "      <td>151.65</td>\n",
       "      <td>Moved</td>\n",
       "    </tr>\n",
       "    <tr>\n",
       "      <th>2</th>\n",
       "      <td>Los Angeles</td>\n",
       "      <td>90006</td>\n",
       "      <td>Female</td>\n",
       "      <td>No</td>\n",
       "      <td>No</td>\n",
       "      <td>Yes</td>\n",
       "      <td>Yes</td>\n",
       "      <td>Yes</td>\n",
       "      <td>Fiber optic</td>\n",
       "      <td>No</td>\n",
       "      <td>No</td>\n",
       "      <td>Yes</td>\n",
       "      <td>No</td>\n",
       "      <td>Yes</td>\n",
       "      <td>Yes</td>\n",
       "      <td>Month-to-month</td>\n",
       "      <td>Yes</td>\n",
       "      <td>Electronic check</td>\n",
       "      <td>820.5</td>\n",
       "      <td>Moved</td>\n",
       "    </tr>\n",
       "    <tr>\n",
       "      <th>3</th>\n",
       "      <td>Los Angeles</td>\n",
       "      <td>90010</td>\n",
       "      <td>Female</td>\n",
       "      <td>No</td>\n",
       "      <td>Yes</td>\n",
       "      <td>Yes</td>\n",
       "      <td>Yes</td>\n",
       "      <td>Yes</td>\n",
       "      <td>Fiber optic</td>\n",
       "      <td>No</td>\n",
       "      <td>No</td>\n",
       "      <td>Yes</td>\n",
       "      <td>Yes</td>\n",
       "      <td>Yes</td>\n",
       "      <td>Yes</td>\n",
       "      <td>Month-to-month</td>\n",
       "      <td>Yes</td>\n",
       "      <td>Electronic check</td>\n",
       "      <td>3046.05</td>\n",
       "      <td>Moved</td>\n",
       "    </tr>\n",
       "    <tr>\n",
       "      <th>4</th>\n",
       "      <td>Los Angeles</td>\n",
       "      <td>90015</td>\n",
       "      <td>Male</td>\n",
       "      <td>No</td>\n",
       "      <td>No</td>\n",
       "      <td>Yes</td>\n",
       "      <td>Yes</td>\n",
       "      <td>Yes</td>\n",
       "      <td>Fiber optic</td>\n",
       "      <td>No</td>\n",
       "      <td>Yes</td>\n",
       "      <td>Yes</td>\n",
       "      <td>No</td>\n",
       "      <td>Yes</td>\n",
       "      <td>Yes</td>\n",
       "      <td>Month-to-month</td>\n",
       "      <td>Yes</td>\n",
       "      <td>Bank transfer (automatic)</td>\n",
       "      <td>5036.3</td>\n",
       "      <td>Competitor had better devices</td>\n",
       "    </tr>\n",
       "    <tr>\n",
       "      <th>...</th>\n",
       "      <td>...</td>\n",
       "      <td>...</td>\n",
       "      <td>...</td>\n",
       "      <td>...</td>\n",
       "      <td>...</td>\n",
       "      <td>...</td>\n",
       "      <td>...</td>\n",
       "      <td>...</td>\n",
       "      <td>...</td>\n",
       "      <td>...</td>\n",
       "      <td>...</td>\n",
       "      <td>...</td>\n",
       "      <td>...</td>\n",
       "      <td>...</td>\n",
       "      <td>...</td>\n",
       "      <td>...</td>\n",
       "      <td>...</td>\n",
       "      <td>...</td>\n",
       "      <td>...</td>\n",
       "      <td>...</td>\n",
       "    </tr>\n",
       "    <tr>\n",
       "      <th>7038</th>\n",
       "      <td>Landers</td>\n",
       "      <td>92285</td>\n",
       "      <td>Female</td>\n",
       "      <td>No</td>\n",
       "      <td>No</td>\n",
       "      <td>No</td>\n",
       "      <td>Yes</td>\n",
       "      <td>No</td>\n",
       "      <td>No</td>\n",
       "      <td>No internet service</td>\n",
       "      <td>No internet service</td>\n",
       "      <td>No internet service</td>\n",
       "      <td>No internet service</td>\n",
       "      <td>No internet service</td>\n",
       "      <td>No internet service</td>\n",
       "      <td>Two year</td>\n",
       "      <td>Yes</td>\n",
       "      <td>Bank transfer (automatic)</td>\n",
       "      <td>1419.4</td>\n",
       "      <td>NaN</td>\n",
       "    </tr>\n",
       "    <tr>\n",
       "      <th>7039</th>\n",
       "      <td>Adelanto</td>\n",
       "      <td>92301</td>\n",
       "      <td>Male</td>\n",
       "      <td>No</td>\n",
       "      <td>Yes</td>\n",
       "      <td>Yes</td>\n",
       "      <td>Yes</td>\n",
       "      <td>Yes</td>\n",
       "      <td>DSL</td>\n",
       "      <td>Yes</td>\n",
       "      <td>No</td>\n",
       "      <td>Yes</td>\n",
       "      <td>Yes</td>\n",
       "      <td>Yes</td>\n",
       "      <td>Yes</td>\n",
       "      <td>One year</td>\n",
       "      <td>Yes</td>\n",
       "      <td>Mailed check</td>\n",
       "      <td>1990.5</td>\n",
       "      <td>NaN</td>\n",
       "    </tr>\n",
       "    <tr>\n",
       "      <th>7040</th>\n",
       "      <td>Amboy</td>\n",
       "      <td>92304</td>\n",
       "      <td>Female</td>\n",
       "      <td>No</td>\n",
       "      <td>Yes</td>\n",
       "      <td>Yes</td>\n",
       "      <td>Yes</td>\n",
       "      <td>Yes</td>\n",
       "      <td>Fiber optic</td>\n",
       "      <td>No</td>\n",
       "      <td>Yes</td>\n",
       "      <td>Yes</td>\n",
       "      <td>No</td>\n",
       "      <td>Yes</td>\n",
       "      <td>Yes</td>\n",
       "      <td>One year</td>\n",
       "      <td>Yes</td>\n",
       "      <td>Credit card (automatic)</td>\n",
       "      <td>7362.9</td>\n",
       "      <td>NaN</td>\n",
       "    </tr>\n",
       "    <tr>\n",
       "      <th>7041</th>\n",
       "      <td>Angelus Oaks</td>\n",
       "      <td>92305</td>\n",
       "      <td>Female</td>\n",
       "      <td>No</td>\n",
       "      <td>Yes</td>\n",
       "      <td>Yes</td>\n",
       "      <td>No</td>\n",
       "      <td>No phone service</td>\n",
       "      <td>DSL</td>\n",
       "      <td>Yes</td>\n",
       "      <td>No</td>\n",
       "      <td>No</td>\n",
       "      <td>No</td>\n",
       "      <td>No</td>\n",
       "      <td>No</td>\n",
       "      <td>Month-to-month</td>\n",
       "      <td>Yes</td>\n",
       "      <td>Electronic check</td>\n",
       "      <td>346.45</td>\n",
       "      <td>NaN</td>\n",
       "    </tr>\n",
       "    <tr>\n",
       "      <th>7042</th>\n",
       "      <td>Apple Valley</td>\n",
       "      <td>92308</td>\n",
       "      <td>Male</td>\n",
       "      <td>No</td>\n",
       "      <td>No</td>\n",
       "      <td>No</td>\n",
       "      <td>Yes</td>\n",
       "      <td>No</td>\n",
       "      <td>Fiber optic</td>\n",
       "      <td>Yes</td>\n",
       "      <td>No</td>\n",
       "      <td>Yes</td>\n",
       "      <td>Yes</td>\n",
       "      <td>Yes</td>\n",
       "      <td>Yes</td>\n",
       "      <td>Two year</td>\n",
       "      <td>Yes</td>\n",
       "      <td>Bank transfer (automatic)</td>\n",
       "      <td>6844.5</td>\n",
       "      <td>NaN</td>\n",
       "    </tr>\n",
       "  </tbody>\n",
       "</table>\n",
       "<p>7043 rows × 20 columns</p>\n",
       "</div>"
      ],
      "text/plain": [
       "              City Zip Code  Gender Senior Citizen Partner Dependents  \\\n",
       "0      Los Angeles    90003    Male             No      No         No   \n",
       "1      Los Angeles    90005  Female             No      No        Yes   \n",
       "2      Los Angeles    90006  Female             No      No        Yes   \n",
       "3      Los Angeles    90010  Female             No     Yes        Yes   \n",
       "4      Los Angeles    90015    Male             No      No        Yes   \n",
       "...            ...      ...     ...            ...     ...        ...   \n",
       "7038       Landers    92285  Female             No      No         No   \n",
       "7039      Adelanto    92301    Male             No     Yes        Yes   \n",
       "7040         Amboy    92304  Female             No     Yes        Yes   \n",
       "7041  Angelus Oaks    92305  Female             No     Yes        Yes   \n",
       "7042  Apple Valley    92308    Male             No      No         No   \n",
       "\n",
       "     Phone Service    Multiple Lines Internet Service      Online Security  \\\n",
       "0              Yes                No              DSL                  Yes   \n",
       "1              Yes                No      Fiber optic                   No   \n",
       "2              Yes               Yes      Fiber optic                   No   \n",
       "3              Yes               Yes      Fiber optic                   No   \n",
       "4              Yes               Yes      Fiber optic                   No   \n",
       "...            ...               ...              ...                  ...   \n",
       "7038           Yes                No               No  No internet service   \n",
       "7039           Yes               Yes              DSL                  Yes   \n",
       "7040           Yes               Yes      Fiber optic                   No   \n",
       "7041            No  No phone service              DSL                  Yes   \n",
       "7042           Yes                No      Fiber optic                  Yes   \n",
       "\n",
       "            Online Backup    Device Protection         Tech Support  \\\n",
       "0                     Yes                   No                   No   \n",
       "1                      No                   No                   No   \n",
       "2                      No                  Yes                   No   \n",
       "3                      No                  Yes                  Yes   \n",
       "4                     Yes                  Yes                   No   \n",
       "...                   ...                  ...                  ...   \n",
       "7038  No internet service  No internet service  No internet service   \n",
       "7039                   No                  Yes                  Yes   \n",
       "7040                  Yes                  Yes                   No   \n",
       "7041                   No                   No                   No   \n",
       "7042                   No                  Yes                  Yes   \n",
       "\n",
       "             Streaming TV     Streaming Movies        Contract  \\\n",
       "0                      No                   No  Month-to-month   \n",
       "1                      No                   No  Month-to-month   \n",
       "2                     Yes                  Yes  Month-to-month   \n",
       "3                     Yes                  Yes  Month-to-month   \n",
       "4                     Yes                  Yes  Month-to-month   \n",
       "...                   ...                  ...             ...   \n",
       "7038  No internet service  No internet service        Two year   \n",
       "7039                  Yes                  Yes        One year   \n",
       "7040                  Yes                  Yes        One year   \n",
       "7041                   No                   No  Month-to-month   \n",
       "7042                  Yes                  Yes        Two year   \n",
       "\n",
       "     Paperless Billing             Payment Method Total Charges  \\\n",
       "0                  Yes               Mailed check        108.15   \n",
       "1                  Yes           Electronic check        151.65   \n",
       "2                  Yes           Electronic check         820.5   \n",
       "3                  Yes           Electronic check       3046.05   \n",
       "4                  Yes  Bank transfer (automatic)        5036.3   \n",
       "...                ...                        ...           ...   \n",
       "7038               Yes  Bank transfer (automatic)        1419.4   \n",
       "7039               Yes               Mailed check        1990.5   \n",
       "7040               Yes    Credit card (automatic)        7362.9   \n",
       "7041               Yes           Electronic check        346.45   \n",
       "7042               Yes  Bank transfer (automatic)        6844.5   \n",
       "\n",
       "                       Churn Reason  \n",
       "0      Competitor made better offer  \n",
       "1                             Moved  \n",
       "2                             Moved  \n",
       "3                             Moved  \n",
       "4     Competitor had better devices  \n",
       "...                             ...  \n",
       "7038                            NaN  \n",
       "7039                            NaN  \n",
       "7040                            NaN  \n",
       "7041                            NaN  \n",
       "7042                            NaN  \n",
       "\n",
       "[7043 rows x 20 columns]"
      ]
     },
     "execution_count": 7,
     "metadata": {},
     "output_type": "execute_result"
    }
   ],
   "source": [
    "## Here are more categorical variables\n",
    "data.select_dtypes(include=[np.object])"
   ]
  },
  {
   "cell_type": "code",
   "execution_count": 9,
   "id": "64a6b549",
   "metadata": {
    "scrolled": false
   },
   "outputs": [
    {
     "name": "stdout",
     "output_type": "stream",
     "text": [
      "####City####\n",
      "Los Angeles      305\n",
      "San Diego        150\n",
      "San Jose         112\n",
      "Sacramento       108\n",
      "San Francisco    104\n",
      "                ... \n",
      "North Fork         4\n",
      "Ojai               4\n",
      "Escalon            4\n",
      "Wildomar           4\n",
      "Taylorsville       4\n",
      "Name: City, Length: 1129, dtype: int64\n",
      " \n",
      "####Zip Code####\n",
      "91915    5\n",
      "92054    5\n",
      "92036    5\n",
      "91105    5\n",
      "91104    5\n",
      "        ..\n",
      "92555    4\n",
      "92557    4\n",
      "92561    4\n",
      "92562    4\n",
      "95423    4\n",
      "Name: Zip Code, Length: 1652, dtype: int64\n",
      " \n",
      "####Gender####\n",
      "Male      3555\n",
      "Female    3488\n",
      "Name: Gender, dtype: int64\n",
      " \n",
      "####Senior Citizen####\n",
      "No     5901\n",
      "Yes    1142\n",
      "Name: Senior Citizen, dtype: int64\n",
      " \n",
      "####Partner####\n",
      "No     3641\n",
      "Yes    3402\n",
      "Name: Partner, dtype: int64\n",
      " \n",
      "####Dependents####\n",
      "No     5416\n",
      "Yes    1627\n",
      "Name: Dependents, dtype: int64\n",
      " \n",
      "####Phone Service####\n",
      "Yes    6361\n",
      "No      682\n",
      "Name: Phone Service, dtype: int64\n",
      " \n",
      "####Multiple Lines####\n",
      "No                  3390\n",
      "Yes                 2971\n",
      "No phone service     682\n",
      "Name: Multiple Lines, dtype: int64\n",
      " \n",
      "####Internet Service####\n",
      "Fiber optic    3096\n",
      "DSL            2421\n",
      "No             1526\n",
      "Name: Internet Service, dtype: int64\n",
      " \n",
      "####Online Security####\n",
      "No                     3498\n",
      "Yes                    2019\n",
      "No internet service    1526\n",
      "Name: Online Security, dtype: int64\n",
      " \n",
      "####Online Backup####\n",
      "No                     3088\n",
      "Yes                    2429\n",
      "No internet service    1526\n",
      "Name: Online Backup, dtype: int64\n",
      " \n",
      "####Device Protection####\n",
      "No                     3095\n",
      "Yes                    2422\n",
      "No internet service    1526\n",
      "Name: Device Protection, dtype: int64\n",
      " \n",
      "####Tech Support####\n",
      "No                     3473\n",
      "Yes                    2044\n",
      "No internet service    1526\n",
      "Name: Tech Support, dtype: int64\n",
      " \n",
      "####Streaming TV####\n",
      "No                     2810\n",
      "Yes                    2707\n",
      "No internet service    1526\n",
      "Name: Streaming TV, dtype: int64\n",
      " \n",
      "####Streaming Movies####\n",
      "No                     2785\n",
      "Yes                    2732\n",
      "No internet service    1526\n",
      "Name: Streaming Movies, dtype: int64\n",
      " \n",
      "####Contract####\n",
      "Month-to-month    3875\n",
      "Two year          1695\n",
      "One year          1473\n",
      "Name: Contract, dtype: int64\n",
      " \n",
      "####Paperless Billing####\n",
      "Yes    4171\n",
      "No     2872\n",
      "Name: Paperless Billing, dtype: int64\n",
      " \n",
      "####Payment Method####\n",
      "Electronic check             2365\n",
      "Mailed check                 1612\n",
      "Bank transfer (automatic)    1544\n",
      "Credit card (automatic)      1522\n",
      "Name: Payment Method, dtype: int64\n",
      " \n",
      "####Total Charges####\n",
      "20.2       11\n",
      "           11\n",
      "19.75       9\n",
      "20.05       8\n",
      "19.9        8\n",
      "           ..\n",
      "6747.35     1\n",
      "266.95      1\n",
      "6751.35     1\n",
      "740         1\n",
      "4749.15     1\n",
      "Name: Total Charges, Length: 6531, dtype: int64\n",
      " \n",
      "####Churn Reason####\n",
      "Attitude of support person                   192\n",
      "Competitor offered higher download speeds    189\n",
      "Competitor offered more data                 162\n",
      "Don't know                                   154\n",
      "Competitor made better offer                 140\n",
      "Attitude of service provider                 135\n",
      "Competitor had better devices                130\n",
      "Network reliability                          103\n",
      "Product dissatisfaction                      102\n",
      "Price too high                                98\n",
      "Service dissatisfaction                       89\n",
      "Lack of self-service on Website               88\n",
      "Extra data charges                            57\n",
      "Moved                                         53\n",
      "Lack of affordable download/upload speed      44\n",
      "Limited range of services                     44\n",
      "Long distance charges                         44\n",
      "Poor expertise of phone support               20\n",
      "Poor expertise of online support              19\n",
      "Deceased                                       6\n",
      "Name: Churn Reason, dtype: int64\n",
      " \n"
     ]
    }
   ],
   "source": [
    "## a quick data wrangling - Align value of category.\n",
    "dtype_object = []\n",
    "\n",
    "g = data.columns.to_series().groupby(data.dtypes).groups\n",
    "\n",
    "for k, v in g.items():\n",
    "    if k == object:\n",
    "        for i in range(len(v)):\n",
    "            dtype_object.append(v[i])\n",
    "\n",
    "for i in range(len(dtype_object)):\n",
    "    print(\"####\" + dtype_object[i] + \"####\")\n",
    "    print(data[dtype_object[i]].value_counts())\n",
    "    print(\" \")\n"
   ]
  },
  {
   "cell_type": "code",
   "execution_count": 10,
   "id": "06d315bf",
   "metadata": {},
   "outputs": [],
   "source": [
    "## Change 'Total Charges'\n",
    "data['Total Charges'] = data['Total Charges'].replace(\" \", 0)\n",
    "data['Total Charges'].value_counts()\n",
    "data['Total Charges'] = data['Total Charges'].astype(float)"
   ]
  },
  {
   "cell_type": "code",
   "execution_count": 11,
   "id": "7ce9d7b6",
   "metadata": {},
   "outputs": [],
   "source": [
    "# \"no phone service\" and \"no internet service\" have to be \"No\"\n",
    "for k, v in g.items():\n",
    "    if k == object:\n",
    "        for i in range(len(v)):\n",
    "            data[v[i]].replace(\"No internet service\", \"No\", inplace=True)\n",
    "            data[v[i]].replace(\"No phone service\", \"No\", inplace=True)\n"
   ]
  },
  {
   "cell_type": "code",
   "execution_count": 12,
   "id": "0eac4181",
   "metadata": {
    "scrolled": false
   },
   "outputs": [
    {
     "name": "stdout",
     "output_type": "stream",
     "text": [
      "####City####\n",
      "Los Angeles      305\n",
      "San Diego        150\n",
      "San Jose         112\n",
      "Sacramento       108\n",
      "San Francisco    104\n",
      "                ... \n",
      "North Fork         4\n",
      "Ojai               4\n",
      "Escalon            4\n",
      "Wildomar           4\n",
      "Taylorsville       4\n",
      "Name: City, Length: 1129, dtype: int64\n",
      " \n",
      "####Gender####\n",
      "Male      3555\n",
      "Female    3488\n",
      "Name: Gender, dtype: int64\n",
      " \n",
      "####Senior Citizen####\n",
      "No     5901\n",
      "Yes    1142\n",
      "Name: Senior Citizen, dtype: int64\n",
      " \n",
      "####Partner####\n",
      "No     3641\n",
      "Yes    3402\n",
      "Name: Partner, dtype: int64\n",
      " \n",
      "####Dependents####\n",
      "No     5416\n",
      "Yes    1627\n",
      "Name: Dependents, dtype: int64\n",
      " \n",
      "####Phone Service####\n",
      "Yes    6361\n",
      "No      682\n",
      "Name: Phone Service, dtype: int64\n",
      " \n",
      "####Multiple Lines####\n",
      "No     4072\n",
      "Yes    2971\n",
      "Name: Multiple Lines, dtype: int64\n",
      " \n",
      "####Internet Service####\n",
      "Fiber optic    3096\n",
      "DSL            2421\n",
      "No             1526\n",
      "Name: Internet Service, dtype: int64\n",
      " \n",
      "####Online Security####\n",
      "No     5024\n",
      "Yes    2019\n",
      "Name: Online Security, dtype: int64\n",
      " \n",
      "####Online Backup####\n",
      "No     4614\n",
      "Yes    2429\n",
      "Name: Online Backup, dtype: int64\n",
      " \n",
      "####Device Protection####\n",
      "No     4621\n",
      "Yes    2422\n",
      "Name: Device Protection, dtype: int64\n",
      " \n",
      "####Tech Support####\n",
      "No     4999\n",
      "Yes    2044\n",
      "Name: Tech Support, dtype: int64\n",
      " \n",
      "####Streaming TV####\n",
      "No     4336\n",
      "Yes    2707\n",
      "Name: Streaming TV, dtype: int64\n",
      " \n",
      "####Streaming Movies####\n",
      "No     4311\n",
      "Yes    2732\n",
      "Name: Streaming Movies, dtype: int64\n",
      " \n",
      "####Contract####\n",
      "Month-to-month    3875\n",
      "Two year          1695\n",
      "One year          1473\n",
      "Name: Contract, dtype: int64\n",
      " \n",
      "####Paperless Billing####\n",
      "Yes    4171\n",
      "No     2872\n",
      "Name: Paperless Billing, dtype: int64\n",
      " \n",
      "####Payment Method####\n",
      "Electronic check             2365\n",
      "Mailed check                 1612\n",
      "Bank transfer (automatic)    1544\n",
      "Credit card (automatic)      1522\n",
      "Name: Payment Method, dtype: int64\n",
      " \n",
      "####Churn Reason####\n",
      "Attitude of support person                   192\n",
      "Competitor offered higher download speeds    189\n",
      "Competitor offered more data                 162\n",
      "Don't know                                   154\n",
      "Competitor made better offer                 140\n",
      "Attitude of service provider                 135\n",
      "Competitor had better devices                130\n",
      "Network reliability                          103\n",
      "Product dissatisfaction                      102\n",
      "Price too high                                98\n",
      "Service dissatisfaction                       89\n",
      "Lack of self-service on Website               88\n",
      "Extra data charges                            57\n",
      "Moved                                         53\n",
      "Lack of affordable download/upload speed      44\n",
      "Limited range of services                     44\n",
      "Long distance charges                         44\n",
      "Poor expertise of phone support               20\n",
      "Poor expertise of online support              19\n",
      "Deceased                                       6\n",
      "Name: Churn Reason, dtype: int64\n",
      " \n"
     ]
    }
   ],
   "source": [
    "# Check whether \"no phone service\" and \"no internet service\" replaced to \"No\" or not.\n",
    "dtype_object = []\n",
    "\n",
    "g = data.columns.to_series().groupby(data.dtypes).groups\n",
    "\n",
    "for k, v in g.items():\n",
    "    if k == object:\n",
    "        for i in range(len(v)):\n",
    "            dtype_object.append(v[i])\n",
    "\n",
    "for i in range(len(dtype_object)):\n",
    "    print(\"####\" + dtype_object[i] + \"####\")\n",
    "    print(data[dtype_object[i]].value_counts())\n",
    "    print(\" \")"
   ]
  },
  {
   "cell_type": "markdown",
   "id": "ea7d63f7",
   "metadata": {},
   "source": [
    "'Total Chages' has been changed to float, and categorical value has been aligned. "
   ]
  },
  {
   "cell_type": "code",
   "execution_count": 12,
   "id": "1876b055",
   "metadata": {},
   "outputs": [
    {
     "data": {
      "text/html": [
       "<div>\n",
       "<style scoped>\n",
       "    .dataframe tbody tr th:only-of-type {\n",
       "        vertical-align: middle;\n",
       "    }\n",
       "\n",
       "    .dataframe tbody tr th {\n",
       "        vertical-align: top;\n",
       "    }\n",
       "\n",
       "    .dataframe thead th {\n",
       "        text-align: right;\n",
       "    }\n",
       "</style>\n",
       "<table border=\"1\" class=\"dataframe\">\n",
       "  <thead>\n",
       "    <tr style=\"text-align: right;\">\n",
       "      <th></th>\n",
       "      <th>Zip Code</th>\n",
       "      <th>Tenure Months</th>\n",
       "      <th>Monthly Charges</th>\n",
       "      <th>Total Charges</th>\n",
       "      <th>Churn Label</th>\n",
       "      <th>Churn Score</th>\n",
       "      <th>CLTV</th>\n",
       "    </tr>\n",
       "    <tr>\n",
       "      <th>Gender</th>\n",
       "      <th></th>\n",
       "      <th></th>\n",
       "      <th></th>\n",
       "      <th></th>\n",
       "      <th></th>\n",
       "      <th></th>\n",
       "      <th></th>\n",
       "    </tr>\n",
       "  </thead>\n",
       "  <tbody>\n",
       "    <tr>\n",
       "      <th>Female</th>\n",
       "      <td>93492.784404</td>\n",
       "      <td>32.244553</td>\n",
       "      <td>65.204243</td>\n",
       "      <td>2279.918062</td>\n",
       "      <td>0.269209</td>\n",
       "      <td>58.692661</td>\n",
       "      <td>4408.477638</td>\n",
       "    </tr>\n",
       "    <tr>\n",
       "      <th>Male</th>\n",
       "      <td>93550.594937</td>\n",
       "      <td>32.495359</td>\n",
       "      <td>64.327482</td>\n",
       "      <td>2279.554008</td>\n",
       "      <td>0.261603</td>\n",
       "      <td>58.706048</td>\n",
       "      <td>4392.268073</td>\n",
       "    </tr>\n",
       "  </tbody>\n",
       "</table>\n",
       "</div>"
      ],
      "text/plain": [
       "            Zip Code  Tenure Months  Monthly Charges  Total Charges  \\\n",
       "Gender                                                                \n",
       "Female  93492.784404      32.244553        65.204243    2279.918062   \n",
       "Male    93550.594937      32.495359        64.327482    2279.554008   \n",
       "\n",
       "        Churn Label  Churn Score         CLTV  \n",
       "Gender                                         \n",
       "Female     0.269209    58.692661  4408.477638  \n",
       "Male       0.261603    58.706048  4392.268073  "
      ]
     },
     "execution_count": 12,
     "metadata": {},
     "output_type": "execute_result"
    }
   ],
   "source": [
    "## Here are some more mean for other categorical value\n",
    "data.groupby('Gender').mean()"
   ]
  },
  {
   "cell_type": "code",
   "execution_count": 13,
   "id": "ea8b0539",
   "metadata": {},
   "outputs": [
    {
     "data": {
      "text/html": [
       "<div>\n",
       "<style scoped>\n",
       "    .dataframe tbody tr th:only-of-type {\n",
       "        vertical-align: middle;\n",
       "    }\n",
       "\n",
       "    .dataframe tbody tr th {\n",
       "        vertical-align: top;\n",
       "    }\n",
       "\n",
       "    .dataframe thead th {\n",
       "        text-align: right;\n",
       "    }\n",
       "</style>\n",
       "<table border=\"1\" class=\"dataframe\">\n",
       "  <thead>\n",
       "    <tr style=\"text-align: right;\">\n",
       "      <th></th>\n",
       "      <th>Zip Code</th>\n",
       "      <th>Tenure Months</th>\n",
       "      <th>Monthly Charges</th>\n",
       "      <th>Total Charges</th>\n",
       "      <th>Churn Label</th>\n",
       "      <th>Churn Score</th>\n",
       "      <th>CLTV</th>\n",
       "    </tr>\n",
       "    <tr>\n",
       "      <th>Senior Citizen</th>\n",
       "      <th></th>\n",
       "      <th></th>\n",
       "      <th></th>\n",
       "      <th></th>\n",
       "      <th></th>\n",
       "      <th></th>\n",
       "      <th></th>\n",
       "    </tr>\n",
       "  </thead>\n",
       "  <tbody>\n",
       "    <tr>\n",
       "      <th>No</th>\n",
       "      <td>93527.410439</td>\n",
       "      <td>32.192171</td>\n",
       "      <td>61.847441</td>\n",
       "      <td>2177.023801</td>\n",
       "      <td>0.236062</td>\n",
       "      <td>57.731910</td>\n",
       "      <td>4401.943908</td>\n",
       "    </tr>\n",
       "    <tr>\n",
       "      <th>Yes</th>\n",
       "      <td>93493.824869</td>\n",
       "      <td>33.295972</td>\n",
       "      <td>79.820359</td>\n",
       "      <td>2810.465193</td>\n",
       "      <td>0.416813</td>\n",
       "      <td>63.698774</td>\n",
       "      <td>4391.779335</td>\n",
       "    </tr>\n",
       "  </tbody>\n",
       "</table>\n",
       "</div>"
      ],
      "text/plain": [
       "                    Zip Code  Tenure Months  Monthly Charges  Total Charges  \\\n",
       "Senior Citizen                                                                \n",
       "No              93527.410439      32.192171        61.847441    2177.023801   \n",
       "Yes             93493.824869      33.295972        79.820359    2810.465193   \n",
       "\n",
       "                Churn Label  Churn Score         CLTV  \n",
       "Senior Citizen                                         \n",
       "No                 0.236062    57.731910  4401.943908  \n",
       "Yes                0.416813    63.698774  4391.779335  "
      ]
     },
     "execution_count": 13,
     "metadata": {},
     "output_type": "execute_result"
    }
   ],
   "source": [
    "data.groupby('Senior Citizen').mean()"
   ]
  },
  {
   "cell_type": "code",
   "execution_count": 14,
   "id": "449004ef",
   "metadata": {},
   "outputs": [
    {
     "data": {
      "text/html": [
       "<div>\n",
       "<style scoped>\n",
       "    .dataframe tbody tr th:only-of-type {\n",
       "        vertical-align: middle;\n",
       "    }\n",
       "\n",
       "    .dataframe tbody tr th {\n",
       "        vertical-align: top;\n",
       "    }\n",
       "\n",
       "    .dataframe thead th {\n",
       "        text-align: right;\n",
       "    }\n",
       "</style>\n",
       "<table border=\"1\" class=\"dataframe\">\n",
       "  <thead>\n",
       "    <tr style=\"text-align: right;\">\n",
       "      <th></th>\n",
       "      <th>Zip Code</th>\n",
       "      <th>Tenure Months</th>\n",
       "      <th>Monthly Charges</th>\n",
       "      <th>Total Charges</th>\n",
       "      <th>Churn Label</th>\n",
       "      <th>Churn Score</th>\n",
       "      <th>CLTV</th>\n",
       "    </tr>\n",
       "    <tr>\n",
       "      <th>Phone Service</th>\n",
       "      <th></th>\n",
       "      <th></th>\n",
       "      <th></th>\n",
       "      <th></th>\n",
       "      <th></th>\n",
       "      <th></th>\n",
       "      <th></th>\n",
       "    </tr>\n",
       "  </thead>\n",
       "  <tbody>\n",
       "    <tr>\n",
       "      <th>No</th>\n",
       "      <td>93552.136364</td>\n",
       "      <td>31.737537</td>\n",
       "      <td>42.028592</td>\n",
       "      <td>1496.033651</td>\n",
       "      <td>0.249267</td>\n",
       "      <td>57.112903</td>\n",
       "      <td>4317.146628</td>\n",
       "    </tr>\n",
       "    <tr>\n",
       "      <th>Yes</th>\n",
       "      <td>93518.729759</td>\n",
       "      <td>32.439082</td>\n",
       "      <td>67.199041</td>\n",
       "      <td>2363.759432</td>\n",
       "      <td>0.267096</td>\n",
       "      <td>58.869517</td>\n",
       "      <td>4409.210659</td>\n",
       "    </tr>\n",
       "  </tbody>\n",
       "</table>\n",
       "</div>"
      ],
      "text/plain": [
       "                   Zip Code  Tenure Months  Monthly Charges  Total Charges  \\\n",
       "Phone Service                                                                \n",
       "No             93552.136364      31.737537        42.028592    1496.033651   \n",
       "Yes            93518.729759      32.439082        67.199041    2363.759432   \n",
       "\n",
       "               Churn Label  Churn Score         CLTV  \n",
       "Phone Service                                         \n",
       "No                0.249267    57.112903  4317.146628  \n",
       "Yes               0.267096    58.869517  4409.210659  "
      ]
     },
     "execution_count": 14,
     "metadata": {},
     "output_type": "execute_result"
    }
   ],
   "source": [
    "data.groupby('Phone Service').mean()"
   ]
  },
  {
   "cell_type": "code",
   "execution_count": 15,
   "id": "d24aae8a",
   "metadata": {},
   "outputs": [
    {
     "data": {
      "text/plain": [
       "Text(0, 0.5, 'Frequency of Churn')"
      ]
     },
     "execution_count": 15,
     "metadata": {},
     "output_type": "execute_result"
    },
    {
     "data": {
      "image/png": "[encoded data removed]",
      "text/plain": [
       "<Figure size 432x288 with 1 Axes>"
      ]
     },
     "metadata": {
      "needs_background": "light"
     },
     "output_type": "display_data"
    }
   ],
   "source": [
    "## Visualization\n",
    "pd.crosstab(data['Gender'], data['Churn Label']).plot(kind='bar')\n",
    "plt.title('Churn Frequency for Gender')\n",
    "plt.xlabel('Gender')\n",
    "plt.ylabel('Frequency of Churn')"
   ]
  },
  {
   "cell_type": "markdown",
   "id": "9d14bd0e",
   "metadata": {},
   "source": [
    "Not a good predictor"
   ]
  },
  {
   "cell_type": "code",
   "execution_count": 16,
   "id": "2e62bd9c",
   "metadata": {},
   "outputs": [
    {
     "data": {
      "text/plain": [
       "Text(0, 0.5, 'Frequency of Churn')"
      ]
     },
     "execution_count": 16,
     "metadata": {},
     "output_type": "execute_result"
    },
    {
     "data": {
      "image/png": "[encoded data removed]",
      "text/plain": [
       "<Figure size 432x288 with 1 Axes>"
      ]
     },
     "metadata": {
      "needs_background": "light"
     },
     "output_type": "display_data"
    }
   ],
   "source": [
    "## Visualization\n",
    "pd.crosstab(data['Senior Citizen'], data['Churn Label']).plot(kind='bar')\n",
    "plt.title('Churn Frequency for Senior Citizen')\n",
    "plt.xlabel('Senior Citizen')\n",
    "plt.ylabel('Frequency of Churn')\n"
   ]
  },
  {
   "cell_type": "markdown",
   "id": "a6d12947",
   "metadata": {},
   "source": [
    "This is a good predictor."
   ]
  },
  {
   "cell_type": "code",
   "execution_count": 17,
   "id": "a22ca569",
   "metadata": {},
   "outputs": [
    {
     "data": {
      "text/plain": [
       "Text(0, 0.5, 'Frequency of Churn')"
      ]
     },
     "execution_count": 17,
     "metadata": {},
     "output_type": "execute_result"
    },
    {
     "data": {
      "image/png": "[encoded data removed]",
      "text/plain": [
       "<Figure size 432x288 with 1 Axes>"
      ]
     },
     "metadata": {
      "needs_background": "light"
     },
     "output_type": "display_data"
    }
   ],
   "source": [
    "## Visualization\n",
    "pd.crosstab(data['Phone Service'], data['Churn Label']).plot(kind='bar')\n",
    "plt.title('Churn Frequency for Phone Service')\n",
    "plt.xlabel('Phone Service')\n",
    "plt.ylabel('Frequency of Churn')\n"
   ]
  },
  {
   "cell_type": "markdown",
   "id": "6570e0ab",
   "metadata": {},
   "source": [
    "'Phone Service' is a good predictor."
   ]
  },
  {
   "cell_type": "code",
   "execution_count": 18,
   "id": "7aa78170",
   "metadata": {},
   "outputs": [
    {
     "data": {
      "text/plain": [
       "Text(0, 0.5, 'Frequency of Churn')"
      ]
     },
     "execution_count": 18,
     "metadata": {},
     "output_type": "execute_result"
    },
    {
     "data": {
      "image/png": "[encoded data removed]",
      "text/plain": [
       "<Figure size 432x288 with 1 Axes>"
      ]
     },
     "metadata": {
      "needs_background": "light"
     },
     "output_type": "display_data"
    }
   ],
   "source": [
    "## Visualization\n",
    "pd.crosstab(data['Internet Service'], data['Churn Label']).plot(kind='bar')\n",
    "plt.title('Churn Frequency for Phone Service')\n",
    "plt.xlabel('Phone Service')\n",
    "plt.ylabel('Frequency of Churn')\n"
   ]
  },
  {
   "cell_type": "markdown",
   "id": "f0d664b5",
   "metadata": {},
   "source": [
    "'Internet Service' can be a good predictor."
   ]
  },
  {
   "cell_type": "code",
   "execution_count": 13,
   "id": "6c94d036",
   "metadata": {},
   "outputs": [],
   "source": [
    "## Create dummy variables\n",
    "g = data.columns.to_series().groupby(data.dtypes).groups\n",
    "\n",
    "cat_vars = []\n",
    "\n",
    "for k, v in g.items():\n",
    "    if k == object:\n",
    "        for i in range(len(v)):\n",
    "            cat_vars.append(v[i])\n",
    "\n",
    "for var in cat_vars:\n",
    "    cat_list = 'var' + '_' + var\n",
    "    cat_list = pd.get_dummies(data[var], prefix=var)\n",
    "    data1=data.join(cat_list)\n",
    "    data=data1\n",
    "    \n",
    "data_vars = data.columns.values.tolist()\n",
    "to_keep = [i for i in data_vars if i not in cat_vars]\n"
   ]
  },
  {
   "cell_type": "code",
   "execution_count": 14,
   "id": "f7be2891",
   "metadata": {},
   "outputs": [
    {
     "name": "stdout",
     "output_type": "stream",
     "text": [
      "Index(['Zip Code', 'Tenure Months', 'Monthly Charges', 'Total Charges',\n",
      "       'Churn Label', 'Churn Score', 'CLTV', 'City_Acampo', 'City_Acton',\n",
      "       'City_Adelanto',\n",
      "       ...\n",
      "       'Churn Reason_Lack of self-service on Website',\n",
      "       'Churn Reason_Limited range of services',\n",
      "       'Churn Reason_Long distance charges', 'Churn Reason_Moved',\n",
      "       'Churn Reason_Network reliability',\n",
      "       'Churn Reason_Poor expertise of online support',\n",
      "       'Churn Reason_Poor expertise of phone support',\n",
      "       'Churn Reason_Price too high', 'Churn Reason_Product dissatisfaction',\n",
      "       'Churn Reason_Service dissatisfaction'],\n",
      "      dtype='object', length=1192)\n"
     ]
    }
   ],
   "source": [
    "data_final = data[to_keep]\n",
    "print(data_final.columns)"
   ]
  },
  {
   "cell_type": "code",
   "execution_count": 16,
   "id": "88db6a7a",
   "metadata": {},
   "outputs": [],
   "source": [
    "X = data_final.loc[:, data_final.columns != 'Churn Label']\n",
    "y = data_final.loc[:, data_final.columns == 'Churn Label']\n",
    "y = y.astype('int')\n",
    "\n",
    "X_train, X_test, y_train, y_test = train_test_split(X,y,test_size=0.3, random_state=0)"
   ]
  },
  {
   "cell_type": "markdown",
   "id": "20639e5c",
   "metadata": {},
   "source": [
    "Note: Now it's a perfect balanced data. It only over-sampled on the training data. None of the information in the test data is being used to create synthetic observations, therefore, no information will bleed from test data into the model training."
   ]
  },
  {
   "cell_type": "code",
   "execution_count": 17,
   "id": "e5047c3f",
   "metadata": {},
   "outputs": [
    {
     "name": "stderr",
     "output_type": "stream",
     "text": [
      "/Users/hansangjun/anaconda3/lib/python3.7/site-packages/sklearn/utils/validation.py:993: DataConversionWarning: A column-vector y was passed when a 1d array was expected. Please change the shape of y to (n_samples, ), for example using ravel().\n",
      "  y = column_or_1d(y, warn=True)\n",
      "/Users/hansangjun/anaconda3/lib/python3.7/site-packages/sklearn/linear_model/_logistic.py:818: ConvergenceWarning: lbfgs failed to converge (status=1):\n",
      "STOP: TOTAL NO. of ITERATIONS REACHED LIMIT.\n",
      "\n",
      "Increase the number of iterations (max_iter) or scale the data as shown in:\n",
      "    https://scikit-learn.org/stable/modules/preprocessing.html\n",
      "Please also refer to the documentation for alternative solver options:\n",
      "    https://scikit-learn.org/stable/modules/linear_model.html#logistic-regression\n",
      "  extra_warning_msg=_LOGISTIC_SOLVER_CONVERGENCE_MSG,\n"
     ]
    },
    {
     "data": {
      "text/plain": [
       "LogisticRegression()"
      ]
     },
     "execution_count": 17,
     "metadata": {},
     "output_type": "execute_result"
    }
   ],
   "source": [
    "from sklearn.linear_model import LogisticRegression\n",
    "\n",
    "# perform Logistic Regression\n",
    "log_reg = LogisticRegression()\n",
    "log_reg.fit(X_train, y_train)"
   ]
  },
  {
   "cell_type": "code",
   "execution_count": 18,
   "id": "b090d03d",
   "metadata": {},
   "outputs": [
    {
     "data": {
      "text/plain": [
       "array([0, 0, 0, ..., 0, 0, 0])"
      ]
     },
     "execution_count": 18,
     "metadata": {},
     "output_type": "execute_result"
    }
   ],
   "source": [
    "y_pred = log_reg.predict(X_test)\n",
    "y_pred"
   ]
  },
  {
   "cell_type": "code",
   "execution_count": 30,
   "id": "ddd964b7",
   "metadata": {},
   "outputs": [
    {
     "data": {
      "text/plain": [
       "'Accuracy of logistic regression classifier on test set is 0.9157595835305253.'"
      ]
     },
     "execution_count": 30,
     "metadata": {},
     "output_type": "execute_result"
    }
   ],
   "source": [
    "score = log_reg.score(X_test, y_test)\n",
    "f\"Accuracy of logistic regression classifier on test set is {score}.\" # model is perfect when it close to 1."
   ]
  },
  {
   "cell_type": "code",
   "execution_count": 20,
   "id": "625621fd",
   "metadata": {},
   "outputs": [
    {
     "data": {
      "text/plain": [
       "array([[1480,   79],\n",
       "       [  99,  455]])"
      ]
     },
     "execution_count": 20,
     "metadata": {},
     "output_type": "execute_result"
    }
   ],
   "source": [
    "from sklearn.metrics import confusion_matrix\n",
    "confusion_matrix(y_test, y_pred) # 1480 + 79 is correct prediction, and 99 + 455 are not correct."
   ]
  },
  {
   "cell_type": "code",
   "execution_count": 21,
   "id": "5661d2c1",
   "metadata": {},
   "outputs": [
    {
     "name": "stdout",
     "output_type": "stream",
     "text": [
      "              precision    recall  f1-score   support\n",
      "\n",
      "           0       0.94      0.95      0.94      1559\n",
      "           1       0.85      0.82      0.84       554\n",
      "\n",
      "    accuracy                           0.92      2113\n",
      "   macro avg       0.89      0.89      0.89      2113\n",
      "weighted avg       0.91      0.92      0.92      2113\n",
      "\n"
     ]
    }
   ],
   "source": [
    "#\n",
    "from sklearn.metrics import classification_report\n",
    "print(classification_report(y_test, y_pred))"
   ]
  },
  {
   "cell_type": "code",
   "execution_count": 27,
   "id": "86e542d8",
   "metadata": {},
   "outputs": [
    {
     "data": {
      "image/png": "[encoded data removed]",
      "text/plain": [
       "<Figure size 432x288 with 1 Axes>"
      ]
     },
     "metadata": {
      "needs_background": "light"
     },
     "output_type": "display_data"
    }
   ],
   "source": [
    "# ROC Curve\n",
    "from sklearn.metrics import roc_auc_score\n",
    "from sklearn.metrics import roc_curve\n",
    "\n",
    "logit_roc_auc = roc_auc_score(y_test, log_reg.predict(X_test))\n",
    "fpr, tpr, thresholds = roc_curve(y_test, log_reg.predict_proba(X_test)[:,1])\n",
    "plt.figure()\n",
    "plt.plot(fpr, tpr, label = 'Logistic Regression' % logit_roc_auc)\n",
    "plt.plot([0,1], [0,1], 'r--')\n",
    "plt.xlim([0.0, 1.0])\n",
    "plt.ylim([0.0, 1.05])\n",
    "plt.xlabel('False Positive Rate')\n",
    "plt.ylabel('True Positive Rate')\n",
    "plt.title('Receiver operating characteristic')\n",
    "plt.legend(loc=\"lower right\")\n",
    "plt.show()"
   ]
  },
  {
   "cell_type": "markdown",
   "id": "fa6e6767",
   "metadata": {},
   "source": [
    "A good classifier stays as far away from that red dotted line as possible (toward the top-left corner)"
   ]
  }
 ],
 "metadata": {
  "kernelspec": {
   "display_name": "Python 3",
   "language": "python",
   "name": "python3"
  },
  "language_info": {
   "codemirror_mode": {
    "name": "ipython",
    "version": 3
   },
   "file_extension": ".py",
   "mimetype": "text/x-python",
   "name": "python",
   "nbconvert_exporter": "python",
   "pygments_lexer": "ipython3",
   "version": "3.7.1"
  }
 },
 "nbformat": 4,
 "nbformat_minor": 5
}
