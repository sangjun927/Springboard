{
 "cells": [
  {
   "cell_type": "code",
   "execution_count": 1,
   "id": "b1502cd0",
   "metadata": {},
   "outputs": [],
   "source": [
    "from pyspark.ml.tuning import ParamGridBuilder, CrossValidator\n",
    "from pyspark.ml.classification import GBTClassifier\n",
    "from pyspark.ml import Pipeline\n",
    "from pyspark.ml.feature import OneHotEncoder, StringIndexer, VectorAssembler\n",
    "from pyspark.ml.evaluation import BinaryClassificationEvaluator\n",
    "\n",
    "from pyspark.sql import SparkSession\n"
   ]
  },
  {
   "cell_type": "code",
   "execution_count": 2,
   "id": "049347c6",
   "metadata": {},
   "outputs": [
    {
     "name": "stdout",
     "output_type": "stream",
     "text": [
      "22/12/19 12:20:09 WARN Utils: Your hostname, hansangjuns-MacBook-Pro.local resolves to a loopback address: 127.0.0.1; using 192.168.0.13 instead (on interface en0)\n",
      "22/12/19 12:20:09 WARN Utils: Set SPARK_LOCAL_IP if you need to bind to another address\n"
     ]
    },
    {
     "name": "stderr",
     "output_type": "stream",
     "text": [
      "Setting default log level to \"WARN\".\n",
      "To adjust logging level use sc.setLogLevel(newLevel). For SparkR, use setLogLevel(newLevel).\n"
     ]
    },
    {
     "name": "stdout",
     "output_type": "stream",
     "text": [
      "22/12/19 12:20:09 WARN NativeCodeLoader: Unable to load native-hadoop library for your platform... using builtin-java classes where applicable\n"
     ]
    }
   ],
   "source": [
    "spark = SparkSession.builder.appName(\"Project3\").getOrCreate()"
   ]
  },
  {
   "cell_type": "code",
   "execution_count": 3,
   "id": "0d4ac107",
   "metadata": {},
   "outputs": [
    {
     "data": {
      "text/html": [
       "\n",
       "            <div>\n",
       "                <p><b>SparkSession - in-memory</b></p>\n",
       "                \n",
       "        <div>\n",
       "            <p><b>SparkContext</b></p>\n",
       "\n",
       "            <p><a href=\"http://192.168.0.13:4040\">Spark UI</a></p>\n",
       "\n",
       "            <dl>\n",
       "              <dt>Version</dt>\n",
       "                <dd><code>v3.3.1</code></dd>\n",
       "              <dt>Master</dt>\n",
       "                <dd><code>local[*]</code></dd>\n",
       "              <dt>AppName</dt>\n",
       "                <dd><code>Project3</code></dd>\n",
       "            </dl>\n",
       "        </div>\n",
       "        \n",
       "            </div>\n",
       "        "
      ],
      "text/plain": [
       "<pyspark.sql.session.SparkSession at 0x7fb6536137c0>"
      ]
     },
     "execution_count": 3,
     "metadata": {},
     "output_type": "execute_result"
    }
   ],
   "source": [
    "spark"
   ]
  },
  {
   "cell_type": "code",
   "execution_count": 29,
   "id": "0e8991ca",
   "metadata": {},
   "outputs": [
    {
     "name": "stdout",
     "output_type": "stream",
     "text": [
      "[Row(_c0=None, _c1='review', _c2='sentiment'), Row(_c0='11872', _c1='movie beyond awful pimple movie industry know every movie hit matter even average responsible party got together epic dud able see ticking time bomb hand help think cast would get together scene console massive heap dung hear getting paid nope understand flick likely made shoe string budget even taken account still could better wait appearance monster creature finally see big yawni mad spending stinker', _c2='0'), Row(_c0='40828', _c1='writing john carpenter halloween nearing th anniversary since spawned sequel remake whole mess imitation every year around halloween top scariest movie list always quite amazing film made budget around featured almost completely unknown cast coming young talent could go big question film hold today say fantastically pro simple spooky opening credit sequence really set mood unforgettable goosebump inducing score director co writer john carpenter alan howarth great cinematography stellar direction carpenter keep suspense high get great shot careful show much villain good performance mostly unknown cast good sense humor michael myers one scary evil guy lot eerie moment stay pace slow steady never drag unlike slasher film one suspense terror blood big body count con probably nearly scary many goof really stand final thought want start section saying favorite film series know popular opinion really feel despite truly important film keep reaching new generation film buff remade new generation mean forgotten way rating', _c2='1')]\n"
     ]
    }
   ],
   "source": [
    "df_pyspark = spark.read.csv('/Users/hansangjun/Desktop/Springboard/Capstone3/Data/IMDB_Cleaned.csv', multiLine=True)\n",
    "print(df_pyspark.head(3))"
   ]
  },
  {
   "cell_type": "code",
   "execution_count": 44,
   "id": "2d56f52b",
   "metadata": {},
   "outputs": [],
   "source": [
    "df_pyspark= spark.read.option('header','true').csv('/Users/hansangjun/Desktop/Springboard/Capstone3/Data/IMDB_Cleaned.csv')\n"
   ]
  },
  {
   "cell_type": "code",
   "execution_count": 45,
   "id": "007ec625",
   "metadata": {},
   "outputs": [
    {
     "name": "stdout",
     "output_type": "stream",
     "text": [
      "22/12/19 13:58:51 WARN CSVHeaderChecker: CSV header does not conform to the schema.\n",
      " Header: , review, sentiment\n",
      " Schema: _c0, review, sentiment\n",
      "Expected: _c0 but found: \n",
      "CSV file: file:///Users/hansangjun/Desktop/Springboard/Capstone3/Data/IMDB_Cleaned.csv\n",
      "+-----+--------------------+---------+\n",
      "|  _c0|              review|sentiment|\n",
      "+-----+--------------------+---------+\n",
      "|11872|movie beyond awfu...|        0|\n",
      "|40828|writing john carp...|        1|\n",
      "|36400|must admit slight...|        1|\n",
      "| 5166|oh dear bbc knock...|        0|\n",
      "|30273|totally average f...|        0|\n",
      "|31249|agree movie littl...|        1|\n",
      "|21872|would like see fi...|        1|\n",
      "|47728|planning schedule...|        0|\n",
      "| 7261|thomas hardy one ...|        0|\n",
      "| 6456|movie start bit i...|        0|\n",
      "|38487|yes might histori...|        0|\n",
      "|20175|enjoyed film much...|        1|\n",
      "|19256|really liked movi...|        1|\n",
      "|46207|first started wat...|        1|\n",
      "|35012|never met single ...|        1|\n",
      "|49112|ok show little un...|        1|\n",
      "|10962|standard disease ...|        0|\n",
      "| 1679|alexandr sascha l...|        1|\n",
      "|18759|story essentially...|        1|\n",
      "|22523|simply never tire...|        1|\n",
      "+-----+--------------------+---------+\n",
      "only showing top 20 rows\n",
      "\n"
     ]
    }
   ],
   "source": [
    "df_pyspark.show()"
   ]
  },
  {
   "cell_type": "code",
   "execution_count": 46,
   "id": "8c9dc9a2",
   "metadata": {},
   "outputs": [
    {
     "data": {
      "text/plain": [
       "['_c0', 'review', 'sentiment']"
      ]
     },
     "execution_count": 46,
     "metadata": {},
     "output_type": "execute_result"
    }
   ],
   "source": [
    "df_pyspark.columns"
   ]
  },
  {
   "cell_type": "code",
   "execution_count": 47,
   "id": "1d2d0db0",
   "metadata": {},
   "outputs": [
    {
     "name": "stdout",
     "output_type": "stream",
     "text": [
      "22/12/19 13:58:53 WARN CSVHeaderChecker: CSV header does not conform to the schema.\n",
      " Header: , review, sentiment\n",
      " Schema: _c0, review, sentiment\n",
      "Expected: _c0 but found: \n",
      "CSV file: file:///Users/hansangjun/Desktop/Springboard/Capstone3/Data/IMDB_Cleaned.csv\n"
     ]
    },
    {
     "data": {
      "text/plain": [
       "[Row(_c0='11872', review='movie beyond awful pimple movie industry know every movie hit matter even average responsible party got together epic dud able see ticking time bomb hand help think cast would get together scene console massive heap dung hear getting paid nope understand flick likely made shoe string budget even taken account still could better wait appearance monster creature finally see big yawni mad spending stinker', sentiment='0'),\n",
       " Row(_c0='40828', review='writing john carpenter halloween nearing th anniversary since spawned sequel remake whole mess imitation every year around halloween top scariest movie list always quite amazing film made budget around featured almost completely unknown cast coming young talent could go big question film hold today say fantastically pro simple spooky opening credit sequence really set mood unforgettable goosebump inducing score director co writer john carpenter alan howarth great cinematography stellar direction carpenter keep suspense high get great shot careful show much villain good performance mostly unknown cast good sense humor michael myers one scary evil guy lot eerie moment stay pace slow steady never drag unlike slasher film one suspense terror blood big body count con probably nearly scary many goof really stand final thought want start section saying favorite film series know popular opinion really feel despite truly important film keep reaching new generation film buff remade new generation mean forgotten way rating', sentiment='1'),\n",
       " Row(_c0='36400', review='must admit slight disappointment film read lot spectacular yet actual futuristic sequence age science take small amount film set excellent get startling image final sequence lacking many regard much best drama piece mid section play melodrama arising high concept science fiction nature insufficiently robust dialogue far human life part though great ralph richardson sailing gloriously top small dictator bos everytown loved richardson mannerism curt delivery line dismissing presence idea raymond massey aloof confident visitor bos posturing convincingly deluded figure unable realise small fry nature kingdom great role yet richardson make lot everytown presumably meant england least english town fairly representative england interesting complete avoidance religious side thing thing come seem revolve around conflict warlike barbarism faith science seems little ultimate goal go belated attempt raise argument tension last section concerning personal life yet one left quite unsatisfied film got much interest subtle complexity go barnstorming spectacle unsubtle blunt moralism every time course recall hedged bet finale raymond massey waxing lyrical uncertain thing concerning question film prediction must say bad considering one obviously allows impossible get detail life anything like right grander conception something war well perhaps predictable lasting nearly year mind nuclear bomb super gun contraption technocratic socialist believe independent nation state type government itain hmmm sadly nowhere near one chap real politics gone shame surface laudable anti war sentiment generally assumed dictatorship whether boneheaded luddite fascist bos hand pump scientific socialism deal implication oached must remember knowledge nazism communism would turn even turning lack consideration seems meek beside scope filmmaker vision matter much earlier stuff could cut opinion iefest stuff would necessary yet segment tends get rather ponderous age get richardson massey part would liked seen done margareta scott trifle sceptical cutting flashing eyed mediterranean figure negligible purpose character explored frankly explained exploited except one scene shall spoil relationship bos explored thing widespread institutional censorship back edward chapman mildly amusing two role first hapless chap praying war bluntly put another massey character massey help thing lot playing part mixture restraint gusto contrasting well largely diffident cast save richardson scott chapman slightly would say thing come undoubtedly extraordinary film made itain one serious itish science fiction film date indeed set piece design harnessing resource ravenous marvellous yet script ultimately earnest time place direction prone flatness though step scenic gear two upon occasion cinematographer mr richardson really salvage thing however respectively creating awed sense wonder technology engaging jerky performance consistently beguiles shame little substance real filmic conception whole thing powell pressburger would perfect director take task without peer among itish director daring visual storyteller great helmsman character dealer dialogue first rate thing come stand intriguing oddity well worth perusing yet far short metropolis ti much silly well word lang film yet nothing like astonishing force', sentiment='1')]"
      ]
     },
     "execution_count": 47,
     "metadata": {},
     "output_type": "execute_result"
    }
   ],
   "source": [
    " df_pyspark.head(3)"
   ]
  }
 ],
 "metadata": {
  "kernelspec": {
   "display_name": "Python 3 (ipykernel)",
   "language": "python",
   "name": "python3"
  },
  "language_info": {
   "codemirror_mode": {
    "name": "ipython",
    "version": 3
   },
   "file_extension": ".py",
   "mimetype": "text/x-python",
   "name": "python",
   "nbconvert_exporter": "python",
   "pygments_lexer": "ipython3",
   "version": "3.9.12"
  }
 },
 "nbformat": 4,
 "nbformat_minor": 5
}
