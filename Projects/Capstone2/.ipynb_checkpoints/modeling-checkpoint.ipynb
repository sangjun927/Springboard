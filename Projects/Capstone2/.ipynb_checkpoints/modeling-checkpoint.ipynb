{
 "cells": [
  {
   "cell_type": "markdown",
   "id": "8e53fa43",
   "metadata": {},
   "source": [
    "Summary of notebook:\n",
    "1. Import library\n",
    "2. Read pickle. (Pickle dataframe is already scaled with dummy variables)\n",
    "3. Split test and train dataset.\n",
    "4. Run two models and compare best value.\n",
    "5. Optimize random forest by using bayesian optimization and GridSearchCV.\n",
    "6. Optimize gradient boosting by using bayesian optimization and GridSearchCV."
   ]
  },
  {
   "cell_type": "markdown",
   "id": "e216c5bc",
   "metadata": {},
   "source": [
    "# 1. Imports"
   ]
  },
  {
   "cell_type": "code",
   "execution_count": 37,
   "id": "32c5b853",
   "metadata": {},
   "outputs": [],
   "source": [
    "import pandas as pd\n",
    "import numpy as np\n",
    "from sklearn import preprocessing\n",
    "from sklearn.preprocessing import StandardScaler\n",
    "from sklearn.model_selection import train_test_split, cross_validate, GridSearchCV, learning_curve\n",
    "\n",
    "from sklearn.metrics import precision_recall_curve\n",
    "from sklearn.metrics import f1_score\n",
    "from sklearn.metrics import auc\n",
    "from sklearn.linear_model import LogisticRegression\n",
    "from matplotlib import pyplot\n",
    "from sklearn.metrics import precision_recall_curve\n",
    "from sklearn.metrics import f1_score\n",
    "from sklearn.metrics import auc\n",
    "from sklearn.linear_model import LogisticRegression\n",
    "from sklearn.metrics import classification_report,confusion_matrix,roc_curve,roc_auc_score\n",
    "from sklearn.metrics import accuracy_score,log_loss\n",
    "from matplotlib import pyplot\n",
    "from sklearn.ensemble import RandomForestClassifier\n",
    "from sklearn.ensemble import GradientBoostingClassifier\n",
    "import matplotlib.pyplot as plt\n",
    "\n",
    "from sklearn import metrics\n",
    "from sklearn.metrics import roc_auc_score"
   ]
  },
  {
   "cell_type": "markdown",
   "id": "e7981324",
   "metadata": {},
   "source": [
    "# 2. Read Pickle"
   ]
  },
  {
   "cell_type": "code",
   "execution_count": 2,
   "id": "db688e81",
   "metadata": {},
   "outputs": [],
   "source": [
    "# Dataframe is already scaled with dummy variables\n",
    "df = pd.read_pickle('df_preprocessed.pkl')"
   ]
  },
  {
   "cell_type": "code",
   "execution_count": 3,
   "id": "106abd44",
   "metadata": {},
   "outputs": [
    {
     "data": {
      "text/html": [
       "<div>\n",
       "<style scoped>\n",
       "    .dataframe tbody tr th:only-of-type {\n",
       "        vertical-align: middle;\n",
       "    }\n",
       "\n",
       "    .dataframe tbody tr th {\n",
       "        vertical-align: top;\n",
       "    }\n",
       "\n",
       "    .dataframe thead th {\n",
       "        text-align: right;\n",
       "    }\n",
       "</style>\n",
       "<table border=\"1\" class=\"dataframe\">\n",
       "  <thead>\n",
       "    <tr style=\"text-align: right;\">\n",
       "      <th></th>\n",
       "      <th>Tenure Months_SS</th>\n",
       "      <th>Monthly Charges_SS</th>\n",
       "      <th>Total Charges_SS</th>\n",
       "      <th>Churn Score_SS</th>\n",
       "      <th>CLTV_SS</th>\n",
       "      <th>Churn Label</th>\n",
       "      <th>Gender_Female</th>\n",
       "      <th>Gender_Male</th>\n",
       "      <th>Senior Citizen_No</th>\n",
       "      <th>Senior Citizen_Yes</th>\n",
       "      <th>...</th>\n",
       "      <th>Churn Reason_Lack of self-service on Website</th>\n",
       "      <th>Churn Reason_Limited range of services</th>\n",
       "      <th>Churn Reason_Long distance charges</th>\n",
       "      <th>Churn Reason_Moved</th>\n",
       "      <th>Churn Reason_Network reliability</th>\n",
       "      <th>Churn Reason_Poor expertise of online support</th>\n",
       "      <th>Churn Reason_Poor expertise of phone support</th>\n",
       "      <th>Churn Reason_Price too high</th>\n",
       "      <th>Churn Reason_Product dissatisfaction</th>\n",
       "      <th>Churn Reason_Service dissatisfaction</th>\n",
       "    </tr>\n",
       "  </thead>\n",
       "  <tbody>\n",
       "    <tr>\n",
       "      <th>0</th>\n",
       "      <td>-1.236724</td>\n",
       "      <td>-0.362660</td>\n",
       "      <td>-0.958066</td>\n",
       "      <td>1.268402</td>\n",
       "      <td>-0.981675</td>\n",
       "      <td>1</td>\n",
       "      <td>0</td>\n",
       "      <td>1</td>\n",
       "      <td>1</td>\n",
       "      <td>0</td>\n",
       "      <td>...</td>\n",
       "      <td>0</td>\n",
       "      <td>0</td>\n",
       "      <td>0</td>\n",
       "      <td>0</td>\n",
       "      <td>0</td>\n",
       "      <td>0</td>\n",
       "      <td>0</td>\n",
       "      <td>0</td>\n",
       "      <td>0</td>\n",
       "      <td>0</td>\n",
       "    </tr>\n",
       "    <tr>\n",
       "      <th>1</th>\n",
       "      <td>-1.236724</td>\n",
       "      <td>0.197365</td>\n",
       "      <td>-0.938874</td>\n",
       "      <td>0.385650</td>\n",
       "      <td>-1.436462</td>\n",
       "      <td>1</td>\n",
       "      <td>1</td>\n",
       "      <td>0</td>\n",
       "      <td>1</td>\n",
       "      <td>0</td>\n",
       "      <td>...</td>\n",
       "      <td>0</td>\n",
       "      <td>0</td>\n",
       "      <td>0</td>\n",
       "      <td>1</td>\n",
       "      <td>0</td>\n",
       "      <td>0</td>\n",
       "      <td>0</td>\n",
       "      <td>0</td>\n",
       "      <td>0</td>\n",
       "      <td>0</td>\n",
       "    </tr>\n",
       "    <tr>\n",
       "      <th>2</th>\n",
       "      <td>-0.992402</td>\n",
       "      <td>1.159546</td>\n",
       "      <td>-0.643789</td>\n",
       "      <td>1.268402</td>\n",
       "      <td>0.821409</td>\n",
       "      <td>1</td>\n",
       "      <td>1</td>\n",
       "      <td>0</td>\n",
       "      <td>1</td>\n",
       "      <td>0</td>\n",
       "      <td>...</td>\n",
       "      <td>0</td>\n",
       "      <td>0</td>\n",
       "      <td>0</td>\n",
       "      <td>1</td>\n",
       "      <td>0</td>\n",
       "      <td>0</td>\n",
       "      <td>0</td>\n",
       "      <td>0</td>\n",
       "      <td>0</td>\n",
       "      <td>0</td>\n",
       "    </tr>\n",
       "    <tr>\n",
       "      <th>3</th>\n",
       "      <td>-0.177995</td>\n",
       "      <td>1.330711</td>\n",
       "      <td>0.338085</td>\n",
       "      <td>1.175481</td>\n",
       "      <td>0.509483</td>\n",
       "      <td>1</td>\n",
       "      <td>1</td>\n",
       "      <td>0</td>\n",
       "      <td>1</td>\n",
       "      <td>0</td>\n",
       "      <td>...</td>\n",
       "      <td>0</td>\n",
       "      <td>0</td>\n",
       "      <td>0</td>\n",
       "      <td>1</td>\n",
       "      <td>0</td>\n",
       "      <td>0</td>\n",
       "      <td>0</td>\n",
       "      <td>0</td>\n",
       "      <td>0</td>\n",
       "      <td>0</td>\n",
       "    </tr>\n",
       "    <tr>\n",
       "      <th>4</th>\n",
       "      <td>0.677133</td>\n",
       "      <td>1.294151</td>\n",
       "      <td>1.216150</td>\n",
       "      <td>1.407784</td>\n",
       "      <td>0.794358</td>\n",
       "      <td>1</td>\n",
       "      <td>0</td>\n",
       "      <td>1</td>\n",
       "      <td>1</td>\n",
       "      <td>0</td>\n",
       "      <td>...</td>\n",
       "      <td>0</td>\n",
       "      <td>0</td>\n",
       "      <td>0</td>\n",
       "      <td>0</td>\n",
       "      <td>0</td>\n",
       "      <td>0</td>\n",
       "      <td>0</td>\n",
       "      <td>0</td>\n",
       "      <td>0</td>\n",
       "      <td>0</td>\n",
       "    </tr>\n",
       "  </tbody>\n",
       "</table>\n",
       "<p>5 rows × 62 columns</p>\n",
       "</div>"
      ],
      "text/plain": [
       "   Tenure Months_SS  Monthly Charges_SS  Total Charges_SS  Churn Score_SS  \\\n",
       "0         -1.236724           -0.362660         -0.958066        1.268402   \n",
       "1         -1.236724            0.197365         -0.938874        0.385650   \n",
       "2         -0.992402            1.159546         -0.643789        1.268402   \n",
       "3         -0.177995            1.330711          0.338085        1.175481   \n",
       "4          0.677133            1.294151          1.216150        1.407784   \n",
       "\n",
       "    CLTV_SS Churn Label  Gender_Female  Gender_Male  Senior Citizen_No  \\\n",
       "0 -0.981675           1              0            1                  1   \n",
       "1 -1.436462           1              1            0                  1   \n",
       "2  0.821409           1              1            0                  1   \n",
       "3  0.509483           1              1            0                  1   \n",
       "4  0.794358           1              0            1                  1   \n",
       "\n",
       "   Senior Citizen_Yes  ...  Churn Reason_Lack of self-service on Website  \\\n",
       "0                   0  ...                                             0   \n",
       "1                   0  ...                                             0   \n",
       "2                   0  ...                                             0   \n",
       "3                   0  ...                                             0   \n",
       "4                   0  ...                                             0   \n",
       "\n",
       "   Churn Reason_Limited range of services  Churn Reason_Long distance charges  \\\n",
       "0                                       0                                   0   \n",
       "1                                       0                                   0   \n",
       "2                                       0                                   0   \n",
       "3                                       0                                   0   \n",
       "4                                       0                                   0   \n",
       "\n",
       "   Churn Reason_Moved  Churn Reason_Network reliability  \\\n",
       "0                   0                                 0   \n",
       "1                   1                                 0   \n",
       "2                   1                                 0   \n",
       "3                   1                                 0   \n",
       "4                   0                                 0   \n",
       "\n",
       "   Churn Reason_Poor expertise of online support  \\\n",
       "0                                              0   \n",
       "1                                              0   \n",
       "2                                              0   \n",
       "3                                              0   \n",
       "4                                              0   \n",
       "\n",
       "   Churn Reason_Poor expertise of phone support  Churn Reason_Price too high  \\\n",
       "0                                             0                            0   \n",
       "1                                             0                            0   \n",
       "2                                             0                            0   \n",
       "3                                             0                            0   \n",
       "4                                             0                            0   \n",
       "\n",
       "   Churn Reason_Product dissatisfaction  Churn Reason_Service dissatisfaction  \n",
       "0                                     0                                     0  \n",
       "1                                     0                                     0  \n",
       "2                                     0                                     0  \n",
       "3                                     0                                     0  \n",
       "4                                     0                                     0  \n",
       "\n",
       "[5 rows x 62 columns]"
      ]
     },
     "execution_count": 3,
     "metadata": {},
     "output_type": "execute_result"
    }
   ],
   "source": [
    "df.head()"
   ]
  },
  {
   "cell_type": "markdown",
   "id": "3d404bac",
   "metadata": {},
   "source": [
    "# 3. Split Dataset"
   ]
  },
  {
   "cell_type": "code",
   "execution_count": 4,
   "id": "7b78a518",
   "metadata": {},
   "outputs": [],
   "source": [
    "X = df.loc[:, df.columns != 'Churn Label']\n",
    "y = df.loc[:, df.columns == 'Churn Label']\n",
    "\n",
    "X_train, X_test, y_train, y_test = train_test_split(X,y,test_size=0.3, random_state=0)"
   ]
  },
  {
   "cell_type": "code",
   "execution_count": 5,
   "id": "7aa661cb",
   "metadata": {},
   "outputs": [
    {
     "name": "stdout",
     "output_type": "stream",
     "text": [
      "(4930, 61)\n",
      "(2113, 61)\n",
      "(4930, 1)\n",
      "(2113, 1)\n"
     ]
    }
   ],
   "source": [
    "# check the dimension of the splited dataset\n",
    "print(X_train.shape)\n",
    "print(X_test.shape)\n",
    "print(y_train.shape)\n",
    "print(y_test.shape)"
   ]
  },
  {
   "cell_type": "code",
   "execution_count": 6,
   "id": "a8ab0aa1",
   "metadata": {},
   "outputs": [],
   "source": [
    "y_train = y_train.astype(int)\n",
    "y_test = y_test.astype(int)"
   ]
  },
  {
   "cell_type": "markdown",
   "id": "8dd46d58",
   "metadata": {},
   "source": [
    "# 4. Choose Models"
   ]
  },
  {
   "cell_type": "markdown",
   "id": "13c0f292",
   "metadata": {},
   "source": [
    "## 4-1 Random Forest"
   ]
  },
  {
   "cell_type": "code",
   "execution_count": 131,
   "id": "ea2b6643",
   "metadata": {},
   "outputs": [],
   "source": [
    "clf = RandomForestClassifier(n_estimators=300, random_state=100,n_jobs=-1, max_depth =3)\n",
    "model_res = clf.fit(X_train, y_train.values.ravel())\n",
    "y_pred = model_res.predict(X_test)\n",
    "ac = accuracy_score(y_test, y_pred)\n",
    "f1 = f1_score(y_test, y_pred, average='weighted')\n",
    "cm = confusion_matrix(y_test, y_pred)\n"
   ]
  },
  {
   "cell_type": "code",
   "execution_count": 132,
   "id": "8ea07550",
   "metadata": {},
   "outputs": [
    {
     "name": "stdout",
     "output_type": "stream",
     "text": [
      "0.8930430667297681\n",
      "accuracy score is 0.8930430667297681.\n",
      "f1 score is 0.8829542419292054.\n"
     ]
    }
   ],
   "source": [
    "print(model_res.score(X_test, y_test))\n",
    "\n",
    "print(f\"accuracy score is {ac}.\")\n",
    "print(f\"f1 score is {f1}.\")\n",
    "\n",
    "#f1 = f1_score(y_test, y_pred, average='weighted')\n",
    "#cm = confusion_matrix(y_test, y_pred)"
   ]
  },
  {
   "cell_type": "code",
   "execution_count": 25,
   "id": "b7cdba8c",
   "metadata": {},
   "outputs": [
    {
     "name": "stdout",
     "output_type": "stream",
     "text": [
      "[[1541   18]\n",
      " [  22  532]]\n"
     ]
    }
   ],
   "source": [
    "# confusion matrix\n",
    "print(cm)\n",
    "print(classification_report(y_test, y_pred))"
   ]
  },
  {
   "cell_type": "markdown",
   "id": "52d42284",
   "metadata": {},
   "source": [
    "## 4-2 Gradient Boosting"
   ]
  },
  {
   "cell_type": "code",
   "execution_count": 146,
   "id": "1e9e1c66",
   "metadata": {},
   "outputs": [
    {
     "name": "stdout",
     "output_type": "stream",
     "text": [
      "Learning rate:  0.05\n",
      "Accuracy score (training): 0.738\n",
      "Accuracy score (validation): 0.741\n",
      "\n",
      "Learning rate:  0.1\n",
      "Accuracy score (training): 0.846\n",
      "Accuracy score (validation): 0.847\n",
      "\n",
      "Learning rate:  0.25\n",
      "Accuracy score (training): 0.928\n",
      "Accuracy score (validation): 0.932\n",
      "\n",
      "Learning rate:  0.5\n",
      "Accuracy score (training): 0.944\n",
      "Accuracy score (validation): 0.941\n",
      "\n",
      "Learning rate:  0.75\n",
      "Accuracy score (training): 0.951\n",
      "Accuracy score (validation): 0.945\n",
      "\n",
      "Learning rate:  1\n",
      "Accuracy score (training): 0.947\n",
      "Accuracy score (validation): 0.940\n",
      "\n"
     ]
    }
   ],
   "source": [
    "learning_rates = [0.05, 0.1, 0.25, 0.5, 0.75, 1]\n",
    "for learning_rate in learning_rates:\n",
    "    gb = GradientBoostingClassifier(n_estimators=20, learning_rate = learning_rate, max_features=2, max_depth = 2, random_state = 0)\n",
    "    gb.fit(X_train, y_train.values.ravel())\n",
    "    print(\"Learning rate: \", learning_rate)\n",
    "    print(\"Accuracy score (training): {0:.3f}\".format(gb.score(X_train, y_train)))\n",
    "    print(\"Accuracy score (validation): {0:.3f}\".format(gb.score(X_test, y_test)))\n",
    "    print()"
   ]
  },
  {
   "cell_type": "markdown",
   "id": "9785f15d",
   "metadata": {},
   "source": [
    "It turns that out learning rate 0.75 has the highest accuracy score."
   ]
  },
  {
   "cell_type": "code",
   "execution_count": 33,
   "id": "b290c3c3",
   "metadata": {},
   "outputs": [
    {
     "name": "stdout",
     "output_type": "stream",
     "text": [
      "[[1527   32]\n",
      " [ 130  424]]\n",
      "              precision    recall  f1-score   support\n",
      "\n",
      "           0       0.92      0.98      0.95      1559\n",
      "           1       0.93      0.77      0.84       554\n",
      "\n",
      "    accuracy                           0.92      2113\n",
      "   macro avg       0.93      0.87      0.89      2113\n",
      "weighted avg       0.92      0.92      0.92      2113\n",
      "\n"
     ]
    }
   ],
   "source": [
    "gb = GradientBoostingClassifier(n_estimators=20, learning_rate = 0.75, max_features=2, max_depth = 2, random_state = 1)\n",
    "gb_fit = gb.fit(X_train, y_train.values.ravel())\n",
    "y_pred = gb_fit.predict(X_test)\n",
    "\n",
    "print(confusion_matrix(y_test, y_pred))\n",
    "print(classification_report(y_test, y_pred))"
   ]
  },
  {
   "cell_type": "code",
   "execution_count": 38,
   "id": "3ebf2867",
   "metadata": {},
   "outputs": [
    {
     "name": "stdout",
     "output_type": "stream",
     "text": [
      "0.9567221189182179\n"
     ]
    },
    {
     "data": {
      "image/png": "[encoded data removed]",
      "text/plain": [
       "<Figure size 432x288 with 1 Axes>"
      ]
     },
     "metadata": {
      "needs_background": "light"
     },
     "output_type": "display_data"
    }
   ],
   "source": [
    "# ROC Curve\n",
    "y_pred_prob = gb_fit.predict_proba(X_test)[::,1]\n",
    "fpr, tpr, _ = metrics.roc_curve(y_test,  y_pred_prob)\n",
    "\n",
    "print(roc_auc_score(y_test, y_pred_prob))\n",
    "\n",
    "\n",
    "#create ROC curve\n",
    "plt.plot(fpr,tpr)\n",
    "plt.ylabel('True Positive Rate')\n",
    "plt.xlabel('False Positive Rate')\n",
    "plt.show()"
   ]
  },
  {
   "cell_type": "markdown",
   "id": "fe95b9dc",
   "metadata": {},
   "source": [
    "Gradient boosting (0.945) gives better result than random forest (0.8930430667297681). Now, I am going to optimize models by using bayesian optimization and GridSearchCV."
   ]
  },
  {
   "cell_type": "markdown",
   "id": "ed593327",
   "metadata": {},
   "source": [
    "# 5. Optimization - Random Forest"
   ]
  },
  {
   "cell_type": "markdown",
   "id": "ade5aa65",
   "metadata": {},
   "source": [
    "## 5-1. Bayesian Optimization"
   ]
  },
  {
   "cell_type": "code",
   "execution_count": 204,
   "id": "c28df061",
   "metadata": {},
   "outputs": [],
   "source": [
    "from bayes_opt import BayesianOptimization"
   ]
  },
  {
   "cell_type": "code",
   "execution_count": 205,
   "id": "9c85715f",
   "metadata": {},
   "outputs": [],
   "source": [
    "def objective(ne, nj, md):\n",
    "    regressor = RandomForestClassifier(n_estimators=int(ne), n_jobs=int(nj), max_depth=int(md))\n",
    "\n",
    "    regressor.fit(X_train, y_train.values.ravel())\n",
    "\n",
    "    return regressor.score(X_test, y_test)"
   ]
  },
  {
   "cell_type": "markdown",
   "id": "491ae871",
   "metadata": {},
   "source": [
    "I am going to tune three parameters: n_estimators, n_jobs, and max_depth."
   ]
  },
  {
   "cell_type": "code",
   "execution_count": 206,
   "id": "348908a9",
   "metadata": {},
   "outputs": [],
   "source": [
    "search_space = {\n",
    "    \"ne\": (1, 1000),\n",
    "    \"nj\": (1, 5),\n",
    "    \"md\": (2,6)\n",
    "}"
   ]
  },
  {
   "cell_type": "code",
   "execution_count": 207,
   "id": "57966b9d",
   "metadata": {},
   "outputs": [],
   "source": [
    "optimizer = BayesianOptimization(\n",
    "                                f=objective,\n",
    "                                pbounds=search_space,\n",
    "                                random_state=100\n",
    "                              )"
   ]
  },
  {
   "cell_type": "code",
   "execution_count": 208,
   "id": "a0f3983e",
   "metadata": {
    "scrolled": false
   },
   "outputs": [
    {
     "name": "stdout",
     "output_type": "stream",
     "text": [
      "|   iter    |  target   |    md     |    ne     |    nj     |\n",
      "-------------------------------------------------------------\n",
      "| \u001b[0m 1       \u001b[0m | \u001b[0m 0.9309  \u001b[0m | \u001b[0m 4.174   \u001b[0m | \u001b[0m 279.1   \u001b[0m | \u001b[0m 2.698   \u001b[0m |\n",
      "| \u001b[0m 2       \u001b[0m | \u001b[0m 0.9143  \u001b[0m | \u001b[0m 5.379   \u001b[0m | \u001b[0m 5.714   \u001b[0m | \u001b[0m 1.486   \u001b[0m |\n",
      "| \u001b[95m 3       \u001b[0m | \u001b[95m 0.9319  \u001b[0m | \u001b[95m 4.683   \u001b[0m | \u001b[95m 826.0   \u001b[0m | \u001b[95m 1.547   \u001b[0m |\n",
      "| \u001b[0m 4       \u001b[0m | \u001b[0m 0.9314  \u001b[0m | \u001b[0m 4.3     \u001b[0m | \u001b[0m 891.4   \u001b[0m | \u001b[0m 1.837   \u001b[0m |\n",
      "| \u001b[0m 5       \u001b[0m | \u001b[0m 0.8301  \u001b[0m | \u001b[0m 2.741   \u001b[0m | \u001b[0m 109.3   \u001b[0m | \u001b[0m 1.879   \u001b[0m |\n",
      "| \u001b[0m 6       \u001b[0m | \u001b[0m 0.8954  \u001b[0m | \u001b[0m 3.029   \u001b[0m | \u001b[0m 826.0   \u001b[0m | \u001b[0m 1.318   \u001b[0m |\n",
      "| \u001b[0m 7       \u001b[0m | \u001b[0m 0.9285  \u001b[0m | \u001b[0m 4.138   \u001b[0m | \u001b[0m 381.3   \u001b[0m | \u001b[0m 4.856   \u001b[0m |\n",
      "| \u001b[0m 8       \u001b[0m | \u001b[0m 0.9257  \u001b[0m | \u001b[0m 4.409   \u001b[0m | \u001b[0m 72.69   \u001b[0m | \u001b[0m 2.099   \u001b[0m |\n",
      "| \u001b[0m 9       \u001b[0m | \u001b[0m 0.8041  \u001b[0m | \u001b[0m 2.746   \u001b[0m | \u001b[0m 340.5   \u001b[0m | \u001b[0m 2.613   \u001b[0m |\n",
      "| \u001b[95m 10      \u001b[0m | \u001b[95m 0.9437  \u001b[0m | \u001b[95m 5.748   \u001b[0m | \u001b[95m 827.9   \u001b[0m | \u001b[95m 2.998   \u001b[0m |\n",
      "| \u001b[95m 11      \u001b[0m | \u001b[95m 0.946   \u001b[0m | \u001b[95m 5.788   \u001b[0m | \u001b[95m 823.3   \u001b[0m | \u001b[95m 4.736   \u001b[0m |\n",
      "| \u001b[0m 12      \u001b[0m | \u001b[0m 0.9437  \u001b[0m | \u001b[0m 5.455   \u001b[0m | \u001b[0m 817.0   \u001b[0m | \u001b[0m 2.66    \u001b[0m |\n",
      "| \u001b[95m 13      \u001b[0m | \u001b[95m 0.9498  \u001b[0m | \u001b[95m 6.0     \u001b[0m | \u001b[95m 810.9   \u001b[0m | \u001b[95m 5.0     \u001b[0m |\n",
      "| \u001b[0m 14      \u001b[0m | \u001b[0m 0.7998  \u001b[0m | \u001b[0m 2.011   \u001b[0m | \u001b[0m 811.4   \u001b[0m | \u001b[0m 1.481   \u001b[0m |\n",
      "| \u001b[0m 15      \u001b[0m | \u001b[0m 0.9451  \u001b[0m | \u001b[0m 5.802   \u001b[0m | \u001b[0m 820.4   \u001b[0m | \u001b[0m 2.34    \u001b[0m |\n",
      "| \u001b[0m 16      \u001b[0m | \u001b[0m 0.8883  \u001b[0m | \u001b[0m 3.421   \u001b[0m | \u001b[0m 818.7   \u001b[0m | \u001b[0m 4.925   \u001b[0m |\n",
      "| \u001b[0m 17      \u001b[0m | \u001b[0m 0.9442  \u001b[0m | \u001b[0m 5.948   \u001b[0m | \u001b[0m 832.5   \u001b[0m | \u001b[0m 3.138   \u001b[0m |\n",
      "| \u001b[0m 18      \u001b[0m | \u001b[0m 0.8178  \u001b[0m | \u001b[0m 2.432   \u001b[0m | \u001b[0m 834.2   \u001b[0m | \u001b[0m 4.84    \u001b[0m |\n",
      "| \u001b[95m 19      \u001b[0m | \u001b[95m 0.9508  \u001b[0m | \u001b[95m 6.0     \u001b[0m | \u001b[95m 830.4   \u001b[0m | \u001b[95m 1.0     \u001b[0m |\n",
      "| \u001b[0m 20      \u001b[0m | \u001b[0m 0.9442  \u001b[0m | \u001b[0m 5.897   \u001b[0m | \u001b[0m 806.3   \u001b[0m | \u001b[0m 4.718   \u001b[0m |\n",
      "| \u001b[0m 21      \u001b[0m | \u001b[0m 0.9451  \u001b[0m | \u001b[0m 5.777   \u001b[0m | \u001b[0m 801.0   \u001b[0m | \u001b[0m 4.841   \u001b[0m |\n",
      "| \u001b[0m 22      \u001b[0m | \u001b[0m 0.8907  \u001b[0m | \u001b[0m 3.209   \u001b[0m | \u001b[0m 802.1   \u001b[0m | \u001b[0m 1.783   \u001b[0m |\n",
      "| \u001b[0m 23      \u001b[0m | \u001b[0m 0.9427  \u001b[0m | \u001b[0m 5.505   \u001b[0m | \u001b[0m 796.9   \u001b[0m | \u001b[0m 4.603   \u001b[0m |\n",
      "| \u001b[0m 24      \u001b[0m | \u001b[0m 0.9442  \u001b[0m | \u001b[0m 5.349   \u001b[0m | \u001b[0m 791.8   \u001b[0m | \u001b[0m 3.33    \u001b[0m |\n",
      "| \u001b[0m 25      \u001b[0m | \u001b[0m 0.823   \u001b[0m | \u001b[0m 2.556   \u001b[0m | \u001b[0m 794.5   \u001b[0m | \u001b[0m 1.43    \u001b[0m |\n",
      "| \u001b[0m 26      \u001b[0m | \u001b[0m 0.9442  \u001b[0m | \u001b[0m 5.507   \u001b[0m | \u001b[0m 789.4   \u001b[0m | \u001b[0m 4.982   \u001b[0m |\n",
      "| \u001b[0m 27      \u001b[0m | \u001b[0m 0.9427  \u001b[0m | \u001b[0m 5.864   \u001b[0m | \u001b[0m 786.9   \u001b[0m | \u001b[0m 1.74    \u001b[0m |\n",
      "| \u001b[0m 28      \u001b[0m | \u001b[0m 0.8064  \u001b[0m | \u001b[0m 2.0     \u001b[0m | \u001b[0m 787.0   \u001b[0m | \u001b[0m 4.294   \u001b[0m |\n",
      "| \u001b[0m 29      \u001b[0m | \u001b[0m 0.9498  \u001b[0m | \u001b[0m 6.0     \u001b[0m | \u001b[0m 826.0   \u001b[0m | \u001b[0m 5.0     \u001b[0m |\n",
      "| \u001b[0m 30      \u001b[0m | \u001b[0m 0.8292  \u001b[0m | \u001b[0m 2.164   \u001b[0m | \u001b[0m 887.0   \u001b[0m | \u001b[0m 1.993   \u001b[0m |\n",
      "=============================================================\n"
     ]
    }
   ],
   "source": [
    "optimizer.maximize()"
   ]
  },
  {
   "cell_type": "code",
   "execution_count": 209,
   "id": "25095220",
   "metadata": {},
   "outputs": [
    {
     "data": {
      "text/plain": [
       "{'target': 0.950780880265026,\n",
       " 'params': {'md': 6.0, 'ne': 830.396200906655, 'nj': 1.0}}"
      ]
     },
     "execution_count": 209,
     "metadata": {},
     "output_type": "execute_result"
    }
   ],
   "source": [
    "optimizer.max"
   ]
  },
  {
   "cell_type": "markdown",
   "id": "22dd8b79",
   "metadata": {},
   "source": [
    "The best target value is '0.950780880265026' with the parameters of 'md': 6.0, 'ne': 830.396200906655, 'nj': 1.0."
   ]
  },
  {
   "cell_type": "markdown",
   "id": "1012c420",
   "metadata": {},
   "source": [
    "## 5-2. GridSearchCV"
   ]
  },
  {
   "cell_type": "code",
   "execution_count": 210,
   "id": "5db1bb68",
   "metadata": {},
   "outputs": [
    {
     "data": {
      "text/plain": [
       "GridSearchCV(cv=5, estimator=RandomForestClassifier(random_state=100),\n",
       "             param_grid={'max_depth': (1, 6),\n",
       "                         'n_estimators': [100, 200, 500, 1000],\n",
       "                         'n_jobs': (1, 5)})"
      ]
     },
     "execution_count": 210,
     "metadata": {},
     "output_type": "execute_result"
    }
   ],
   "source": [
    "model = RandomForestClassifier(random_state=100)\n",
    "param_grid = {'n_estimators': [100, 200, 500, 1000], 'n_jobs': (1,5), 'max_depth':(1,6)}\n",
    "\n",
    "model_cv= GridSearchCV(model, param_grid, cv=5)\n",
    "model_cv.fit(X_train,y_train.values.ravel())"
   ]
  },
  {
   "cell_type": "markdown",
   "id": "1c38d1d3",
   "metadata": {},
   "source": [
    "I am going to tune n_estimators, n_jobs, and max_depth by using GridSearchCV."
   ]
  },
  {
   "cell_type": "code",
   "execution_count": 211,
   "id": "05600c63",
   "metadata": {},
   "outputs": [
    {
     "name": "stdout",
     "output_type": "stream",
     "text": [
      "Best Score:0.9492900608519269\n",
      "Best Parameters: {'max_depth': 6, 'n_estimators': 500, 'n_jobs': 1}\n"
     ]
    }
   ],
   "source": [
    "print(\"Best Score:\" + str(model_cv.best_score_))\n",
    "print(\"Best Parameters: \" + str(model_cv.best_params_))"
   ]
  },
  {
   "cell_type": "markdown",
   "id": "0f31ffeb",
   "metadata": {},
   "source": [
    "GridSearchCV result is a bit different from bayesian optimization. Bayesian has better taget value. "
   ]
  },
  {
   "cell_type": "markdown",
   "id": "5c5cc83b",
   "metadata": {},
   "source": [
    "# 6. Optimization - Gradient Boosting"
   ]
  },
  {
   "cell_type": "markdown",
   "id": "e3933c48",
   "metadata": {},
   "source": [
    "## 6-1. Bayesian Optimization"
   ]
  },
  {
   "cell_type": "code",
   "execution_count": 197,
   "id": "859c7a98",
   "metadata": {},
   "outputs": [],
   "source": [
    "def objective(ne, md, mf):\n",
    "    regressor = GradientBoostingClassifier(n_estimators=int(ne), learning_rate = 0.75, max_depth=int(md), max_features=int(mf), random_state = 100)\n",
    "\n",
    "    regressor.fit(X_train, y_train.values.ravel())\n",
    "\n",
    "    return regressor.score(X_test, y_test)"
   ]
  },
  {
   "cell_type": "markdown",
   "id": "bea95f24",
   "metadata": {},
   "source": [
    "I am going to tune three parameters: n_estimators, max_features, and max_depth."
   ]
  },
  {
   "cell_type": "code",
   "execution_count": 198,
   "id": "533c68fe",
   "metadata": {},
   "outputs": [],
   "source": [
    "search_space = {\n",
    "    \"ne\": (1, 1000),\n",
    "    \"md\": (1,6),\n",
    "    \"mf\": (1,5)\n",
    "}"
   ]
  },
  {
   "cell_type": "code",
   "execution_count": 199,
   "id": "bb4b82ef",
   "metadata": {},
   "outputs": [],
   "source": [
    "optimizer = BayesianOptimization(\n",
    "                                f=objective,\n",
    "                                pbounds=search_space,\n",
    "                                random_state=100\n",
    "                              )"
   ]
  },
  {
   "cell_type": "code",
   "execution_count": 200,
   "id": "7525cde0",
   "metadata": {},
   "outputs": [
    {
     "name": "stdout",
     "output_type": "stream",
     "text": [
      "|   iter    |  target   |    md     |    mf     |    ne     |\n",
      "-------------------------------------------------------------\n",
      "| \u001b[0m 1       \u001b[0m | \u001b[0m 1.0     \u001b[0m | \u001b[0m 3.717   \u001b[0m | \u001b[0m 2.113   \u001b[0m | \u001b[0m 425.1   \u001b[0m |\n",
      "| \u001b[0m 2       \u001b[0m | \u001b[0m 0.9962  \u001b[0m | \u001b[0m 5.224   \u001b[0m | \u001b[0m 1.019   \u001b[0m | \u001b[0m 122.4   \u001b[0m |\n",
      "| \u001b[0m 3       \u001b[0m | \u001b[0m 1.0     \u001b[0m | \u001b[0m 4.354   \u001b[0m | \u001b[0m 4.303   \u001b[0m | \u001b[0m 137.6   \u001b[0m |\n",
      "| \u001b[0m 4       \u001b[0m | \u001b[0m 1.0     \u001b[0m | \u001b[0m 3.875   \u001b[0m | \u001b[0m 4.565   \u001b[0m | \u001b[0m 210.0   \u001b[0m |\n",
      "| \u001b[0m 5       \u001b[0m | \u001b[0m 0.9972  \u001b[0m | \u001b[0m 1.927   \u001b[0m | \u001b[0m 1.434   \u001b[0m | \u001b[0m 220.5   \u001b[0m |\n",
      "| \u001b[0m 6       \u001b[0m | \u001b[0m 0.8292  \u001b[0m | \u001b[0m 2.134   \u001b[0m | \u001b[0m 3.084   \u001b[0m | \u001b[0m 7.232   \u001b[0m |\n",
      "| \u001b[0m 7       \u001b[0m | \u001b[0m 1.0     \u001b[0m | \u001b[0m 5.043   \u001b[0m | \u001b[0m 4.975   \u001b[0m | \u001b[0m 597.8   \u001b[0m |\n",
      "| \u001b[0m 8       \u001b[0m | \u001b[0m 1.0     \u001b[0m | \u001b[0m 2.932   \u001b[0m | \u001b[0m 1.441   \u001b[0m | \u001b[0m 774.2   \u001b[0m |\n",
      "| \u001b[0m 9       \u001b[0m | \u001b[0m 0.9995  \u001b[0m | \u001b[0m 3.276   \u001b[0m | \u001b[0m 2.783   \u001b[0m | \u001b[0m 210.5   \u001b[0m |\n",
      "| \u001b[0m 10      \u001b[0m | \u001b[0m 1.0     \u001b[0m | \u001b[0m 5.081   \u001b[0m | \u001b[0m 3.043   \u001b[0m | \u001b[0m 960.8   \u001b[0m |\n",
      "| \u001b[0m 11      \u001b[0m | \u001b[0m 1.0     \u001b[0m | \u001b[0m 1.0     \u001b[0m | \u001b[0m 5.0     \u001b[0m | \u001b[0m 868.0   \u001b[0m |\n",
      "| \u001b[0m 12      \u001b[0m | \u001b[0m 1.0     \u001b[0m | \u001b[0m 1.0     \u001b[0m | \u001b[0m 5.0     \u001b[0m | \u001b[0m 511.1   \u001b[0m |\n",
      "| \u001b[0m 13      \u001b[0m | \u001b[0m 1.0     \u001b[0m | \u001b[0m 1.0     \u001b[0m | \u001b[0m 5.0     \u001b[0m | \u001b[0m 686.3   \u001b[0m |\n",
      "| \u001b[0m 14      \u001b[0m | \u001b[0m 1.0     \u001b[0m | \u001b[0m 6.0     \u001b[0m | \u001b[0m 5.0     \u001b[0m | \u001b[0m 336.2   \u001b[0m |\n",
      "| \u001b[0m 15      \u001b[0m | \u001b[0m 1.0     \u001b[0m | \u001b[0m 1.0     \u001b[0m | \u001b[0m 1.0     \u001b[0m | \u001b[0m 1e+03   \u001b[0m |\n",
      "| \u001b[0m 16      \u001b[0m | \u001b[0m 0.9991  \u001b[0m | \u001b[0m 5.804   \u001b[0m | \u001b[0m 1.235   \u001b[0m | \u001b[0m 823.5   \u001b[0m |\n",
      "| \u001b[0m 17      \u001b[0m | \u001b[0m 0.9995  \u001b[0m | \u001b[0m 1.226   \u001b[0m | \u001b[0m 1.862   \u001b[0m | \u001b[0m 379.6   \u001b[0m |\n",
      "| \u001b[0m 18      \u001b[0m | \u001b[0m 1.0     \u001b[0m | \u001b[0m 1.0     \u001b[0m | \u001b[0m 1.0     \u001b[0m | \u001b[0m 641.4   \u001b[0m |\n",
      "| \u001b[0m 19      \u001b[0m | \u001b[0m 0.9991  \u001b[0m | \u001b[0m 5.462   \u001b[0m | \u001b[0m 1.027   \u001b[0m | \u001b[0m 913.4   \u001b[0m |\n",
      "| \u001b[0m 20      \u001b[0m | \u001b[0m 1.0     \u001b[0m | \u001b[0m 1.027   \u001b[0m | \u001b[0m 1.04    \u001b[0m | \u001b[0m 557.9   \u001b[0m |\n",
      "| \u001b[0m 21      \u001b[0m | \u001b[0m 1.0     \u001b[0m | \u001b[0m 4.811   \u001b[0m | \u001b[0m 1.027   \u001b[0m | \u001b[0m 731.3   \u001b[0m |\n",
      "| \u001b[0m 22      \u001b[0m | \u001b[0m 0.9981  \u001b[0m | \u001b[0m 6.0     \u001b[0m | \u001b[0m 1.0     \u001b[0m | \u001b[0m 470.2   \u001b[0m |\n",
      "| \u001b[0m 23      \u001b[0m | \u001b[0m 1.0     \u001b[0m | \u001b[0m 6.0     \u001b[0m | \u001b[0m 5.0     \u001b[0m | \u001b[0m 288.7   \u001b[0m |\n",
      "| \u001b[0m 24      \u001b[0m | \u001b[0m 0.9962  \u001b[0m | \u001b[0m 6.0     \u001b[0m | \u001b[0m 1.0     \u001b[0m | \u001b[0m 171.0   \u001b[0m |\n",
      "| \u001b[0m 25      \u001b[0m | \u001b[0m 0.9943  \u001b[0m | \u001b[0m 1.083   \u001b[0m | \u001b[0m 1.467   \u001b[0m | \u001b[0m 313.8   \u001b[0m |\n",
      "| \u001b[0m 26      \u001b[0m | \u001b[0m 1.0     \u001b[0m | \u001b[0m 6.0     \u001b[0m | \u001b[0m 5.0     \u001b[0m | \u001b[0m 536.2   \u001b[0m |\n",
      "| \u001b[0m 27      \u001b[0m | \u001b[0m 1.0     \u001b[0m | \u001b[0m 6.0     \u001b[0m | \u001b[0m 5.0     \u001b[0m | \u001b[0m 398.7   \u001b[0m |\n",
      "| \u001b[0m 28      \u001b[0m | \u001b[0m 0.9991  \u001b[0m | \u001b[0m 5.944   \u001b[0m | \u001b[0m 1.178   \u001b[0m | \u001b[0m 662.9   \u001b[0m |\n",
      "| \u001b[0m 29      \u001b[0m | \u001b[0m 1.0     \u001b[0m | \u001b[0m 1.026   \u001b[0m | \u001b[0m 4.881   \u001b[0m | \u001b[0m 935.4   \u001b[0m |\n",
      "| \u001b[0m 30      \u001b[0m | \u001b[0m 1.0     \u001b[0m | \u001b[0m 1.0     \u001b[0m | \u001b[0m 5.0     \u001b[0m | \u001b[0m 801.4   \u001b[0m |\n",
      "=============================================================\n"
     ]
    }
   ],
   "source": [
    "optimizer.maximize()"
   ]
  },
  {
   "cell_type": "code",
   "execution_count": 201,
   "id": "50206ddd",
   "metadata": {},
   "outputs": [
    {
     "data": {
      "text/plain": [
       "{'target': 1.0,\n",
       " 'params': {'md': 3.717024708954827,\n",
       "  'mf': 2.1134775403751846,\n",
       "  'ne': 425.09307315838396}}"
      ]
     },
     "execution_count": 201,
     "metadata": {},
     "output_type": "execute_result"
    }
   ],
   "source": [
    "optimizer.max"
   ]
  },
  {
   "cell_type": "markdown",
   "id": "05ca5aec",
   "metadata": {},
   "source": [
    "The best target value is '1.0' with the parameters of 'md': 3.717024708954827,\n",
    "  'mf': 2.1134775403751846,\n",
    "  'ne': 425.09307315838396."
   ]
  },
  {
   "cell_type": "markdown",
   "id": "c29b3715",
   "metadata": {},
   "source": [
    "## 6-2 GridSearchCV"
   ]
  },
  {
   "cell_type": "code",
   "execution_count": 202,
   "id": "9ccc6969",
   "metadata": {},
   "outputs": [
    {
     "data": {
      "text/plain": [
       "GridSearchCV(cv=5, estimator=GradientBoostingClassifier(random_state=100),\n",
       "             param_grid={'max_depth': (1, 6), 'max_features': (1, 5),\n",
       "                         'n_estimators': [100, 200, 500, 1000]})"
      ]
     },
     "execution_count": 202,
     "metadata": {},
     "output_type": "execute_result"
    }
   ],
   "source": [
    "model = GradientBoostingClassifier(random_state=100)\n",
    "param_grid = {'n_estimators': [100, 200, 500, 1000], 'max_features': (1,5), 'max_depth':(1,6)}\n",
    "\n",
    "model_cv= GridSearchCV(model, param_grid, cv=5)\n",
    "model_cv.fit(X_train,y_train.values.ravel())"
   ]
  },
  {
   "cell_type": "markdown",
   "id": "39cad0cf",
   "metadata": {},
   "source": [
    "I am going to tune n_estimators, max_features, and max_depth by using GridSearchCV."
   ]
  },
  {
   "cell_type": "code",
   "execution_count": 203,
   "id": "ce51b6fb",
   "metadata": {},
   "outputs": [
    {
     "name": "stdout",
     "output_type": "stream",
     "text": [
      "Best Score:1.0\n",
      "Best Parameters: {'max_depth': 6, 'max_features': 5, 'n_estimators': 500}\n"
     ]
    }
   ],
   "source": [
    "print(\"Best Score:\" + str(model_cv.best_score_))\n",
    "print(\"Best Parameters: \" + str(model_cv.best_params_))"
   ]
  },
  {
   "cell_type": "markdown",
   "id": "69759c9a",
   "metadata": {},
   "source": [
    "Even though combination of parameters are different between GridSearchCV and Bayesian Optimization, both results give best target value which is 1. "
   ]
  }
 ],
 "metadata": {
  "kernelspec": {
   "display_name": "Python 3 (ipykernel)",
   "language": "python",
   "name": "python3"
  },
  "language_info": {
   "codemirror_mode": {
    "name": "ipython",
    "version": 3
   },
   "file_extension": ".py",
   "mimetype": "text/x-python",
   "name": "python",
   "nbconvert_exporter": "python",
   "pygments_lexer": "ipython3",
   "version": "3.9.12"
  }
 },
 "nbformat": 4,
 "nbformat_minor": 5
}
