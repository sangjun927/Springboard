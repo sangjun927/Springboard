{
 "cells": [
  {
   "cell_type": "markdown",
   "id": "8e53fa43",
   "metadata": {},
   "source": [
    "Summary of notebook:\n",
    "1. Import library\n",
    "2. Read pickle. (Pickle dataframe is already scaled with dummy variables)\n",
    "3. Split test and train dataset.\n",
    "4. Run two models and compare best value.\n",
    "5. Optimize random forest by using bayesian optimization and GridSearchCV.\n",
    "6. Optimize gradient boosting by using bayesian optimization and GridSearchCV."
   ]
  },
  {
   "cell_type": "markdown",
   "id": "e216c5bc",
   "metadata": {},
   "source": [
    "# 1. Imports"
   ]
  },
  {
   "cell_type": "code",
   "execution_count": 1,
   "id": "32c5b853",
   "metadata": {},
   "outputs": [],
   "source": [
    "import pandas as pd\n",
    "import numpy as np\n",
    "from sklearn import preprocessing\n",
    "from sklearn.preprocessing import StandardScaler\n",
    "from sklearn.model_selection import train_test_split, cross_validate, GridSearchCV, learning_curve\n",
    "\n",
    "from sklearn.metrics import precision_recall_curve\n",
    "from sklearn.metrics import f1_score\n",
    "from sklearn.metrics import auc\n",
    "from sklearn.linear_model import LogisticRegression\n",
    "from matplotlib import pyplot\n",
    "from sklearn.metrics import precision_recall_curve\n",
    "from sklearn.metrics import f1_score\n",
    "from sklearn.metrics import auc\n",
    "from sklearn.linear_model import LogisticRegression\n",
    "from sklearn.metrics import classification_report,confusion_matrix,roc_curve,roc_auc_score\n",
    "from sklearn.metrics import accuracy_score,log_loss\n",
    "from matplotlib import pyplot\n",
    "from sklearn.ensemble import RandomForestClassifier\n",
    "from sklearn.ensemble import GradientBoostingClassifier\n",
    "import matplotlib.pyplot as plt\n",
    "\n",
    "from sklearn import metrics\n",
    "from sklearn.metrics import roc_auc_score\n",
    "from imblearn.over_sampling import SMOTE\n"
   ]
  },
  {
   "cell_type": "markdown",
   "id": "e7981324",
   "metadata": {},
   "source": [
    "# 2. Read Pickle"
   ]
  },
  {
   "cell_type": "code",
   "execution_count": 2,
   "id": "db688e81",
   "metadata": {},
   "outputs": [],
   "source": [
    "# Dataframe is already scaled with dummy variables\n",
    "df = pd.read_pickle('df_preprocessed_1010.pkl')"
   ]
  },
  {
   "cell_type": "code",
   "execution_count": 3,
   "id": "106abd44",
   "metadata": {},
   "outputs": [
    {
     "data": {
      "text/html": [
       "<div>\n",
       "<style scoped>\n",
       "    .dataframe tbody tr th:only-of-type {\n",
       "        vertical-align: middle;\n",
       "    }\n",
       "\n",
       "    .dataframe tbody tr th {\n",
       "        vertical-align: top;\n",
       "    }\n",
       "\n",
       "    .dataframe thead th {\n",
       "        text-align: right;\n",
       "    }\n",
       "</style>\n",
       "<table border=\"1\" class=\"dataframe\">\n",
       "  <thead>\n",
       "    <tr style=\"text-align: right;\">\n",
       "      <th></th>\n",
       "      <th>Tenure Months_SS</th>\n",
       "      <th>Monthly Charges_SS</th>\n",
       "      <th>Total Charges_SS</th>\n",
       "      <th>Churn Score_SS</th>\n",
       "      <th>CLTV_SS</th>\n",
       "      <th>Churn Label</th>\n",
       "      <th>Gender_Female</th>\n",
       "      <th>Gender_Male</th>\n",
       "      <th>Senior Citizen_No</th>\n",
       "      <th>Senior Citizen_Yes</th>\n",
       "      <th>...</th>\n",
       "      <th>Streaming Movies_Yes</th>\n",
       "      <th>Contract_Month-to-month</th>\n",
       "      <th>Contract_One year</th>\n",
       "      <th>Contract_Two year</th>\n",
       "      <th>Paperless Billing_No</th>\n",
       "      <th>Paperless Billing_Yes</th>\n",
       "      <th>Payment Method_Bank transfer (automatic)</th>\n",
       "      <th>Payment Method_Credit card (automatic)</th>\n",
       "      <th>Payment Method_Electronic check</th>\n",
       "      <th>Payment Method_Mailed check</th>\n",
       "    </tr>\n",
       "  </thead>\n",
       "  <tbody>\n",
       "    <tr>\n",
       "      <th>0</th>\n",
       "      <td>-1.236724</td>\n",
       "      <td>-0.362660</td>\n",
       "      <td>-0.958066</td>\n",
       "      <td>1.268402</td>\n",
       "      <td>-0.981675</td>\n",
       "      <td>1</td>\n",
       "      <td>0</td>\n",
       "      <td>1</td>\n",
       "      <td>1</td>\n",
       "      <td>0</td>\n",
       "      <td>...</td>\n",
       "      <td>0</td>\n",
       "      <td>1</td>\n",
       "      <td>0</td>\n",
       "      <td>0</td>\n",
       "      <td>0</td>\n",
       "      <td>1</td>\n",
       "      <td>0</td>\n",
       "      <td>0</td>\n",
       "      <td>0</td>\n",
       "      <td>1</td>\n",
       "    </tr>\n",
       "    <tr>\n",
       "      <th>1</th>\n",
       "      <td>-1.236724</td>\n",
       "      <td>0.197365</td>\n",
       "      <td>-0.938874</td>\n",
       "      <td>0.385650</td>\n",
       "      <td>-1.436462</td>\n",
       "      <td>1</td>\n",
       "      <td>1</td>\n",
       "      <td>0</td>\n",
       "      <td>1</td>\n",
       "      <td>0</td>\n",
       "      <td>...</td>\n",
       "      <td>0</td>\n",
       "      <td>1</td>\n",
       "      <td>0</td>\n",
       "      <td>0</td>\n",
       "      <td>0</td>\n",
       "      <td>1</td>\n",
       "      <td>0</td>\n",
       "      <td>0</td>\n",
       "      <td>1</td>\n",
       "      <td>0</td>\n",
       "    </tr>\n",
       "    <tr>\n",
       "      <th>2</th>\n",
       "      <td>-0.992402</td>\n",
       "      <td>1.159546</td>\n",
       "      <td>-0.643789</td>\n",
       "      <td>1.268402</td>\n",
       "      <td>0.821409</td>\n",
       "      <td>1</td>\n",
       "      <td>1</td>\n",
       "      <td>0</td>\n",
       "      <td>1</td>\n",
       "      <td>0</td>\n",
       "      <td>...</td>\n",
       "      <td>1</td>\n",
       "      <td>1</td>\n",
       "      <td>0</td>\n",
       "      <td>0</td>\n",
       "      <td>0</td>\n",
       "      <td>1</td>\n",
       "      <td>0</td>\n",
       "      <td>0</td>\n",
       "      <td>1</td>\n",
       "      <td>0</td>\n",
       "    </tr>\n",
       "    <tr>\n",
       "      <th>3</th>\n",
       "      <td>-0.177995</td>\n",
       "      <td>1.330711</td>\n",
       "      <td>0.338085</td>\n",
       "      <td>1.175481</td>\n",
       "      <td>0.509483</td>\n",
       "      <td>1</td>\n",
       "      <td>1</td>\n",
       "      <td>0</td>\n",
       "      <td>1</td>\n",
       "      <td>0</td>\n",
       "      <td>...</td>\n",
       "      <td>1</td>\n",
       "      <td>1</td>\n",
       "      <td>0</td>\n",
       "      <td>0</td>\n",
       "      <td>0</td>\n",
       "      <td>1</td>\n",
       "      <td>0</td>\n",
       "      <td>0</td>\n",
       "      <td>1</td>\n",
       "      <td>0</td>\n",
       "    </tr>\n",
       "    <tr>\n",
       "      <th>4</th>\n",
       "      <td>0.677133</td>\n",
       "      <td>1.294151</td>\n",
       "      <td>1.216150</td>\n",
       "      <td>1.407784</td>\n",
       "      <td>0.794358</td>\n",
       "      <td>1</td>\n",
       "      <td>0</td>\n",
       "      <td>1</td>\n",
       "      <td>1</td>\n",
       "      <td>0</td>\n",
       "      <td>...</td>\n",
       "      <td>1</td>\n",
       "      <td>1</td>\n",
       "      <td>0</td>\n",
       "      <td>0</td>\n",
       "      <td>0</td>\n",
       "      <td>1</td>\n",
       "      <td>1</td>\n",
       "      <td>0</td>\n",
       "      <td>0</td>\n",
       "      <td>0</td>\n",
       "    </tr>\n",
       "  </tbody>\n",
       "</table>\n",
       "<p>5 rows × 42 columns</p>\n",
       "</div>"
      ],
      "text/plain": [
       "   Tenure Months_SS  Monthly Charges_SS  Total Charges_SS  Churn Score_SS  \\\n",
       "0         -1.236724           -0.362660         -0.958066        1.268402   \n",
       "1         -1.236724            0.197365         -0.938874        0.385650   \n",
       "2         -0.992402            1.159546         -0.643789        1.268402   \n",
       "3         -0.177995            1.330711          0.338085        1.175481   \n",
       "4          0.677133            1.294151          1.216150        1.407784   \n",
       "\n",
       "    CLTV_SS Churn Label  Gender_Female  Gender_Male  Senior Citizen_No  \\\n",
       "0 -0.981675           1              0            1                  1   \n",
       "1 -1.436462           1              1            0                  1   \n",
       "2  0.821409           1              1            0                  1   \n",
       "3  0.509483           1              1            0                  1   \n",
       "4  0.794358           1              0            1                  1   \n",
       "\n",
       "   Senior Citizen_Yes  ...  Streaming Movies_Yes  Contract_Month-to-month  \\\n",
       "0                   0  ...                     0                        1   \n",
       "1                   0  ...                     0                        1   \n",
       "2                   0  ...                     1                        1   \n",
       "3                   0  ...                     1                        1   \n",
       "4                   0  ...                     1                        1   \n",
       "\n",
       "   Contract_One year  Contract_Two year  Paperless Billing_No  \\\n",
       "0                  0                  0                     0   \n",
       "1                  0                  0                     0   \n",
       "2                  0                  0                     0   \n",
       "3                  0                  0                     0   \n",
       "4                  0                  0                     0   \n",
       "\n",
       "   Paperless Billing_Yes  Payment Method_Bank transfer (automatic)  \\\n",
       "0                      1                                         0   \n",
       "1                      1                                         0   \n",
       "2                      1                                         0   \n",
       "3                      1                                         0   \n",
       "4                      1                                         1   \n",
       "\n",
       "   Payment Method_Credit card (automatic)  Payment Method_Electronic check  \\\n",
       "0                                       0                                0   \n",
       "1                                       0                                1   \n",
       "2                                       0                                1   \n",
       "3                                       0                                1   \n",
       "4                                       0                                0   \n",
       "\n",
       "   Payment Method_Mailed check  \n",
       "0                            1  \n",
       "1                            0  \n",
       "2                            0  \n",
       "3                            0  \n",
       "4                            0  \n",
       "\n",
       "[5 rows x 42 columns]"
      ]
     },
     "execution_count": 3,
     "metadata": {},
     "output_type": "execute_result"
    }
   ],
   "source": [
    "df.head()"
   ]
  },
  {
   "cell_type": "code",
   "execution_count": 4,
   "id": "bdcaa31d",
   "metadata": {},
   "outputs": [
    {
     "name": "stdout",
     "output_type": "stream",
     "text": [
      "<class 'pandas.core.frame.DataFrame'>\n",
      "RangeIndex: 7043 entries, 0 to 7042\n",
      "Data columns (total 42 columns):\n",
      " #   Column                                    Non-Null Count  Dtype  \n",
      "---  ------                                    --------------  -----  \n",
      " 0   Tenure Months_SS                          7043 non-null   float64\n",
      " 1   Monthly Charges_SS                        7043 non-null   float64\n",
      " 2   Total Charges_SS                          7043 non-null   float64\n",
      " 3   Churn Score_SS                            7043 non-null   float64\n",
      " 4   CLTV_SS                                   7043 non-null   float64\n",
      " 5   Churn Label                               7043 non-null   object \n",
      " 6   Gender_Female                             7043 non-null   uint8  \n",
      " 7   Gender_Male                               7043 non-null   uint8  \n",
      " 8   Senior Citizen_No                         7043 non-null   uint8  \n",
      " 9   Senior Citizen_Yes                        7043 non-null   uint8  \n",
      " 10  Partner_No                                7043 non-null   uint8  \n",
      " 11  Partner_Yes                               7043 non-null   uint8  \n",
      " 12  Dependents_No                             7043 non-null   uint8  \n",
      " 13  Dependents_Yes                            7043 non-null   uint8  \n",
      " 14  Phone Service_No                          7043 non-null   uint8  \n",
      " 15  Phone Service_Yes                         7043 non-null   uint8  \n",
      " 16  Multiple Lines_No                         7043 non-null   uint8  \n",
      " 17  Multiple Lines_Yes                        7043 non-null   uint8  \n",
      " 18  Internet Service_DSL                      7043 non-null   uint8  \n",
      " 19  Internet Service_Fiber optic              7043 non-null   uint8  \n",
      " 20  Internet Service_No                       7043 non-null   uint8  \n",
      " 21  Online Security_No                        7043 non-null   uint8  \n",
      " 22  Online Security_Yes                       7043 non-null   uint8  \n",
      " 23  Online Backup_No                          7043 non-null   uint8  \n",
      " 24  Online Backup_Yes                         7043 non-null   uint8  \n",
      " 25  Device Protection_No                      7043 non-null   uint8  \n",
      " 26  Device Protection_Yes                     7043 non-null   uint8  \n",
      " 27  Tech Support_No                           7043 non-null   uint8  \n",
      " 28  Tech Support_Yes                          7043 non-null   uint8  \n",
      " 29  Streaming TV_No                           7043 non-null   uint8  \n",
      " 30  Streaming TV_Yes                          7043 non-null   uint8  \n",
      " 31  Streaming Movies_No                       7043 non-null   uint8  \n",
      " 32  Streaming Movies_Yes                      7043 non-null   uint8  \n",
      " 33  Contract_Month-to-month                   7043 non-null   uint8  \n",
      " 34  Contract_One year                         7043 non-null   uint8  \n",
      " 35  Contract_Two year                         7043 non-null   uint8  \n",
      " 36  Paperless Billing_No                      7043 non-null   uint8  \n",
      " 37  Paperless Billing_Yes                     7043 non-null   uint8  \n",
      " 38  Payment Method_Bank transfer (automatic)  7043 non-null   uint8  \n",
      " 39  Payment Method_Credit card (automatic)    7043 non-null   uint8  \n",
      " 40  Payment Method_Electronic check           7043 non-null   uint8  \n",
      " 41  Payment Method_Mailed check               7043 non-null   uint8  \n",
      "dtypes: float64(5), object(1), uint8(36)\n",
      "memory usage: 577.9+ KB\n"
     ]
    }
   ],
   "source": [
    "df.info()"
   ]
  },
  {
   "cell_type": "markdown",
   "id": "3d404bac",
   "metadata": {},
   "source": [
    "# 3. Split Dataset"
   ]
  },
  {
   "cell_type": "code",
   "execution_count": 5,
   "id": "7b78a518",
   "metadata": {},
   "outputs": [],
   "source": [
    "X = df.loc[:, df.columns != 'Churn Label']\n",
    "y = df.loc[:, df.columns == 'Churn Label']\n",
    "y = y.astype('int')\n",
    "\n",
    "X_train, X_test, y_train, y_test = train_test_split(X,y,test_size=0.3, random_state=0)"
   ]
  },
  {
   "cell_type": "code",
   "execution_count": 6,
   "id": "7aa661cb",
   "metadata": {},
   "outputs": [
    {
     "name": "stdout",
     "output_type": "stream",
     "text": [
      "(4930, 41)\n",
      "(2113, 41)\n",
      "(4930, 1)\n",
      "(2113, 1)\n"
     ]
    }
   ],
   "source": [
    "# check the dimension of the splited dataset\n",
    "print(X_train.shape)\n",
    "print(X_test.shape)\n",
    "print(y_train.shape)\n",
    "print(y_test.shape)"
   ]
  },
  {
   "cell_type": "code",
   "execution_count": 7,
   "id": "a8ab0aa1",
   "metadata": {},
   "outputs": [],
   "source": [
    "y_train = y_train.astype(int)\n",
    "y_test = y_test.astype(int)"
   ]
  },
  {
   "cell_type": "code",
   "execution_count": 8,
   "id": "37808476",
   "metadata": {},
   "outputs": [
    {
     "data": {
      "text/plain": [
       "0    5174\n",
       "1    1869\n",
       "Name: Churn Label, dtype: int64"
      ]
     },
     "execution_count": 8,
     "metadata": {},
     "output_type": "execute_result"
    }
   ],
   "source": [
    "# Solve the imbalance.\n",
    "df['Churn Label'].value_counts()"
   ]
  },
  {
   "cell_type": "markdown",
   "id": "5b5ee1db",
   "metadata": {},
   "source": [
    "Dependent variable is imbalanced, i am going to balance the varaible by using SMOTE."
   ]
  },
  {
   "cell_type": "code",
   "execution_count": 9,
   "id": "0bad5314",
   "metadata": {},
   "outputs": [],
   "source": [
    "# Over sampling using SMOTE (Synthetic Minority Oversampling Technique)\n",
    "os = SMOTE(random_state=0)\n",
    "X_train, X_test, y_train, y_test = train_test_split(X,y,test_size=0.3, random_state=0)\n",
    "columns = X_train.columns"
   ]
  },
  {
   "cell_type": "code",
   "execution_count": 10,
   "id": "e7bfbbba",
   "metadata": {},
   "outputs": [
    {
     "name": "stdout",
     "output_type": "stream",
     "text": [
      "length of oversampled data is  7230\n",
      "number of no churn in oversampled data  3615\n",
      "number of yes churn  3615\n",
      "proportion of no churn data in oversampled data is  0.5\n",
      "proportion of yes churn data in oversampled data is  0.5\n"
     ]
    }
   ],
   "source": [
    "# SMOTE - Continue..\n",
    "os_data_X, os_data_y = os.fit_resample(X_train, y_train)\n",
    "os_data_X = pd.DataFrame(data=os_data_X, columns = columns)\n",
    "os_data_y = pd.DataFrame(data=os_data_y, columns=['Churn Label'])\n",
    "\n",
    "# Check the numbers of data\n",
    "print(\"length of oversampled data is \", len(os_data_X))\n",
    "print(\"number of no churn in oversampled data \", len(os_data_y[os_data_y['Churn Label']==0]))\n",
    "print(\"number of yes churn \", len(os_data_y[os_data_y['Churn Label']==1]))\n",
    "print(\"proportion of no churn data in oversampled data is \", len(os_data_y[os_data_y['Churn Label']==0])/len(os_data_X))\n",
    "print(\"proportion of yes churn data in oversampled data is \", len(os_data_y[os_data_y['Churn Label']==1])/len(os_data_X))"
   ]
  },
  {
   "cell_type": "code",
   "execution_count": 11,
   "id": "57652f01",
   "metadata": {},
   "outputs": [],
   "source": [
    "X_train, X_test, y_train, y_test = train_test_split(os_data_X, os_data_y,test_size=0.3, random_state=0)"
   ]
  },
  {
   "cell_type": "code",
   "execution_count": 12,
   "id": "a7525974",
   "metadata": {},
   "outputs": [
    {
     "name": "stdout",
     "output_type": "stream",
     "text": [
      "(5061, 41)\n",
      "(2169, 41)\n",
      "(5061, 1)\n",
      "(2169, 1)\n"
     ]
    },
    {
     "data": {
      "text/plain": [
       "0    2532\n",
       "1    2529\n",
       "Name: Churn Label, dtype: int64"
      ]
     },
     "execution_count": 12,
     "metadata": {},
     "output_type": "execute_result"
    }
   ],
   "source": [
    "# check the dimension of the splited dataset\n",
    "print(X_train.shape)\n",
    "print(X_test.shape)\n",
    "print(y_train.shape)\n",
    "print(y_test.shape)\n",
    "\n",
    "\n",
    "y_train['Churn Label'].value_counts()"
   ]
  },
  {
   "cell_type": "markdown",
   "id": "db5016e3",
   "metadata": {},
   "source": [
    "# 4. Choose Model"
   ]
  },
  {
   "cell_type": "markdown",
   "id": "ee8e5f17",
   "metadata": {},
   "source": [
    "## 4-1 Logistic Regression"
   ]
  },
  {
   "cell_type": "code",
   "execution_count": 14,
   "id": "fd5a91d0",
   "metadata": {
    "scrolled": true
   },
   "outputs": [
    {
     "name": "stdout",
     "output_type": "stream",
     "text": [
      "0.9437528815122176\n"
     ]
    }
   ],
   "source": [
    "logreg = LogisticRegression(solver='newton-cg', max_iter=100)\n",
    "model_res = logreg.fit(X_train, y_train.values.ravel())\n",
    "\n",
    "y_pred = model_res.predict(X_test)\n",
    "ac = accuracy_score(y_test, y_pred)\n",
    "\n",
    "print(ac)\n",
    "#clf = LogisticRegression(solver = 'newton-cg', max_iter = 500)"
   ]
  },
  {
   "cell_type": "code",
   "execution_count": null,
   "id": "82d96d4d",
   "metadata": {},
   "outputs": [],
   "source": [
    "# confusion matrix\n",
    "cm = confusion_matrix(y_test, y_pred)\n",
    "print(cm)\n",
    "print(classification_report(y_test, y_pred))"
   ]
  },
  {
   "cell_type": "markdown",
   "id": "13c0f292",
   "metadata": {},
   "source": [
    "## 4-2 Random Forest"
   ]
  },
  {
   "cell_type": "code",
   "execution_count": 15,
   "id": "ea2b6643",
   "metadata": {},
   "outputs": [],
   "source": [
    "clf = RandomForestClassifier(n_estimators=300, random_state=100,n_jobs=-1, max_depth =3)\n",
    "model_res = clf.fit(X_train, y_train.values.ravel())\n",
    "y_pred = model_res.predict(X_test)\n",
    "ac = accuracy_score(y_test, y_pred)\n",
    "f1 = f1_score(y_test, y_pred, average='weighted')\n",
    "cm = confusion_matrix(y_test, y_pred)\n"
   ]
  },
  {
   "cell_type": "code",
   "execution_count": 16,
   "id": "8ea07550",
   "metadata": {},
   "outputs": [
    {
     "name": "stdout",
     "output_type": "stream",
     "text": [
      "0.9124020285846012\n",
      "accuracy score is 0.9124020285846012.\n",
      "f1 score is 0.9123446772418234.\n"
     ]
    }
   ],
   "source": [
    "print(model_res.score(X_test, y_test))\n",
    "\n",
    "print(f\"accuracy score is {ac}.\")\n",
    "print(f\"f1 score is {f1}.\")\n",
    "\n",
    "#f1 = f1_score(y_test, y_pred, average='weighted')\n",
    "#cm = confusion_matrix(y_test, y_pred)"
   ]
  },
  {
   "cell_type": "code",
   "execution_count": 17,
   "id": "b7cdba8c",
   "metadata": {},
   "outputs": [
    {
     "name": "stdout",
     "output_type": "stream",
     "text": [
      "[[ 961  122]\n",
      " [  68 1018]]\n",
      "              precision    recall  f1-score   support\n",
      "\n",
      "           0       0.93      0.89      0.91      1083\n",
      "           1       0.89      0.94      0.91      1086\n",
      "\n",
      "    accuracy                           0.91      2169\n",
      "   macro avg       0.91      0.91      0.91      2169\n",
      "weighted avg       0.91      0.91      0.91      2169\n",
      "\n"
     ]
    }
   ],
   "source": [
    "# confusion matrix\n",
    "print(cm)\n",
    "print(classification_report(y_test, y_pred))"
   ]
  },
  {
   "cell_type": "markdown",
   "id": "52d42284",
   "metadata": {},
   "source": [
    "## 4-2 Gradient Boosting"
   ]
  },
  {
   "cell_type": "code",
   "execution_count": 18,
   "id": "b290c3c3",
   "metadata": {},
   "outputs": [
    {
     "name": "stdout",
     "output_type": "stream",
     "text": [
      "[[ 960  123]\n",
      " [  71 1015]]\n",
      "              precision    recall  f1-score   support\n",
      "\n",
      "           0       0.93      0.89      0.91      1083\n",
      "           1       0.89      0.93      0.91      1086\n",
      "\n",
      "    accuracy                           0.91      2169\n",
      "   macro avg       0.91      0.91      0.91      2169\n",
      "weighted avg       0.91      0.91      0.91      2169\n",
      "\n"
     ]
    }
   ],
   "source": [
    "gb = GradientBoostingClassifier(n_estimators=20, learning_rate = 0.75, max_features=2, max_depth = 2, random_state = 1)\n",
    "gb_fit = gb.fit(X_train, y_train.values.ravel())\n",
    "y_pred = gb_fit.predict(X_test)\n",
    "\n",
    "print(confusion_matrix(y_test, y_pred))\n",
    "print(classification_report(y_test, y_pred))"
   ]
  },
  {
   "cell_type": "code",
   "execution_count": 19,
   "id": "3ebf2867",
   "metadata": {},
   "outputs": [
    {
     "name": "stdout",
     "output_type": "stream",
     "text": [
      "0.9585860672812204\n"
     ]
    },
    {
     "data": {
      "image/png": "[encoded data removed]",
      "text/plain": [
       "<Figure size 432x288 with 1 Axes>"
      ]
     },
     "metadata": {
      "needs_background": "light"
     },
     "output_type": "display_data"
    }
   ],
   "source": [
    "# ROC Curve\n",
    "y_pred_prob = gb_fit.predict_proba(X_test)[::,1]\n",
    "fpr, tpr, _ = metrics.roc_curve(y_test,  y_pred_prob)\n",
    "\n",
    "print(roc_auc_score(y_test, y_pred_prob))\n",
    "\n",
    "\n",
    "#create ROC curve\n",
    "plt.plot(fpr,tpr)\n",
    "plt.ylabel('True Positive Rate')\n",
    "plt.xlabel('False Positive Rate')\n",
    "plt.show()"
   ]
  },
  {
   "cell_type": "markdown",
   "id": "fe95b9dc",
   "metadata": {},
   "source": [
    "Gradient boosting (0.945) gives better result than random forest (0.8930430667297681). Now, I am going to optimize models by using bayesian optimization and GridSearchCV."
   ]
  },
  {
   "cell_type": "markdown",
   "id": "ed593327",
   "metadata": {},
   "source": [
    "# 5. Optimization - Random Forest"
   ]
  },
  {
   "cell_type": "markdown",
   "id": "ade5aa65",
   "metadata": {},
   "source": [
    "## 5-1. Bayesian Optimization"
   ]
  },
  {
   "cell_type": "code",
   "execution_count": 19,
   "id": "c28df061",
   "metadata": {},
   "outputs": [],
   "source": [
    "from bayes_opt import BayesianOptimization"
   ]
  },
  {
   "cell_type": "code",
   "execution_count": 20,
   "id": "9c85715f",
   "metadata": {},
   "outputs": [],
   "source": [
    "def objective(ne, nj, md):\n",
    "    regressor = RandomForestClassifier(n_estimators=int(ne), n_jobs=int(nj), max_depth=int(md))\n",
    "\n",
    "    regressor.fit(X_train, y_train.values.ravel())\n",
    "\n",
    "    return regressor.score(X_test, y_test)"
   ]
  },
  {
   "cell_type": "markdown",
   "id": "491ae871",
   "metadata": {},
   "source": [
    "I am going to tune three parameters: n_estimators, n_jobs, and max_depth."
   ]
  },
  {
   "cell_type": "code",
   "execution_count": 21,
   "id": "348908a9",
   "metadata": {},
   "outputs": [],
   "source": [
    "search_space = {\n",
    "    \"ne\": (1, 1000),\n",
    "    \"nj\": (1, 5),\n",
    "    \"md\": (2,6)\n",
    "}"
   ]
  },
  {
   "cell_type": "code",
   "execution_count": 22,
   "id": "57966b9d",
   "metadata": {},
   "outputs": [],
   "source": [
    "optimizer = BayesianOptimization(\n",
    "                                f=objective,\n",
    "                                pbounds=search_space,\n",
    "                                random_state=100\n",
    "                              )"
   ]
  },
  {
   "cell_type": "code",
   "execution_count": 23,
   "id": "a0f3983e",
   "metadata": {
    "scrolled": false
   },
   "outputs": [
    {
     "name": "stdout",
     "output_type": "stream",
     "text": [
      "|   iter    |  target   |    md     |    ne     |    nj     |\n",
      "-------------------------------------------------------------\n",
      "| \u001b[0m 1       \u001b[0m | \u001b[0m 0.9313  \u001b[0m | \u001b[0m 4.174   \u001b[0m | \u001b[0m 279.1   \u001b[0m | \u001b[0m 2.698   \u001b[0m |\n",
      "| \u001b[95m 2       \u001b[0m | \u001b[95m 0.9359  \u001b[0m | \u001b[95m 5.379   \u001b[0m | \u001b[95m 5.714   \u001b[0m | \u001b[95m 1.486   \u001b[0m |\n",
      "| \u001b[0m 3       \u001b[0m | \u001b[0m 0.9327  \u001b[0m | \u001b[0m 4.683   \u001b[0m | \u001b[0m 826.0   \u001b[0m | \u001b[0m 1.547   \u001b[0m |\n",
      "| \u001b[0m 4       \u001b[0m | \u001b[0m 0.9318  \u001b[0m | \u001b[0m 4.3     \u001b[0m | \u001b[0m 891.4   \u001b[0m | \u001b[0m 1.837   \u001b[0m |\n",
      "| \u001b[0m 5       \u001b[0m | \u001b[0m 0.8986  \u001b[0m | \u001b[0m 2.741   \u001b[0m | \u001b[0m 109.3   \u001b[0m | \u001b[0m 1.879   \u001b[0m |\n",
      "| \u001b[0m 6       \u001b[0m | \u001b[0m 0.9355  \u001b[0m | \u001b[0m 5.146   \u001b[0m | \u001b[0m 7.34    \u001b[0m | \u001b[0m 1.382   \u001b[0m |\n",
      "| \u001b[95m 7       \u001b[0m | \u001b[95m 0.9378  \u001b[0m | \u001b[95m 5.427   \u001b[0m | \u001b[95m 405.6   \u001b[0m | \u001b[95m 2.462   \u001b[0m |\n",
      "| \u001b[0m 8       \u001b[0m | \u001b[0m 0.9308  \u001b[0m | \u001b[0m 4.005   \u001b[0m | \u001b[0m 511.2   \u001b[0m | \u001b[0m 3.599   \u001b[0m |\n",
      "| \u001b[0m 9       \u001b[0m | \u001b[0m 0.9096  \u001b[0m | \u001b[0m 2.983   \u001b[0m | \u001b[0m 685.8   \u001b[0m | \u001b[0m 4.95    \u001b[0m |\n",
      "| \u001b[0m 10      \u001b[0m | \u001b[0m 0.9115  \u001b[0m | \u001b[0m 2.0     \u001b[0m | \u001b[0m 1e+03   \u001b[0m | \u001b[0m 1.0     \u001b[0m |\n",
      "| \u001b[0m 11      \u001b[0m | \u001b[0m 0.9138  \u001b[0m | \u001b[0m 2.0     \u001b[0m | \u001b[0m 347.4   \u001b[0m | \u001b[0m 1.0     \u001b[0m |\n",
      "| \u001b[0m 12      \u001b[0m | \u001b[0m 0.9368  \u001b[0m | \u001b[0m 5.322   \u001b[0m | \u001b[0m 447.0   \u001b[0m | \u001b[0m 1.615   \u001b[0m |\n",
      "| \u001b[95m 13      \u001b[0m | \u001b[95m 0.9401  \u001b[0m | \u001b[95m 6.0     \u001b[0m | \u001b[95m 223.7   \u001b[0m | \u001b[95m 5.0     \u001b[0m |\n",
      "| \u001b[95m 14      \u001b[0m | \u001b[95m 0.9419  \u001b[0m | \u001b[95m 6.0     \u001b[0m | \u001b[95m 579.6   \u001b[0m | \u001b[95m 1.0     \u001b[0m |\n",
      "| \u001b[0m 15      \u001b[0m | \u001b[0m 0.9032  \u001b[0m | \u001b[0m 2.778   \u001b[0m | \u001b[0m 613.7   \u001b[0m | \u001b[0m 4.169   \u001b[0m |\n",
      "| \u001b[0m 16      \u001b[0m | \u001b[0m 0.9364  \u001b[0m | \u001b[0m 5.7     \u001b[0m | \u001b[0m 557.7   \u001b[0m | \u001b[0m 1.841   \u001b[0m |\n",
      "| \u001b[0m 17      \u001b[0m | \u001b[0m 0.923   \u001b[0m | \u001b[0m 3.883   \u001b[0m | \u001b[0m 195.5   \u001b[0m | \u001b[0m 1.369   \u001b[0m |\n",
      "| \u001b[0m 18      \u001b[0m | \u001b[0m 0.9129  \u001b[0m | \u001b[0m 2.198   \u001b[0m | \u001b[0m 247.0   \u001b[0m | \u001b[0m 4.659   \u001b[0m |\n",
      "| \u001b[0m 19      \u001b[0m | \u001b[0m 0.9378  \u001b[0m | \u001b[0m 5.65    \u001b[0m | \u001b[0m 425.8   \u001b[0m | \u001b[0m 2.939   \u001b[0m |\n",
      "| \u001b[0m 20      \u001b[0m | \u001b[0m 0.9272  \u001b[0m | \u001b[0m 3.34    \u001b[0m | \u001b[0m 472.6   \u001b[0m | \u001b[0m 4.997   \u001b[0m |\n",
      "| \u001b[0m 21      \u001b[0m | \u001b[0m 0.9299  \u001b[0m | \u001b[0m 3.615   \u001b[0m | \u001b[0m 856.5   \u001b[0m | \u001b[0m 1.291   \u001b[0m |\n",
      "| \u001b[0m 22      \u001b[0m | \u001b[0m 0.9078  \u001b[0m | \u001b[0m 2.566   \u001b[0m | \u001b[0m 797.6   \u001b[0m | \u001b[0m 4.355   \u001b[0m |\n",
      "| \u001b[0m 23      \u001b[0m | \u001b[0m 0.9216  \u001b[0m | \u001b[0m 2.079   \u001b[0m | \u001b[0m 535.5   \u001b[0m | \u001b[0m 1.239   \u001b[0m |\n",
      "| \u001b[0m 24      \u001b[0m | \u001b[0m 0.9235  \u001b[0m | \u001b[0m 3.265   \u001b[0m | \u001b[0m 570.5   \u001b[0m | \u001b[0m 4.883   \u001b[0m |\n",
      "| \u001b[0m 25      \u001b[0m | \u001b[0m 0.9239  \u001b[0m | \u001b[0m 3.772   \u001b[0m | \u001b[0m 588.0   \u001b[0m | \u001b[0m 1.994   \u001b[0m |\n",
      "| \u001b[0m 26      \u001b[0m | \u001b[0m 0.9382  \u001b[0m | \u001b[0m 5.534   \u001b[0m | \u001b[0m 415.6   \u001b[0m | \u001b[0m 2.682   \u001b[0m |\n",
      "| \u001b[0m 27      \u001b[0m | \u001b[0m 0.9198  \u001b[0m | \u001b[0m 2.03    \u001b[0m | \u001b[0m 436.7   \u001b[0m | \u001b[0m 4.66    \u001b[0m |\n",
      "| \u001b[0m 28      \u001b[0m | \u001b[0m 0.9032  \u001b[0m | \u001b[0m 2.172   \u001b[0m | \u001b[0m 217.7   \u001b[0m | \u001b[0m 1.976   \u001b[0m |\n",
      "| \u001b[0m 29      \u001b[0m | \u001b[0m 0.9368  \u001b[0m | \u001b[0m 5.1     \u001b[0m | \u001b[0m 420.6   \u001b[0m | \u001b[0m 3.613   \u001b[0m |\n",
      "| \u001b[0m 30      \u001b[0m | \u001b[0m 0.9364  \u001b[0m | \u001b[0m 5.622   \u001b[0m | \u001b[0m 228.2   \u001b[0m | \u001b[0m 3.651   \u001b[0m |\n",
      "=============================================================\n"
     ]
    }
   ],
   "source": [
    "optimizer.maximize()"
   ]
  },
  {
   "cell_type": "code",
   "execution_count": 24,
   "id": "25095220",
   "metadata": {},
   "outputs": [
    {
     "data": {
      "text/plain": [
       "{'target': 0.941908713692946,\n",
       " 'params': {'md': 6.0, 'ne': 579.5669477686681, 'nj': 1.0}}"
      ]
     },
     "execution_count": 24,
     "metadata": {},
     "output_type": "execute_result"
    }
   ],
   "source": [
    "optimizer.max"
   ]
  },
  {
   "cell_type": "markdown",
   "id": "22dd8b79",
   "metadata": {},
   "source": [
    "The best target value is '0.950780880265026' with the parameters of 'md': 6.0, 'ne': 830.396200906655, 'nj': 1.0."
   ]
  },
  {
   "cell_type": "markdown",
   "id": "1012c420",
   "metadata": {},
   "source": [
    "## 5-2. GridSearchCV"
   ]
  },
  {
   "cell_type": "code",
   "execution_count": 210,
   "id": "5db1bb68",
   "metadata": {},
   "outputs": [
    {
     "data": {
      "text/plain": [
       "GridSearchCV(cv=5, estimator=RandomForestClassifier(random_state=100),\n",
       "             param_grid={'max_depth': (1, 6),\n",
       "                         'n_estimators': [100, 200, 500, 1000],\n",
       "                         'n_jobs': (1, 5)})"
      ]
     },
     "execution_count": 210,
     "metadata": {},
     "output_type": "execute_result"
    }
   ],
   "source": [
    "model = RandomForestClassifier(random_state=100)\n",
    "param_grid = {'n_estimators': [100, 200, 500, 1000], 'n_jobs': (1,5), 'max_depth':(1,6)}\n",
    "\n",
    "model_cv= GridSearchCV(model, param_grid, cv=5)\n",
    "model_cv.fit(X_train,y_train.values.ravel())"
   ]
  },
  {
   "cell_type": "markdown",
   "id": "1c38d1d3",
   "metadata": {},
   "source": [
    "I am going to tune n_estimators, n_jobs, and max_depth by using GridSearchCV."
   ]
  },
  {
   "cell_type": "code",
   "execution_count": 211,
   "id": "05600c63",
   "metadata": {},
   "outputs": [
    {
     "name": "stdout",
     "output_type": "stream",
     "text": [
      "Best Score:0.9492900608519269\n",
      "Best Parameters: {'max_depth': 6, 'n_estimators': 500, 'n_jobs': 1}\n"
     ]
    }
   ],
   "source": [
    "print(\"Best Score:\" + str(model_cv.best_score_))\n",
    "print(\"Best Parameters: \" + str(model_cv.best_params_))"
   ]
  },
  {
   "cell_type": "markdown",
   "id": "0f31ffeb",
   "metadata": {},
   "source": [
    "GridSearchCV result is a bit different from bayesian optimization. Bayesian has better taget value. "
   ]
  },
  {
   "cell_type": "markdown",
   "id": "5c5cc83b",
   "metadata": {},
   "source": [
    "# 6. Optimization - Gradient Boosting"
   ]
  },
  {
   "cell_type": "markdown",
   "id": "e3933c48",
   "metadata": {},
   "source": [
    "## 6-1. Bayesian Optimization"
   ]
  },
  {
   "cell_type": "code",
   "execution_count": 25,
   "id": "859c7a98",
   "metadata": {},
   "outputs": [],
   "source": [
    "def objective(ne, md, mf, lr):\n",
    "    regressor = GradientBoostingClassifier(n_estimators=int(ne), learning_rate = lr, max_depth=int(md), max_features=int(mf), random_state = 100)\n",
    "\n",
    "    regressor.fit(X_train, y_train.values.ravel())\n",
    "\n",
    "    return regressor.score(X_test, y_test)"
   ]
  },
  {
   "cell_type": "markdown",
   "id": "bea95f24",
   "metadata": {},
   "source": [
    "I am going to tune three parameters: n_estimators, max_features, and max_depth."
   ]
  },
  {
   "cell_type": "code",
   "execution_count": 26,
   "id": "533c68fe",
   "metadata": {},
   "outputs": [],
   "source": [
    "search_space = {\n",
    "    \"ne\": (1, 1000),\n",
    "    \"md\": (1,6),\n",
    "    \"mf\": (1,5),\n",
    "    \"lr\": (0.1,1.0)\n",
    "}"
   ]
  },
  {
   "cell_type": "code",
   "execution_count": 27,
   "id": "bb4b82ef",
   "metadata": {},
   "outputs": [],
   "source": [
    "optimizer = BayesianOptimization(\n",
    "                                f=objective,\n",
    "                                pbounds=search_space,\n",
    "                                random_state=100\n",
    "                              )"
   ]
  },
  {
   "cell_type": "code",
   "execution_count": 28,
   "id": "7525cde0",
   "metadata": {},
   "outputs": [
    {
     "name": "stdout",
     "output_type": "stream",
     "text": [
      "|   iter    |  target   |    lr     |    md     |    mf     |    ne     |\n",
      "-------------------------------------------------------------------------\n",
      "| \u001b[0m 1       \u001b[0m | \u001b[0m 0.9442  \u001b[0m | \u001b[0m 0.5891  \u001b[0m | \u001b[0m 2.392   \u001b[0m | \u001b[0m 2.698   \u001b[0m | \u001b[0m 844.9   \u001b[0m |\n",
      "| \u001b[95m 2       \u001b[0m | \u001b[95m 0.9447  \u001b[0m | \u001b[95m 0.1042  \u001b[0m | \u001b[95m 1.608   \u001b[0m | \u001b[95m 3.683   \u001b[0m | \u001b[95m 826.0   \u001b[0m |\n",
      "| \u001b[95m 3       \u001b[0m | \u001b[95m 0.9507  \u001b[0m | \u001b[95m 0.223   \u001b[0m | \u001b[95m 3.875   \u001b[0m | \u001b[95m 4.565   \u001b[0m | \u001b[95m 210.0   \u001b[0m |\n",
      "| \u001b[0m 4       \u001b[0m | \u001b[0m 0.9488  \u001b[0m | \u001b[0m 0.2668  \u001b[0m | \u001b[0m 1.542   \u001b[0m | \u001b[0m 1.879   \u001b[0m | \u001b[0m 978.6   \u001b[0m |\n",
      "| \u001b[0m 5       \u001b[0m | \u001b[0m 0.9479  \u001b[0m | \u001b[0m 0.8305  \u001b[0m | \u001b[0m 1.86    \u001b[0m | \u001b[0m 4.265   \u001b[0m | \u001b[0m 274.8   \u001b[0m |\n",
      "| \u001b[0m 6       \u001b[0m | \u001b[0m 0.9479  \u001b[0m | \u001b[0m 0.7505  \u001b[0m | \u001b[0m 3.838   \u001b[0m | \u001b[0m 4.188   \u001b[0m | \u001b[0m 140.3   \u001b[0m |\n",
      "| \u001b[95m 7       \u001b[0m | \u001b[95m 0.9516  \u001b[0m | \u001b[95m 0.1686  \u001b[0m | \u001b[95m 5.956   \u001b[0m | \u001b[95m 3.175   \u001b[0m | \u001b[95m 545.1   \u001b[0m |\n",
      "| \u001b[0m 8       \u001b[0m | \u001b[0m 0.9507  \u001b[0m | \u001b[0m 0.5166  \u001b[0m | \u001b[0m 5.689   \u001b[0m | \u001b[0m 4.48    \u001b[0m | \u001b[0m 544.5   \u001b[0m |\n",
      "| \u001b[0m 9       \u001b[0m | \u001b[0m 0.9451  \u001b[0m | \u001b[0m 0.5963  \u001b[0m | \u001b[0m 5.74    \u001b[0m | \u001b[0m 1.162   \u001b[0m | \u001b[0m 551.1   \u001b[0m |\n",
      "| \u001b[95m 10      \u001b[0m | \u001b[95m 0.9525  \u001b[0m | \u001b[95m 0.1     \u001b[0m | \u001b[95m 6.0     \u001b[0m | \u001b[95m 1.501   \u001b[0m | \u001b[95m 542.7   \u001b[0m |\n",
      "| \u001b[0m 11      \u001b[0m | \u001b[0m 0.9465  \u001b[0m | \u001b[0m 0.2991  \u001b[0m | \u001b[0m 1.405   \u001b[0m | \u001b[0m 1.465   \u001b[0m | \u001b[0m 540.9   \u001b[0m |\n",
      "| \u001b[0m 12      \u001b[0m | \u001b[0m 0.9484  \u001b[0m | \u001b[0m 0.3333  \u001b[0m | \u001b[0m 5.925   \u001b[0m | \u001b[0m 3.861   \u001b[0m | \u001b[0m 540.4   \u001b[0m |\n",
      "| \u001b[0m 13      \u001b[0m | \u001b[0m 0.9442  \u001b[0m | \u001b[0m 1.0     \u001b[0m | \u001b[0m 5.019   \u001b[0m | \u001b[0m 1.0     \u001b[0m | \u001b[0m 544.5   \u001b[0m |\n",
      "| \u001b[0m 14      \u001b[0m | \u001b[0m 0.9451  \u001b[0m | \u001b[0m 0.5972  \u001b[0m | \u001b[0m 5.908   \u001b[0m | \u001b[0m 2.274   \u001b[0m | \u001b[0m 543.0   \u001b[0m |\n",
      "| \u001b[0m 15      \u001b[0m | \u001b[0m 0.9493  \u001b[0m | \u001b[0m 0.4707  \u001b[0m | \u001b[0m 5.686   \u001b[0m | \u001b[0m 3.308   \u001b[0m | \u001b[0m 298.1   \u001b[0m |\n",
      "| \u001b[0m 16      \u001b[0m | \u001b[0m 0.9438  \u001b[0m | \u001b[0m 0.8537  \u001b[0m | \u001b[0m 3.959   \u001b[0m | \u001b[0m 2.931   \u001b[0m | \u001b[0m 544.0   \u001b[0m |\n",
      "| \u001b[0m 17      \u001b[0m | \u001b[0m 0.9442  \u001b[0m | \u001b[0m 0.7029  \u001b[0m | \u001b[0m 4.949   \u001b[0m | \u001b[0m 2.366   \u001b[0m | \u001b[0m 902.8   \u001b[0m |\n",
      "| \u001b[0m 18      \u001b[0m | \u001b[0m 0.9438  \u001b[0m | \u001b[0m 0.9271  \u001b[0m | \u001b[0m 3.13    \u001b[0m | \u001b[0m 4.193   \u001b[0m | \u001b[0m 897.6   \u001b[0m |\n",
      "| \u001b[0m 19      \u001b[0m | \u001b[0m 0.9474  \u001b[0m | \u001b[0m 0.547   \u001b[0m | \u001b[0m 2.166   \u001b[0m | \u001b[0m 1.031   \u001b[0m | \u001b[0m 841.3   \u001b[0m |\n",
      "| \u001b[0m 20      \u001b[0m | \u001b[0m 0.9474  \u001b[0m | \u001b[0m 0.4234  \u001b[0m | \u001b[0m 3.581   \u001b[0m | \u001b[0m 2.545   \u001b[0m | \u001b[0m 944.4   \u001b[0m |\n",
      "| \u001b[0m 21      \u001b[0m | \u001b[0m 0.9424  \u001b[0m | \u001b[0m 0.2722  \u001b[0m | \u001b[0m 3.222   \u001b[0m | \u001b[0m 4.61    \u001b[0m | \u001b[0m 30.43   \u001b[0m |\n",
      "| \u001b[0m 22      \u001b[0m | \u001b[0m 0.9438  \u001b[0m | \u001b[0m 0.5237  \u001b[0m | \u001b[0m 3.212   \u001b[0m | \u001b[0m 3.113   \u001b[0m | \u001b[0m 835.4   \u001b[0m |\n",
      "| \u001b[0m 23      \u001b[0m | \u001b[0m 0.9401  \u001b[0m | \u001b[0m 0.8529  \u001b[0m | \u001b[0m 4.983   \u001b[0m | \u001b[0m 2.825   \u001b[0m | \u001b[0m 495.1   \u001b[0m |\n",
      "| \u001b[95m 24      \u001b[0m | \u001b[95m 0.9534  \u001b[0m | \u001b[95m 0.1482  \u001b[0m | \u001b[95m 5.559   \u001b[0m | \u001b[95m 1.676   \u001b[0m | \u001b[95m 542.4   \u001b[0m |\n",
      "| \u001b[0m 25      \u001b[0m | \u001b[0m 0.9479  \u001b[0m | \u001b[0m 0.5213  \u001b[0m | \u001b[0m 5.173   \u001b[0m | \u001b[0m 3.991   \u001b[0m | \u001b[0m 545.4   \u001b[0m |\n",
      "| \u001b[0m 26      \u001b[0m | \u001b[0m 0.9387  \u001b[0m | \u001b[0m 0.8326  \u001b[0m | \u001b[0m 4.856   \u001b[0m | \u001b[0m 1.523   \u001b[0m | \u001b[0m 542.4   \u001b[0m |\n",
      "| \u001b[0m 27      \u001b[0m | \u001b[0m 0.9424  \u001b[0m | \u001b[0m 0.4405  \u001b[0m | \u001b[0m 4.009   \u001b[0m | \u001b[0m 2.47    \u001b[0m | \u001b[0m 944.2   \u001b[0m |\n",
      "| \u001b[0m 28      \u001b[0m | \u001b[0m 0.9456  \u001b[0m | \u001b[0m 0.8776  \u001b[0m | \u001b[0m 3.325   \u001b[0m | \u001b[0m 3.353   \u001b[0m | \u001b[0m 812.8   \u001b[0m |\n",
      "| \u001b[0m 29      \u001b[0m | \u001b[0m 0.9451  \u001b[0m | \u001b[0m 0.5072  \u001b[0m | \u001b[0m 2.457   \u001b[0m | \u001b[0m 4.899   \u001b[0m | \u001b[0m 688.8   \u001b[0m |\n",
      "| \u001b[0m 30      \u001b[0m | \u001b[0m 0.9428  \u001b[0m | \u001b[0m 0.6352  \u001b[0m | \u001b[0m 2.368   \u001b[0m | \u001b[0m 4.112   \u001b[0m | \u001b[0m 541.7   \u001b[0m |\n",
      "=========================================================================\n"
     ]
    }
   ],
   "source": [
    "optimizer.maximize()"
   ]
  },
  {
   "cell_type": "code",
   "execution_count": 33,
   "id": "50206ddd",
   "metadata": {},
   "outputs": [
    {
     "data": {
      "text/plain": [
       "{'target': 0.934690014197823,\n",
       " 'params': {'lr': 0.1242297549608508,\n",
       "  'md': 3.791053634143714,\n",
       "  'mf': 3.360921291275591,\n",
       "  'ne': 117.60183907997057}}"
      ]
     },
     "execution_count": 33,
     "metadata": {},
     "output_type": "execute_result"
    }
   ],
   "source": [
    "optimizer.max"
   ]
  },
  {
   "cell_type": "markdown",
   "id": "05ca5aec",
   "metadata": {},
   "source": [
    "The best target value is '1.0' with the parameters of 'md': 3.717024708954827,\n",
    "  'mf': 2.1134775403751846,\n",
    "  'ne': 425.09307315838396."
   ]
  },
  {
   "cell_type": "markdown",
   "id": "c29b3715",
   "metadata": {},
   "source": [
    "## 6-2 GridSearchCV"
   ]
  },
  {
   "cell_type": "code",
   "execution_count": 202,
   "id": "9ccc6969",
   "metadata": {},
   "outputs": [
    {
     "data": {
      "text/plain": [
       "GridSearchCV(cv=5, estimator=GradientBoostingClassifier(random_state=100),\n",
       "             param_grid={'max_depth': (1, 6), 'max_features': (1, 5),\n",
       "                         'n_estimators': [100, 200, 500, 1000]})"
      ]
     },
     "execution_count": 202,
     "metadata": {},
     "output_type": "execute_result"
    }
   ],
   "source": [
    "model = GradientBoostingClassifier(random_state=100)\n",
    "param_grid = {'n_estimators': [100, 200, 500, 1000], 'max_features': (1,5), 'max_depth':(1,6)}\n",
    "\n",
    "model_cv= GridSearchCV(model, param_grid, cv=5)\n",
    "model_cv.fit(X_train,y_train.values.ravel())"
   ]
  },
  {
   "cell_type": "markdown",
   "id": "39cad0cf",
   "metadata": {},
   "source": [
    "I am going to tune n_estimators, max_features, and max_depth by using GridSearchCV."
   ]
  },
  {
   "cell_type": "code",
   "execution_count": 203,
   "id": "ce51b6fb",
   "metadata": {},
   "outputs": [
    {
     "name": "stdout",
     "output_type": "stream",
     "text": [
      "Best Score:1.0\n",
      "Best Parameters: {'max_depth': 6, 'max_features': 5, 'n_estimators': 500}\n"
     ]
    }
   ],
   "source": [
    "print(\"Best Score:\" + str(model_cv.best_score_))\n",
    "print(\"Best Parameters: \" + str(model_cv.best_params_))"
   ]
  },
  {
   "cell_type": "markdown",
   "id": "69759c9a",
   "metadata": {},
   "source": [
    "Even though combination of parameters are different between GridSearchCV and Bayesian Optimization, both results give best target value which is 1. "
   ]
  }
 ],
 "metadata": {
  "kernelspec": {
   "display_name": "Python 3 (ipykernel)",
   "language": "python",
   "name": "python3"
  },
  "language_info": {
   "codemirror_mode": {
    "name": "ipython",
    "version": 3
   },
   "file_extension": ".py",
   "mimetype": "text/x-python",
   "name": "python",
   "nbconvert_exporter": "python",
   "pygments_lexer": "ipython3",
   "version": "3.9.12"
  }
 },
 "nbformat": 4,
 "nbformat_minor": 5
}
