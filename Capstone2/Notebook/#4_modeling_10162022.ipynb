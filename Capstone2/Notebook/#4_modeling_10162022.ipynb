{
 "cells": [
  {
   "cell_type": "markdown",
   "id": "5cfe59a2",
   "metadata": {},
   "source": [
    "## Table of contents\n",
    "* [Overview](#Overview)\n",
    "* [1. Imports](#1.-Imports)\n",
    "* [2. Read Pickle](#2.-Read-Pickle)\n",
    "* [3. Check Data Imbalance](#3.-Check-Data-Imbalance)\n",
    "* [4. Choose Model](#4.-Choose-Model)\n",
    "* [5. Optimization](#5.-Optimization)"
   ]
  },
  {
   "cell_type": "markdown",
   "id": "e0223e7d",
   "metadata": {},
   "source": [
    "## Overview"
   ]
  },
  {
   "cell_type": "markdown",
   "id": "8e53fa43",
   "metadata": {},
   "source": [
    "1. Import library\n",
    "2. Read pickle. (Pickle dataframe is already scaled with dummy variables)\n",
    "3. Address data imbalance\n",
    "4. Split test and train dataset.\n",
    "5. Run four different models and select a model with the best value.\n",
    "6. Optimize random forest by using bayesian optimization"
   ]
  },
  {
   "cell_type": "markdown",
   "id": "e216c5bc",
   "metadata": {},
   "source": [
    "## 1. Imports"
   ]
  },
  {
   "cell_type": "code",
   "execution_count": 1,
   "id": "32c5b853",
   "metadata": {},
   "outputs": [],
   "source": [
    "import pandas as pd\n",
    "import numpy as np\n",
    "from sklearn import preprocessing\n",
    "from sklearn.preprocessing import StandardScaler\n",
    "from sklearn.model_selection import train_test_split, cross_validate, GridSearchCV, learning_curve\n",
    "\n",
    "from sklearn.metrics import precision_recall_curve\n",
    "from sklearn.metrics import f1_score\n",
    "from sklearn.metrics import auc\n",
    "from sklearn.linear_model import LogisticRegression\n",
    "from matplotlib import pyplot\n",
    "from sklearn.metrics import precision_recall_curve\n",
    "from sklearn.metrics import f1_score\n",
    "from sklearn.metrics import auc\n",
    "from sklearn.linear_model import LogisticRegression\n",
    "from sklearn.metrics import classification_report,confusion_matrix,roc_curve,roc_auc_score\n",
    "from sklearn.metrics import accuracy_score,log_loss\n",
    "from matplotlib import pyplot\n",
    "from sklearn.ensemble import RandomForestClassifier\n",
    "from sklearn.ensemble import GradientBoostingClassifier\n",
    "import matplotlib.pyplot as plt\n",
    "\n",
    "from sklearn import metrics\n",
    "from sklearn.metrics import roc_auc_score\n",
    "from imblearn.over_sampling import SMOTE\n",
    "\n",
    "from sklearn.model_selection import KFold\n",
    "from sklearn.model_selection import cross_val_score\n",
    "\n",
    "import matplotlib.pyplot as plt\n",
    "import seaborn as sns\n",
    "import math\n",
    "from bayes_opt import BayesianOptimization\n",
    "import lightgbm as lgb\n",
    "from lightgbm import LGBMClassifier\n"
   ]
  },
  {
   "cell_type": "markdown",
   "id": "e7981324",
   "metadata": {},
   "source": [
    "## 2. Read Pickle"
   ]
  },
  {
   "cell_type": "code",
   "execution_count": 2,
   "id": "db688e81",
   "metadata": {},
   "outputs": [],
   "source": [
    "# Dataframe is already scaled with dummy variables\n",
    "df = pd.read_pickle('df_preprocessed_1016.pkl')"
   ]
  },
  {
   "cell_type": "code",
   "execution_count": 3,
   "id": "106abd44",
   "metadata": {},
   "outputs": [
    {
     "data": {
      "text/html": [
       "<div>\n",
       "<style scoped>\n",
       "    .dataframe tbody tr th:only-of-type {\n",
       "        vertical-align: middle;\n",
       "    }\n",
       "\n",
       "    .dataframe tbody tr th {\n",
       "        vertical-align: top;\n",
       "    }\n",
       "\n",
       "    .dataframe thead th {\n",
       "        text-align: right;\n",
       "    }\n",
       "</style>\n",
       "<table border=\"1\" class=\"dataframe\">\n",
       "  <thead>\n",
       "    <tr style=\"text-align: right;\">\n",
       "      <th></th>\n",
       "      <th>Tenure Months_SS</th>\n",
       "      <th>Monthly Charges_SS</th>\n",
       "      <th>Total Charges_SS</th>\n",
       "      <th>Churn Score_SS</th>\n",
       "      <th>CLTV_SS</th>\n",
       "      <th>Churn Label</th>\n",
       "      <th>Gender_Female</th>\n",
       "      <th>Gender_Male</th>\n",
       "      <th>Senior Citizen_No</th>\n",
       "      <th>Senior Citizen_Yes</th>\n",
       "      <th>...</th>\n",
       "      <th>Streaming Movies_Yes</th>\n",
       "      <th>Contract_Month-to-month</th>\n",
       "      <th>Contract_One year</th>\n",
       "      <th>Contract_Two year</th>\n",
       "      <th>Paperless Billing_No</th>\n",
       "      <th>Paperless Billing_Yes</th>\n",
       "      <th>Payment Method_Bank transfer (automatic)</th>\n",
       "      <th>Payment Method_Credit card (automatic)</th>\n",
       "      <th>Payment Method_Electronic check</th>\n",
       "      <th>Payment Method_Mailed check</th>\n",
       "    </tr>\n",
       "  </thead>\n",
       "  <tbody>\n",
       "    <tr>\n",
       "      <th>0</th>\n",
       "      <td>-1.236724</td>\n",
       "      <td>-0.362660</td>\n",
       "      <td>-0.958066</td>\n",
       "      <td>1.268402</td>\n",
       "      <td>-0.981675</td>\n",
       "      <td>Yes</td>\n",
       "      <td>0</td>\n",
       "      <td>1</td>\n",
       "      <td>1</td>\n",
       "      <td>0</td>\n",
       "      <td>...</td>\n",
       "      <td>0</td>\n",
       "      <td>1</td>\n",
       "      <td>0</td>\n",
       "      <td>0</td>\n",
       "      <td>0</td>\n",
       "      <td>1</td>\n",
       "      <td>0</td>\n",
       "      <td>0</td>\n",
       "      <td>0</td>\n",
       "      <td>1</td>\n",
       "    </tr>\n",
       "    <tr>\n",
       "      <th>1</th>\n",
       "      <td>-1.236724</td>\n",
       "      <td>0.197365</td>\n",
       "      <td>-0.938874</td>\n",
       "      <td>0.385650</td>\n",
       "      <td>-1.436462</td>\n",
       "      <td>Yes</td>\n",
       "      <td>1</td>\n",
       "      <td>0</td>\n",
       "      <td>1</td>\n",
       "      <td>0</td>\n",
       "      <td>...</td>\n",
       "      <td>0</td>\n",
       "      <td>1</td>\n",
       "      <td>0</td>\n",
       "      <td>0</td>\n",
       "      <td>0</td>\n",
       "      <td>1</td>\n",
       "      <td>0</td>\n",
       "      <td>0</td>\n",
       "      <td>1</td>\n",
       "      <td>0</td>\n",
       "    </tr>\n",
       "    <tr>\n",
       "      <th>2</th>\n",
       "      <td>-0.992402</td>\n",
       "      <td>1.159546</td>\n",
       "      <td>-0.643789</td>\n",
       "      <td>1.268402</td>\n",
       "      <td>0.821409</td>\n",
       "      <td>Yes</td>\n",
       "      <td>1</td>\n",
       "      <td>0</td>\n",
       "      <td>1</td>\n",
       "      <td>0</td>\n",
       "      <td>...</td>\n",
       "      <td>1</td>\n",
       "      <td>1</td>\n",
       "      <td>0</td>\n",
       "      <td>0</td>\n",
       "      <td>0</td>\n",
       "      <td>1</td>\n",
       "      <td>0</td>\n",
       "      <td>0</td>\n",
       "      <td>1</td>\n",
       "      <td>0</td>\n",
       "    </tr>\n",
       "    <tr>\n",
       "      <th>3</th>\n",
       "      <td>-0.177995</td>\n",
       "      <td>1.330711</td>\n",
       "      <td>0.338085</td>\n",
       "      <td>1.175481</td>\n",
       "      <td>0.509483</td>\n",
       "      <td>Yes</td>\n",
       "      <td>1</td>\n",
       "      <td>0</td>\n",
       "      <td>1</td>\n",
       "      <td>0</td>\n",
       "      <td>...</td>\n",
       "      <td>1</td>\n",
       "      <td>1</td>\n",
       "      <td>0</td>\n",
       "      <td>0</td>\n",
       "      <td>0</td>\n",
       "      <td>1</td>\n",
       "      <td>0</td>\n",
       "      <td>0</td>\n",
       "      <td>1</td>\n",
       "      <td>0</td>\n",
       "    </tr>\n",
       "    <tr>\n",
       "      <th>4</th>\n",
       "      <td>0.677133</td>\n",
       "      <td>1.294151</td>\n",
       "      <td>1.216150</td>\n",
       "      <td>1.407784</td>\n",
       "      <td>0.794358</td>\n",
       "      <td>Yes</td>\n",
       "      <td>0</td>\n",
       "      <td>1</td>\n",
       "      <td>1</td>\n",
       "      <td>0</td>\n",
       "      <td>...</td>\n",
       "      <td>1</td>\n",
       "      <td>1</td>\n",
       "      <td>0</td>\n",
       "      <td>0</td>\n",
       "      <td>0</td>\n",
       "      <td>1</td>\n",
       "      <td>1</td>\n",
       "      <td>0</td>\n",
       "      <td>0</td>\n",
       "      <td>0</td>\n",
       "    </tr>\n",
       "  </tbody>\n",
       "</table>\n",
       "<p>5 rows × 49 columns</p>\n",
       "</div>"
      ],
      "text/plain": [
       "   Tenure Months_SS  Monthly Charges_SS  Total Charges_SS  Churn Score_SS  \\\n",
       "0         -1.236724           -0.362660         -0.958066        1.268402   \n",
       "1         -1.236724            0.197365         -0.938874        0.385650   \n",
       "2         -0.992402            1.159546         -0.643789        1.268402   \n",
       "3         -0.177995            1.330711          0.338085        1.175481   \n",
       "4          0.677133            1.294151          1.216150        1.407784   \n",
       "\n",
       "    CLTV_SS Churn Label  Gender_Female  Gender_Male  Senior Citizen_No  \\\n",
       "0 -0.981675         Yes              0            1                  1   \n",
       "1 -1.436462         Yes              1            0                  1   \n",
       "2  0.821409         Yes              1            0                  1   \n",
       "3  0.509483         Yes              1            0                  1   \n",
       "4  0.794358         Yes              0            1                  1   \n",
       "\n",
       "   Senior Citizen_Yes  ...  Streaming Movies_Yes  Contract_Month-to-month  \\\n",
       "0                   0  ...                     0                        1   \n",
       "1                   0  ...                     0                        1   \n",
       "2                   0  ...                     1                        1   \n",
       "3                   0  ...                     1                        1   \n",
       "4                   0  ...                     1                        1   \n",
       "\n",
       "   Contract_One year  Contract_Two year  Paperless Billing_No  \\\n",
       "0                  0                  0                     0   \n",
       "1                  0                  0                     0   \n",
       "2                  0                  0                     0   \n",
       "3                  0                  0                     0   \n",
       "4                  0                  0                     0   \n",
       "\n",
       "   Paperless Billing_Yes  Payment Method_Bank transfer (automatic)  \\\n",
       "0                      1                                         0   \n",
       "1                      1                                         0   \n",
       "2                      1                                         0   \n",
       "3                      1                                         0   \n",
       "4                      1                                         1   \n",
       "\n",
       "   Payment Method_Credit card (automatic)  Payment Method_Electronic check  \\\n",
       "0                                       0                                0   \n",
       "1                                       0                                1   \n",
       "2                                       0                                1   \n",
       "3                                       0                                1   \n",
       "4                                       0                                0   \n",
       "\n",
       "   Payment Method_Mailed check  \n",
       "0                            1  \n",
       "1                            0  \n",
       "2                            0  \n",
       "3                            0  \n",
       "4                            0  \n",
       "\n",
       "[5 rows x 49 columns]"
      ]
     },
     "execution_count": 3,
     "metadata": {},
     "output_type": "execute_result"
    }
   ],
   "source": [
    "df.head()"
   ]
  },
  {
   "cell_type": "code",
   "execution_count": 4,
   "id": "bdcaa31d",
   "metadata": {},
   "outputs": [
    {
     "name": "stdout",
     "output_type": "stream",
     "text": [
      "<class 'pandas.core.frame.DataFrame'>\n",
      "RangeIndex: 7043 entries, 0 to 7042\n",
      "Data columns (total 49 columns):\n",
      " #   Column                                    Non-Null Count  Dtype  \n",
      "---  ------                                    --------------  -----  \n",
      " 0   Tenure Months_SS                          7043 non-null   float64\n",
      " 1   Monthly Charges_SS                        7043 non-null   float64\n",
      " 2   Total Charges_SS                          7043 non-null   float64\n",
      " 3   Churn Score_SS                            7043 non-null   float64\n",
      " 4   CLTV_SS                                   7043 non-null   float64\n",
      " 5   Churn Label                               7043 non-null   object \n",
      " 6   Gender_Female                             7043 non-null   uint8  \n",
      " 7   Gender_Male                               7043 non-null   uint8  \n",
      " 8   Senior Citizen_No                         7043 non-null   uint8  \n",
      " 9   Senior Citizen_Yes                        7043 non-null   uint8  \n",
      " 10  Partner_No                                7043 non-null   uint8  \n",
      " 11  Partner_Yes                               7043 non-null   uint8  \n",
      " 12  Dependents_No                             7043 non-null   uint8  \n",
      " 13  Dependents_Yes                            7043 non-null   uint8  \n",
      " 14  Phone Service_No                          7043 non-null   uint8  \n",
      " 15  Phone Service_Yes                         7043 non-null   uint8  \n",
      " 16  Multiple Lines_No                         7043 non-null   uint8  \n",
      " 17  Multiple Lines_No phone service           7043 non-null   uint8  \n",
      " 18  Multiple Lines_Yes                        7043 non-null   uint8  \n",
      " 19  Internet Service_DSL                      7043 non-null   uint8  \n",
      " 20  Internet Service_Fiber optic              7043 non-null   uint8  \n",
      " 21  Internet Service_No                       7043 non-null   uint8  \n",
      " 22  Online Security_No                        7043 non-null   uint8  \n",
      " 23  Online Security_No internet service       7043 non-null   uint8  \n",
      " 24  Online Security_Yes                       7043 non-null   uint8  \n",
      " 25  Online Backup_No                          7043 non-null   uint8  \n",
      " 26  Online Backup_No internet service         7043 non-null   uint8  \n",
      " 27  Online Backup_Yes                         7043 non-null   uint8  \n",
      " 28  Device Protection_No                      7043 non-null   uint8  \n",
      " 29  Device Protection_No internet service     7043 non-null   uint8  \n",
      " 30  Device Protection_Yes                     7043 non-null   uint8  \n",
      " 31  Tech Support_No                           7043 non-null   uint8  \n",
      " 32  Tech Support_No internet service          7043 non-null   uint8  \n",
      " 33  Tech Support_Yes                          7043 non-null   uint8  \n",
      " 34  Streaming TV_No                           7043 non-null   uint8  \n",
      " 35  Streaming TV_No internet service          7043 non-null   uint8  \n",
      " 36  Streaming TV_Yes                          7043 non-null   uint8  \n",
      " 37  Streaming Movies_No                       7043 non-null   uint8  \n",
      " 38  Streaming Movies_No internet service      7043 non-null   uint8  \n",
      " 39  Streaming Movies_Yes                      7043 non-null   uint8  \n",
      " 40  Contract_Month-to-month                   7043 non-null   uint8  \n",
      " 41  Contract_One year                         7043 non-null   uint8  \n",
      " 42  Contract_Two year                         7043 non-null   uint8  \n",
      " 43  Paperless Billing_No                      7043 non-null   uint8  \n",
      " 44  Paperless Billing_Yes                     7043 non-null   uint8  \n",
      " 45  Payment Method_Bank transfer (automatic)  7043 non-null   uint8  \n",
      " 46  Payment Method_Credit card (automatic)    7043 non-null   uint8  \n",
      " 47  Payment Method_Electronic check           7043 non-null   uint8  \n",
      " 48  Payment Method_Mailed check               7043 non-null   uint8  \n",
      "dtypes: float64(5), object(1), uint8(43)\n",
      "memory usage: 626.0+ KB\n"
     ]
    }
   ],
   "source": [
    "df.info()"
   ]
  },
  {
   "cell_type": "code",
   "execution_count": 5,
   "id": "68b564fe",
   "metadata": {},
   "outputs": [],
   "source": [
    "# Put 1 and 0 for Dependent variable - 'Churn Label' to run logistics regression without an issue. \n",
    "df['Churn Label'].replace(\"Yes\", 1, inplace=True)\n",
    "df['Churn Label'].replace(\"No\", 0, inplace=True)"
   ]
  },
  {
   "cell_type": "markdown",
   "id": "3d404bac",
   "metadata": {},
   "source": [
    "## 3. Check Data Imbalance"
   ]
  },
  {
   "cell_type": "code",
   "execution_count": 6,
   "id": "7b78a518",
   "metadata": {},
   "outputs": [],
   "source": [
    "X = df.loc[:, df.columns != 'Churn Label']\n",
    "y = df.loc[:, df.columns == 'Churn Label']\n",
    "y = y.astype('int')\n",
    "\n",
    "X_train, X_test, y_train, y_test = train_test_split(X,y,test_size=0.3, random_state=0)"
   ]
  },
  {
   "cell_type": "code",
   "execution_count": 7,
   "id": "7aa661cb",
   "metadata": {},
   "outputs": [
    {
     "name": "stdout",
     "output_type": "stream",
     "text": [
      "(4930, 48)\n",
      "(2113, 48)\n",
      "(4930, 1)\n",
      "(2113, 1)\n"
     ]
    }
   ],
   "source": [
    "# check the dimension of the splited dataset\n",
    "print(X_train.shape)\n",
    "print(X_test.shape)\n",
    "print(y_train.shape)\n",
    "print(y_test.shape)"
   ]
  },
  {
   "cell_type": "markdown",
   "id": "6820baa2",
   "metadata": {},
   "source": [
    "Dependent variable is imbalanced, i am going to balance the varaible by using SMOTE."
   ]
  },
  {
   "cell_type": "code",
   "execution_count": 8,
   "id": "6ca34c67",
   "metadata": {},
   "outputs": [],
   "source": [
    "# Over sampling using SMOTE (Synthetic Minority Oversampling Technique)\n",
    "os = SMOTE(random_state=0)\n",
    "X_train, X_test, y_train, y_test = train_test_split(X,y,test_size=0.3, random_state=0)\n",
    "columns = X_train.columns"
   ]
  },
  {
   "cell_type": "code",
   "execution_count": 9,
   "id": "56ef5385",
   "metadata": {},
   "outputs": [
    {
     "name": "stdout",
     "output_type": "stream",
     "text": [
      "length of oversampled data is  7230\n",
      "number of no churn in oversampled data  3615\n",
      "number of yes churn  3615\n",
      "proportion of no churn data in oversampled data is  0.5\n",
      "proportion of yes churn data in oversampled data is  0.5\n"
     ]
    }
   ],
   "source": [
    "# SMOTE - Continue..\n",
    "os_data_X, os_data_y = os.fit_resample(X_train, y_train)\n",
    "os_data_X = pd.DataFrame(data=os_data_X, columns = columns)\n",
    "os_data_y = pd.DataFrame(data=os_data_y, columns=['Churn Label'])\n",
    "\n",
    "# Check the numbers of data\n",
    "print(\"length of oversampled data is \", len(os_data_X))\n",
    "print(\"number of no churn in oversampled data \", len(os_data_y[os_data_y['Churn Label']==0]))\n",
    "print(\"number of yes churn \", len(os_data_y[os_data_y['Churn Label']==1]))\n",
    "print(\"proportion of no churn data in oversampled data is \", len(os_data_y[os_data_y['Churn Label']==0])/len(os_data_X))\n",
    "print(\"proportion of yes churn data in oversampled data is \", len(os_data_y[os_data_y['Churn Label']==1])/len(os_data_X))"
   ]
  },
  {
   "cell_type": "code",
   "execution_count": 10,
   "id": "9e716c8f",
   "metadata": {},
   "outputs": [],
   "source": [
    "X_train, X_test, y_train, y_test = train_test_split(os_data_X, os_data_y,test_size=0.3, random_state=0)"
   ]
  },
  {
   "cell_type": "code",
   "execution_count": 11,
   "id": "1588c966",
   "metadata": {},
   "outputs": [
    {
     "name": "stdout",
     "output_type": "stream",
     "text": [
      "(5061, 48)\n",
      "(2169, 48)\n",
      "(5061, 1)\n",
      "(2169, 1)\n"
     ]
    },
    {
     "data": {
      "text/plain": [
       "0    2532\n",
       "1    2529\n",
       "Name: Churn Label, dtype: int64"
      ]
     },
     "execution_count": 11,
     "metadata": {},
     "output_type": "execute_result"
    }
   ],
   "source": [
    "# check the dimension of the splited dataset\n",
    "print(X_train.shape)\n",
    "print(X_test.shape)\n",
    "print(y_train.shape)\n",
    "print(y_test.shape)\n",
    "\n",
    "\n",
    "y_train['Churn Label'].value_counts()"
   ]
  },
  {
   "cell_type": "markdown",
   "id": "1676590d",
   "metadata": {},
   "source": [
    "## 4. Choose Model"
   ]
  },
  {
   "cell_type": "markdown",
   "id": "688fd02f",
   "metadata": {},
   "source": [
    "### 4-1 Logistic Regression"
   ]
  },
  {
   "cell_type": "markdown",
   "id": "d3baf58d",
   "metadata": {},
   "source": [
    "#### Cross Validation"
   ]
  },
  {
   "cell_type": "code",
   "execution_count": 12,
   "id": "eda52ef1",
   "metadata": {},
   "outputs": [
    {
     "name": "stdout",
     "output_type": "stream",
     "text": [
      "Accuracy: 0.943 (0.013)\n",
      "[0.93548387 0.91705069 0.96774194 0.94930876 0.93548387 0.94009217\n",
      " 0.95852535 0.94930876 0.93548387 0.94444444]\n"
     ]
    }
   ],
   "source": [
    "# prepare the cross-validation procedure\n",
    "cv = KFold(n_splits=10, random_state=1, shuffle=True)\n",
    "\n",
    "# create model\n",
    "model = LogisticRegression(solver='newton-cg')\n",
    "model_res = model.fit(X_train, y_train.values.ravel())\n",
    "y_pred = model_res.predict(X_test)\n",
    "\n",
    "# evaluate model\n",
    "scores = cross_val_score(model, y_test, y_pred, scoring='accuracy', cv=cv, n_jobs=-1)\n",
    "\n",
    "# report performance\n",
    "print('Accuracy: %.3f (%.3f)' % (np.mean(scores), np.std(scores)))\n",
    "\n",
    "print(scores)"
   ]
  },
  {
   "cell_type": "markdown",
   "id": "f4573b10",
   "metadata": {},
   "source": [
    "#### Confusion Matrix"
   ]
  },
  {
   "cell_type": "code",
   "execution_count": 13,
   "id": "bf9b8528",
   "metadata": {},
   "outputs": [
    {
     "name": "stdout",
     "output_type": "stream",
     "text": [
      "[[1012   71]\n",
      " [  52 1034]]\n",
      "              precision    recall  f1-score   support\n",
      "\n",
      "           0       0.95      0.93      0.94      1083\n",
      "           1       0.94      0.95      0.94      1086\n",
      "\n",
      "    accuracy                           0.94      2169\n",
      "   macro avg       0.94      0.94      0.94      2169\n",
      "weighted avg       0.94      0.94      0.94      2169\n",
      "\n"
     ]
    }
   ],
   "source": [
    "# confusion matrix\n",
    "cm = confusion_matrix(y_test, y_pred)\n",
    "print(cm)\n",
    "print(classification_report(y_test, y_pred))"
   ]
  },
  {
   "cell_type": "markdown",
   "id": "cfe2bc08",
   "metadata": {},
   "source": [
    "#### Check Coefficient "
   ]
  },
  {
   "cell_type": "markdown",
   "id": "5e2509f3",
   "metadata": {},
   "source": [
    "Coffcient tells how feature impacts on depdendent variable."
   ]
  },
  {
   "cell_type": "code",
   "execution_count": 14,
   "id": "73fd9ab4",
   "metadata": {
    "scrolled": true
   },
   "outputs": [
    {
     "name": "stdout",
     "output_type": "stream",
     "text": [
      "Feature : Tenure Months_SS  has score  : -2.101456337280077 \n",
      "Feature : Monthly Charges_SS  has score  : -1.889737377325105 \n",
      "Feature : Total Charges_SS  has score  : -1.849929086205944 \n",
      "Feature : Churn Score_SS  has score  : -1.7660984428794912 \n",
      "Feature : CLTV_SS  has score  : -1.7640798390240253 \n",
      "Feature : Gender_Female  has score  : -1.7448948353048308 \n",
      "Feature : Gender_Male  has score  : -1.732887329380436 \n",
      "Feature : Senior Citizen_No  has score  : -1.7325566909827657 \n",
      "Feature : Senior Citizen_Yes  has score  : -1.7314540313680873 \n",
      "Feature : Partner_No  has score  : -1.7034719489396253 \n",
      "Feature : Partner_Yes  has score  : -1.6562312751959305 \n",
      "Feature : Dependents_No  has score  : -1.6527941783451408 \n",
      "Feature : Dependents_Yes  has score  : -1.6115763094056414 \n",
      "Feature : Phone Service_No  has score  : -1.568077055886941 \n",
      "Feature : Phone Service_Yes  has score  : -1.5619127664265509 \n",
      "Feature : Multiple Lines_No  has score  : -1.4660334755775513 \n",
      "Feature : Multiple Lines_No phone service  has score  : -1.4454853277593307 \n",
      "Feature : Multiple Lines_Yes  has score  : -1.3898334793094662 \n",
      "Feature : Internet Service_DSL  has score  : -1.3528512513075976 \n",
      "Feature : Internet Service_Fiber optic  has score  : -1.2317208515880098 \n",
      "Feature : Internet Service_No  has score  : -1.2311077929998961 \n",
      "Feature : Online Security_No  has score  : -1.220169524437892 \n",
      "Feature : Online Security_No internet service  has score  : -1.1999439884268033 \n",
      "Feature : Online Security_Yes  has score  : -1.1935144955936265 \n",
      "Feature : Online Backup_No  has score  : -1.1783589842746023 \n",
      "Feature : Online Backup_No internet service  has score  : -1.088676532324876 \n",
      "Feature : Online Backup_Yes  has score  : -1.0584760060352905 \n",
      "Feature : Device Protection_No  has score  : -1.0268686941852143 \n",
      "Feature : Device Protection_No internet service  has score  : -1.0206877060176969 \n",
      "Feature : Device Protection_Yes  has score  : -1.0133922303565113 \n",
      "Feature : Tech Support_No  has score  : -0.9815845543507709 \n",
      "Feature : Tech Support_No internet service  has score  : -0.9815845543507709 \n",
      "Feature : Tech Support_Yes  has score  : -0.9815845543507709 \n",
      "Feature : Streaming TV_No  has score  : -0.9815845543507709 \n",
      "Feature : Streaming TV_No internet service  has score  : -0.9815845543507709 \n",
      "Feature : Streaming TV_Yes  has score  : -0.9815845543507709 \n",
      "Feature : Streaming Movies_No  has score  : -0.9815845543507709 \n",
      "Feature : Streaming Movies_No internet service  has score  : -0.4324220139794507 \n",
      "Feature : Streaming Movies_Yes  has score  : -0.25336273681376537 \n",
      "Feature : Contract_Month-to-month  has score  : -0.25336273681376537 \n",
      "Feature : Contract_One year  has score  : -0.23160425981643804 \n",
      "Feature : Contract_Two year  has score  : -0.15057830105106612 \n",
      "Feature : Paperless Billing_No  has score  : -0.1369391155038525 \n",
      "Feature : Paperless Billing_Yes  has score  : 0.036460264357432076 \n",
      "Feature : Payment Method_Bank transfer (automatic)  has score  : 0.04832799589058835 \n",
      "Feature : Payment Method_Credit card (automatic)  has score  : 0.4800666767574891 \n",
      "Feature : Payment Method_Electronic check  has score  : 0.9043554837788462 \n",
      "Feature : Payment Method_Mailed check  has score  : 4.125878151881182 \n"
     ]
    }
   ],
   "source": [
    "importance=model.coef_[0]\n",
    "importance=np.sort(importance)\n",
    "\n",
    "for index,val in enumerate(importance):\n",
    "    print(\"Feature : {}  has score  : {} \".format(model.feature_names_in_[index],val))\n"
   ]
  },
  {
   "cell_type": "code",
   "execution_count": 15,
   "id": "406cab6e",
   "metadata": {},
   "outputs": [
    {
     "data": {
      "image/png": "[encoded data removed]",
      "text/plain": [
       "<Figure size 432x288 with 1 Axes>"
      ]
     },
     "metadata": {},
     "output_type": "display_data"
    }
   ],
   "source": [
    "# plotting the features and their score in ascending order\n",
    "sns.set_style(\"darkgrid\")\n",
    "plt.bar([i for i in range (len(importance))],importance)\n",
    "plt.show()\n"
   ]
  },
  {
   "cell_type": "markdown",
   "id": "d82d1251",
   "metadata": {},
   "source": [
    "#### Feature Importance"
   ]
  },
  {
   "cell_type": "markdown",
   "id": "50d4fbfa",
   "metadata": {},
   "source": [
    "Feature Importance refers to techniques that calculate a score for all the input features for a given model — the scores simply represent the “importance” of each feature. **A higher score means that the specific feature will have a larger effect on the model that is being used to predict a certain variable.**"
   ]
  },
  {
   "cell_type": "code",
   "execution_count": 16,
   "id": "ad219e07",
   "metadata": {},
   "outputs": [],
   "source": [
    "importance=model.coef_[0]\n",
    "feature_importance = pd.DataFrame(model.feature_names_in_, columns = [\"feature\"])\n",
    "feature_importance['importance'] = pow(math.e, np.array(importance))"
   ]
  },
  {
   "cell_type": "code",
   "execution_count": 17,
   "id": "199073e1",
   "metadata": {},
   "outputs": [
    {
     "data": {
      "text/html": [
       "<div>\n",
       "<style scoped>\n",
       "    .dataframe tbody tr th:only-of-type {\n",
       "        vertical-align: middle;\n",
       "    }\n",
       "\n",
       "    .dataframe tbody tr th {\n",
       "        vertical-align: top;\n",
       "    }\n",
       "\n",
       "    .dataframe thead th {\n",
       "        text-align: right;\n",
       "    }\n",
       "</style>\n",
       "<table border=\"1\" class=\"dataframe\">\n",
       "  <thead>\n",
       "    <tr style=\"text-align: right;\">\n",
       "      <th></th>\n",
       "      <th>feature</th>\n",
       "      <th>importance</th>\n",
       "    </tr>\n",
       "  </thead>\n",
       "  <tbody>\n",
       "    <tr>\n",
       "      <th>3</th>\n",
       "      <td>Churn Score_SS</td>\n",
       "      <td>61.922162</td>\n",
       "    </tr>\n",
       "    <tr>\n",
       "      <th>1</th>\n",
       "      <td>Monthly Charges_SS</td>\n",
       "      <td>2.470339</td>\n",
       "    </tr>\n",
       "    <tr>\n",
       "      <th>2</th>\n",
       "      <td>Total Charges_SS</td>\n",
       "      <td>1.616182</td>\n",
       "    </tr>\n",
       "    <tr>\n",
       "      <th>4</th>\n",
       "      <td>CLTV_SS</td>\n",
       "      <td>1.049515</td>\n",
       "    </tr>\n",
       "    <tr>\n",
       "      <th>14</th>\n",
       "      <td>Phone Service_Yes</td>\n",
       "      <td>1.037133</td>\n",
       "    </tr>\n",
       "    <tr>\n",
       "      <th>11</th>\n",
       "      <td>Dependents_No</td>\n",
       "      <td>0.872023</td>\n",
       "    </tr>\n",
       "    <tr>\n",
       "      <th>18</th>\n",
       "      <td>Internet Service_DSL</td>\n",
       "      <td>0.860210</td>\n",
       "    </tr>\n",
       "    <tr>\n",
       "      <th>39</th>\n",
       "      <td>Contract_Month-to-month</td>\n",
       "      <td>0.793260</td>\n",
       "    </tr>\n",
       "    <tr>\n",
       "      <th>13</th>\n",
       "      <td>Phone Service_No</td>\n",
       "      <td>0.776186</td>\n",
       "    </tr>\n",
       "    <tr>\n",
       "      <th>16</th>\n",
       "      <td>Multiple Lines_No phone service</td>\n",
       "      <td>0.776186</td>\n",
       "    </tr>\n",
       "    <tr>\n",
       "      <th>19</th>\n",
       "      <td>Internet Service_Fiber optic</td>\n",
       "      <td>0.648935</td>\n",
       "    </tr>\n",
       "    <tr>\n",
       "      <th>22</th>\n",
       "      <td>Online Security_No internet service</td>\n",
       "      <td>0.374717</td>\n",
       "    </tr>\n",
       "    <tr>\n",
       "      <th>20</th>\n",
       "      <td>Internet Service_No</td>\n",
       "      <td>0.374717</td>\n",
       "    </tr>\n",
       "    <tr>\n",
       "      <th>31</th>\n",
       "      <td>Tech Support_No internet service</td>\n",
       "      <td>0.374717</td>\n",
       "    </tr>\n",
       "    <tr>\n",
       "      <th>25</th>\n",
       "      <td>Online Backup_No internet service</td>\n",
       "      <td>0.374717</td>\n",
       "    </tr>\n",
       "    <tr>\n",
       "      <th>28</th>\n",
       "      <td>Device Protection_No internet service</td>\n",
       "      <td>0.374717</td>\n",
       "    </tr>\n",
       "    <tr>\n",
       "      <th>34</th>\n",
       "      <td>Streaming TV_No internet service</td>\n",
       "      <td>0.374717</td>\n",
       "    </tr>\n",
       "    <tr>\n",
       "      <th>37</th>\n",
       "      <td>Streaming Movies_No internet service</td>\n",
       "      <td>0.374717</td>\n",
       "    </tr>\n",
       "    <tr>\n",
       "      <th>24</th>\n",
       "      <td>Online Backup_No</td>\n",
       "      <td>0.362986</td>\n",
       "    </tr>\n",
       "    <tr>\n",
       "      <th>36</th>\n",
       "      <td>Streaming Movies_No</td>\n",
       "      <td>0.360347</td>\n",
       "    </tr>\n",
       "    <tr>\n",
       "      <th>33</th>\n",
       "      <td>Streaming TV_No</td>\n",
       "      <td>0.358127</td>\n",
       "    </tr>\n",
       "    <tr>\n",
       "      <th>40</th>\n",
       "      <td>Contract_One year</td>\n",
       "      <td>0.346984</td>\n",
       "    </tr>\n",
       "    <tr>\n",
       "      <th>30</th>\n",
       "      <td>Tech Support_No</td>\n",
       "      <td>0.336662</td>\n",
       "    </tr>\n",
       "    <tr>\n",
       "      <th>35</th>\n",
       "      <td>Streaming TV_Yes</td>\n",
       "      <td>0.307783</td>\n",
       "    </tr>\n",
       "    <tr>\n",
       "      <th>46</th>\n",
       "      <td>Payment Method_Electronic check</td>\n",
       "      <td>0.303154</td>\n",
       "    </tr>\n",
       "    <tr>\n",
       "      <th>21</th>\n",
       "      <td>Online Security_No</td>\n",
       "      <td>0.301211</td>\n",
       "    </tr>\n",
       "    <tr>\n",
       "      <th>0</th>\n",
       "      <td>Tenure Months_SS</td>\n",
       "      <td>0.295180</td>\n",
       "    </tr>\n",
       "    <tr>\n",
       "      <th>27</th>\n",
       "      <td>Device Protection_No</td>\n",
       "      <td>0.291969</td>\n",
       "    </tr>\n",
       "    <tr>\n",
       "      <th>38</th>\n",
       "      <td>Streaming Movies_Yes</td>\n",
       "      <td>0.291790</td>\n",
       "    </tr>\n",
       "    <tr>\n",
       "      <th>29</th>\n",
       "      <td>Device Protection_Yes</td>\n",
       "      <td>0.258502</td>\n",
       "    </tr>\n",
       "    <tr>\n",
       "      <th>15</th>\n",
       "      <td>Multiple Lines_No</td>\n",
       "      <td>0.249117</td>\n",
       "    </tr>\n",
       "    <tr>\n",
       "      <th>10</th>\n",
       "      <td>Partner_Yes</td>\n",
       "      <td>0.235632</td>\n",
       "    </tr>\n",
       "    <tr>\n",
       "      <th>17</th>\n",
       "      <td>Multiple Lines_Yes</td>\n",
       "      <td>0.230839</td>\n",
       "    </tr>\n",
       "    <tr>\n",
       "      <th>26</th>\n",
       "      <td>Online Backup_Yes</td>\n",
       "      <td>0.209735</td>\n",
       "    </tr>\n",
       "    <tr>\n",
       "      <th>43</th>\n",
       "      <td>Paperless Billing_Yes</td>\n",
       "      <td>0.208446</td>\n",
       "    </tr>\n",
       "    <tr>\n",
       "      <th>8</th>\n",
       "      <td>Senior Citizen_Yes</td>\n",
       "      <td>0.199573</td>\n",
       "    </tr>\n",
       "    <tr>\n",
       "      <th>12</th>\n",
       "      <td>Dependents_Yes</td>\n",
       "      <td>0.191514</td>\n",
       "    </tr>\n",
       "    <tr>\n",
       "      <th>41</th>\n",
       "      <td>Contract_Two year</td>\n",
       "      <td>0.190857</td>\n",
       "    </tr>\n",
       "    <tr>\n",
       "      <th>5</th>\n",
       "      <td>Gender_Female</td>\n",
       "      <td>0.182050</td>\n",
       "    </tr>\n",
       "    <tr>\n",
       "      <th>9</th>\n",
       "      <td>Partner_No</td>\n",
       "      <td>0.177027</td>\n",
       "    </tr>\n",
       "    <tr>\n",
       "      <th>47</th>\n",
       "      <td>Payment Method_Mailed check</td>\n",
       "      <td>0.176832</td>\n",
       "    </tr>\n",
       "    <tr>\n",
       "      <th>23</th>\n",
       "      <td>Online Security_Yes</td>\n",
       "      <td>0.176773</td>\n",
       "    </tr>\n",
       "    <tr>\n",
       "      <th>7</th>\n",
       "      <td>Senior Citizen_No</td>\n",
       "      <td>0.174663</td>\n",
       "    </tr>\n",
       "    <tr>\n",
       "      <th>6</th>\n",
       "      <td>Gender_Male</td>\n",
       "      <td>0.171344</td>\n",
       "    </tr>\n",
       "    <tr>\n",
       "      <th>32</th>\n",
       "      <td>Tech Support_Yes</td>\n",
       "      <td>0.170999</td>\n",
       "    </tr>\n",
       "    <tr>\n",
       "      <th>44</th>\n",
       "      <td>Payment Method_Bank transfer (automatic)</td>\n",
       "      <td>0.157248</td>\n",
       "    </tr>\n",
       "    <tr>\n",
       "      <th>45</th>\n",
       "      <td>Payment Method_Credit card (automatic)</td>\n",
       "      <td>0.151111</td>\n",
       "    </tr>\n",
       "    <tr>\n",
       "      <th>42</th>\n",
       "      <td>Paperless Billing_No</td>\n",
       "      <td>0.122278</td>\n",
       "    </tr>\n",
       "  </tbody>\n",
       "</table>\n",
       "</div>"
      ],
      "text/plain": [
       "                                     feature  importance\n",
       "3                             Churn Score_SS   61.922162\n",
       "1                         Monthly Charges_SS    2.470339\n",
       "2                           Total Charges_SS    1.616182\n",
       "4                                    CLTV_SS    1.049515\n",
       "14                         Phone Service_Yes    1.037133\n",
       "11                             Dependents_No    0.872023\n",
       "18                      Internet Service_DSL    0.860210\n",
       "39                   Contract_Month-to-month    0.793260\n",
       "13                          Phone Service_No    0.776186\n",
       "16           Multiple Lines_No phone service    0.776186\n",
       "19              Internet Service_Fiber optic    0.648935\n",
       "22       Online Security_No internet service    0.374717\n",
       "20                       Internet Service_No    0.374717\n",
       "31          Tech Support_No internet service    0.374717\n",
       "25         Online Backup_No internet service    0.374717\n",
       "28     Device Protection_No internet service    0.374717\n",
       "34          Streaming TV_No internet service    0.374717\n",
       "37      Streaming Movies_No internet service    0.374717\n",
       "24                          Online Backup_No    0.362986\n",
       "36                       Streaming Movies_No    0.360347\n",
       "33                           Streaming TV_No    0.358127\n",
       "40                         Contract_One year    0.346984\n",
       "30                           Tech Support_No    0.336662\n",
       "35                          Streaming TV_Yes    0.307783\n",
       "46           Payment Method_Electronic check    0.303154\n",
       "21                        Online Security_No    0.301211\n",
       "0                           Tenure Months_SS    0.295180\n",
       "27                      Device Protection_No    0.291969\n",
       "38                      Streaming Movies_Yes    0.291790\n",
       "29                     Device Protection_Yes    0.258502\n",
       "15                         Multiple Lines_No    0.249117\n",
       "10                               Partner_Yes    0.235632\n",
       "17                        Multiple Lines_Yes    0.230839\n",
       "26                         Online Backup_Yes    0.209735\n",
       "43                     Paperless Billing_Yes    0.208446\n",
       "8                         Senior Citizen_Yes    0.199573\n",
       "12                            Dependents_Yes    0.191514\n",
       "41                         Contract_Two year    0.190857\n",
       "5                              Gender_Female    0.182050\n",
       "9                                 Partner_No    0.177027\n",
       "47               Payment Method_Mailed check    0.176832\n",
       "23                       Online Security_Yes    0.176773\n",
       "7                          Senior Citizen_No    0.174663\n",
       "6                                Gender_Male    0.171344\n",
       "32                          Tech Support_Yes    0.170999\n",
       "44  Payment Method_Bank transfer (automatic)    0.157248\n",
       "45    Payment Method_Credit card (automatic)    0.151111\n",
       "42                      Paperless Billing_No    0.122278"
      ]
     },
     "execution_count": 17,
     "metadata": {},
     "output_type": "execute_result"
    }
   ],
   "source": [
    "feature_importance.sort_values(by=['importance'],ascending = False)"
   ]
  },
  {
   "cell_type": "markdown",
   "id": "13c0f292",
   "metadata": {},
   "source": [
    "### 4-2 Random Forest"
   ]
  },
  {
   "cell_type": "markdown",
   "id": "01576467",
   "metadata": {},
   "source": [
    "#### Cross Validation"
   ]
  },
  {
   "cell_type": "code",
   "execution_count": 18,
   "id": "c71553e0",
   "metadata": {},
   "outputs": [
    {
     "name": "stdout",
     "output_type": "stream",
     "text": [
      "Accuracy: 0.951 (0.007)\n",
      "[0.94930876 0.93548387 0.95391705 0.95852535 0.94470046 0.95391705\n",
      " 0.96313364 0.94470046 0.95391705 0.94907407]\n"
     ]
    }
   ],
   "source": [
    "# prepare the cross-validation procedure\n",
    "cv = KFold(n_splits=10, random_state=1, shuffle=True)\n",
    "\n",
    "# create model\n",
    "model = RandomForestClassifier()\n",
    "model_res = model.fit(X_train, y_train.values.ravel())\n",
    "y_pred = model_res.predict(X_test)\n",
    "\n",
    "# evaluate model\n",
    "scores = cross_val_score(model, y_test, y_pred, scoring='accuracy', cv=cv, n_jobs=-1)\n",
    "\n",
    "# report performance\n",
    "print('Accuracy: %.3f (%.3f)' % (np.mean(scores), np.std(scores)))\n",
    "\n",
    "print(scores)"
   ]
  },
  {
   "cell_type": "markdown",
   "id": "d91a9056",
   "metadata": {},
   "source": [
    "#### Confusion Matrix"
   ]
  },
  {
   "cell_type": "code",
   "execution_count": 19,
   "id": "b7cdba8c",
   "metadata": {},
   "outputs": [
    {
     "name": "stdout",
     "output_type": "stream",
     "text": [
      "[[1003   80]\n",
      " [  27 1059]]\n",
      "              precision    recall  f1-score   support\n",
      "\n",
      "           0       0.97      0.93      0.95      1083\n",
      "           1       0.93      0.98      0.95      1086\n",
      "\n",
      "    accuracy                           0.95      2169\n",
      "   macro avg       0.95      0.95      0.95      2169\n",
      "weighted avg       0.95      0.95      0.95      2169\n",
      "\n"
     ]
    }
   ],
   "source": [
    "# confusion matrix\n",
    "cm = confusion_matrix(y_test, y_pred)\n",
    "print(cm)\n",
    "print(classification_report(y_test, y_pred))"
   ]
  },
  {
   "cell_type": "markdown",
   "id": "8c9cdf2e",
   "metadata": {},
   "source": [
    "#### Feature Importance"
   ]
  },
  {
   "cell_type": "code",
   "execution_count": 20,
   "id": "1ee4441b",
   "metadata": {},
   "outputs": [
    {
     "data": {
      "image/png": "[encoded data removed]",
      "text/plain": [
       "<Figure size 720x720 with 1 Axes>"
      ]
     },
     "metadata": {},
     "output_type": "display_data"
    }
   ],
   "source": [
    "feature_importance = model.feature_importances_\n",
    "# make importances relative to max importance\n",
    "feature_importance = 100.0 * (feature_importance / feature_importance.max())[:30]\n",
    "sorted_idx = np.argsort(feature_importance)[:30]\n",
    "\n",
    "pos = np.arange(sorted_idx.shape[0]) + .5\n",
    "#print(pos.size)\n",
    "#sorted_idx.size\n",
    "plt.figure(figsize=(10,10))\n",
    "plt.barh(pos, feature_importance[sorted_idx], align='center')\n",
    "plt.yticks(pos, X.columns[sorted_idx])\n",
    "plt.xlabel('Relative Importance')\n",
    "plt.title('Variable Importance')\n",
    "plt.show()"
   ]
  },
  {
   "cell_type": "markdown",
   "id": "52d42284",
   "metadata": {},
   "source": [
    "### 4-3 Gradient Boosting"
   ]
  },
  {
   "cell_type": "markdown",
   "id": "2b0d84f7",
   "metadata": {},
   "source": [
    "#### Cross Validation"
   ]
  },
  {
   "cell_type": "code",
   "execution_count": 21,
   "id": "71772d7b",
   "metadata": {},
   "outputs": [
    {
     "name": "stdout",
     "output_type": "stream",
     "text": [
      "Accuracy: 0.943 (0.008)\n",
      "[0.94470046 0.92165899 0.94009217 0.95391705 0.94470046 0.94470046\n",
      " 0.94009217 0.94930876 0.94930876 0.93981481]\n"
     ]
    }
   ],
   "source": [
    "# prepare the cross-validation procedure\n",
    "cv = KFold(n_splits=10, random_state=1, shuffle=True)\n",
    "\n",
    "# create model\n",
    "model = GradientBoostingClassifier()\n",
    "model_res = model.fit(X_train, y_train.values.ravel())\n",
    "y_pred = model_res.predict(X_test)\n",
    "\n",
    "\n",
    "# evaluate model\n",
    "scores = cross_val_score(model, y_test, y_pred, scoring='accuracy', cv=cv, n_jobs=-1)\n",
    "\n",
    "# report performance\n",
    "print('Accuracy: %.3f (%.3f)' % (np.mean(scores), np.std(scores)))\n",
    "\n",
    "print(scores)"
   ]
  },
  {
   "cell_type": "markdown",
   "id": "bb18becd",
   "metadata": {},
   "source": [
    "#### Confusion Matrix"
   ]
  },
  {
   "cell_type": "code",
   "execution_count": 22,
   "id": "f44ad345",
   "metadata": {},
   "outputs": [
    {
     "name": "stdout",
     "output_type": "stream",
     "text": [
      "[[ 998   85]\n",
      " [  39 1047]]\n",
      "              precision    recall  f1-score   support\n",
      "\n",
      "           0       0.96      0.92      0.94      1083\n",
      "           1       0.92      0.96      0.94      1086\n",
      "\n",
      "    accuracy                           0.94      2169\n",
      "   macro avg       0.94      0.94      0.94      2169\n",
      "weighted avg       0.94      0.94      0.94      2169\n",
      "\n"
     ]
    }
   ],
   "source": [
    "print(confusion_matrix(y_test, y_pred))\n",
    "print(classification_report(y_test, y_pred))"
   ]
  },
  {
   "cell_type": "markdown",
   "id": "f5297dc8",
   "metadata": {},
   "source": [
    "#### Feature Importance"
   ]
  },
  {
   "cell_type": "code",
   "execution_count": 23,
   "id": "4323789e",
   "metadata": {},
   "outputs": [
    {
     "name": "stdout",
     "output_type": "stream",
     "text": [
      "30\n"
     ]
    },
    {
     "data": {
      "image/png": "[encoded data removed]",
      "text/plain": [
       "<Figure size 720x720 with 1 Axes>"
      ]
     },
     "metadata": {},
     "output_type": "display_data"
    }
   ],
   "source": [
    "feature_importance = model.feature_importances_\n",
    "# make importances relative to max importance\n",
    "feature_importance = 100.0 * (feature_importance / feature_importance.max())[:30]\n",
    "sorted_idx = np.argsort(feature_importance)[:30]\n",
    "\n",
    "pos = np.arange(sorted_idx.shape[0]) + .5\n",
    "print(pos.size)\n",
    "sorted_idx.size\n",
    "plt.figure(figsize=(10,10))\n",
    "plt.barh(pos, feature_importance[sorted_idx], align='center')\n",
    "plt.yticks(pos, X.columns[sorted_idx])\n",
    "plt.xlabel('Relative Importance')\n",
    "plt.title('Variable Importance')\n",
    "plt.show()"
   ]
  },
  {
   "cell_type": "code",
   "execution_count": 24,
   "id": "3ebf2867",
   "metadata": {},
   "outputs": [
    {
     "name": "stdout",
     "output_type": "stream",
     "text": [
      "0.9915043982933974\n"
     ]
    },
    {
     "data": {
      "image/png": "[encoded data removed]",
      "text/plain": [
       "<Figure size 432x288 with 1 Axes>"
      ]
     },
     "metadata": {},
     "output_type": "display_data"
    }
   ],
   "source": [
    "# ROC Curve\n",
    "y_pred_prob = model_res.predict_proba(X_test)[::,1]\n",
    "fpr, tpr, _ = metrics.roc_curve(y_test,  y_pred_prob)\n",
    "\n",
    "print(roc_auc_score(y_test, y_pred_prob))\n",
    "\n",
    "\n",
    "#create ROC curve\n",
    "plt.plot(fpr,tpr)\n",
    "plt.ylabel('True Positive Rate')\n",
    "plt.xlabel('False Positive Rate')\n",
    "plt.show()"
   ]
  },
  {
   "cell_type": "markdown",
   "id": "e74543a0",
   "metadata": {},
   "source": [
    "### 4.4 LightGBM (Light Gradient Boosting Machine)"
   ]
  },
  {
   "cell_type": "code",
   "execution_count": 25,
   "id": "e4987e6d",
   "metadata": {},
   "outputs": [
    {
     "name": "stdout",
     "output_type": "stream",
     "text": [
      "0.9506685108344859\n"
     ]
    }
   ],
   "source": [
    "model = LGBMClassifier()\n",
    "model.fit(X_train, y_train.values.ravel())\n",
    " \n",
    "# Predicting the Target variable\n",
    "pred = model.predict(X_test)\n",
    "#print(pred)\n",
    "accuracy = model.score(X_test, y_test)\n",
    "print(accuracy)"
   ]
  },
  {
   "cell_type": "code",
   "execution_count": 26,
   "id": "a80543b4",
   "metadata": {},
   "outputs": [
    {
     "name": "stdout",
     "output_type": "stream",
     "text": [
      "Accuracy: 0.951 (0.009)\n",
      "[0.94470046 0.93548387 0.95852535 0.95391705 0.96313364 0.94009217\n",
      " 0.95391705 0.94470046 0.95852535 0.9537037 ]\n"
     ]
    }
   ],
   "source": [
    "# prepare the cross-validation procedure\n",
    "cv = KFold(n_splits=10, random_state=1, shuffle=True)\n",
    "\n",
    "# create model\n",
    "model = LGBMClassifier()\n",
    "model_res = model.fit(X_train, y_train.values.ravel())\n",
    "y_pred = model_res.predict(X_test)\n",
    "\n",
    "\n",
    "# evaluate model\n",
    "scores = cross_val_score(model, y_test, y_pred, scoring='accuracy', cv=cv, n_jobs=-1)\n",
    "\n",
    "# report performance\n",
    "print('Accuracy: %.3f (%.3f)' % (np.mean(scores), np.std(scores)))\n",
    "\n",
    "print(scores)"
   ]
  },
  {
   "cell_type": "markdown",
   "id": "fe95b9dc",
   "metadata": {},
   "source": [
    "After executing cross validation and oversampling procedure, random forest gave me the best accuracy outcome (0.952) out of four models. Now, I am going to optimize logistic regression by using bayesian optimization."
   ]
  },
  {
   "cell_type": "markdown",
   "id": "0be984a0",
   "metadata": {},
   "source": [
    "## 5. Optimization"
   ]
  },
  {
   "cell_type": "markdown",
   "id": "3686179f",
   "metadata": {},
   "source": [
    "### Hyperparameter Tuning Random Forest with Bayesian Optimization"
   ]
  },
  {
   "cell_type": "code",
   "execution_count": 27,
   "id": "01dae51a",
   "metadata": {},
   "outputs": [],
   "source": [
    "def objective(ne, ms, mf):\n",
    "    regressor = RandomForestClassifier(n_estimators=int(ne), max_samples=ms, max_features=mf)\n",
    "\n",
    "    regressor.fit(X_train, y_train.values.ravel())\n",
    "\n",
    "    return regressor.score(X_test, y_test)"
   ]
  },
  {
   "cell_type": "code",
   "execution_count": 28,
   "id": "888894f2",
   "metadata": {},
   "outputs": [],
   "source": [
    "search_space = {\n",
    "    \"ne\": (100, 300),\n",
    "    \"ms\": (0.5,1.0),\n",
    "    \"mf\": (0.5,1.0)\n",
    "}"
   ]
  },
  {
   "cell_type": "code",
   "execution_count": 29,
   "id": "9acd1147",
   "metadata": {},
   "outputs": [],
   "source": [
    "optimizer = BayesianOptimization(\n",
    "                                f=objective,\n",
    "                                pbounds=search_space,\n",
    "                                random_state=100\n",
    "                              )"
   ]
  },
  {
   "cell_type": "code",
   "execution_count": 30,
   "id": "29e512aa",
   "metadata": {
    "scrolled": false
   },
   "outputs": [
    {
     "name": "stdout",
     "output_type": "stream",
     "text": [
      "|   iter    |  target   |    mf     |    ms     |    ne     |\n",
      "-------------------------------------------------------------\n",
      "| \u001b[0m 1       \u001b[0m | \u001b[0m 0.9493  \u001b[0m | \u001b[0m 0.7717  \u001b[0m | \u001b[0m 0.6392  \u001b[0m | \u001b[0m 184.9   \u001b[0m |\n",
      "| \u001b[0m 2       \u001b[0m | \u001b[0m 0.9493  \u001b[0m | \u001b[0m 0.9224  \u001b[0m | \u001b[0m 0.5024  \u001b[0m | \u001b[0m 124.3   \u001b[0m |\n",
      "| \u001b[0m 3       \u001b[0m | \u001b[0m 0.9484  \u001b[0m | \u001b[0m 0.8354  \u001b[0m | \u001b[0m 0.9129  \u001b[0m | \u001b[0m 127.3   \u001b[0m |\n",
      "| \u001b[95m 4       \u001b[0m | \u001b[95m 0.9502  \u001b[0m | \u001b[95m 0.7875  \u001b[0m | \u001b[95m 0.9457  \u001b[0m | \u001b[95m 141.8   \u001b[0m |\n",
      "| \u001b[0m 5       \u001b[0m | \u001b[0m 0.9484  \u001b[0m | \u001b[0m 0.5927  \u001b[0m | \u001b[0m 0.5542  \u001b[0m | \u001b[0m 143.9   \u001b[0m |\n",
      "| \u001b[0m 6       \u001b[0m | \u001b[0m 0.9493  \u001b[0m | \u001b[0m 0.9893  \u001b[0m | \u001b[0m 0.9058  \u001b[0m | \u001b[0m 134.4   \u001b[0m |\n",
      "| \u001b[0m 7       \u001b[0m | \u001b[0m 0.9497  \u001b[0m | \u001b[0m 0.9081  \u001b[0m | \u001b[0m 0.637   \u001b[0m | \u001b[0m 186.3   \u001b[0m |\n",
      "| \u001b[0m 8       \u001b[0m | \u001b[0m 0.9484  \u001b[0m | \u001b[0m 0.97    \u001b[0m | \u001b[0m 0.9088  \u001b[0m | \u001b[0m 167.2   \u001b[0m |\n",
      "| \u001b[0m 9       \u001b[0m | \u001b[0m 0.9488  \u001b[0m | \u001b[0m 0.5877  \u001b[0m | \u001b[0m 0.6864  \u001b[0m | \u001b[0m 101.1   \u001b[0m |\n",
      "| \u001b[0m 10      \u001b[0m | \u001b[0m 0.9484  \u001b[0m | \u001b[0m 0.6262  \u001b[0m | \u001b[0m 0.8978  \u001b[0m | \u001b[0m 103.1   \u001b[0m |\n",
      "| \u001b[0m 11      \u001b[0m | \u001b[0m 0.947   \u001b[0m | \u001b[0m 0.7517  \u001b[0m | \u001b[0m 0.947   \u001b[0m | \u001b[0m 141.6   \u001b[0m |\n",
      "| \u001b[0m 12      \u001b[0m | \u001b[0m 0.9488  \u001b[0m | \u001b[0m 0.7672  \u001b[0m | \u001b[0m 0.6903  \u001b[0m | \u001b[0m 292.8   \u001b[0m |\n",
      "| \u001b[0m 13      \u001b[0m | \u001b[0m 0.9479  \u001b[0m | \u001b[0m 0.8011  \u001b[0m | \u001b[0m 0.5359  \u001b[0m | \u001b[0m 155.0   \u001b[0m |\n",
      "| \u001b[0m 14      \u001b[0m | \u001b[0m 0.947   \u001b[0m | \u001b[0m 0.5932  \u001b[0m | \u001b[0m 0.6699  \u001b[0m | \u001b[0m 180.7   \u001b[0m |\n",
      "| \u001b[0m 15      \u001b[0m | \u001b[0m 0.9479  \u001b[0m | \u001b[0m 0.6576  \u001b[0m | \u001b[0m 0.8697  \u001b[0m | \u001b[0m 217.5   \u001b[0m |\n",
      "| \u001b[0m 16      \u001b[0m | \u001b[0m 0.9493  \u001b[0m | \u001b[0m 0.9462  \u001b[0m | \u001b[0m 0.5365  \u001b[0m | \u001b[0m 284.4   \u001b[0m |\n",
      "| \u001b[0m 17      \u001b[0m | \u001b[0m 0.9484  \u001b[0m | \u001b[0m 0.8492  \u001b[0m | \u001b[0m 0.7672  \u001b[0m | \u001b[0m 210.1   \u001b[0m |\n",
      "| \u001b[0m 18      \u001b[0m | \u001b[0m 0.9484  \u001b[0m | \u001b[0m 0.7645  \u001b[0m | \u001b[0m 0.5648  \u001b[0m | \u001b[0m 201.2   \u001b[0m |\n",
      "| \u001b[0m 19      \u001b[0m | \u001b[0m 0.9479  \u001b[0m | \u001b[0m 0.7569  \u001b[0m | \u001b[0m 0.6515  \u001b[0m | \u001b[0m 121.8   \u001b[0m |\n",
      "| \u001b[0m 20      \u001b[0m | \u001b[0m 0.9488  \u001b[0m | \u001b[0m 0.9177  \u001b[0m | \u001b[0m 0.6095  \u001b[0m | \u001b[0m 231.8   \u001b[0m |\n",
      "| \u001b[0m 21      \u001b[0m | \u001b[0m 0.9479  \u001b[0m | \u001b[0m 0.9658  \u001b[0m | \u001b[0m 0.9513  \u001b[0m | \u001b[0m 131.6   \u001b[0m |\n",
      "| \u001b[0m 22      \u001b[0m | \u001b[0m 0.9488  \u001b[0m | \u001b[0m 0.7429  \u001b[0m | \u001b[0m 0.7641  \u001b[0m | \u001b[0m 280.3   \u001b[0m |\n",
      "| \u001b[0m 23      \u001b[0m | \u001b[0m 0.9493  \u001b[0m | \u001b[0m 0.9641  \u001b[0m | \u001b[0m 0.6681  \u001b[0m | \u001b[0m 161.4   \u001b[0m |\n",
      "| \u001b[0m 24      \u001b[0m | \u001b[0m 0.9488  \u001b[0m | \u001b[0m 0.9955  \u001b[0m | \u001b[0m 0.9301  \u001b[0m | \u001b[0m 179.0   \u001b[0m |\n",
      "| \u001b[95m 25      \u001b[0m | \u001b[95m 0.9507  \u001b[0m | \u001b[95m 0.7379  \u001b[0m | \u001b[95m 0.938   \u001b[0m | \u001b[95m 104.7   \u001b[0m |\n",
      "| \u001b[95m 26      \u001b[0m | \u001b[95m 0.9511  \u001b[0m | \u001b[95m 0.5922  \u001b[0m | \u001b[95m 0.7399  \u001b[0m | \u001b[95m 296.6   \u001b[0m |\n",
      "| \u001b[0m 27      \u001b[0m | \u001b[0m 0.9474  \u001b[0m | \u001b[0m 0.6784  \u001b[0m | \u001b[0m 0.7322  \u001b[0m | \u001b[0m 198.1   \u001b[0m |\n",
      "| \u001b[0m 28      \u001b[0m | \u001b[0m 0.9497  \u001b[0m | \u001b[0m 0.6667  \u001b[0m | \u001b[0m 0.8185  \u001b[0m | \u001b[0m 238.5   \u001b[0m |\n",
      "| \u001b[0m 29      \u001b[0m | \u001b[0m 0.9507  \u001b[0m | \u001b[0m 0.5236  \u001b[0m | \u001b[0m 0.8017  \u001b[0m | \u001b[0m 273.5   \u001b[0m |\n",
      "| \u001b[0m 30      \u001b[0m | \u001b[0m 0.9493  \u001b[0m | \u001b[0m 0.7846  \u001b[0m | \u001b[0m 0.5601  \u001b[0m | \u001b[0m 117.5   \u001b[0m |\n",
      "| \u001b[0m 31      \u001b[0m | \u001b[0m 0.9493  \u001b[0m | \u001b[0m 0.6894  \u001b[0m | \u001b[0m 0.968   \u001b[0m | \u001b[0m 234.6   \u001b[0m |\n",
      "| \u001b[0m 32      \u001b[0m | \u001b[0m 0.9488  \u001b[0m | \u001b[0m 0.6838  \u001b[0m | \u001b[0m 0.5967  \u001b[0m | \u001b[0m 217.5   \u001b[0m |\n",
      "| \u001b[95m 33      \u001b[0m | \u001b[95m 0.9516  \u001b[0m | \u001b[95m 0.5349  \u001b[0m | \u001b[95m 0.7505  \u001b[0m | \u001b[95m 121.7   \u001b[0m |\n",
      "| \u001b[0m 34      \u001b[0m | \u001b[0m 0.9479  \u001b[0m | \u001b[0m 0.9454  \u001b[0m | \u001b[0m 0.8011  \u001b[0m | \u001b[0m 161.3   \u001b[0m |\n",
      "| \u001b[0m 35      \u001b[0m | \u001b[0m 0.9497  \u001b[0m | \u001b[0m 0.7552  \u001b[0m | \u001b[0m 0.6542  \u001b[0m | \u001b[0m 141.5   \u001b[0m |\n",
      "| \u001b[0m 36      \u001b[0m | \u001b[0m 0.9497  \u001b[0m | \u001b[0m 0.6658  \u001b[0m | \u001b[0m 0.9577  \u001b[0m | \u001b[0m 274.7   \u001b[0m |\n",
      "| \u001b[0m 37      \u001b[0m | \u001b[0m 0.9497  \u001b[0m | \u001b[0m 0.803   \u001b[0m | \u001b[0m 0.5895  \u001b[0m | \u001b[0m 125.3   \u001b[0m |\n",
      "| \u001b[0m 38      \u001b[0m | \u001b[0m 0.9488  \u001b[0m | \u001b[0m 0.8453  \u001b[0m | \u001b[0m 0.999   \u001b[0m | \u001b[0m 184.4   \u001b[0m |\n",
      "| \u001b[0m 39      \u001b[0m | \u001b[0m 0.9479  \u001b[0m | \u001b[0m 0.8702  \u001b[0m | \u001b[0m 0.7104  \u001b[0m | \u001b[0m 297.6   \u001b[0m |\n",
      "| \u001b[0m 40      \u001b[0m | \u001b[0m 0.9502  \u001b[0m | \u001b[0m 0.5046  \u001b[0m | \u001b[0m 0.763   \u001b[0m | \u001b[0m 190.5   \u001b[0m |\n",
      "| \u001b[0m 41      \u001b[0m | \u001b[0m 0.9493  \u001b[0m | \u001b[0m 0.6248  \u001b[0m | \u001b[0m 0.5493  \u001b[0m | \u001b[0m 163.7   \u001b[0m |\n",
      "| \u001b[0m 42      \u001b[0m | \u001b[0m 0.9474  \u001b[0m | \u001b[0m 0.8908  \u001b[0m | \u001b[0m 0.6443  \u001b[0m | \u001b[0m 223.7   \u001b[0m |\n",
      "| \u001b[0m 43      \u001b[0m | \u001b[0m 0.9479  \u001b[0m | \u001b[0m 0.8752  \u001b[0m | \u001b[0m 0.6814  \u001b[0m | \u001b[0m 209.4   \u001b[0m |\n",
      "| \u001b[0m 44      \u001b[0m | \u001b[0m 0.9511  \u001b[0m | \u001b[0m 0.8021  \u001b[0m | \u001b[0m 0.9739  \u001b[0m | \u001b[0m 155.8   \u001b[0m |\n",
      "| \u001b[0m 45      \u001b[0m | \u001b[0m 0.9502  \u001b[0m | \u001b[0m 0.5048  \u001b[0m | \u001b[0m 0.9262  \u001b[0m | \u001b[0m 148.9   \u001b[0m |\n",
      "| \u001b[0m 46      \u001b[0m | \u001b[0m 0.9507  \u001b[0m | \u001b[0m 0.5742  \u001b[0m | \u001b[0m 0.6639  \u001b[0m | \u001b[0m 172.4   \u001b[0m |\n",
      "| \u001b[0m 47      \u001b[0m | \u001b[0m 0.9511  \u001b[0m | \u001b[0m 0.5671  \u001b[0m | \u001b[0m 0.8843  \u001b[0m | \u001b[0m 274.6   \u001b[0m |\n",
      "| \u001b[0m 48      \u001b[0m | \u001b[0m 0.9461  \u001b[0m | \u001b[0m 0.8333  \u001b[0m | \u001b[0m 0.9316  \u001b[0m | \u001b[0m 140.3   \u001b[0m |\n",
      "| \u001b[0m 49      \u001b[0m | \u001b[0m 0.947   \u001b[0m | \u001b[0m 0.7232  \u001b[0m | \u001b[0m 0.5647  \u001b[0m | \u001b[0m 147.6   \u001b[0m |\n",
      "| \u001b[0m 50      \u001b[0m | \u001b[0m 0.9474  \u001b[0m | \u001b[0m 0.8364  \u001b[0m | \u001b[0m 0.5272  \u001b[0m | \u001b[0m 130.0   \u001b[0m |\n",
      "| \u001b[0m 51      \u001b[0m | \u001b[0m 0.947   \u001b[0m | \u001b[0m 0.8048  \u001b[0m | \u001b[0m 0.6545  \u001b[0m | \u001b[0m 263.5   \u001b[0m |\n",
      "| \u001b[0m 52      \u001b[0m | \u001b[0m 0.9497  \u001b[0m | \u001b[0m 0.822   \u001b[0m | \u001b[0m 0.9261  \u001b[0m | \u001b[0m 187.1   \u001b[0m |\n",
      "| \u001b[0m 53      \u001b[0m | \u001b[0m 0.9474  \u001b[0m | \u001b[0m 0.5643  \u001b[0m | \u001b[0m 0.6165  \u001b[0m | \u001b[0m 126.4   \u001b[0m |\n",
      "| \u001b[0m 54      \u001b[0m | \u001b[0m 0.9488  \u001b[0m | \u001b[0m 0.6216  \u001b[0m | \u001b[0m 0.9342  \u001b[0m | \u001b[0m 274.5   \u001b[0m |\n",
      "| \u001b[0m 55      \u001b[0m | \u001b[0m 0.9497  \u001b[0m | \u001b[0m 0.5536  \u001b[0m | \u001b[0m 0.8343  \u001b[0m | \u001b[0m 256.4   \u001b[0m |\n",
      "| \u001b[0m 56      \u001b[0m | \u001b[0m 0.9474  \u001b[0m | \u001b[0m 0.8582  \u001b[0m | \u001b[0m 0.8992  \u001b[0m | \u001b[0m 284.7   \u001b[0m |\n",
      "| \u001b[0m 57      \u001b[0m | \u001b[0m 0.9488  \u001b[0m | \u001b[0m 0.8758  \u001b[0m | \u001b[0m 0.725   \u001b[0m | \u001b[0m 175.9   \u001b[0m |\n",
      "| \u001b[0m 58      \u001b[0m | \u001b[0m 0.9484  \u001b[0m | \u001b[0m 0.707   \u001b[0m | \u001b[0m 0.7266  \u001b[0m | \u001b[0m 109.8   \u001b[0m |\n",
      "| \u001b[0m 59      \u001b[0m | \u001b[0m 0.9484  \u001b[0m | \u001b[0m 0.7993  \u001b[0m | \u001b[0m 0.6294  \u001b[0m | \u001b[0m 283.2   \u001b[0m |\n",
      "| \u001b[95m 60      \u001b[0m | \u001b[95m 0.9521  \u001b[0m | \u001b[95m 0.5081  \u001b[0m | \u001b[95m 0.9789  \u001b[0m | \u001b[95m 228.3   \u001b[0m |\n",
      "| \u001b[0m 61      \u001b[0m | \u001b[0m 0.9493  \u001b[0m | \u001b[0m 0.9453  \u001b[0m | \u001b[0m 0.7365  \u001b[0m | \u001b[0m 182.7   \u001b[0m |\n",
      "| \u001b[0m 62      \u001b[0m | \u001b[0m 0.9497  \u001b[0m | \u001b[0m 0.6625  \u001b[0m | \u001b[0m 0.767   \u001b[0m | \u001b[0m 295.2   \u001b[0m |\n",
      "| \u001b[0m 63      \u001b[0m | \u001b[0m 0.9474  \u001b[0m | \u001b[0m 0.5896  \u001b[0m | \u001b[0m 0.9064  \u001b[0m | \u001b[0m 282.1   \u001b[0m |\n",
      "| \u001b[0m 64      \u001b[0m | \u001b[0m 0.9488  \u001b[0m | \u001b[0m 0.7274  \u001b[0m | \u001b[0m 0.9105  \u001b[0m | \u001b[0m 111.4   \u001b[0m |\n",
      "| \u001b[0m 65      \u001b[0m | \u001b[0m 0.9488  \u001b[0m | \u001b[0m 0.6836  \u001b[0m | \u001b[0m 0.8654  \u001b[0m | \u001b[0m 145.3   \u001b[0m |\n",
      "| \u001b[0m 66      \u001b[0m | \u001b[0m 0.9479  \u001b[0m | \u001b[0m 0.6713  \u001b[0m | \u001b[0m 0.7971  \u001b[0m | \u001b[0m 160.5   \u001b[0m |\n",
      "| \u001b[0m 67      \u001b[0m | \u001b[0m 0.9479  \u001b[0m | \u001b[0m 0.5521  \u001b[0m | \u001b[0m 0.6382  \u001b[0m | \u001b[0m 224.7   \u001b[0m |\n",
      "| \u001b[0m 68      \u001b[0m | \u001b[0m 0.9488  \u001b[0m | \u001b[0m 0.8304  \u001b[0m | \u001b[0m 0.6778  \u001b[0m | \u001b[0m 176.5   \u001b[0m |\n",
      "| \u001b[0m 69      \u001b[0m | \u001b[0m 0.9484  \u001b[0m | \u001b[0m 0.8577  \u001b[0m | \u001b[0m 0.7282  \u001b[0m | \u001b[0m 164.6   \u001b[0m |\n",
      "| \u001b[0m 70      \u001b[0m | \u001b[0m 0.9488  \u001b[0m | \u001b[0m 0.7537  \u001b[0m | \u001b[0m 0.9657  \u001b[0m | \u001b[0m 156.5   \u001b[0m |\n",
      "| \u001b[0m 71      \u001b[0m | \u001b[0m 0.9461  \u001b[0m | \u001b[0m 0.8131  \u001b[0m | \u001b[0m 0.7399  \u001b[0m | \u001b[0m 209.6   \u001b[0m |\n",
      "| \u001b[0m 72      \u001b[0m | \u001b[0m 0.9511  \u001b[0m | \u001b[0m 0.6411  \u001b[0m | \u001b[0m 0.7806  \u001b[0m | \u001b[0m 122.6   \u001b[0m |\n",
      "| \u001b[0m 73      \u001b[0m | \u001b[0m 0.9511  \u001b[0m | \u001b[0m 0.6457  \u001b[0m | \u001b[0m 0.739   \u001b[0m | \u001b[0m 115.8   \u001b[0m |\n",
      "| \u001b[0m 74      \u001b[0m | \u001b[0m 0.9484  \u001b[0m | \u001b[0m 0.9765  \u001b[0m | \u001b[0m 0.8775  \u001b[0m | \u001b[0m 146.8   \u001b[0m |\n",
      "| \u001b[0m 75      \u001b[0m | \u001b[0m 0.9488  \u001b[0m | \u001b[0m 0.5489  \u001b[0m | \u001b[0m 0.6451  \u001b[0m | \u001b[0m 122.2   \u001b[0m |\n",
      "| \u001b[0m 76      \u001b[0m | \u001b[0m 0.9484  \u001b[0m | \u001b[0m 0.9874  \u001b[0m | \u001b[0m 0.9656  \u001b[0m | \u001b[0m 163.9   \u001b[0m |\n",
      "| \u001b[0m 77      \u001b[0m | \u001b[0m 0.9488  \u001b[0m | \u001b[0m 0.873   \u001b[0m | \u001b[0m 0.6494  \u001b[0m | \u001b[0m 216.2   \u001b[0m |\n",
      "| \u001b[0m 78      \u001b[0m | \u001b[0m 0.9488  \u001b[0m | \u001b[0m 0.7601  \u001b[0m | \u001b[0m 0.8249  \u001b[0m | \u001b[0m 261.3   \u001b[0m |\n",
      "| \u001b[0m 79      \u001b[0m | \u001b[0m 0.9497  \u001b[0m | \u001b[0m 0.7104  \u001b[0m | \u001b[0m 0.7477  \u001b[0m | \u001b[0m 127.8   \u001b[0m |\n"
     ]
    },
    {
     "name": "stdout",
     "output_type": "stream",
     "text": [
      "| \u001b[0m 80      \u001b[0m | \u001b[0m 0.9497  \u001b[0m | \u001b[0m 0.5639  \u001b[0m | \u001b[0m 0.827   \u001b[0m | \u001b[0m 124.4   \u001b[0m |\n",
      "| \u001b[0m 81      \u001b[0m | \u001b[0m 0.9488  \u001b[0m | \u001b[0m 0.9651  \u001b[0m | \u001b[0m 0.8609  \u001b[0m | \u001b[0m 292.9   \u001b[0m |\n",
      "| \u001b[0m 82      \u001b[0m | \u001b[0m 0.9488  \u001b[0m | \u001b[0m 0.856   \u001b[0m | \u001b[0m 0.6268  \u001b[0m | \u001b[0m 210.4   \u001b[0m |\n",
      "| \u001b[0m 83      \u001b[0m | \u001b[0m 0.9465  \u001b[0m | \u001b[0m 0.8554  \u001b[0m | \u001b[0m 0.5129  \u001b[0m | \u001b[0m 261.2   \u001b[0m |\n",
      "| \u001b[0m 84      \u001b[0m | \u001b[0m 0.9479  \u001b[0m | \u001b[0m 0.8895  \u001b[0m | \u001b[0m 0.6161  \u001b[0m | \u001b[0m 156.0   \u001b[0m |\n",
      "| \u001b[0m 85      \u001b[0m | \u001b[0m 0.9497  \u001b[0m | \u001b[0m 0.589   \u001b[0m | \u001b[0m 0.7865  \u001b[0m | \u001b[0m 229.5   \u001b[0m |\n",
      "| \u001b[0m 86      \u001b[0m | \u001b[0m 0.9493  \u001b[0m | \u001b[0m 0.8483  \u001b[0m | \u001b[0m 0.8768  \u001b[0m | \u001b[0m 211.7   \u001b[0m |\n",
      "| \u001b[0m 87      \u001b[0m | \u001b[0m 0.9484  \u001b[0m | \u001b[0m 0.7081  \u001b[0m | \u001b[0m 0.5835  \u001b[0m | \u001b[0m 195.0   \u001b[0m |\n",
      "| \u001b[0m 88      \u001b[0m | \u001b[0m 0.9484  \u001b[0m | \u001b[0m 0.7075  \u001b[0m | \u001b[0m 0.5381  \u001b[0m | \u001b[0m 247.7   \u001b[0m |\n",
      "| \u001b[0m 89      \u001b[0m | \u001b[0m 0.9488  \u001b[0m | \u001b[0m 0.9841  \u001b[0m | \u001b[0m 0.9475  \u001b[0m | \u001b[0m 238.4   \u001b[0m |\n",
      "| \u001b[0m 90      \u001b[0m | \u001b[0m 0.9479  \u001b[0m | \u001b[0m 0.7647  \u001b[0m | \u001b[0m 0.5811  \u001b[0m | \u001b[0m 242.8   \u001b[0m |\n",
      "| \u001b[0m 91      \u001b[0m | \u001b[0m 0.947   \u001b[0m | \u001b[0m 0.7288  \u001b[0m | \u001b[0m 0.7257  \u001b[0m | \u001b[0m 103.7   \u001b[0m |\n",
      "| \u001b[0m 92      \u001b[0m | \u001b[0m 0.9502  \u001b[0m | \u001b[0m 0.532   \u001b[0m | \u001b[0m 0.618   \u001b[0m | \u001b[0m 285.6   \u001b[0m |\n",
      "| \u001b[0m 93      \u001b[0m | \u001b[0m 0.9465  \u001b[0m | \u001b[0m 0.8818  \u001b[0m | \u001b[0m 0.7931  \u001b[0m | \u001b[0m 125.2   \u001b[0m |\n",
      "| \u001b[0m 94      \u001b[0m | \u001b[0m 0.9502  \u001b[0m | \u001b[0m 0.5785  \u001b[0m | \u001b[0m 0.5245  \u001b[0m | \u001b[0m 279.8   \u001b[0m |\n",
      "| \u001b[0m 95      \u001b[0m | \u001b[0m 0.9497  \u001b[0m | \u001b[0m 0.5456  \u001b[0m | \u001b[0m 0.6724  \u001b[0m | \u001b[0m 237.4   \u001b[0m |\n",
      "| \u001b[0m 96      \u001b[0m | \u001b[0m 0.9484  \u001b[0m | \u001b[0m 0.7695  \u001b[0m | \u001b[0m 0.5854  \u001b[0m | \u001b[0m 225.8   \u001b[0m |\n",
      "| \u001b[0m 97      \u001b[0m | \u001b[0m 0.9516  \u001b[0m | \u001b[0m 0.961   \u001b[0m | \u001b[0m 0.5426  \u001b[0m | \u001b[0m 138.9   \u001b[0m |\n",
      "| \u001b[0m 98      \u001b[0m | \u001b[0m 0.9474  \u001b[0m | \u001b[0m 0.9518  \u001b[0m | \u001b[0m 0.7473  \u001b[0m | \u001b[0m 208.8   \u001b[0m |\n",
      "| \u001b[0m 99      \u001b[0m | \u001b[0m 0.9516  \u001b[0m | \u001b[0m 0.849   \u001b[0m | \u001b[0m 0.9966  \u001b[0m | \u001b[0m 185.9   \u001b[0m |\n",
      "| \u001b[0m 100     \u001b[0m | \u001b[0m 0.947   \u001b[0m | \u001b[0m 0.9746  \u001b[0m | \u001b[0m 0.8466  \u001b[0m | \u001b[0m 135.6   \u001b[0m |\n",
      "| \u001b[0m 101     \u001b[0m | \u001b[0m 0.9479  \u001b[0m | \u001b[0m 0.9476  \u001b[0m | \u001b[0m 0.7633  \u001b[0m | \u001b[0m 195.6   \u001b[0m |\n",
      "| \u001b[0m 102     \u001b[0m | \u001b[0m 0.9474  \u001b[0m | \u001b[0m 0.7643  \u001b[0m | \u001b[0m 0.5122  \u001b[0m | \u001b[0m 204.4   \u001b[0m |\n",
      "| \u001b[0m 103     \u001b[0m | \u001b[0m 0.947   \u001b[0m | \u001b[0m 0.8867  \u001b[0m | \u001b[0m 0.5595  \u001b[0m | \u001b[0m 208.6   \u001b[0m |\n",
      "| \u001b[0m 104     \u001b[0m | \u001b[0m 0.9451  \u001b[0m | \u001b[0m 0.9912  \u001b[0m | \u001b[0m 0.563   \u001b[0m | \u001b[0m 138.9   \u001b[0m |\n",
      "| \u001b[0m 105     \u001b[0m | \u001b[0m 0.9493  \u001b[0m | \u001b[0m 0.5033  \u001b[0m | \u001b[0m 0.7522  \u001b[0m | \u001b[0m 238.8   \u001b[0m |\n",
      "| \u001b[0m 106     \u001b[0m | \u001b[0m 0.9493  \u001b[0m | \u001b[0m 0.7312  \u001b[0m | \u001b[0m 0.6745  \u001b[0m | \u001b[0m 212.3   \u001b[0m |\n",
      "| \u001b[0m 107     \u001b[0m | \u001b[0m 0.9484  \u001b[0m | \u001b[0m 0.9582  \u001b[0m | \u001b[0m 0.8815  \u001b[0m | \u001b[0m 192.3   \u001b[0m |\n",
      "| \u001b[0m 108     \u001b[0m | \u001b[0m 0.9474  \u001b[0m | \u001b[0m 0.8438  \u001b[0m | \u001b[0m 0.6318  \u001b[0m | \u001b[0m 170.3   \u001b[0m |\n",
      "| \u001b[0m 109     \u001b[0m | \u001b[0m 0.9479  \u001b[0m | \u001b[0m 0.9913  \u001b[0m | \u001b[0m 0.7025  \u001b[0m | \u001b[0m 100.7   \u001b[0m |\n",
      "| \u001b[0m 110     \u001b[0m | \u001b[0m 0.9479  \u001b[0m | \u001b[0m 0.6715  \u001b[0m | \u001b[0m 0.6631  \u001b[0m | \u001b[0m 237.0   \u001b[0m |\n",
      "=============================================================\n"
     ]
    }
   ],
   "source": [
    "optimizer.maximize(n_iter=100, init_points=10,acq='ei')\n"
   ]
  },
  {
   "cell_type": "code",
   "execution_count": 31,
   "id": "5c2edabb",
   "metadata": {},
   "outputs": [
    {
     "data": {
      "text/plain": [
       "{'target': 0.9520516366989396,\n",
       " 'params': {'mf': 0.5080833945225312,\n",
       "  'ms': 0.9788650855858045,\n",
       "  'ne': 228.29994742665698}}"
      ]
     },
     "execution_count": 31,
     "metadata": {},
     "output_type": "execute_result"
    }
   ],
   "source": [
    "optimizer.max"
   ]
  },
  {
   "cell_type": "markdown",
   "id": "3963b75d",
   "metadata": {},
   "source": [
    "Grid Search took so much time, so I chose to run with the bayesian optimization."
   ]
  },
  {
   "cell_type": "code",
   "execution_count": 139,
   "id": "bff86306",
   "metadata": {},
   "outputs": [
    {
     "name": "stdout",
     "output_type": "stream",
     "text": [
      "Accuracy: 0.950\n"
     ]
    }
   ],
   "source": [
    "# create model\n",
    "model = RandomForestClassifier(max_features=0.55, max_samples=0.65,n_estimators=123)\n",
    "model_res = model.fit(X_train, y_train.values.ravel())\n",
    "y_pred = model_res.predict(X_test)\n",
    "\n",
    "print('Accuracy: %.3f' % accuracy_score(y_test, y_pred))"
   ]
  },
  {
   "cell_type": "code",
   "execution_count": 148,
   "id": "48f52692",
   "metadata": {},
   "outputs": [
    {
     "name": "stdout",
     "output_type": "stream",
     "text": [
      "Accuracy: 0.950 (0.009)\n",
      "[0.94470046 0.93087558 0.95852535 0.95391705 0.95391705 0.94930876\n",
      " 0.95391705 0.94930876 0.96313364 0.93981481]\n"
     ]
    }
   ],
   "source": [
    "# prepare the cross-validation procedure\n",
    "cv = KFold(n_splits=10, random_state=1, shuffle=True)\n",
    "\n",
    "# create model\n",
    "model = RandomForestClassifier(max_features=0.5489035815424221, max_samples=0.6450858683687302,n_estimators=122)\n",
    "model_res = model.fit(X_train, y_train.values.ravel())\n",
    "y_pred = model_res.predict(X_test)\n",
    "\n",
    "# evaluate model\n",
    "scores = cross_val_score(model, y_test, y_pred, scoring='accuracy', cv=cv, n_jobs=-1)\n",
    "\n",
    "# report performance\n",
    "print('Accuracy: %.3f (%.3f)' % (np.mean(scores), np.std(scores)))\n",
    "\n",
    "print(scores)"
   ]
  }
 ],
 "metadata": {
  "kernelspec": {
   "display_name": "Python 3 (ipykernel)",
   "language": "python",
   "name": "python3"
  },
  "language_info": {
   "codemirror_mode": {
    "name": "ipython",
    "version": 3
   },
   "file_extension": ".py",
   "mimetype": "text/x-python",
   "name": "python",
   "nbconvert_exporter": "python",
   "pygments_lexer": "ipython3",
   "version": "3.9.12"
  }
 },
 "nbformat": 4,
 "nbformat_minor": 5
}
